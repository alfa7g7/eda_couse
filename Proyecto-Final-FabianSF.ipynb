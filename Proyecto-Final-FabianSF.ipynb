{
  "cells": [
    {
      "cell_type": "markdown",
      "metadata": {
        "colab_type": "text",
        "id": "view-in-github"
      },
      "source": [
        "<a href=\"https://colab.research.google.com/github/alfa7g7/eda_couse/blob/FabianSF/Proyecto-Final-FabianSF.ipynb\" target=\"_parent\"><img src=\"https://colab.research.google.com/assets/colab-badge.svg\" alt=\"Open In Colab\"/></a>"
      ]
    },
    {
      "cell_type": "markdown",
      "metadata": {
        "id": "KubptpB2c8C4"
      },
      "source": [
        "### *Proyecto de análisis exploratorio de datos (EDA) - FabianSF*"
      ]
    },
    {
      "cell_type": "markdown",
      "metadata": {
        "id": "LtH07Fkkc8C7"
      },
      "source": [
        "TABLA DE CONTENIDO\n",
        "\n",
        "1. Introducción\n",
        "2. Contexto\n",
        "    - Pregunta inteligente (SMART)\n",
        "        - Específico (Specific)\n",
        "        - Medible (Measurable)\n",
        "        - Alcanzable (Achievable)\n",
        "        - Relevante (Relevant)\n",
        "        - Temporal (Time-bound)  \n",
        "    - Objetivo\n",
        "    - Diccionario de Datos\n",
        "    - Convenciones\n",
        "3. Análisis exploratorio\n",
        "    - Importación de bibliotecas\n",
        "    - Carga de datos (dataset, dataframe, base de datos, etc)\n",
        "    - Exploración del conjunto de datos\n",
        "        - Hallazgos\n",
        "    - Tipos de Datos\n",
        "        - Análisis de columnas o headers\n",
        "        - Análisis variables categóricas y de tipo de datos Objeto\n",
        "        - Análisis de datos faltantes o nulos\n",
        "    - Descripcion estadistica\n",
        "        - Análisis de outliers\n",
        "        - \n",
        "    - Visualización de datos\n",
        "    - Analisis univariado y multivariado\n",
        "    - Conclusiones\n",
        "4. Bibliografia\n"
      ]
    },
    {
      "cell_type": "markdown",
      "metadata": {},
      "source": [
        "# 1. Introducción"
      ]
    },
    {
      "cell_type": "markdown",
      "metadata": {
        "id": "paoZY4QWc8C7"
      },
      "source": [
        "# **Síndrome del ovario poliquístico (SOPQ)**\n",
        "\n",
        "El síndrome de ovario poliquístico (PCOS) es un problema hormonal que afecta a las mujeres en la edad reproductiva. Aquí tienes información relevante sobre el PCOS:\n",
        "\n",
        "Síntomas y características del PCOS:\n",
        "- **Períodos menstruales irregulares**: Las mujeres con PCOS pueden experimentar ciclos menstruales irregulares o ausencia de menstruación.\n",
        "- **Exceso de vello corporal (hirsutismo)**: El PCOS puede causar un aumento en el vello facial, en el pecho, el abdomen y la espalda.\n",
        "- **Acné**: Las alteraciones hormonales pueden provocar brotes de acné.\n",
        "- **Calvicie**: Algunas mujeres con PCOS pueden experimentar adelgazamiento del cabello.\n",
        "- **Dificultad para quedar embarazada**: El PCOS es una causa común de infertilidad.\n",
        "\n",
        "Causas y diagnóstico:\n",
        "El PCOS está relacionado con un desequilibrio hormonal y problemas metabólicos.\n",
        "El diagnóstico se basa en la presencia de síntomas, análisis de sangre y ecografía para evaluar los ovarios.\n",
        "\n",
        "Tratamiento:\n",
        "El tratamiento puede incluir cambios en el estilo de vida (dieta y ejercicio), medicamentos para regular los ciclos menstruales y mejorar la fertilidad, y en algunos casos, cirugía."
      ]
    },
    {
      "cell_type": "markdown",
      "metadata": {},
      "source": [
        "# 2. Contexto"
      ]
    },
    {
      "cell_type": "markdown",
      "metadata": {},
      "source": [
        "# **Pregunta inteligente (SMART)**\n",
        "\n",
        "Que diferencias relevantes y patognomónicas exiten entre las mujeres diagnosticadas con sindrome de ovario poliquistico y las que no presentan el síndrome en los 10 hospitales de Kerala, India?\n",
        "\n",
        "- **Específico (Specific)**: Se busca saber si hay diferencias importantes entre las mujeres pacientes que se hicieron el dianostico para sindrome de ovario poliquistico en los 10 hospitales.\n",
        "- **Medible (Measurable)**: A través de modelos estadísticos\n",
        "- **Alcanzable (Achievable)**: La información y estudios previos permiten catalogarlo como alcanzable\n",
        "- **Relevante (Relevant)**: Permitirá ayudar a comprender más y mejor el síndrome de ovario poliquístico.\n",
        "- **Temporal (Time-bound)**: Se pretende estudiarlo durante 2 años"
      ]
    },
    {
      "cell_type": "markdown",
      "metadata": {},
      "source": [
        "# **Objetivo**\n",
        "\n",
        "Evaluar si se evidencian diferencias patognomónicas de acuerdo a la información recopilada en la base de datos sobre las pacientes que se hicieron el diagnóstico para el síndrome de ovario poliquistico (PCOS)."
      ]
    },
    {
      "cell_type": "markdown",
      "metadata": {},
      "source": [
        "# **Diccionario de Datos**\n",
        "\n",
        "- (s-n):\tContador de pacientes\n",
        "- paciente-id:\tRegistro y asignación de id único y anónimo a cada paciente\n",
        "- pcos(s-n):\tResultado (Si = 1, No = 0) del examen de síndrome de ovario poliquístico de la paciente\n",
        "- edad-a:\tEdad en años de la paciente al momento de diagnosticarse para pcos\n",
        "- peso-kg:\tPeso en Kilogramos de la paciente al momento de diagnosticarse para pcos\n",
        "- estatura-cm:\tEstatura en centimentro de la paciente al momento de diagnosticarse para pcos\n",
        "- imc:\tÍndice de masa corporal de la paciente al momento de diagnosticarse para pcos\n",
        "- grupo-sanguineo:\tFactor sanguíneo RH de la paciente\n",
        "- frecuencia-cardiaca-bpm:\tFrecuencia cardiaca medida en pulso por minuto de la paciente al momento de diagnosticarse para pcos\n",
        "- frecuencia-respiratoria-respiraciones/min:\tFrecuencia respiratoria medida en respiraciones por minuto de la paciente al momento de diagnosticarse para pcos\n",
        "- hemoglobina-g/dl:\tHemoglobina de la paciente expresada en gramos por decilitro al momento de diagnosticarse para pcos\n",
        "- ciclo-r/i:\tDuración del flujo menstrual de la paciente\n",
        "- duracion-ciclo-d:\tDuración del ciclo mesntrual de la paciente medido en dias\n",
        "- tiempo-casada-a:\tTiempo de casada de la paciente medido en años al momento de diagnosticarse para pcos\n",
        "- embarazada(s-n):\tResultado de prueba de embarazo (Si = 1, No = 0) de la paciente al momento de diagnosticarse para pcos\n",
        "- nro-abortos:\tNúmero de abortos que ha sufrido la paciente hasta el momento de diagnosticarse para pcos\n",
        "- h-beta-hcg-I-mIU/mL:\tResultado de la prueba de la hormona gonadotropina coriónica humana (hCG) de la paciente al momento de diagnosticarse para pcos\n",
        "- h-beta-hcg-II-mIU/mL:\tResultado de la segunda prueba de la hormona gonadotropina coriónica humana (hCG) de la paciente al momento de diagnosticarse para pcos\n",
        "- h-fsh-mIU/mL:\tResultado de la prueba de la hormona foliculoestimulante (FSH) de la paciente al momento de diagnosticarse para pcos\n",
        "- h-lh-mIU/mL:\tResultado de la prueba de la hormona luteinizante (LH) de la paciente al momento de diagnosticarse para pcos\n",
        "- h-fsh/h-lh:\tResultado del índice del cociente entre La hormona foliculoestimulante (FSH) y la hormona luteinizante (LH) de la paciente al momento de diagnosticarse pcos\n",
        "- cadera-pulg:\tMedida de la cadera de la paciente en pulgadas al momento de diagnosticarse pcos\n",
        "- cintura-pulg:\tMedida de la cintura de la paciente en pulgadas al momento de diagnosticarse pcos\n",
        "- ind-cintura/cadera:\tResultado del índice del cociente entre la medida de la cintura y la medida de la cadera de la paciente al momento de diagnosticarse pcos\n",
        "- h-tsh-mIU/L:\tResultado de la prueba de la hormona estimulante de la tiroides (TSH) de la paciente al momento de diagnosticarse pcos\n",
        "- h-amh-ng/mL:\tResultado de la prueba de la hormona antimülleriana (AMH) de la paciente al momento de diagnosticarse pcos\n",
        "- h-prl-ng/mL:\tResultado de la hormona prolactina (PRL) de la paciente al momento de diagnosticarse pcos\n",
        "- ex-vit-d3-ng/mL:\tResultado del examen de la vitamina D de la paciente al momento de diagnosticarse pcos\n",
        "- h-prg-ng/mL:\tResultado de la hormona progesterona (PRG) de la paciente al momento de diagnosticarse pcos\n",
        "- ex-rbs-mg/dl:\tResultado del examen del análisis de glucosa en sangre al azar (RBS) de la paciente al momento de diagnosticarse pcos\n",
        "- ganancia-peso(s-n):\tRespuesta (Si = 1, No = 0) de la paciente comparando su peso al momento de diagnosticarse pcos contra el control médico inmediantamente anterior\n",
        "- crecimiento-cabello(s-n):\tRespuesta (Si = 1, No = 0) de la paciente comparando su largo de cabello al momento de diagnosticarse pcos contra el control médico inmediantamente anterior\n",
        "- oscurecimiento-piel(s-n):\tRespuesta (Si = 1, No = 0) de la paciente comparando si hay oscurecimeinto de su piel al momento de diagnosticarse pcos contra el control médico inmediantamente anterior\n",
        "- perdida-cabello(s-n):\tRespuesta (Si = 1, No = 0) de la paciente comparando si hay pérdida de cabello al momento de diagnosticarse pcos contra el control médico inmediantamente anterior\n",
        "- barro-espinilla(s-n):\tRespuesta (Si = 1, No = 0) de la paciente comparando si hay aumento o aparación de espinillas, barros o granos en la piel al momento de diagnosticarse pcos contra el control médico inmediantamente anterior\n",
        "- comida-rapida(s-n):\tRespuesta (Si = 1, No = 0) de la paciente sobre  su alimentación con comidas rapidas o \"chatarras\"\n",
        "- ejercicio-regular(s-n):\tRespuesta (Si = 1, No = 0) de la paciente sobre  su ejercitación regular\n",
        "- ps-sistolica-mmHg:\tResultado de la presión sanguinea sistólica de la paciente al momento de diagnosticarse pcos\n",
        "- ps-diastolica-mmHg:\tResultado de la presión sanguinea diastólica de la paciente al momento de diagnosticarse pcos\n",
        "- nro-foliculos-ovario-izq:\tNúmero de folículos antrales en el ovario izquierdo de la paciente al momento de diagnosticarse pcos\n",
        "- nro-foliculos-ovario-der:\tNúmero de folículos antrales en el ovario derecho de la paciente al momento de diagnosticarse pcos\n",
        "- prom-tam-foliculos-ovario-izq-mm:\tTamaño promedio de los folículos antrales en el ovario izquierdo de la paciente al momento de diagnosticarse pcos\n",
        "- prom-tam-foliculos-ovario-der-mm:\tTamaño promedio de los folículos antrales en el ovario derecho de la paciente al momento de diagnosticarse pcos\n",
        "- endometrio-mm:\tTamaño del endometrio de la paciente al momento de diagnosticarse pcos medido en milimetros"
      ]
    },
    {
      "cell_type": "markdown",
      "metadata": {},
      "source": [
        "# **Convenciones**\n",
        "\n",
        "1. **pcos** significa síndrome de ovario poliquistico\n",
        "2. Por cada pregunta de respuesta tipo si-no (si = 1, no = 0), se identifica en el encabezado de cada parametro al final del nombre del mismo así: (s-n)\n",
        "3. Grupo sanguíneo se define así: \n",
        "(A+ = 11, A- = 12, B+ = 13, B-= 14, O+ = 15, O- = 16, AB+ = 17, AB- = 18)\n",
        "4. Presión sanguínea ingresada como sistólica y diastólica de forma separada\n",
        "5. Casos de la hormona Beta-HCG son mensionados como **h-beta-hcg-I-mIU/mL** y **h-beta-hcg-II-mIU/mL**\n",
        "6. El prefijo **h** anterior al primer **\"-\"** en el nombre de cada parámetro significa hormona. Ejemplo: **h**-beta-hcg-I-mIU/mL, donde ese prefijo **h** significa hormona.\n",
        "7. El prefijo **ex** anterior al primer **\"-\"** en el nombre de cada parámetro significa examen\n",
        "8. Las unidades de medida estarán posteriores al último **\"-\"** en el nombre de cada parámetro y respetarán la nomenclatura médica. Ejemplo: h-beta-hcg-I-**mIU/mL**, donde su unidad de medida es: **mIU/mL**\n",
        "9. Cada fila representa la información y resultados de cada paciente en el proceso de diagnosticarse para pcos"
      ]
    },
    {
      "cell_type": "markdown",
      "metadata": {
        "id": "jyOZ_zcjc8C8"
      },
      "source": [
        "## *Dataset tomado de:*\n",
        "author = {Prasoon Kottarathil},\n",
        "title = {Polycystic ovary syndrome (PCOS)},\n",
        "year = {2020},\n",
        "publisher = {kaggle},\n",
        "journal = {Kaggle Dataset},\n",
        "how published = {\\url{https://www.kaggle.com/prasoonkottarathil/polycystic-ovary-syndrome-pcos}}\n",
        "\n",
        "El **Dataset** contiene todos los **parámetros físicos y clínicos** para determinar problemas relacionados con el **síndrome de ovario poliquístico (PCOS)** y la **infertilidad**. Los datos se recopilaron en **10 hospitales diferentes en Kerala, India**."
      ]
    },
    {
      "cell_type": "markdown",
      "metadata": {},
      "source": [
        "# 3. Análisis exploratorio"
      ]
    },
    {
      "cell_type": "markdown",
      "metadata": {},
      "source": [
        "**Importación de bibliotecas**"
      ]
    },
    {
      "cell_type": "code",
      "execution_count": 42,
      "metadata": {},
      "outputs": [],
      "source": [
        "# Importacion de pandas y asignándole el alias pd, se usa para el tratamiento de los datos\n",
        "import pandas as pd\n",
        "# Importacion de numpy y asignándole el alias np, se usa para operaciones matriciales y con vectores\n",
        "import numpy as np\n",
        "# Importacion de matplotlib.pyplot y asignándole el alias plt, se usa para graficar\n",
        "import matplotlib.pyplot as plt\n",
        "# Importacion de plotly.express y asignándole el alias px, se usa para graficar\n",
        "import plotly.express as px\n",
        "# Importacion de seaborn y asignándole el alias sns, se usa para graficar junto a matplotlib y pandas\n",
        "import seaborn as sns\n",
        "# Importacion de enable_iterative_imputer de la biblioteca scikit-learn (también conocida como sklearn), \n",
        "# se usa para poder importar iterativeimputer\n",
        "from sklearn.experimental import enable_iterative_imputer\n",
        "# Importacion de iterativeimputer de la biblioteca sklearn, se usa para imputar datos faltantes\n",
        "from sklearn.impute import IterativeImputer\n",
        "# importa la clase Pipeline de la biblioteca scikit-learn (también conocida como sklearn), \n",
        "# se usa para construir flujos de trabajo\n",
        "from sklearn.pipeline import Pipeline\n",
        "# importa la clase StandardScaler de la biblioteca scikit-learn (también conocida como sklearn), \n",
        "# se usa para estandarizar las caracteristicas de los datos\n",
        "from sklearn.preprocessing import StandardScaler\n",
        "# importa la clase PCA de la biblioteca scikit-learn (también conocida como sklearn), \n",
        "# se usa para reducir dimension de los datos y encontrar caracteristicas más importantes\n",
        "from sklearn.decomposition import PCA\n",
        "# importa la clase LogisticRegression de la biblioteca scikit-learn (también conocida como sklearn), \n",
        "# se usa para hacer una regresión logística, herramietna para clasificacion\n",
        "from sklearn.linear_model import LogisticRegression"
      ]
    },
    {
      "cell_type": "markdown",
      "metadata": {},
      "source": [
        "**Carga de la base de datos de los pacientes**"
      ]
    },
    {
      "cell_type": "code",
      "execution_count": 43,
      "metadata": {
        "id": "GYEIZHOUc8C8",
        "outputId": "763ee38c-4022-4f81-a6de-39d5aa308cd4"
      },
      "outputs": [],
      "source": [
        "# Ruta al archivo CSV (local)\n",
        "ruta_archivo = r\"C:\\Users\\alfa7\\OneDrive\\Documentos\\PCOS_data.csv\"\n",
        "\n",
        "# Carga los datos desde el archivo CSV su separador de columnas es una coma (,)\n",
        "df = pd.read_csv(ruta_archivo, sep = ',')\n"
      ]
    },
    {
      "cell_type": "markdown",
      "metadata": {},
      "source": [
        "**Exploración del conjunto de datos**"
      ]
    },
    {
      "cell_type": "code",
      "execution_count": 44,
      "metadata": {},
      "outputs": [
        {
          "data": {
            "text/plain": [
              "(541, 44)"
            ]
          },
          "execution_count": 44,
          "metadata": {},
          "output_type": "execute_result"
        }
      ],
      "source": [
        "# Muestra en una tupla la cantidad de (filas, columnas) del DataFrame df\n",
        "df.shape"
      ]
    },
    {
      "cell_type": "code",
      "execution_count": 45,
      "metadata": {},
      "outputs": [
        {
          "name": "stdout",
          "output_type": "stream",
          "text": [
            "<class 'pandas.core.frame.DataFrame'>\n",
            "RangeIndex: 541 entries, 0 to 540\n",
            "Data columns (total 44 columns):\n",
            " #   Column                  Non-Null Count  Dtype  \n",
            "---  ------                  --------------  -----  \n",
            " 0   Sl. No                  541 non-null    int64  \n",
            " 1   Patient File No.        541 non-null    int64  \n",
            " 2   PCOS (Y/N)              541 non-null    int64  \n",
            " 3    Age (yrs)              541 non-null    int64  \n",
            " 4   Weight (Kg)             541 non-null    float64\n",
            " 5   Height(Cm)              541 non-null    float64\n",
            " 6   BMI                     541 non-null    float64\n",
            " 7   Blood Group             541 non-null    int64  \n",
            " 8   Pulse rate(bpm)         541 non-null    int64  \n",
            " 9   RR (breaths/min)        541 non-null    int64  \n",
            " 10  Hb(g/dl)                541 non-null    float64\n",
            " 11  Cycle(R/I)              541 non-null    int64  \n",
            " 12  Cycle length(days)      541 non-null    int64  \n",
            " 13  Marraige Status (Yrs)   540 non-null    float64\n",
            " 14  Pregnant(Y/N)           541 non-null    int64  \n",
            " 15  No. of abortions        541 non-null    int64  \n",
            " 16    I   beta-HCG(mIU/mL)  541 non-null    float64\n",
            " 17  II    beta-HCG(mIU/mL)  541 non-null    object \n",
            " 18  FSH(mIU/mL)             541 non-null    float64\n",
            " 19  LH(mIU/mL)              541 non-null    float64\n",
            " 20  FSH/LH                  541 non-null    float64\n",
            " 21  Hip(inch)               541 non-null    int64  \n",
            " 22  Waist(inch)             541 non-null    int64  \n",
            " 23  Waist:Hip Ratio         541 non-null    float64\n",
            " 24  TSH (mIU/L)             541 non-null    float64\n",
            " 25  AMH(ng/mL)              541 non-null    object \n",
            " 26  PRL(ng/mL)              541 non-null    float64\n",
            " 27  Vit D3 (ng/mL)          541 non-null    float64\n",
            " 28  PRG(ng/mL)              541 non-null    float64\n",
            " 29  RBS(mg/dl)              541 non-null    float64\n",
            " 30  Weight gain(Y/N)        541 non-null    int64  \n",
            " 31  hair growth(Y/N)        541 non-null    int64  \n",
            " 32  Skin darkening (Y/N)    541 non-null    int64  \n",
            " 33  Hair loss(Y/N)          541 non-null    int64  \n",
            " 34  Pimples(Y/N)            541 non-null    int64  \n",
            " 35  Fast food (Y/N)         540 non-null    float64\n",
            " 36  Reg.Exercise(Y/N)       541 non-null    int64  \n",
            " 37  BP _Systolic (mmHg)     541 non-null    int64  \n",
            " 38  BP _Diastolic (mmHg)    541 non-null    int64  \n",
            " 39  Follicle No. (L)        541 non-null    int64  \n",
            " 40  Follicle No. (R)        541 non-null    int64  \n",
            " 41  Avg. F size (L) (mm)    541 non-null    float64\n",
            " 42  Avg. F size (R) (mm)    541 non-null    float64\n",
            " 43  Endometrium (mm)        541 non-null    float64\n",
            "dtypes: float64(19), int64(23), object(2)\n",
            "memory usage: 186.1+ KB\n",
            "None\n"
          ]
        }
      ],
      "source": [
        "# Muestra la información del DataFrame df, donde evidenciaremos el índice, las columnas, el tipo de dato y valores no nulos\n",
        "print(df.info())"
      ]
    },
    {
      "cell_type": "code",
      "execution_count": 46,
      "metadata": {
        "id": "0l6ENo4qc8C-"
      },
      "outputs": [
        {
          "name": "stdout",
          "output_type": "stream",
          "text": [
            "Index(['Sl. No', 'Patient File No.', 'PCOS (Y/N)', ' Age (yrs)', 'Weight (Kg)',\n",
            "       'Height(Cm) ', 'BMI', 'Blood Group', 'Pulse rate(bpm) ',\n",
            "       'RR (breaths/min)', 'Hb(g/dl)', 'Cycle(R/I)', 'Cycle length(days)',\n",
            "       'Marraige Status (Yrs)', 'Pregnant(Y/N)', 'No. of abortions',\n",
            "       '  I   beta-HCG(mIU/mL)', 'II    beta-HCG(mIU/mL)', 'FSH(mIU/mL)',\n",
            "       'LH(mIU/mL)', 'FSH/LH', 'Hip(inch)', 'Waist(inch)', 'Waist:Hip Ratio',\n",
            "       'TSH (mIU/L)', 'AMH(ng/mL)', 'PRL(ng/mL)', 'Vit D3 (ng/mL)',\n",
            "       'PRG(ng/mL)', 'RBS(mg/dl)', 'Weight gain(Y/N)', 'hair growth(Y/N)',\n",
            "       'Skin darkening (Y/N)', 'Hair loss(Y/N)', 'Pimples(Y/N)',\n",
            "       'Fast food (Y/N)', 'Reg.Exercise(Y/N)', 'BP _Systolic (mmHg)',\n",
            "       'BP _Diastolic (mmHg)', 'Follicle No. (L)', 'Follicle No. (R)',\n",
            "       'Avg. F size (L) (mm)', 'Avg. F size (R) (mm)', 'Endometrium (mm)'],\n",
            "      dtype='object')\n"
          ]
        }
      ],
      "source": [
        "# Muestra el nombre de las columnas (llamdas comunmente headers) del DataFrame df\n",
        "print(df.columns)"
      ]
    },
    {
      "cell_type": "markdown",
      "metadata": {},
      "source": [
        "- **Hallazgos**\n",
        "\n",
        "    - df.shape. Nos permitió saber que nuestro dataframe tiene 44 Columnas y 541 filas\n",
        "    - print(df.info()). Nos indica que nuestro dataframe tiene:\n",
        "        - 19 columnas con tipo de datos flotante\n",
        "        - 23 columnas con tipo de dato entero\n",
        "        - 2 columnas con tipo de datos objeto\n",
        "        - Determinar que los headers o nombres de cada columnas no están homogéneos, presentan espacios, etc\n",
        "    - print(df.columns). Nos permite observar los headers y su nombre. ( Esto debido a que debía analizarse más     estos valores por lo observaco con la anterior función (print(df.info())))\n",
        "\n",
        "    Con esta información podemos determinar que se debe estandarizar las columnas o header y adicional procesar o trabajar estas columnas o variables categóricas para que podamos más adelante usar correctamente los modelos estadisticos."
      ]
    },
    {
      "cell_type": "markdown",
      "metadata": {},
      "source": [
        "**Tipos de datos**"
      ]
    },
    {
      "cell_type": "markdown",
      "metadata": {},
      "source": [
        "- **Análisis de columnas o headers**"
      ]
    },
    {
      "cell_type": "code",
      "execution_count": 47,
      "metadata": {
        "id": "Za4uhbDIc8C-"
      },
      "outputs": [
        {
          "name": "stdout",
          "output_type": "stream",
          "text": [
            "<class 'pandas.core.frame.DataFrame'>\n",
            "RangeIndex: 541 entries, 0 to 540\n",
            "Data columns (total 44 columns):\n",
            " #   Column                                     Non-Null Count  Dtype  \n",
            "---  ------                                     --------------  -----  \n",
            " 0   (s-n)                                      541 non-null    int64  \n",
            " 1   paciente-id                                541 non-null    int64  \n",
            " 2   pcos(s-n)                                  541 non-null    int64  \n",
            " 3   edad-a                                     541 non-null    int64  \n",
            " 4   peso-kg                                    541 non-null    float64\n",
            " 5   estatura-cm                                541 non-null    float64\n",
            " 6   imc                                        541 non-null    float64\n",
            " 7   grupo-sanguineo                            541 non-null    int64  \n",
            " 8   frecuencia-cardiaca-bpm                    541 non-null    int64  \n",
            " 9   frecuencia-respiratoria-respiraciones/min  541 non-null    int64  \n",
            " 10  hemoglobina-g/dl                           541 non-null    float64\n",
            " 11  ciclo-r/i                                  541 non-null    int64  \n",
            " 12  duracion-ciclo-d                           541 non-null    int64  \n",
            " 13  tiempo-casada-a                            540 non-null    float64\n",
            " 14  embarazada(s-n)                            541 non-null    int64  \n",
            " 15  nro-abortos                                541 non-null    int64  \n",
            " 16  h-beta-hcg-I-mIU/mL                        541 non-null    float64\n",
            " 17  h-beta-hcg-II-mIU/mL                       541 non-null    object \n",
            " 18  h-fsh-mIU/mL                               541 non-null    float64\n",
            " 19  h-lh-mIU/mL                                541 non-null    float64\n",
            " 20  h-fsh/h-lh                                 541 non-null    float64\n",
            " 21  cadera-pulg                                541 non-null    int64  \n",
            " 22  cintura-pulg                               541 non-null    int64  \n",
            " 23  ind-cintura/cadera                         541 non-null    float64\n",
            " 24  h-tsh-mIU/L                                541 non-null    float64\n",
            " 25  h-amh-ng/mL                                541 non-null    object \n",
            " 26  h-prl-ng/mL                                541 non-null    float64\n",
            " 27  ex-vit-d3-ng/mL                            541 non-null    float64\n",
            " 28  h-prg-ng/mL                                541 non-null    float64\n",
            " 29  ex-rbs-mg/dl                               541 non-null    float64\n",
            " 30  ganancia-peso(s-n)                         541 non-null    int64  \n",
            " 31  crecimiento-cabello(s-n)                   541 non-null    int64  \n",
            " 32  oscurecimiento-piel(s-n)                   541 non-null    int64  \n",
            " 33  perdida-cabello(s-n)                       541 non-null    int64  \n",
            " 34  barro-espinilla(s-n)                       541 non-null    int64  \n",
            " 35  comida-rapida(s-n)                         540 non-null    float64\n",
            " 36  ejercicio-regular(s-n)                     541 non-null    int64  \n",
            " 37  ps-sistolica-mmHg                          541 non-null    int64  \n",
            " 38  ps-diastolica-mmHg                         541 non-null    int64  \n",
            " 39  nro-foliculos-ovario-izq                   541 non-null    int64  \n",
            " 40  nro-foliculos-ovario-der                   541 non-null    int64  \n",
            " 41  prom-tam-foliculos-ovario-izq-mm           541 non-null    float64\n",
            " 42  prom-tam-foliculos-ovario-der-mm           541 non-null    float64\n",
            " 43  endometrio-mm                              541 non-null    float64\n",
            "dtypes: float64(19), int64(23), object(2)\n",
            "memory usage: 186.1+ KB\n",
            "None\n"
          ]
        }
      ],
      "source": [
        "# Definimos los nuevos nombres de las columnas o headers en un arreglo llamado headers\n",
        "headers = ['(s-n)','paciente-id','pcos(s-n)','edad-a','peso-kg','estatura-cm','imc','grupo-sanguineo',\n",
        "           'frecuencia-cardiaca-bpm','frecuencia-respiratoria-respiraciones/min','hemoglobina-g/dl',\n",
        "           'ciclo-r/i','duracion-ciclo-d','tiempo-casada-a','embarazada(s-n)','nro-abortos','h-beta-hcg-I-mIU/mL',\n",
        "           'h-beta-hcg-II-mIU/mL','h-fsh-mIU/mL','h-lh-mIU/mL','h-fsh/h-lh','cadera-pulg','cintura-pulg',\n",
        "           'ind-cintura/cadera','h-tsh-mIU/L','h-amh-ng/mL','h-prl-ng/mL','ex-vit-d3-ng/mL','h-prg-ng/mL',\n",
        "           'ex-rbs-mg/dl','ganancia-peso(s-n)','crecimiento-cabello(s-n)','oscurecimiento-piel(s-n)',\n",
        "           'perdida-cabello(s-n)','barro-espinilla(s-n)','comida-rapida(s-n)','ejercicio-regular(s-n)',\n",
        "           'ps-sistolica-mmHg','ps-diastolica-mmHg','nro-foliculos-ovario-izq','nro-foliculos-ovario-der',\n",
        "           'prom-tam-foliculos-ovario-izq-mm','prom-tam-foliculos-ovario-der-mm','endometrio-mm']\n",
        "\n",
        "# Asigno los nuevos nombres de encabezados o columnas a mi dataframa df\n",
        "df.columns = headers\n",
        "\n",
        "# Revisión impresa\n",
        "print(df.info())"
      ]
    },
    {
      "cell_type": "markdown",
      "metadata": {},
      "source": [
        "- **Análisis variables categóricas**\n",
        "\n",
        "    En este caso particular solo nos interesan las dos columnas tipo objeto ya que las demás se encuentran con un tipo de dato adecuado aunque en algunas faltén algunos datos."
      ]
    },
    {
      "cell_type": "code",
      "execution_count": 48,
      "metadata": {
        "id": "oNE1zWC3c8C-",
        "outputId": "d7d4a056-df0f-45d0-c7c1-9f5618b8a6e8"
      },
      "outputs": [
        {
          "data": {
            "text/plain": [
              "0      1.99\n",
              "1      1.99\n",
              "2    494.08\n",
              "3      1.99\n",
              "4    801.45\n",
              "Name: h-beta-hcg-II-mIU/mL, dtype: object"
            ]
          },
          "execution_count": 48,
          "metadata": {},
          "output_type": "execute_result"
        }
      ],
      "source": [
        "#Primera Columna tipo objeto\n",
        "df[\"h-beta-hcg-II-mIU/mL\"].head()"
      ]
    },
    {
      "cell_type": "code",
      "execution_count": 49,
      "metadata": {
        "id": "yYJxLn5Fc8C-",
        "outputId": "7f73f3b1-890b-42ea-d5d8-de64e727ee49"
      },
      "outputs": [
        {
          "data": {
            "text/plain": [
              "0    2.07\n",
              "1    1.53\n",
              "2    6.63\n",
              "3    1.22\n",
              "4    2.26\n",
              "Name: h-amh-ng/mL, dtype: object"
            ]
          },
          "execution_count": 49,
          "metadata": {},
          "output_type": "execute_result"
        }
      ],
      "source": [
        "#Segunda columna tipo objeto\n",
        "df[\"h-amh-ng/mL\"].head()"
      ]
    },
    {
      "cell_type": "code",
      "execution_count": 50,
      "metadata": {
        "id": "_GaMrdDAc8C_"
      },
      "outputs": [],
      "source": [
        "#Convertiremos los valores categoricos en numericos, ya que han sido numeros guardados como cadenas\n",
        "#Si hay algun valor que nose puede convertir a numerico se convierte a NaN (Not a number)\n",
        "df[\"h-beta-hcg-II-mIU/mL\"] = pd.to_numeric(df[\"h-beta-hcg-II-mIU/mL\"], errors='coerce')\n",
        "df[\"h-amh-ng/mL\"] = pd.to_numeric(df[\"h-amh-ng/mL\"], errors='coerce')\n"
      ]
    },
    {
      "cell_type": "code",
      "execution_count": 51,
      "metadata": {
        "id": "iPmE0hrsc8C_",
        "outputId": "96b5f0bd-71d4-42be-f070-c6159e80cbef"
      },
      "outputs": [
        {
          "data": {
            "text/plain": [
              "0      1.99\n",
              "1      1.99\n",
              "2    494.08\n",
              "3      1.99\n",
              "4    801.45\n",
              "Name: h-beta-hcg-II-mIU/mL, dtype: float64"
            ]
          },
          "execution_count": 51,
          "metadata": {},
          "output_type": "execute_result"
        }
      ],
      "source": [
        "# verificacion de la conversion\n",
        "df[\"h-beta-hcg-II-mIU/mL\"].head()"
      ]
    },
    {
      "cell_type": "code",
      "execution_count": 52,
      "metadata": {},
      "outputs": [
        {
          "data": {
            "text/plain": [
              "0    2.07\n",
              "1    1.53\n",
              "2    6.63\n",
              "3    1.22\n",
              "4    2.26\n",
              "Name: h-amh-ng/mL, dtype: float64"
            ]
          },
          "execution_count": 52,
          "metadata": {},
          "output_type": "execute_result"
        }
      ],
      "source": [
        "# verificacion de la conversion\n",
        "df[\"h-amh-ng/mL\"].head()"
      ]
    },
    {
      "cell_type": "code",
      "execution_count": 53,
      "metadata": {
        "id": "_8_YFvZ3c8C_",
        "outputId": "5f36a33d-b067-4720-ba57-894de85e8dde"
      },
      "outputs": [
        {
          "name": "stdout",
          "output_type": "stream",
          "text": [
            "<class 'pandas.core.frame.DataFrame'>\n",
            "RangeIndex: 541 entries, 0 to 540\n",
            "Data columns (total 44 columns):\n",
            " #   Column                                     Non-Null Count  Dtype  \n",
            "---  ------                                     --------------  -----  \n",
            " 0   (s-n)                                      541 non-null    int64  \n",
            " 1   paciente-id                                541 non-null    int64  \n",
            " 2   pcos(s-n)                                  541 non-null    int64  \n",
            " 3   edad-a                                     541 non-null    int64  \n",
            " 4   peso-kg                                    541 non-null    float64\n",
            " 5   estatura-cm                                541 non-null    float64\n",
            " 6   imc                                        541 non-null    float64\n",
            " 7   grupo-sanguineo                            541 non-null    int64  \n",
            " 8   frecuencia-cardiaca-bpm                    541 non-null    int64  \n",
            " 9   frecuencia-respiratoria-respiraciones/min  541 non-null    int64  \n",
            " 10  hemoglobina-g/dl                           541 non-null    float64\n",
            " 11  ciclo-r/i                                  541 non-null    int64  \n",
            " 12  duracion-ciclo-d                           541 non-null    int64  \n",
            " 13  tiempo-casada-a                            540 non-null    float64\n",
            " 14  embarazada(s-n)                            541 non-null    int64  \n",
            " 15  nro-abortos                                541 non-null    int64  \n",
            " 16  h-beta-hcg-I-mIU/mL                        541 non-null    float64\n",
            " 17  h-beta-hcg-II-mIU/mL                       540 non-null    float64\n",
            " 18  h-fsh-mIU/mL                               541 non-null    float64\n",
            " 19  h-lh-mIU/mL                                541 non-null    float64\n",
            " 20  h-fsh/h-lh                                 541 non-null    float64\n",
            " 21  cadera-pulg                                541 non-null    int64  \n",
            " 22  cintura-pulg                               541 non-null    int64  \n",
            " 23  ind-cintura/cadera                         541 non-null    float64\n",
            " 24  h-tsh-mIU/L                                541 non-null    float64\n",
            " 25  h-amh-ng/mL                                540 non-null    float64\n",
            " 26  h-prl-ng/mL                                541 non-null    float64\n",
            " 27  ex-vit-d3-ng/mL                            541 non-null    float64\n",
            " 28  h-prg-ng/mL                                541 non-null    float64\n",
            " 29  ex-rbs-mg/dl                               541 non-null    float64\n",
            " 30  ganancia-peso(s-n)                         541 non-null    int64  \n",
            " 31  crecimiento-cabello(s-n)                   541 non-null    int64  \n",
            " 32  oscurecimiento-piel(s-n)                   541 non-null    int64  \n",
            " 33  perdida-cabello(s-n)                       541 non-null    int64  \n",
            " 34  barro-espinilla(s-n)                       541 non-null    int64  \n",
            " 35  comida-rapida(s-n)                         540 non-null    float64\n",
            " 36  ejercicio-regular(s-n)                     541 non-null    int64  \n",
            " 37  ps-sistolica-mmHg                          541 non-null    int64  \n",
            " 38  ps-diastolica-mmHg                         541 non-null    int64  \n",
            " 39  nro-foliculos-ovario-izq                   541 non-null    int64  \n",
            " 40  nro-foliculos-ovario-der                   541 non-null    int64  \n",
            " 41  prom-tam-foliculos-ovario-izq-mm           541 non-null    float64\n",
            " 42  prom-tam-foliculos-ovario-der-mm           541 non-null    float64\n",
            " 43  endometrio-mm                              541 non-null    float64\n",
            "dtypes: float64(21), int64(23)\n",
            "memory usage: 186.1 KB\n",
            "None\n"
          ]
        }
      ],
      "source": [
        "# Revisión impresa, sin variables tipo objeto\n",
        "print(df.info())"
      ]
    },
    {
      "cell_type": "markdown",
      "metadata": {
        "id": "RQ32fdmoc8C_"
      },
      "source": [
        "- **Análisis de datos faltantes o nulos**\n",
        "\n",
        "    Verificación de valores faltantes y llenado de datos faltantes o nulos en los parámetros o columnas del dataframe con imputacion MICE\n"
      ]
    },
    {
      "cell_type": "code",
      "execution_count": 54,
      "metadata": {},
      "outputs": [
        {
          "name": "stdout",
          "output_type": "stream",
          "text": [
            "True\n"
          ]
        }
      ],
      "source": [
        "#Validacion de valores nulos en el dataframe muestra True quiere decir que hay valores nulos.\n",
        "t = df.isnull().any().any()\n",
        "print(t)"
      ]
    },
    {
      "cell_type": "code",
      "execution_count": 55,
      "metadata": {
        "id": "e1MIfMFGc8C_",
        "outputId": "f4e84978-46a0-49ca-fb33-8bc98e1c8e61"
      },
      "outputs": [
        {
          "name": "stdout",
          "output_type": "stream",
          "text": [
            "(s-n)                                        False\n",
            "paciente-id                                  False\n",
            "pcos(s-n)                                    False\n",
            "edad-a                                       False\n",
            "peso-kg                                      False\n",
            "estatura-cm                                  False\n",
            "imc                                          False\n",
            "grupo-sanguineo                              False\n",
            "frecuencia-cardiaca-bpm                      False\n",
            "frecuencia-respiratoria-respiraciones/min    False\n",
            "hemoglobina-g/dl                             False\n",
            "ciclo-r/i                                    False\n",
            "duracion-ciclo-d                             False\n",
            "tiempo-casada-a                               True\n",
            "embarazada(s-n)                              False\n",
            "nro-abortos                                  False\n",
            "h-beta-hcg-I-mIU/mL                          False\n",
            "h-beta-hcg-II-mIU/mL                          True\n",
            "h-fsh-mIU/mL                                 False\n",
            "h-lh-mIU/mL                                  False\n",
            "h-fsh/h-lh                                   False\n",
            "cadera-pulg                                  False\n",
            "cintura-pulg                                 False\n",
            "ind-cintura/cadera                           False\n",
            "h-tsh-mIU/L                                  False\n",
            "h-amh-ng/mL                                   True\n",
            "h-prl-ng/mL                                  False\n",
            "ex-vit-d3-ng/mL                              False\n",
            "h-prg-ng/mL                                  False\n",
            "ex-rbs-mg/dl                                 False\n",
            "ganancia-peso(s-n)                           False\n",
            "crecimiento-cabello(s-n)                     False\n",
            "oscurecimiento-piel(s-n)                     False\n",
            "perdida-cabello(s-n)                         False\n",
            "barro-espinilla(s-n)                         False\n",
            "comida-rapida(s-n)                            True\n",
            "ejercicio-regular(s-n)                       False\n",
            "ps-sistolica-mmHg                            False\n",
            "ps-diastolica-mmHg                           False\n",
            "nro-foliculos-ovario-izq                     False\n",
            "nro-foliculos-ovario-der                     False\n",
            "prom-tam-foliculos-ovario-izq-mm             False\n",
            "prom-tam-foliculos-ovario-der-mm             False\n",
            "endometrio-mm                                False\n",
            "dtype: bool\n"
          ]
        }
      ],
      "source": [
        "#verificando valores nulos en los parametros o columnas del dataframe si muestra True quiere decir que esa columna\n",
        "#tiene valores nulos\n",
        "r = df.isnull().any()\n",
        "print(r)"
      ]
    },
    {
      "cell_type": "markdown",
      "metadata": {
        "id": "lLFMpKRnc8DA"
      },
      "source": [
        "Identificamos las siguientes columnas o parámetros con valores nulos:\n",
        "- tiempo-casada-a\n",
        "- h-beta-hcg-II-mIU/mL\n",
        "- h-amh-ng/mL\n",
        "- comida-rapida(s-n)"
      ]
    },
    {
      "cell_type": "code",
      "execution_count": 56,
      "metadata": {
        "id": "fzVCitFYc8DA",
        "outputId": "5fd2b7ca-dcd7-4c9a-821c-c5130a5a4f42"
      },
      "outputs": [
        {
          "name": "stdout",
          "output_type": "stream",
          "text": [
            "<class 'pandas.core.frame.DataFrame'>\n",
            "RangeIndex: 541 entries, 0 to 540\n",
            "Data columns (total 44 columns):\n",
            " #   Column                                     Non-Null Count  Dtype  \n",
            "---  ------                                     --------------  -----  \n",
            " 0   (s-n)                                      541 non-null    float64\n",
            " 1   paciente-id                                541 non-null    float64\n",
            " 2   pcos(s-n)                                  541 non-null    float64\n",
            " 3   edad-a                                     541 non-null    float64\n",
            " 4   peso-kg                                    541 non-null    float64\n",
            " 5   estatura-cm                                541 non-null    float64\n",
            " 6   imc                                        541 non-null    float64\n",
            " 7   grupo-sanguineo                            541 non-null    float64\n",
            " 8   frecuencia-cardiaca-bpm                    541 non-null    float64\n",
            " 9   frecuencia-respiratoria-respiraciones/min  541 non-null    float64\n",
            " 10  hemoglobina-g/dl                           541 non-null    float64\n",
            " 11  ciclo-r/i                                  541 non-null    float64\n",
            " 12  duracion-ciclo-d                           541 non-null    float64\n",
            " 13  tiempo-casada-a                            541 non-null    float64\n",
            " 14  embarazada(s-n)                            541 non-null    float64\n",
            " 15  nro-abortos                                541 non-null    float64\n",
            " 16  h-beta-hcg-I-mIU/mL                        541 non-null    float64\n",
            " 17  h-beta-hcg-II-mIU/mL                       541 non-null    float64\n",
            " 18  h-fsh-mIU/mL                               541 non-null    float64\n",
            " 19  h-lh-mIU/mL                                541 non-null    float64\n",
            " 20  h-fsh/h-lh                                 541 non-null    float64\n",
            " 21  cadera-pulg                                541 non-null    float64\n",
            " 22  cintura-pulg                               541 non-null    float64\n",
            " 23  ind-cintura/cadera                         541 non-null    float64\n",
            " 24  h-tsh-mIU/L                                541 non-null    float64\n",
            " 25  h-amh-ng/mL                                541 non-null    float64\n",
            " 26  h-prl-ng/mL                                541 non-null    float64\n",
            " 27  ex-vit-d3-ng/mL                            541 non-null    float64\n",
            " 28  h-prg-ng/mL                                541 non-null    float64\n",
            " 29  ex-rbs-mg/dl                               541 non-null    float64\n",
            " 30  ganancia-peso(s-n)                         541 non-null    float64\n",
            " 31  crecimiento-cabello(s-n)                   541 non-null    float64\n",
            " 32  oscurecimiento-piel(s-n)                   541 non-null    float64\n",
            " 33  perdida-cabello(s-n)                       541 non-null    float64\n",
            " 34  barro-espinilla(s-n)                       541 non-null    float64\n",
            " 35  comida-rapida(s-n)                         541 non-null    float64\n",
            " 36  ejercicio-regular(s-n)                     541 non-null    float64\n",
            " 37  ps-sistolica-mmHg                          541 non-null    float64\n",
            " 38  ps-diastolica-mmHg                         541 non-null    float64\n",
            " 39  nro-foliculos-ovario-izq                   541 non-null    float64\n",
            " 40  nro-foliculos-ovario-der                   541 non-null    float64\n",
            " 41  prom-tam-foliculos-ovario-izq-mm           541 non-null    float64\n",
            " 42  prom-tam-foliculos-ovario-der-mm           541 non-null    float64\n",
            " 43  endometrio-mm                              541 non-null    float64\n",
            "dtypes: float64(44)\n",
            "memory usage: 186.1 KB\n",
            "None\n"
          ]
        }
      ],
      "source": [
        "# Imputacion de datos por MICE\n",
        "\n",
        "# Inicializa el imputador MICE\n",
        "mice_imputer = IterativeImputer(max_iter=10, random_state=0)\n",
        "\n",
        "# Realiza la imputación\n",
        "df_imputed = mice_imputer.fit_transform(df)\n",
        "\n",
        "# El resultado es un array NumPy, así que puedes convertirlo de nuevo a DataFrame\n",
        "df_imputed = pd.DataFrame(df_imputed, columns=df.columns)\n",
        "df = df_imputed\n",
        "\n",
        "print(df.info())"
      ]
    },
    {
      "cell_type": "code",
      "execution_count": 57,
      "metadata": {
        "id": "1NltPaQ0c8DA",
        "outputId": "2e6c2fd6-4d17-4dd5-85a4-8eda8a84073c"
      },
      "outputs": [
        {
          "name": "stdout",
          "output_type": "stream",
          "text": [
            "(s-n)                                        False\n",
            "paciente-id                                  False\n",
            "pcos(s-n)                                    False\n",
            "edad-a                                       False\n",
            "peso-kg                                      False\n",
            "estatura-cm                                  False\n",
            "imc                                          False\n",
            "grupo-sanguineo                              False\n",
            "frecuencia-cardiaca-bpm                      False\n",
            "frecuencia-respiratoria-respiraciones/min    False\n",
            "hemoglobina-g/dl                             False\n",
            "ciclo-r/i                                    False\n",
            "duracion-ciclo-d                             False\n",
            "tiempo-casada-a                              False\n",
            "embarazada(s-n)                              False\n",
            "nro-abortos                                  False\n",
            "h-beta-hcg-I-mIU/mL                          False\n",
            "h-beta-hcg-II-mIU/mL                         False\n",
            "h-fsh-mIU/mL                                 False\n",
            "h-lh-mIU/mL                                  False\n",
            "h-fsh/h-lh                                   False\n",
            "cadera-pulg                                  False\n",
            "cintura-pulg                                 False\n",
            "ind-cintura/cadera                           False\n",
            "h-tsh-mIU/L                                  False\n",
            "h-amh-ng/mL                                  False\n",
            "h-prl-ng/mL                                  False\n",
            "ex-vit-d3-ng/mL                              False\n",
            "h-prg-ng/mL                                  False\n",
            "ex-rbs-mg/dl                                 False\n",
            "ganancia-peso(s-n)                           False\n",
            "crecimiento-cabello(s-n)                     False\n",
            "oscurecimiento-piel(s-n)                     False\n",
            "perdida-cabello(s-n)                         False\n",
            "barro-espinilla(s-n)                         False\n",
            "comida-rapida(s-n)                           False\n",
            "ejercicio-regular(s-n)                       False\n",
            "ps-sistolica-mmHg                            False\n",
            "ps-diastolica-mmHg                           False\n",
            "nro-foliculos-ovario-izq                     False\n",
            "nro-foliculos-ovario-der                     False\n",
            "prom-tam-foliculos-ovario-izq-mm             False\n",
            "prom-tam-foliculos-ovario-der-mm             False\n",
            "endometrio-mm                                False\n",
            "dtype: bool\n"
          ]
        }
      ],
      "source": [
        "#verificando valores nulos en los parametros o columnas del dataframe después de la imputacion por MICE\n",
        "r = df.isnull().any()\n",
        "print(r)\n"
      ]
    },
    {
      "cell_type": "code",
      "execution_count": 58,
      "metadata": {
        "id": "rHydjGOEc8DA",
        "outputId": "e149fb22-7fc3-4145-d193-e5490e49e65e"
      },
      "outputs": [
        {
          "name": "stdout",
          "output_type": "stream",
          "text": [
            "False\n"
          ]
        }
      ],
      "source": [
        "#Validacion de que no queden valores nulos en el dataframe Si muestra False quiere decir que ya no hay nulos\n",
        "t = df.isnull().any().any()\n",
        "print(t)\n"
      ]
    },
    {
      "cell_type": "markdown",
      "metadata": {
        "id": "pYz_omlec8DA"
      },
      "source": [
        "**Descripción estadística**"
      ]
    },
    {
      "cell_type": "code",
      "execution_count": 59,
      "metadata": {
        "id": "ZRqV__42c8DA",
        "outputId": "d0f4dc48-2f45-4e86-f3b0-9fb789303527"
      },
      "outputs": [
        {
          "data": {
            "text/html": [
              "<div>\n",
              "<style scoped>\n",
              "    .dataframe tbody tr th:only-of-type {\n",
              "        vertical-align: middle;\n",
              "    }\n",
              "\n",
              "    .dataframe tbody tr th {\n",
              "        vertical-align: top;\n",
              "    }\n",
              "\n",
              "    .dataframe thead th {\n",
              "        text-align: right;\n",
              "    }\n",
              "</style>\n",
              "<table border=\"1\" class=\"dataframe\">\n",
              "  <thead>\n",
              "    <tr style=\"text-align: right;\">\n",
              "      <th></th>\n",
              "      <th>(s-n)</th>\n",
              "      <th>paciente-id</th>\n",
              "      <th>pcos(s-n)</th>\n",
              "      <th>edad-a</th>\n",
              "      <th>peso-kg</th>\n",
              "      <th>estatura-cm</th>\n",
              "      <th>imc</th>\n",
              "      <th>grupo-sanguineo</th>\n",
              "      <th>frecuencia-cardiaca-bpm</th>\n",
              "      <th>frecuencia-respiratoria-respiraciones/min</th>\n",
              "      <th>...</th>\n",
              "      <th>barro-espinilla(s-n)</th>\n",
              "      <th>comida-rapida(s-n)</th>\n",
              "      <th>ejercicio-regular(s-n)</th>\n",
              "      <th>ps-sistolica-mmHg</th>\n",
              "      <th>ps-diastolica-mmHg</th>\n",
              "      <th>nro-foliculos-ovario-izq</th>\n",
              "      <th>nro-foliculos-ovario-der</th>\n",
              "      <th>prom-tam-foliculos-ovario-izq-mm</th>\n",
              "      <th>prom-tam-foliculos-ovario-der-mm</th>\n",
              "      <th>endometrio-mm</th>\n",
              "    </tr>\n",
              "  </thead>\n",
              "  <tbody>\n",
              "    <tr>\n",
              "      <th>count</th>\n",
              "      <td>541.000000</td>\n",
              "      <td>541.000000</td>\n",
              "      <td>541.000000</td>\n",
              "      <td>541.000000</td>\n",
              "      <td>541.000000</td>\n",
              "      <td>541.000000</td>\n",
              "      <td>541.000000</td>\n",
              "      <td>541.000000</td>\n",
              "      <td>541.000000</td>\n",
              "      <td>541.000000</td>\n",
              "      <td>...</td>\n",
              "      <td>541.000000</td>\n",
              "      <td>541.000000</td>\n",
              "      <td>541.000000</td>\n",
              "      <td>541.000000</td>\n",
              "      <td>541.000000</td>\n",
              "      <td>541.000000</td>\n",
              "      <td>541.000000</td>\n",
              "      <td>541.000000</td>\n",
              "      <td>541.000000</td>\n",
              "      <td>541.000000</td>\n",
              "    </tr>\n",
              "    <tr>\n",
              "      <th>mean</th>\n",
              "      <td>271.000000</td>\n",
              "      <td>271.000000</td>\n",
              "      <td>0.327172</td>\n",
              "      <td>31.430684</td>\n",
              "      <td>59.637153</td>\n",
              "      <td>156.484835</td>\n",
              "      <td>24.307579</td>\n",
              "      <td>13.802218</td>\n",
              "      <td>73.247689</td>\n",
              "      <td>19.243993</td>\n",
              "      <td>...</td>\n",
              "      <td>0.489834</td>\n",
              "      <td>0.514682</td>\n",
              "      <td>0.247689</td>\n",
              "      <td>114.661738</td>\n",
              "      <td>76.927911</td>\n",
              "      <td>6.129390</td>\n",
              "      <td>6.641405</td>\n",
              "      <td>15.018115</td>\n",
              "      <td>15.451701</td>\n",
              "      <td>8.475915</td>\n",
              "    </tr>\n",
              "    <tr>\n",
              "      <th>std</th>\n",
              "      <td>156.317519</td>\n",
              "      <td>156.317519</td>\n",
              "      <td>0.469615</td>\n",
              "      <td>5.411006</td>\n",
              "      <td>11.028287</td>\n",
              "      <td>6.033545</td>\n",
              "      <td>4.055129</td>\n",
              "      <td>1.840812</td>\n",
              "      <td>4.430285</td>\n",
              "      <td>1.688629</td>\n",
              "      <td>...</td>\n",
              "      <td>0.500359</td>\n",
              "      <td>0.499790</td>\n",
              "      <td>0.432070</td>\n",
              "      <td>7.384556</td>\n",
              "      <td>5.574112</td>\n",
              "      <td>4.229294</td>\n",
              "      <td>4.436889</td>\n",
              "      <td>3.566839</td>\n",
              "      <td>3.318848</td>\n",
              "      <td>2.165381</td>\n",
              "    </tr>\n",
              "    <tr>\n",
              "      <th>min</th>\n",
              "      <td>1.000000</td>\n",
              "      <td>1.000000</td>\n",
              "      <td>0.000000</td>\n",
              "      <td>20.000000</td>\n",
              "      <td>31.000000</td>\n",
              "      <td>137.000000</td>\n",
              "      <td>12.400000</td>\n",
              "      <td>11.000000</td>\n",
              "      <td>13.000000</td>\n",
              "      <td>16.000000</td>\n",
              "      <td>...</td>\n",
              "      <td>0.000000</td>\n",
              "      <td>0.000000</td>\n",
              "      <td>0.000000</td>\n",
              "      <td>12.000000</td>\n",
              "      <td>8.000000</td>\n",
              "      <td>0.000000</td>\n",
              "      <td>0.000000</td>\n",
              "      <td>0.000000</td>\n",
              "      <td>0.000000</td>\n",
              "      <td>0.000000</td>\n",
              "    </tr>\n",
              "    <tr>\n",
              "      <th>25%</th>\n",
              "      <td>136.000000</td>\n",
              "      <td>136.000000</td>\n",
              "      <td>0.000000</td>\n",
              "      <td>28.000000</td>\n",
              "      <td>52.000000</td>\n",
              "      <td>152.000000</td>\n",
              "      <td>21.600000</td>\n",
              "      <td>13.000000</td>\n",
              "      <td>72.000000</td>\n",
              "      <td>18.000000</td>\n",
              "      <td>...</td>\n",
              "      <td>0.000000</td>\n",
              "      <td>0.000000</td>\n",
              "      <td>0.000000</td>\n",
              "      <td>110.000000</td>\n",
              "      <td>70.000000</td>\n",
              "      <td>3.000000</td>\n",
              "      <td>3.000000</td>\n",
              "      <td>13.000000</td>\n",
              "      <td>13.000000</td>\n",
              "      <td>7.000000</td>\n",
              "    </tr>\n",
              "    <tr>\n",
              "      <th>50%</th>\n",
              "      <td>271.000000</td>\n",
              "      <td>271.000000</td>\n",
              "      <td>0.000000</td>\n",
              "      <td>31.000000</td>\n",
              "      <td>59.000000</td>\n",
              "      <td>156.000000</td>\n",
              "      <td>24.200000</td>\n",
              "      <td>14.000000</td>\n",
              "      <td>72.000000</td>\n",
              "      <td>18.000000</td>\n",
              "      <td>...</td>\n",
              "      <td>0.000000</td>\n",
              "      <td>1.000000</td>\n",
              "      <td>0.000000</td>\n",
              "      <td>110.000000</td>\n",
              "      <td>80.000000</td>\n",
              "      <td>5.000000</td>\n",
              "      <td>6.000000</td>\n",
              "      <td>15.000000</td>\n",
              "      <td>16.000000</td>\n",
              "      <td>8.500000</td>\n",
              "    </tr>\n",
              "    <tr>\n",
              "      <th>75%</th>\n",
              "      <td>406.000000</td>\n",
              "      <td>406.000000</td>\n",
              "      <td>1.000000</td>\n",
              "      <td>35.000000</td>\n",
              "      <td>65.000000</td>\n",
              "      <td>160.000000</td>\n",
              "      <td>26.600000</td>\n",
              "      <td>15.000000</td>\n",
              "      <td>74.000000</td>\n",
              "      <td>20.000000</td>\n",
              "      <td>...</td>\n",
              "      <td>1.000000</td>\n",
              "      <td>1.000000</td>\n",
              "      <td>0.000000</td>\n",
              "      <td>120.000000</td>\n",
              "      <td>80.000000</td>\n",
              "      <td>9.000000</td>\n",
              "      <td>10.000000</td>\n",
              "      <td>18.000000</td>\n",
              "      <td>18.000000</td>\n",
              "      <td>9.800000</td>\n",
              "    </tr>\n",
              "    <tr>\n",
              "      <th>max</th>\n",
              "      <td>541.000000</td>\n",
              "      <td>541.000000</td>\n",
              "      <td>1.000000</td>\n",
              "      <td>48.000000</td>\n",
              "      <td>108.000000</td>\n",
              "      <td>180.000000</td>\n",
              "      <td>38.900000</td>\n",
              "      <td>18.000000</td>\n",
              "      <td>82.000000</td>\n",
              "      <td>28.000000</td>\n",
              "      <td>...</td>\n",
              "      <td>1.000000</td>\n",
              "      <td>1.000000</td>\n",
              "      <td>1.000000</td>\n",
              "      <td>140.000000</td>\n",
              "      <td>100.000000</td>\n",
              "      <td>22.000000</td>\n",
              "      <td>20.000000</td>\n",
              "      <td>24.000000</td>\n",
              "      <td>24.000000</td>\n",
              "      <td>18.000000</td>\n",
              "    </tr>\n",
              "  </tbody>\n",
              "</table>\n",
              "<p>8 rows × 44 columns</p>\n",
              "</div>"
            ],
            "text/plain": [
              "            (s-n)  paciente-id   pcos(s-n)      edad-a     peso-kg  \\\n",
              "count  541.000000   541.000000  541.000000  541.000000  541.000000   \n",
              "mean   271.000000   271.000000    0.327172   31.430684   59.637153   \n",
              "std    156.317519   156.317519    0.469615    5.411006   11.028287   \n",
              "min      1.000000     1.000000    0.000000   20.000000   31.000000   \n",
              "25%    136.000000   136.000000    0.000000   28.000000   52.000000   \n",
              "50%    271.000000   271.000000    0.000000   31.000000   59.000000   \n",
              "75%    406.000000   406.000000    1.000000   35.000000   65.000000   \n",
              "max    541.000000   541.000000    1.000000   48.000000  108.000000   \n",
              "\n",
              "       estatura-cm         imc  grupo-sanguineo  frecuencia-cardiaca-bpm  \\\n",
              "count   541.000000  541.000000       541.000000               541.000000   \n",
              "mean    156.484835   24.307579        13.802218                73.247689   \n",
              "std       6.033545    4.055129         1.840812                 4.430285   \n",
              "min     137.000000   12.400000        11.000000                13.000000   \n",
              "25%     152.000000   21.600000        13.000000                72.000000   \n",
              "50%     156.000000   24.200000        14.000000                72.000000   \n",
              "75%     160.000000   26.600000        15.000000                74.000000   \n",
              "max     180.000000   38.900000        18.000000                82.000000   \n",
              "\n",
              "       frecuencia-respiratoria-respiraciones/min  ...  barro-espinilla(s-n)  \\\n",
              "count                                 541.000000  ...            541.000000   \n",
              "mean                                   19.243993  ...              0.489834   \n",
              "std                                     1.688629  ...              0.500359   \n",
              "min                                    16.000000  ...              0.000000   \n",
              "25%                                    18.000000  ...              0.000000   \n",
              "50%                                    18.000000  ...              0.000000   \n",
              "75%                                    20.000000  ...              1.000000   \n",
              "max                                    28.000000  ...              1.000000   \n",
              "\n",
              "       comida-rapida(s-n)  ejercicio-regular(s-n)  ps-sistolica-mmHg  \\\n",
              "count          541.000000              541.000000         541.000000   \n",
              "mean             0.514682                0.247689         114.661738   \n",
              "std              0.499790                0.432070           7.384556   \n",
              "min              0.000000                0.000000          12.000000   \n",
              "25%              0.000000                0.000000         110.000000   \n",
              "50%              1.000000                0.000000         110.000000   \n",
              "75%              1.000000                0.000000         120.000000   \n",
              "max              1.000000                1.000000         140.000000   \n",
              "\n",
              "       ps-diastolica-mmHg  nro-foliculos-ovario-izq  nro-foliculos-ovario-der  \\\n",
              "count          541.000000                541.000000                541.000000   \n",
              "mean            76.927911                  6.129390                  6.641405   \n",
              "std              5.574112                  4.229294                  4.436889   \n",
              "min              8.000000                  0.000000                  0.000000   \n",
              "25%             70.000000                  3.000000                  3.000000   \n",
              "50%             80.000000                  5.000000                  6.000000   \n",
              "75%             80.000000                  9.000000                 10.000000   \n",
              "max            100.000000                 22.000000                 20.000000   \n",
              "\n",
              "       prom-tam-foliculos-ovario-izq-mm  prom-tam-foliculos-ovario-der-mm  \\\n",
              "count                        541.000000                        541.000000   \n",
              "mean                          15.018115                         15.451701   \n",
              "std                            3.566839                          3.318848   \n",
              "min                            0.000000                          0.000000   \n",
              "25%                           13.000000                         13.000000   \n",
              "50%                           15.000000                         16.000000   \n",
              "75%                           18.000000                         18.000000   \n",
              "max                           24.000000                         24.000000   \n",
              "\n",
              "       endometrio-mm  \n",
              "count     541.000000  \n",
              "mean        8.475915  \n",
              "std         2.165381  \n",
              "min         0.000000  \n",
              "25%         7.000000  \n",
              "50%         8.500000  \n",
              "75%         9.800000  \n",
              "max        18.000000  \n",
              "\n",
              "[8 rows x 44 columns]"
            ]
          },
          "execution_count": 59,
          "metadata": {},
          "output_type": "execute_result"
        }
      ],
      "source": [
        "# Resumen estadístico del dataframe df\n",
        "df.describe()"
      ]
    },
    {
      "cell_type": "markdown",
      "metadata": {
        "id": "a9Y5ule5c8DB"
      },
      "source": [
        "- **Análisis de outliers**"
      ]
    },
    {
      "cell_type": "code",
      "execution_count": 70,
      "metadata": {},
      "outputs": [
        {
          "data": {
            "application/vnd.plotly.v1+json": {
              "config": {
                "plotlyServerURL": "https://plot.ly"
              },
              "data": [
                {
                  "alignmentgroup": "True",
                  "bingroup": "x",
                  "hovertemplate": "ps-diastolica-mmHg=%{x}<br>count=%{y}<extra></extra>",
                  "legendgroup": "",
                  "marker": {
                    "color": "#636efa",
                    "pattern": {
                      "shape": ""
                    }
                  },
                  "name": "",
                  "nbinsx": 30,
                  "offsetgroup": "",
                  "orientation": "v",
                  "showlegend": false,
                  "type": "histogram",
                  "x": [
                    80,
                    70,
                    80,
                    70,
                    80,
                    70,
                    80,
                    80,
                    80,
                    80,
                    80,
                    80,
                    80,
                    70,
                    80,
                    80,
                    70,
                    80,
                    80,
                    80,
                    80,
                    80,
                    70,
                    80,
                    70,
                    70,
                    80,
                    80,
                    80,
                    80,
                    80,
                    80,
                    80,
                    80,
                    70,
                    80,
                    80,
                    80,
                    80,
                    70,
                    80,
                    80,
                    70,
                    70,
                    80,
                    80,
                    70,
                    70,
                    80,
                    70,
                    70,
                    70,
                    80,
                    80,
                    80,
                    80,
                    80,
                    80,
                    80,
                    70,
                    80,
                    80,
                    80,
                    70,
                    80,
                    70,
                    80,
                    80,
                    70,
                    70,
                    70,
                    70,
                    80,
                    80,
                    80,
                    80,
                    70,
                    70,
                    70,
                    70,
                    70,
                    80,
                    80,
                    80,
                    70,
                    80,
                    80,
                    70,
                    80,
                    70,
                    80,
                    80,
                    80,
                    80,
                    80,
                    70,
                    70,
                    70,
                    70,
                    80,
                    80,
                    80,
                    70,
                    80,
                    80,
                    70,
                    80,
                    80,
                    70,
                    70,
                    70,
                    80,
                    80,
                    80,
                    80,
                    70,
                    70,
                    80,
                    80,
                    80,
                    70,
                    80,
                    80,
                    70,
                    80,
                    80,
                    80,
                    70,
                    80,
                    80,
                    80,
                    70,
                    80,
                    80,
                    80,
                    80,
                    80,
                    70,
                    70,
                    70,
                    80,
                    70,
                    70,
                    80,
                    80,
                    70,
                    70,
                    80,
                    80,
                    70,
                    80,
                    80,
                    80,
                    80,
                    80,
                    80,
                    70,
                    80,
                    70,
                    80,
                    80,
                    80,
                    70,
                    80,
                    80,
                    60,
                    80,
                    80,
                    80,
                    80,
                    80,
                    80,
                    80,
                    80,
                    80,
                    80,
                    70,
                    80,
                    80,
                    70,
                    80,
                    80,
                    80,
                    80,
                    80,
                    80,
                    80,
                    80,
                    80,
                    80,
                    80,
                    70,
                    80,
                    80,
                    80,
                    80,
                    80,
                    80,
                    70,
                    80,
                    8,
                    80,
                    80,
                    80,
                    70,
                    80,
                    80,
                    80,
                    80,
                    80,
                    80,
                    80,
                    80,
                    80,
                    80,
                    80,
                    80,
                    80,
                    80,
                    80,
                    80,
                    70,
                    70,
                    70,
                    80,
                    80,
                    80,
                    80,
                    80,
                    80,
                    80,
                    80,
                    80,
                    80,
                    80,
                    70,
                    80,
                    80,
                    80,
                    80,
                    80,
                    80,
                    80,
                    80,
                    80,
                    80,
                    70,
                    80,
                    70,
                    70,
                    80,
                    70,
                    80,
                    80,
                    70,
                    80,
                    70,
                    80,
                    80,
                    80,
                    80,
                    80,
                    70,
                    80,
                    70,
                    80,
                    80,
                    80,
                    80,
                    80,
                    80,
                    70,
                    70,
                    80,
                    80,
                    70,
                    80,
                    70,
                    80,
                    70,
                    70,
                    80,
                    80,
                    80,
                    80,
                    80,
                    70,
                    80,
                    80,
                    80,
                    80,
                    80,
                    70,
                    80,
                    80,
                    70,
                    70,
                    70,
                    70,
                    80,
                    80,
                    80,
                    80,
                    80,
                    80,
                    70,
                    70,
                    80,
                    70,
                    80,
                    70,
                    80,
                    70,
                    80,
                    80,
                    80,
                    80,
                    70,
                    80,
                    80,
                    80,
                    80,
                    80,
                    80,
                    80,
                    70,
                    80,
                    70,
                    80,
                    80,
                    80,
                    80,
                    70,
                    80,
                    80,
                    80,
                    80,
                    80,
                    80,
                    80,
                    80,
                    80,
                    80,
                    80,
                    80,
                    80,
                    80,
                    70,
                    70,
                    80,
                    80,
                    80,
                    80,
                    80,
                    80,
                    80,
                    80,
                    80,
                    70,
                    80,
                    70,
                    70,
                    80,
                    80,
                    80,
                    100,
                    80,
                    80,
                    80,
                    80,
                    80,
                    80,
                    80,
                    70,
                    70,
                    80,
                    80,
                    80,
                    70,
                    80,
                    80,
                    80,
                    80,
                    80,
                    80,
                    80,
                    70,
                    70,
                    80,
                    70,
                    80,
                    80,
                    80,
                    70,
                    70,
                    80,
                    80,
                    80,
                    80,
                    70,
                    70,
                    80,
                    70,
                    80,
                    70,
                    80,
                    80,
                    80,
                    70,
                    70,
                    80,
                    70,
                    70,
                    70,
                    70,
                    80,
                    80,
                    80,
                    80,
                    80,
                    80,
                    80,
                    80,
                    80,
                    80,
                    80,
                    80,
                    70,
                    70,
                    80,
                    80,
                    70,
                    70,
                    70,
                    70,
                    80,
                    80,
                    80,
                    80,
                    80,
                    70,
                    80,
                    70,
                    80,
                    80,
                    80,
                    80,
                    80,
                    80,
                    80,
                    80,
                    70,
                    80,
                    70,
                    80,
                    80,
                    70,
                    70,
                    80,
                    80,
                    70,
                    80,
                    80,
                    80,
                    80,
                    80,
                    80,
                    70,
                    80,
                    70,
                    80,
                    70,
                    70,
                    80,
                    80,
                    80,
                    80,
                    80,
                    80,
                    80,
                    80,
                    80,
                    80,
                    80,
                    80,
                    80,
                    80,
                    70,
                    80,
                    80,
                    70,
                    80,
                    80,
                    80,
                    70,
                    70,
                    80,
                    70,
                    80,
                    80,
                    70,
                    70,
                    80,
                    80,
                    80,
                    70,
                    80,
                    80,
                    70,
                    70,
                    70,
                    80,
                    70,
                    80,
                    70,
                    80,
                    70,
                    70,
                    70,
                    80,
                    70,
                    80,
                    80,
                    80,
                    80,
                    70,
                    80,
                    80,
                    80,
                    80,
                    80,
                    70,
                    80,
                    80,
                    80,
                    80,
                    70,
                    70,
                    80,
                    70,
                    70
                  ],
                  "xaxis": "x",
                  "yaxis": "y"
                }
              ],
              "layout": {
                "barmode": "relative",
                "legend": {
                  "tracegroupgap": 0
                },
                "margin": {
                  "t": 60
                },
                "template": {
                  "data": {
                    "bar": [
                      {
                        "error_x": {
                          "color": "#2a3f5f"
                        },
                        "error_y": {
                          "color": "#2a3f5f"
                        },
                        "marker": {
                          "line": {
                            "color": "#E5ECF6",
                            "width": 0.5
                          },
                          "pattern": {
                            "fillmode": "overlay",
                            "size": 10,
                            "solidity": 0.2
                          }
                        },
                        "type": "bar"
                      }
                    ],
                    "barpolar": [
                      {
                        "marker": {
                          "line": {
                            "color": "#E5ECF6",
                            "width": 0.5
                          },
                          "pattern": {
                            "fillmode": "overlay",
                            "size": 10,
                            "solidity": 0.2
                          }
                        },
                        "type": "barpolar"
                      }
                    ],
                    "carpet": [
                      {
                        "aaxis": {
                          "endlinecolor": "#2a3f5f",
                          "gridcolor": "white",
                          "linecolor": "white",
                          "minorgridcolor": "white",
                          "startlinecolor": "#2a3f5f"
                        },
                        "baxis": {
                          "endlinecolor": "#2a3f5f",
                          "gridcolor": "white",
                          "linecolor": "white",
                          "minorgridcolor": "white",
                          "startlinecolor": "#2a3f5f"
                        },
                        "type": "carpet"
                      }
                    ],
                    "choropleth": [
                      {
                        "colorbar": {
                          "outlinewidth": 0,
                          "ticks": ""
                        },
                        "type": "choropleth"
                      }
                    ],
                    "contour": [
                      {
                        "colorbar": {
                          "outlinewidth": 0,
                          "ticks": ""
                        },
                        "colorscale": [
                          [
                            0,
                            "#0d0887"
                          ],
                          [
                            0.1111111111111111,
                            "#46039f"
                          ],
                          [
                            0.2222222222222222,
                            "#7201a8"
                          ],
                          [
                            0.3333333333333333,
                            "#9c179e"
                          ],
                          [
                            0.4444444444444444,
                            "#bd3786"
                          ],
                          [
                            0.5555555555555556,
                            "#d8576b"
                          ],
                          [
                            0.6666666666666666,
                            "#ed7953"
                          ],
                          [
                            0.7777777777777778,
                            "#fb9f3a"
                          ],
                          [
                            0.8888888888888888,
                            "#fdca26"
                          ],
                          [
                            1,
                            "#f0f921"
                          ]
                        ],
                        "type": "contour"
                      }
                    ],
                    "contourcarpet": [
                      {
                        "colorbar": {
                          "outlinewidth": 0,
                          "ticks": ""
                        },
                        "type": "contourcarpet"
                      }
                    ],
                    "heatmap": [
                      {
                        "colorbar": {
                          "outlinewidth": 0,
                          "ticks": ""
                        },
                        "colorscale": [
                          [
                            0,
                            "#0d0887"
                          ],
                          [
                            0.1111111111111111,
                            "#46039f"
                          ],
                          [
                            0.2222222222222222,
                            "#7201a8"
                          ],
                          [
                            0.3333333333333333,
                            "#9c179e"
                          ],
                          [
                            0.4444444444444444,
                            "#bd3786"
                          ],
                          [
                            0.5555555555555556,
                            "#d8576b"
                          ],
                          [
                            0.6666666666666666,
                            "#ed7953"
                          ],
                          [
                            0.7777777777777778,
                            "#fb9f3a"
                          ],
                          [
                            0.8888888888888888,
                            "#fdca26"
                          ],
                          [
                            1,
                            "#f0f921"
                          ]
                        ],
                        "type": "heatmap"
                      }
                    ],
                    "heatmapgl": [
                      {
                        "colorbar": {
                          "outlinewidth": 0,
                          "ticks": ""
                        },
                        "colorscale": [
                          [
                            0,
                            "#0d0887"
                          ],
                          [
                            0.1111111111111111,
                            "#46039f"
                          ],
                          [
                            0.2222222222222222,
                            "#7201a8"
                          ],
                          [
                            0.3333333333333333,
                            "#9c179e"
                          ],
                          [
                            0.4444444444444444,
                            "#bd3786"
                          ],
                          [
                            0.5555555555555556,
                            "#d8576b"
                          ],
                          [
                            0.6666666666666666,
                            "#ed7953"
                          ],
                          [
                            0.7777777777777778,
                            "#fb9f3a"
                          ],
                          [
                            0.8888888888888888,
                            "#fdca26"
                          ],
                          [
                            1,
                            "#f0f921"
                          ]
                        ],
                        "type": "heatmapgl"
                      }
                    ],
                    "histogram": [
                      {
                        "marker": {
                          "pattern": {
                            "fillmode": "overlay",
                            "size": 10,
                            "solidity": 0.2
                          }
                        },
                        "type": "histogram"
                      }
                    ],
                    "histogram2d": [
                      {
                        "colorbar": {
                          "outlinewidth": 0,
                          "ticks": ""
                        },
                        "colorscale": [
                          [
                            0,
                            "#0d0887"
                          ],
                          [
                            0.1111111111111111,
                            "#46039f"
                          ],
                          [
                            0.2222222222222222,
                            "#7201a8"
                          ],
                          [
                            0.3333333333333333,
                            "#9c179e"
                          ],
                          [
                            0.4444444444444444,
                            "#bd3786"
                          ],
                          [
                            0.5555555555555556,
                            "#d8576b"
                          ],
                          [
                            0.6666666666666666,
                            "#ed7953"
                          ],
                          [
                            0.7777777777777778,
                            "#fb9f3a"
                          ],
                          [
                            0.8888888888888888,
                            "#fdca26"
                          ],
                          [
                            1,
                            "#f0f921"
                          ]
                        ],
                        "type": "histogram2d"
                      }
                    ],
                    "histogram2dcontour": [
                      {
                        "colorbar": {
                          "outlinewidth": 0,
                          "ticks": ""
                        },
                        "colorscale": [
                          [
                            0,
                            "#0d0887"
                          ],
                          [
                            0.1111111111111111,
                            "#46039f"
                          ],
                          [
                            0.2222222222222222,
                            "#7201a8"
                          ],
                          [
                            0.3333333333333333,
                            "#9c179e"
                          ],
                          [
                            0.4444444444444444,
                            "#bd3786"
                          ],
                          [
                            0.5555555555555556,
                            "#d8576b"
                          ],
                          [
                            0.6666666666666666,
                            "#ed7953"
                          ],
                          [
                            0.7777777777777778,
                            "#fb9f3a"
                          ],
                          [
                            0.8888888888888888,
                            "#fdca26"
                          ],
                          [
                            1,
                            "#f0f921"
                          ]
                        ],
                        "type": "histogram2dcontour"
                      }
                    ],
                    "mesh3d": [
                      {
                        "colorbar": {
                          "outlinewidth": 0,
                          "ticks": ""
                        },
                        "type": "mesh3d"
                      }
                    ],
                    "parcoords": [
                      {
                        "line": {
                          "colorbar": {
                            "outlinewidth": 0,
                            "ticks": ""
                          }
                        },
                        "type": "parcoords"
                      }
                    ],
                    "pie": [
                      {
                        "automargin": true,
                        "type": "pie"
                      }
                    ],
                    "scatter": [
                      {
                        "fillpattern": {
                          "fillmode": "overlay",
                          "size": 10,
                          "solidity": 0.2
                        },
                        "type": "scatter"
                      }
                    ],
                    "scatter3d": [
                      {
                        "line": {
                          "colorbar": {
                            "outlinewidth": 0,
                            "ticks": ""
                          }
                        },
                        "marker": {
                          "colorbar": {
                            "outlinewidth": 0,
                            "ticks": ""
                          }
                        },
                        "type": "scatter3d"
                      }
                    ],
                    "scattercarpet": [
                      {
                        "marker": {
                          "colorbar": {
                            "outlinewidth": 0,
                            "ticks": ""
                          }
                        },
                        "type": "scattercarpet"
                      }
                    ],
                    "scattergeo": [
                      {
                        "marker": {
                          "colorbar": {
                            "outlinewidth": 0,
                            "ticks": ""
                          }
                        },
                        "type": "scattergeo"
                      }
                    ],
                    "scattergl": [
                      {
                        "marker": {
                          "colorbar": {
                            "outlinewidth": 0,
                            "ticks": ""
                          }
                        },
                        "type": "scattergl"
                      }
                    ],
                    "scattermapbox": [
                      {
                        "marker": {
                          "colorbar": {
                            "outlinewidth": 0,
                            "ticks": ""
                          }
                        },
                        "type": "scattermapbox"
                      }
                    ],
                    "scatterpolar": [
                      {
                        "marker": {
                          "colorbar": {
                            "outlinewidth": 0,
                            "ticks": ""
                          }
                        },
                        "type": "scatterpolar"
                      }
                    ],
                    "scatterpolargl": [
                      {
                        "marker": {
                          "colorbar": {
                            "outlinewidth": 0,
                            "ticks": ""
                          }
                        },
                        "type": "scatterpolargl"
                      }
                    ],
                    "scatterternary": [
                      {
                        "marker": {
                          "colorbar": {
                            "outlinewidth": 0,
                            "ticks": ""
                          }
                        },
                        "type": "scatterternary"
                      }
                    ],
                    "surface": [
                      {
                        "colorbar": {
                          "outlinewidth": 0,
                          "ticks": ""
                        },
                        "colorscale": [
                          [
                            0,
                            "#0d0887"
                          ],
                          [
                            0.1111111111111111,
                            "#46039f"
                          ],
                          [
                            0.2222222222222222,
                            "#7201a8"
                          ],
                          [
                            0.3333333333333333,
                            "#9c179e"
                          ],
                          [
                            0.4444444444444444,
                            "#bd3786"
                          ],
                          [
                            0.5555555555555556,
                            "#d8576b"
                          ],
                          [
                            0.6666666666666666,
                            "#ed7953"
                          ],
                          [
                            0.7777777777777778,
                            "#fb9f3a"
                          ],
                          [
                            0.8888888888888888,
                            "#fdca26"
                          ],
                          [
                            1,
                            "#f0f921"
                          ]
                        ],
                        "type": "surface"
                      }
                    ],
                    "table": [
                      {
                        "cells": {
                          "fill": {
                            "color": "#EBF0F8"
                          },
                          "line": {
                            "color": "white"
                          }
                        },
                        "header": {
                          "fill": {
                            "color": "#C8D4E3"
                          },
                          "line": {
                            "color": "white"
                          }
                        },
                        "type": "table"
                      }
                    ]
                  },
                  "layout": {
                    "annotationdefaults": {
                      "arrowcolor": "#2a3f5f",
                      "arrowhead": 0,
                      "arrowwidth": 1
                    },
                    "autotypenumbers": "strict",
                    "coloraxis": {
                      "colorbar": {
                        "outlinewidth": 0,
                        "ticks": ""
                      }
                    },
                    "colorscale": {
                      "diverging": [
                        [
                          0,
                          "#8e0152"
                        ],
                        [
                          0.1,
                          "#c51b7d"
                        ],
                        [
                          0.2,
                          "#de77ae"
                        ],
                        [
                          0.3,
                          "#f1b6da"
                        ],
                        [
                          0.4,
                          "#fde0ef"
                        ],
                        [
                          0.5,
                          "#f7f7f7"
                        ],
                        [
                          0.6,
                          "#e6f5d0"
                        ],
                        [
                          0.7,
                          "#b8e186"
                        ],
                        [
                          0.8,
                          "#7fbc41"
                        ],
                        [
                          0.9,
                          "#4d9221"
                        ],
                        [
                          1,
                          "#276419"
                        ]
                      ],
                      "sequential": [
                        [
                          0,
                          "#0d0887"
                        ],
                        [
                          0.1111111111111111,
                          "#46039f"
                        ],
                        [
                          0.2222222222222222,
                          "#7201a8"
                        ],
                        [
                          0.3333333333333333,
                          "#9c179e"
                        ],
                        [
                          0.4444444444444444,
                          "#bd3786"
                        ],
                        [
                          0.5555555555555556,
                          "#d8576b"
                        ],
                        [
                          0.6666666666666666,
                          "#ed7953"
                        ],
                        [
                          0.7777777777777778,
                          "#fb9f3a"
                        ],
                        [
                          0.8888888888888888,
                          "#fdca26"
                        ],
                        [
                          1,
                          "#f0f921"
                        ]
                      ],
                      "sequentialminus": [
                        [
                          0,
                          "#0d0887"
                        ],
                        [
                          0.1111111111111111,
                          "#46039f"
                        ],
                        [
                          0.2222222222222222,
                          "#7201a8"
                        ],
                        [
                          0.3333333333333333,
                          "#9c179e"
                        ],
                        [
                          0.4444444444444444,
                          "#bd3786"
                        ],
                        [
                          0.5555555555555556,
                          "#d8576b"
                        ],
                        [
                          0.6666666666666666,
                          "#ed7953"
                        ],
                        [
                          0.7777777777777778,
                          "#fb9f3a"
                        ],
                        [
                          0.8888888888888888,
                          "#fdca26"
                        ],
                        [
                          1,
                          "#f0f921"
                        ]
                      ]
                    },
                    "colorway": [
                      "#636efa",
                      "#EF553B",
                      "#00cc96",
                      "#ab63fa",
                      "#FFA15A",
                      "#19d3f3",
                      "#FF6692",
                      "#B6E880",
                      "#FF97FF",
                      "#FECB52"
                    ],
                    "font": {
                      "color": "#2a3f5f"
                    },
                    "geo": {
                      "bgcolor": "white",
                      "lakecolor": "white",
                      "landcolor": "#E5ECF6",
                      "showlakes": true,
                      "showland": true,
                      "subunitcolor": "white"
                    },
                    "hoverlabel": {
                      "align": "left"
                    },
                    "hovermode": "closest",
                    "mapbox": {
                      "style": "light"
                    },
                    "paper_bgcolor": "white",
                    "plot_bgcolor": "#E5ECF6",
                    "polar": {
                      "angularaxis": {
                        "gridcolor": "white",
                        "linecolor": "white",
                        "ticks": ""
                      },
                      "bgcolor": "#E5ECF6",
                      "radialaxis": {
                        "gridcolor": "white",
                        "linecolor": "white",
                        "ticks": ""
                      }
                    },
                    "scene": {
                      "xaxis": {
                        "backgroundcolor": "#E5ECF6",
                        "gridcolor": "white",
                        "gridwidth": 2,
                        "linecolor": "white",
                        "showbackground": true,
                        "ticks": "",
                        "zerolinecolor": "white"
                      },
                      "yaxis": {
                        "backgroundcolor": "#E5ECF6",
                        "gridcolor": "white",
                        "gridwidth": 2,
                        "linecolor": "white",
                        "showbackground": true,
                        "ticks": "",
                        "zerolinecolor": "white"
                      },
                      "zaxis": {
                        "backgroundcolor": "#E5ECF6",
                        "gridcolor": "white",
                        "gridwidth": 2,
                        "linecolor": "white",
                        "showbackground": true,
                        "ticks": "",
                        "zerolinecolor": "white"
                      }
                    },
                    "shapedefaults": {
                      "line": {
                        "color": "#2a3f5f"
                      }
                    },
                    "ternary": {
                      "aaxis": {
                        "gridcolor": "white",
                        "linecolor": "white",
                        "ticks": ""
                      },
                      "baxis": {
                        "gridcolor": "white",
                        "linecolor": "white",
                        "ticks": ""
                      },
                      "bgcolor": "#E5ECF6",
                      "caxis": {
                        "gridcolor": "white",
                        "linecolor": "white",
                        "ticks": ""
                      }
                    },
                    "title": {
                      "x": 0.05
                    },
                    "xaxis": {
                      "automargin": true,
                      "gridcolor": "white",
                      "linecolor": "white",
                      "ticks": "",
                      "title": {
                        "standoff": 15
                      },
                      "zerolinecolor": "white",
                      "zerolinewidth": 2
                    },
                    "yaxis": {
                      "automargin": true,
                      "gridcolor": "white",
                      "linecolor": "white",
                      "ticks": "",
                      "title": {
                        "standoff": 15
                      },
                      "zerolinecolor": "white",
                      "zerolinewidth": 2
                    }
                  }
                },
                "xaxis": {
                  "anchor": "y",
                  "domain": [
                    0,
                    1
                  ],
                  "title": {
                    "text": "ps-diastolica-mmHg"
                  }
                },
                "yaxis": {
                  "anchor": "x",
                  "domain": [
                    0,
                    1
                  ],
                  "title": {
                    "text": "count"
                  }
                }
              }
            }
          },
          "metadata": {},
          "output_type": "display_data"
        }
      ],
      "source": [
        "#Histograma de variable determinada para remover outliers\n",
        "figura1 = px.histogram(df, x='ps-diastolica-mmHg', nbins=30)\n",
        "figura1.show()"
      ]
    },
    {
      "cell_type": "code",
      "execution_count": 76,
      "metadata": {},
      "outputs": [
        {
          "data": {
            "application/vnd.plotly.v1+json": {
              "config": {
                "plotlyServerURL": "https://plot.ly"
              },
              "data": [
                {
                  "alignmentgroup": "True",
                  "bingroup": "x",
                  "hovertemplate": "ps-sistolica-mmHg=%{x}<br>count=%{y}<extra></extra>",
                  "legendgroup": "",
                  "marker": {
                    "color": "#636efa",
                    "pattern": {
                      "shape": ""
                    }
                  },
                  "name": "",
                  "nbinsx": 30,
                  "offsetgroup": "",
                  "orientation": "v",
                  "showlegend": false,
                  "type": "histogram",
                  "x": [
                    110,
                    120,
                    120,
                    120,
                    120,
                    110,
                    120,
                    120,
                    120,
                    110,
                    110,
                    120,
                    120,
                    110,
                    120,
                    120,
                    110,
                    110,
                    120,
                    120,
                    110,
                    120,
                    110,
                    110,
                    120,
                    110,
                    120,
                    110,
                    120,
                    110,
                    110,
                    110,
                    120,
                    120,
                    120,
                    110,
                    110,
                    120,
                    110,
                    110,
                    110,
                    110,
                    100,
                    110,
                    120,
                    120,
                    110,
                    110,
                    110,
                    110,
                    110,
                    100,
                    120,
                    120,
                    120,
                    110,
                    120,
                    110,
                    110,
                    120,
                    110,
                    120,
                    120,
                    120,
                    110,
                    100,
                    120,
                    110,
                    120,
                    120,
                    100,
                    120,
                    110,
                    110,
                    120,
                    110,
                    120,
                    110,
                    110,
                    110,
                    120,
                    120,
                    110,
                    120,
                    120,
                    120,
                    120,
                    120,
                    110,
                    120,
                    110,
                    120,
                    110,
                    120,
                    120,
                    120,
                    110,
                    110,
                    120,
                    110,
                    120,
                    110,
                    110,
                    120,
                    120,
                    110,
                    120,
                    110,
                    110,
                    120,
                    100,
                    120,
                    120,
                    110,
                    110,
                    110,
                    110,
                    110,
                    110,
                    110,
                    110,
                    110,
                    110,
                    100,
                    120,
                    120,
                    110,
                    110,
                    110,
                    110,
                    120,
                    110,
                    110,
                    110,
                    120,
                    120,
                    110,
                    100,
                    110,
                    120,
                    110,
                    110,
                    110,
                    110,
                    120,
                    120,
                    120,
                    110,
                    110,
                    110,
                    110,
                    110,
                    110,
                    110,
                    120,
                    120,
                    120,
                    120,
                    110,
                    110,
                    120,
                    12,
                    120,
                    120,
                    120,
                    110,
                    120,
                    120,
                    120,
                    120,
                    120,
                    120,
                    120,
                    120,
                    120,
                    120,
                    110,
                    120,
                    110,
                    140,
                    120,
                    130,
                    110,
                    120,
                    120,
                    110,
                    120,
                    110,
                    120,
                    110,
                    120,
                    120,
                    110,
                    120,
                    120,
                    120,
                    120,
                    110,
                    110,
                    110,
                    120,
                    120,
                    120,
                    110,
                    120,
                    110,
                    120,
                    120,
                    110,
                    120,
                    120,
                    120,
                    120,
                    110,
                    110,
                    120,
                    120,
                    110,
                    120,
                    120,
                    120,
                    120,
                    120,
                    120,
                    110,
                    110,
                    120,
                    110,
                    120,
                    110,
                    120,
                    120,
                    120,
                    120,
                    120,
                    110,
                    120,
                    120,
                    120,
                    120,
                    110,
                    110,
                    120,
                    120,
                    120,
                    120,
                    120,
                    110,
                    110,
                    120,
                    120,
                    120,
                    110,
                    110,
                    120,
                    120,
                    120,
                    110,
                    120,
                    120,
                    130,
                    110,
                    110,
                    120,
                    110,
                    120,
                    110,
                    120,
                    110,
                    110,
                    110,
                    110,
                    120,
                    120,
                    120,
                    120,
                    120,
                    110,
                    120,
                    120,
                    120,
                    110,
                    120,
                    110,
                    120,
                    120,
                    120,
                    110,
                    110,
                    110,
                    110,
                    120,
                    120,
                    110,
                    120,
                    110,
                    110,
                    110,
                    120,
                    120,
                    110,
                    110,
                    120,
                    110,
                    110,
                    120,
                    110,
                    120,
                    110,
                    110,
                    110,
                    110,
                    120,
                    110,
                    120,
                    110,
                    110,
                    100,
                    110,
                    120,
                    110,
                    110,
                    110,
                    110,
                    110,
                    110,
                    120,
                    110,
                    110,
                    110,
                    120,
                    110,
                    110,
                    110,
                    120,
                    110,
                    110,
                    110,
                    110,
                    110,
                    100,
                    110,
                    110,
                    110,
                    110,
                    110,
                    110,
                    110,
                    110,
                    110,
                    110,
                    100,
                    120,
                    110,
                    110,
                    110,
                    120,
                    110,
                    120,
                    120,
                    120,
                    120,
                    120,
                    110,
                    120,
                    140,
                    120,
                    120,
                    120,
                    110,
                    110,
                    110,
                    120,
                    120,
                    110,
                    120,
                    120,
                    120,
                    110,
                    110,
                    120,
                    120,
                    120,
                    120,
                    110,
                    130,
                    110,
                    110,
                    110,
                    110,
                    120,
                    120,
                    120,
                    110,
                    120,
                    120,
                    110,
                    110,
                    110,
                    120,
                    120,
                    120,
                    110,
                    120,
                    120,
                    120,
                    120,
                    120,
                    110,
                    110,
                    120,
                    120,
                    110,
                    110,
                    110,
                    120,
                    120,
                    120,
                    110,
                    110,
                    120,
                    120,
                    120,
                    120,
                    110,
                    120,
                    110,
                    110,
                    110,
                    130,
                    120,
                    110,
                    120,
                    110,
                    110,
                    110,
                    110,
                    120,
                    110,
                    110,
                    110,
                    110,
                    110,
                    120,
                    120,
                    110,
                    110,
                    110,
                    120,
                    120,
                    110,
                    100,
                    110,
                    110,
                    120,
                    110,
                    120,
                    120,
                    120,
                    110,
                    110,
                    110,
                    120,
                    110,
                    110,
                    110,
                    120,
                    110,
                    110,
                    110,
                    110,
                    110,
                    110,
                    120,
                    130,
                    120,
                    110,
                    130,
                    120,
                    110,
                    110,
                    130,
                    110,
                    120,
                    120,
                    110,
                    110,
                    120,
                    110,
                    120,
                    120,
                    110,
                    120,
                    120,
                    110,
                    120,
                    110,
                    110,
                    120,
                    120,
                    100,
                    110,
                    120,
                    120,
                    110,
                    110,
                    120,
                    110,
                    110,
                    120,
                    120,
                    110,
                    120,
                    120,
                    110,
                    110,
                    100,
                    110,
                    110,
                    110,
                    120,
                    120,
                    110,
                    110,
                    120,
                    110,
                    120,
                    120,
                    120,
                    120,
                    120,
                    120,
                    130,
                    110,
                    110,
                    110,
                    110,
                    110,
                    110,
                    110,
                    120
                  ],
                  "xaxis": "x",
                  "yaxis": "y"
                }
              ],
              "layout": {
                "barmode": "relative",
                "legend": {
                  "tracegroupgap": 0
                },
                "margin": {
                  "t": 60
                },
                "template": {
                  "data": {
                    "bar": [
                      {
                        "error_x": {
                          "color": "#2a3f5f"
                        },
                        "error_y": {
                          "color": "#2a3f5f"
                        },
                        "marker": {
                          "line": {
                            "color": "#E5ECF6",
                            "width": 0.5
                          },
                          "pattern": {
                            "fillmode": "overlay",
                            "size": 10,
                            "solidity": 0.2
                          }
                        },
                        "type": "bar"
                      }
                    ],
                    "barpolar": [
                      {
                        "marker": {
                          "line": {
                            "color": "#E5ECF6",
                            "width": 0.5
                          },
                          "pattern": {
                            "fillmode": "overlay",
                            "size": 10,
                            "solidity": 0.2
                          }
                        },
                        "type": "barpolar"
                      }
                    ],
                    "carpet": [
                      {
                        "aaxis": {
                          "endlinecolor": "#2a3f5f",
                          "gridcolor": "white",
                          "linecolor": "white",
                          "minorgridcolor": "white",
                          "startlinecolor": "#2a3f5f"
                        },
                        "baxis": {
                          "endlinecolor": "#2a3f5f",
                          "gridcolor": "white",
                          "linecolor": "white",
                          "minorgridcolor": "white",
                          "startlinecolor": "#2a3f5f"
                        },
                        "type": "carpet"
                      }
                    ],
                    "choropleth": [
                      {
                        "colorbar": {
                          "outlinewidth": 0,
                          "ticks": ""
                        },
                        "type": "choropleth"
                      }
                    ],
                    "contour": [
                      {
                        "colorbar": {
                          "outlinewidth": 0,
                          "ticks": ""
                        },
                        "colorscale": [
                          [
                            0,
                            "#0d0887"
                          ],
                          [
                            0.1111111111111111,
                            "#46039f"
                          ],
                          [
                            0.2222222222222222,
                            "#7201a8"
                          ],
                          [
                            0.3333333333333333,
                            "#9c179e"
                          ],
                          [
                            0.4444444444444444,
                            "#bd3786"
                          ],
                          [
                            0.5555555555555556,
                            "#d8576b"
                          ],
                          [
                            0.6666666666666666,
                            "#ed7953"
                          ],
                          [
                            0.7777777777777778,
                            "#fb9f3a"
                          ],
                          [
                            0.8888888888888888,
                            "#fdca26"
                          ],
                          [
                            1,
                            "#f0f921"
                          ]
                        ],
                        "type": "contour"
                      }
                    ],
                    "contourcarpet": [
                      {
                        "colorbar": {
                          "outlinewidth": 0,
                          "ticks": ""
                        },
                        "type": "contourcarpet"
                      }
                    ],
                    "heatmap": [
                      {
                        "colorbar": {
                          "outlinewidth": 0,
                          "ticks": ""
                        },
                        "colorscale": [
                          [
                            0,
                            "#0d0887"
                          ],
                          [
                            0.1111111111111111,
                            "#46039f"
                          ],
                          [
                            0.2222222222222222,
                            "#7201a8"
                          ],
                          [
                            0.3333333333333333,
                            "#9c179e"
                          ],
                          [
                            0.4444444444444444,
                            "#bd3786"
                          ],
                          [
                            0.5555555555555556,
                            "#d8576b"
                          ],
                          [
                            0.6666666666666666,
                            "#ed7953"
                          ],
                          [
                            0.7777777777777778,
                            "#fb9f3a"
                          ],
                          [
                            0.8888888888888888,
                            "#fdca26"
                          ],
                          [
                            1,
                            "#f0f921"
                          ]
                        ],
                        "type": "heatmap"
                      }
                    ],
                    "heatmapgl": [
                      {
                        "colorbar": {
                          "outlinewidth": 0,
                          "ticks": ""
                        },
                        "colorscale": [
                          [
                            0,
                            "#0d0887"
                          ],
                          [
                            0.1111111111111111,
                            "#46039f"
                          ],
                          [
                            0.2222222222222222,
                            "#7201a8"
                          ],
                          [
                            0.3333333333333333,
                            "#9c179e"
                          ],
                          [
                            0.4444444444444444,
                            "#bd3786"
                          ],
                          [
                            0.5555555555555556,
                            "#d8576b"
                          ],
                          [
                            0.6666666666666666,
                            "#ed7953"
                          ],
                          [
                            0.7777777777777778,
                            "#fb9f3a"
                          ],
                          [
                            0.8888888888888888,
                            "#fdca26"
                          ],
                          [
                            1,
                            "#f0f921"
                          ]
                        ],
                        "type": "heatmapgl"
                      }
                    ],
                    "histogram": [
                      {
                        "marker": {
                          "pattern": {
                            "fillmode": "overlay",
                            "size": 10,
                            "solidity": 0.2
                          }
                        },
                        "type": "histogram"
                      }
                    ],
                    "histogram2d": [
                      {
                        "colorbar": {
                          "outlinewidth": 0,
                          "ticks": ""
                        },
                        "colorscale": [
                          [
                            0,
                            "#0d0887"
                          ],
                          [
                            0.1111111111111111,
                            "#46039f"
                          ],
                          [
                            0.2222222222222222,
                            "#7201a8"
                          ],
                          [
                            0.3333333333333333,
                            "#9c179e"
                          ],
                          [
                            0.4444444444444444,
                            "#bd3786"
                          ],
                          [
                            0.5555555555555556,
                            "#d8576b"
                          ],
                          [
                            0.6666666666666666,
                            "#ed7953"
                          ],
                          [
                            0.7777777777777778,
                            "#fb9f3a"
                          ],
                          [
                            0.8888888888888888,
                            "#fdca26"
                          ],
                          [
                            1,
                            "#f0f921"
                          ]
                        ],
                        "type": "histogram2d"
                      }
                    ],
                    "histogram2dcontour": [
                      {
                        "colorbar": {
                          "outlinewidth": 0,
                          "ticks": ""
                        },
                        "colorscale": [
                          [
                            0,
                            "#0d0887"
                          ],
                          [
                            0.1111111111111111,
                            "#46039f"
                          ],
                          [
                            0.2222222222222222,
                            "#7201a8"
                          ],
                          [
                            0.3333333333333333,
                            "#9c179e"
                          ],
                          [
                            0.4444444444444444,
                            "#bd3786"
                          ],
                          [
                            0.5555555555555556,
                            "#d8576b"
                          ],
                          [
                            0.6666666666666666,
                            "#ed7953"
                          ],
                          [
                            0.7777777777777778,
                            "#fb9f3a"
                          ],
                          [
                            0.8888888888888888,
                            "#fdca26"
                          ],
                          [
                            1,
                            "#f0f921"
                          ]
                        ],
                        "type": "histogram2dcontour"
                      }
                    ],
                    "mesh3d": [
                      {
                        "colorbar": {
                          "outlinewidth": 0,
                          "ticks": ""
                        },
                        "type": "mesh3d"
                      }
                    ],
                    "parcoords": [
                      {
                        "line": {
                          "colorbar": {
                            "outlinewidth": 0,
                            "ticks": ""
                          }
                        },
                        "type": "parcoords"
                      }
                    ],
                    "pie": [
                      {
                        "automargin": true,
                        "type": "pie"
                      }
                    ],
                    "scatter": [
                      {
                        "fillpattern": {
                          "fillmode": "overlay",
                          "size": 10,
                          "solidity": 0.2
                        },
                        "type": "scatter"
                      }
                    ],
                    "scatter3d": [
                      {
                        "line": {
                          "colorbar": {
                            "outlinewidth": 0,
                            "ticks": ""
                          }
                        },
                        "marker": {
                          "colorbar": {
                            "outlinewidth": 0,
                            "ticks": ""
                          }
                        },
                        "type": "scatter3d"
                      }
                    ],
                    "scattercarpet": [
                      {
                        "marker": {
                          "colorbar": {
                            "outlinewidth": 0,
                            "ticks": ""
                          }
                        },
                        "type": "scattercarpet"
                      }
                    ],
                    "scattergeo": [
                      {
                        "marker": {
                          "colorbar": {
                            "outlinewidth": 0,
                            "ticks": ""
                          }
                        },
                        "type": "scattergeo"
                      }
                    ],
                    "scattergl": [
                      {
                        "marker": {
                          "colorbar": {
                            "outlinewidth": 0,
                            "ticks": ""
                          }
                        },
                        "type": "scattergl"
                      }
                    ],
                    "scattermapbox": [
                      {
                        "marker": {
                          "colorbar": {
                            "outlinewidth": 0,
                            "ticks": ""
                          }
                        },
                        "type": "scattermapbox"
                      }
                    ],
                    "scatterpolar": [
                      {
                        "marker": {
                          "colorbar": {
                            "outlinewidth": 0,
                            "ticks": ""
                          }
                        },
                        "type": "scatterpolar"
                      }
                    ],
                    "scatterpolargl": [
                      {
                        "marker": {
                          "colorbar": {
                            "outlinewidth": 0,
                            "ticks": ""
                          }
                        },
                        "type": "scatterpolargl"
                      }
                    ],
                    "scatterternary": [
                      {
                        "marker": {
                          "colorbar": {
                            "outlinewidth": 0,
                            "ticks": ""
                          }
                        },
                        "type": "scatterternary"
                      }
                    ],
                    "surface": [
                      {
                        "colorbar": {
                          "outlinewidth": 0,
                          "ticks": ""
                        },
                        "colorscale": [
                          [
                            0,
                            "#0d0887"
                          ],
                          [
                            0.1111111111111111,
                            "#46039f"
                          ],
                          [
                            0.2222222222222222,
                            "#7201a8"
                          ],
                          [
                            0.3333333333333333,
                            "#9c179e"
                          ],
                          [
                            0.4444444444444444,
                            "#bd3786"
                          ],
                          [
                            0.5555555555555556,
                            "#d8576b"
                          ],
                          [
                            0.6666666666666666,
                            "#ed7953"
                          ],
                          [
                            0.7777777777777778,
                            "#fb9f3a"
                          ],
                          [
                            0.8888888888888888,
                            "#fdca26"
                          ],
                          [
                            1,
                            "#f0f921"
                          ]
                        ],
                        "type": "surface"
                      }
                    ],
                    "table": [
                      {
                        "cells": {
                          "fill": {
                            "color": "#EBF0F8"
                          },
                          "line": {
                            "color": "white"
                          }
                        },
                        "header": {
                          "fill": {
                            "color": "#C8D4E3"
                          },
                          "line": {
                            "color": "white"
                          }
                        },
                        "type": "table"
                      }
                    ]
                  },
                  "layout": {
                    "annotationdefaults": {
                      "arrowcolor": "#2a3f5f",
                      "arrowhead": 0,
                      "arrowwidth": 1
                    },
                    "autotypenumbers": "strict",
                    "coloraxis": {
                      "colorbar": {
                        "outlinewidth": 0,
                        "ticks": ""
                      }
                    },
                    "colorscale": {
                      "diverging": [
                        [
                          0,
                          "#8e0152"
                        ],
                        [
                          0.1,
                          "#c51b7d"
                        ],
                        [
                          0.2,
                          "#de77ae"
                        ],
                        [
                          0.3,
                          "#f1b6da"
                        ],
                        [
                          0.4,
                          "#fde0ef"
                        ],
                        [
                          0.5,
                          "#f7f7f7"
                        ],
                        [
                          0.6,
                          "#e6f5d0"
                        ],
                        [
                          0.7,
                          "#b8e186"
                        ],
                        [
                          0.8,
                          "#7fbc41"
                        ],
                        [
                          0.9,
                          "#4d9221"
                        ],
                        [
                          1,
                          "#276419"
                        ]
                      ],
                      "sequential": [
                        [
                          0,
                          "#0d0887"
                        ],
                        [
                          0.1111111111111111,
                          "#46039f"
                        ],
                        [
                          0.2222222222222222,
                          "#7201a8"
                        ],
                        [
                          0.3333333333333333,
                          "#9c179e"
                        ],
                        [
                          0.4444444444444444,
                          "#bd3786"
                        ],
                        [
                          0.5555555555555556,
                          "#d8576b"
                        ],
                        [
                          0.6666666666666666,
                          "#ed7953"
                        ],
                        [
                          0.7777777777777778,
                          "#fb9f3a"
                        ],
                        [
                          0.8888888888888888,
                          "#fdca26"
                        ],
                        [
                          1,
                          "#f0f921"
                        ]
                      ],
                      "sequentialminus": [
                        [
                          0,
                          "#0d0887"
                        ],
                        [
                          0.1111111111111111,
                          "#46039f"
                        ],
                        [
                          0.2222222222222222,
                          "#7201a8"
                        ],
                        [
                          0.3333333333333333,
                          "#9c179e"
                        ],
                        [
                          0.4444444444444444,
                          "#bd3786"
                        ],
                        [
                          0.5555555555555556,
                          "#d8576b"
                        ],
                        [
                          0.6666666666666666,
                          "#ed7953"
                        ],
                        [
                          0.7777777777777778,
                          "#fb9f3a"
                        ],
                        [
                          0.8888888888888888,
                          "#fdca26"
                        ],
                        [
                          1,
                          "#f0f921"
                        ]
                      ]
                    },
                    "colorway": [
                      "#636efa",
                      "#EF553B",
                      "#00cc96",
                      "#ab63fa",
                      "#FFA15A",
                      "#19d3f3",
                      "#FF6692",
                      "#B6E880",
                      "#FF97FF",
                      "#FECB52"
                    ],
                    "font": {
                      "color": "#2a3f5f"
                    },
                    "geo": {
                      "bgcolor": "white",
                      "lakecolor": "white",
                      "landcolor": "#E5ECF6",
                      "showlakes": true,
                      "showland": true,
                      "subunitcolor": "white"
                    },
                    "hoverlabel": {
                      "align": "left"
                    },
                    "hovermode": "closest",
                    "mapbox": {
                      "style": "light"
                    },
                    "paper_bgcolor": "white",
                    "plot_bgcolor": "#E5ECF6",
                    "polar": {
                      "angularaxis": {
                        "gridcolor": "white",
                        "linecolor": "white",
                        "ticks": ""
                      },
                      "bgcolor": "#E5ECF6",
                      "radialaxis": {
                        "gridcolor": "white",
                        "linecolor": "white",
                        "ticks": ""
                      }
                    },
                    "scene": {
                      "xaxis": {
                        "backgroundcolor": "#E5ECF6",
                        "gridcolor": "white",
                        "gridwidth": 2,
                        "linecolor": "white",
                        "showbackground": true,
                        "ticks": "",
                        "zerolinecolor": "white"
                      },
                      "yaxis": {
                        "backgroundcolor": "#E5ECF6",
                        "gridcolor": "white",
                        "gridwidth": 2,
                        "linecolor": "white",
                        "showbackground": true,
                        "ticks": "",
                        "zerolinecolor": "white"
                      },
                      "zaxis": {
                        "backgroundcolor": "#E5ECF6",
                        "gridcolor": "white",
                        "gridwidth": 2,
                        "linecolor": "white",
                        "showbackground": true,
                        "ticks": "",
                        "zerolinecolor": "white"
                      }
                    },
                    "shapedefaults": {
                      "line": {
                        "color": "#2a3f5f"
                      }
                    },
                    "ternary": {
                      "aaxis": {
                        "gridcolor": "white",
                        "linecolor": "white",
                        "ticks": ""
                      },
                      "baxis": {
                        "gridcolor": "white",
                        "linecolor": "white",
                        "ticks": ""
                      },
                      "bgcolor": "#E5ECF6",
                      "caxis": {
                        "gridcolor": "white",
                        "linecolor": "white",
                        "ticks": ""
                      }
                    },
                    "title": {
                      "x": 0.05
                    },
                    "xaxis": {
                      "automargin": true,
                      "gridcolor": "white",
                      "linecolor": "white",
                      "ticks": "",
                      "title": {
                        "standoff": 15
                      },
                      "zerolinecolor": "white",
                      "zerolinewidth": 2
                    },
                    "yaxis": {
                      "automargin": true,
                      "gridcolor": "white",
                      "linecolor": "white",
                      "ticks": "",
                      "title": {
                        "standoff": 15
                      },
                      "zerolinecolor": "white",
                      "zerolinewidth": 2
                    }
                  }
                },
                "xaxis": {
                  "anchor": "y",
                  "domain": [
                    0,
                    1
                  ],
                  "title": {
                    "text": "ps-sistolica-mmHg"
                  }
                },
                "yaxis": {
                  "anchor": "x",
                  "domain": [
                    0,
                    1
                  ],
                  "title": {
                    "text": "count"
                  }
                }
              }
            }
          },
          "metadata": {},
          "output_type": "display_data"
        }
      ],
      "source": [
        "#Histograma de variable determinada para remover outliers\n",
        "figura2 = px.histogram(df, x='ps-sistolica-mmHg', nbins=30)\n",
        "figura2.show()"
      ]
    },
    {
      "cell_type": "code",
      "execution_count": 82,
      "metadata": {},
      "outputs": [
        {
          "data": {
            "application/vnd.plotly.v1+json": {
              "config": {
                "plotlyServerURL": "https://plot.ly"
              },
              "data": [
                {
                  "alignmentgroup": "True",
                  "bingroup": "x",
                  "hovertemplate": "endometrio-mm=%{x}<br>count=%{y}<extra></extra>",
                  "legendgroup": "",
                  "marker": {
                    "color": "#636efa",
                    "pattern": {
                      "shape": ""
                    }
                  },
                  "name": "",
                  "nbinsx": 30,
                  "offsetgroup": "",
                  "orientation": "v",
                  "showlegend": false,
                  "type": "histogram",
                  "x": [
                    8.5,
                    3.7,
                    10,
                    7.5,
                    7,
                    8,
                    6.8,
                    7.1,
                    4.2,
                    2.5,
                    6,
                    7.8,
                    8,
                    5.6,
                    5.5,
                    3.9,
                    5.6,
                    4,
                    5.6,
                    11,
                    5.7,
                    7.6,
                    7.6,
                    8.5,
                    7.3,
                    8.8,
                    6.8,
                    10,
                    6.2,
                    5,
                    7,
                    6,
                    7.5,
                    8.5,
                    8,
                    7,
                    10,
                    10,
                    15,
                    0,
                    7.3,
                    6.5,
                    6.5,
                    7.12,
                    7,
                    9.4,
                    9,
                    16,
                    9,
                    10.4,
                    11,
                    10,
                    6,
                    6.8,
                    6.3,
                    8.9,
                    8.6,
                    9.3,
                    14,
                    11,
                    7.2,
                    7.8,
                    9.6,
                    8.6,
                    12.5,
                    9.4,
                    9.7,
                    5.5,
                    6.2,
                    8.9,
                    6.5,
                    6,
                    5.4,
                    9.8,
                    8.7,
                    8.5,
                    12.8,
                    18,
                    8.6,
                    10,
                    8.5,
                    8.3,
                    0,
                    6,
                    10,
                    12,
                    10,
                    4.6,
                    10,
                    8,
                    6,
                    5.7,
                    8.3,
                    9,
                    6.8,
                    6,
                    5.9,
                    5,
                    5,
                    7.5,
                    6.8,
                    6.4,
                    11.3,
                    7,
                    7,
                    9,
                    4.4,
                    7,
                    9,
                    9.3,
                    8.5,
                    10,
                    7,
                    9,
                    8.7,
                    8.3,
                    9.8,
                    11,
                    8,
                    11.7,
                    8.6,
                    6.2,
                    13.4,
                    12.5,
                    8.5,
                    12,
                    8.5,
                    9,
                    14,
                    9.7,
                    8,
                    11.5,
                    9.7,
                    12,
                    9,
                    11,
                    11,
                    10.7,
                    9,
                    8.5,
                    9,
                    11,
                    8,
                    7,
                    9.3,
                    7.5,
                    10.7,
                    8,
                    10,
                    7.1,
                    10,
                    8,
                    8.5,
                    8,
                    14,
                    7.5,
                    11,
                    10,
                    9,
                    9.5,
                    6,
                    5,
                    9.4,
                    8.5,
                    4.6,
                    6.5,
                    4,
                    10,
                    9,
                    10.7,
                    9.6,
                    8.5,
                    5.5,
                    9.5,
                    5,
                    9,
                    8,
                    8,
                    11,
                    5,
                    4.5,
                    9.3,
                    5.5,
                    9,
                    9,
                    6.5,
                    5.9,
                    9.7,
                    6.3,
                    13,
                    6,
                    9,
                    6,
                    7,
                    7,
                    5.5,
                    5.6,
                    9,
                    6,
                    10.5,
                    6,
                    9.8,
                    9.9,
                    10.6,
                    8.5,
                    8,
                    5.5,
                    7.5,
                    6.5,
                    5.5,
                    6.1,
                    15,
                    9.4,
                    6,
                    5,
                    10,
                    9.7,
                    10,
                    10.2,
                    14,
                    10,
                    10,
                    8,
                    8.7,
                    7.7,
                    12,
                    13,
                    6,
                    10.8,
                    8.5,
                    12,
                    8.8,
                    11.5,
                    9,
                    8.5,
                    4.8,
                    7,
                    9,
                    9,
                    8,
                    8,
                    14,
                    9,
                    9.2,
                    9.6,
                    9,
                    8,
                    10.3,
                    12,
                    11,
                    8.3,
                    13,
                    9.3,
                    6,
                    8,
                    8.2,
                    8.5,
                    9,
                    10,
                    8,
                    8.4,
                    10,
                    6.5,
                    8.7,
                    9,
                    8,
                    5.6,
                    10,
                    7,
                    13,
                    8,
                    8.7,
                    8.3,
                    7,
                    10.3,
                    8.7,
                    8.8,
                    9.5,
                    7.2,
                    9,
                    8.9,
                    7,
                    9.8,
                    9.8,
                    11,
                    7.2,
                    7.8,
                    9,
                    7.7,
                    8,
                    8.5,
                    9,
                    10.5,
                    5.5,
                    9.6,
                    8,
                    8.5,
                    9.6,
                    7.7,
                    11,
                    7,
                    9,
                    9.5,
                    9,
                    12,
                    5.6,
                    5.5,
                    8,
                    6,
                    7,
                    7.3,
                    12,
                    11,
                    7.8,
                    11,
                    8.5,
                    10,
                    7.7,
                    8.4,
                    6.4,
                    12,
                    10.5,
                    8,
                    12,
                    9,
                    11,
                    13,
                    9,
                    8,
                    6,
                    9,
                    6,
                    10.5,
                    12,
                    11,
                    9,
                    10,
                    9,
                    9.3,
                    8.2,
                    10,
                    8.7,
                    11,
                    8,
                    9.2,
                    13,
                    10,
                    11,
                    10.8,
                    14,
                    9,
                    9,
                    8,
                    5.6,
                    10.6,
                    7,
                    11,
                    6.4,
                    12,
                    6.8,
                    13.5,
                    7,
                    9.2,
                    7,
                    9,
                    8.5,
                    9.8,
                    11,
                    10,
                    8,
                    12,
                    9,
                    8,
                    11,
                    7.5,
                    10.3,
                    9,
                    5.5,
                    11.2,
                    9,
                    10,
                    6.5,
                    7,
                    8,
                    7.5,
                    7,
                    8.3,
                    7.5,
                    9,
                    11.2,
                    10,
                    9,
                    10.3,
                    7.5,
                    11,
                    8,
                    7,
                    8,
                    5.8,
                    9.6,
                    7,
                    8,
                    11,
                    7,
                    9.5,
                    6.8,
                    9,
                    11,
                    9,
                    4,
                    8,
                    11,
                    10.3,
                    13,
                    9.5,
                    6.5,
                    8,
                    9,
                    6.7,
                    7.8,
                    10,
                    7.2,
                    8.2,
                    11,
                    8.5,
                    11.2,
                    9,
                    8.9,
                    11.5,
                    10.2,
                    7.6,
                    7,
                    7,
                    10,
                    11,
                    9,
                    10,
                    8,
                    10,
                    10.3,
                    8,
                    3,
                    7,
                    8.1,
                    8.55,
                    6,
                    5.9,
                    6,
                    8,
                    8.2,
                    7,
                    9.65,
                    8.5,
                    7.85,
                    8.2,
                    9,
                    7,
                    8,
                    8,
                    10.5,
                    7.35,
                    8.9,
                    7.9,
                    7.2,
                    7.6,
                    8,
                    8,
                    7,
                    8.15,
                    8.9,
                    7,
                    7.5,
                    8.95,
                    5,
                    9,
                    8.5,
                    6.4,
                    9.2,
                    6,
                    9,
                    8,
                    4.5,
                    8.6,
                    8,
                    7.25,
                    8.5,
                    10.5,
                    6.75,
                    6.8,
                    10,
                    6,
                    7.2,
                    10.35,
                    6,
                    7,
                    6.4,
                    5.4,
                    6.6,
                    6,
                    8.8,
                    14.2,
                    9,
                    9.3,
                    6.8,
                    10,
                    7,
                    7,
                    7.5,
                    9.1,
                    7.8,
                    8.4,
                    6,
                    9.3,
                    8.5,
                    9,
                    7,
                    9.2,
                    9.8,
                    5.9,
                    6.5,
                    7.8,
                    8,
                    10,
                    7.6,
                    6.5,
                    7.8,
                    6.8,
                    6.2,
                    9.7,
                    7.3,
                    4.8,
                    8.5,
                    7,
                    10.3,
                    8.2,
                    9.6,
                    6.7,
                    8.2,
                    7.3,
                    11.5,
                    6.9
                  ],
                  "xaxis": "x",
                  "yaxis": "y"
                }
              ],
              "layout": {
                "barmode": "relative",
                "legend": {
                  "tracegroupgap": 0
                },
                "margin": {
                  "t": 60
                },
                "template": {
                  "data": {
                    "bar": [
                      {
                        "error_x": {
                          "color": "#2a3f5f"
                        },
                        "error_y": {
                          "color": "#2a3f5f"
                        },
                        "marker": {
                          "line": {
                            "color": "#E5ECF6",
                            "width": 0.5
                          },
                          "pattern": {
                            "fillmode": "overlay",
                            "size": 10,
                            "solidity": 0.2
                          }
                        },
                        "type": "bar"
                      }
                    ],
                    "barpolar": [
                      {
                        "marker": {
                          "line": {
                            "color": "#E5ECF6",
                            "width": 0.5
                          },
                          "pattern": {
                            "fillmode": "overlay",
                            "size": 10,
                            "solidity": 0.2
                          }
                        },
                        "type": "barpolar"
                      }
                    ],
                    "carpet": [
                      {
                        "aaxis": {
                          "endlinecolor": "#2a3f5f",
                          "gridcolor": "white",
                          "linecolor": "white",
                          "minorgridcolor": "white",
                          "startlinecolor": "#2a3f5f"
                        },
                        "baxis": {
                          "endlinecolor": "#2a3f5f",
                          "gridcolor": "white",
                          "linecolor": "white",
                          "minorgridcolor": "white",
                          "startlinecolor": "#2a3f5f"
                        },
                        "type": "carpet"
                      }
                    ],
                    "choropleth": [
                      {
                        "colorbar": {
                          "outlinewidth": 0,
                          "ticks": ""
                        },
                        "type": "choropleth"
                      }
                    ],
                    "contour": [
                      {
                        "colorbar": {
                          "outlinewidth": 0,
                          "ticks": ""
                        },
                        "colorscale": [
                          [
                            0,
                            "#0d0887"
                          ],
                          [
                            0.1111111111111111,
                            "#46039f"
                          ],
                          [
                            0.2222222222222222,
                            "#7201a8"
                          ],
                          [
                            0.3333333333333333,
                            "#9c179e"
                          ],
                          [
                            0.4444444444444444,
                            "#bd3786"
                          ],
                          [
                            0.5555555555555556,
                            "#d8576b"
                          ],
                          [
                            0.6666666666666666,
                            "#ed7953"
                          ],
                          [
                            0.7777777777777778,
                            "#fb9f3a"
                          ],
                          [
                            0.8888888888888888,
                            "#fdca26"
                          ],
                          [
                            1,
                            "#f0f921"
                          ]
                        ],
                        "type": "contour"
                      }
                    ],
                    "contourcarpet": [
                      {
                        "colorbar": {
                          "outlinewidth": 0,
                          "ticks": ""
                        },
                        "type": "contourcarpet"
                      }
                    ],
                    "heatmap": [
                      {
                        "colorbar": {
                          "outlinewidth": 0,
                          "ticks": ""
                        },
                        "colorscale": [
                          [
                            0,
                            "#0d0887"
                          ],
                          [
                            0.1111111111111111,
                            "#46039f"
                          ],
                          [
                            0.2222222222222222,
                            "#7201a8"
                          ],
                          [
                            0.3333333333333333,
                            "#9c179e"
                          ],
                          [
                            0.4444444444444444,
                            "#bd3786"
                          ],
                          [
                            0.5555555555555556,
                            "#d8576b"
                          ],
                          [
                            0.6666666666666666,
                            "#ed7953"
                          ],
                          [
                            0.7777777777777778,
                            "#fb9f3a"
                          ],
                          [
                            0.8888888888888888,
                            "#fdca26"
                          ],
                          [
                            1,
                            "#f0f921"
                          ]
                        ],
                        "type": "heatmap"
                      }
                    ],
                    "heatmapgl": [
                      {
                        "colorbar": {
                          "outlinewidth": 0,
                          "ticks": ""
                        },
                        "colorscale": [
                          [
                            0,
                            "#0d0887"
                          ],
                          [
                            0.1111111111111111,
                            "#46039f"
                          ],
                          [
                            0.2222222222222222,
                            "#7201a8"
                          ],
                          [
                            0.3333333333333333,
                            "#9c179e"
                          ],
                          [
                            0.4444444444444444,
                            "#bd3786"
                          ],
                          [
                            0.5555555555555556,
                            "#d8576b"
                          ],
                          [
                            0.6666666666666666,
                            "#ed7953"
                          ],
                          [
                            0.7777777777777778,
                            "#fb9f3a"
                          ],
                          [
                            0.8888888888888888,
                            "#fdca26"
                          ],
                          [
                            1,
                            "#f0f921"
                          ]
                        ],
                        "type": "heatmapgl"
                      }
                    ],
                    "histogram": [
                      {
                        "marker": {
                          "pattern": {
                            "fillmode": "overlay",
                            "size": 10,
                            "solidity": 0.2
                          }
                        },
                        "type": "histogram"
                      }
                    ],
                    "histogram2d": [
                      {
                        "colorbar": {
                          "outlinewidth": 0,
                          "ticks": ""
                        },
                        "colorscale": [
                          [
                            0,
                            "#0d0887"
                          ],
                          [
                            0.1111111111111111,
                            "#46039f"
                          ],
                          [
                            0.2222222222222222,
                            "#7201a8"
                          ],
                          [
                            0.3333333333333333,
                            "#9c179e"
                          ],
                          [
                            0.4444444444444444,
                            "#bd3786"
                          ],
                          [
                            0.5555555555555556,
                            "#d8576b"
                          ],
                          [
                            0.6666666666666666,
                            "#ed7953"
                          ],
                          [
                            0.7777777777777778,
                            "#fb9f3a"
                          ],
                          [
                            0.8888888888888888,
                            "#fdca26"
                          ],
                          [
                            1,
                            "#f0f921"
                          ]
                        ],
                        "type": "histogram2d"
                      }
                    ],
                    "histogram2dcontour": [
                      {
                        "colorbar": {
                          "outlinewidth": 0,
                          "ticks": ""
                        },
                        "colorscale": [
                          [
                            0,
                            "#0d0887"
                          ],
                          [
                            0.1111111111111111,
                            "#46039f"
                          ],
                          [
                            0.2222222222222222,
                            "#7201a8"
                          ],
                          [
                            0.3333333333333333,
                            "#9c179e"
                          ],
                          [
                            0.4444444444444444,
                            "#bd3786"
                          ],
                          [
                            0.5555555555555556,
                            "#d8576b"
                          ],
                          [
                            0.6666666666666666,
                            "#ed7953"
                          ],
                          [
                            0.7777777777777778,
                            "#fb9f3a"
                          ],
                          [
                            0.8888888888888888,
                            "#fdca26"
                          ],
                          [
                            1,
                            "#f0f921"
                          ]
                        ],
                        "type": "histogram2dcontour"
                      }
                    ],
                    "mesh3d": [
                      {
                        "colorbar": {
                          "outlinewidth": 0,
                          "ticks": ""
                        },
                        "type": "mesh3d"
                      }
                    ],
                    "parcoords": [
                      {
                        "line": {
                          "colorbar": {
                            "outlinewidth": 0,
                            "ticks": ""
                          }
                        },
                        "type": "parcoords"
                      }
                    ],
                    "pie": [
                      {
                        "automargin": true,
                        "type": "pie"
                      }
                    ],
                    "scatter": [
                      {
                        "fillpattern": {
                          "fillmode": "overlay",
                          "size": 10,
                          "solidity": 0.2
                        },
                        "type": "scatter"
                      }
                    ],
                    "scatter3d": [
                      {
                        "line": {
                          "colorbar": {
                            "outlinewidth": 0,
                            "ticks": ""
                          }
                        },
                        "marker": {
                          "colorbar": {
                            "outlinewidth": 0,
                            "ticks": ""
                          }
                        },
                        "type": "scatter3d"
                      }
                    ],
                    "scattercarpet": [
                      {
                        "marker": {
                          "colorbar": {
                            "outlinewidth": 0,
                            "ticks": ""
                          }
                        },
                        "type": "scattercarpet"
                      }
                    ],
                    "scattergeo": [
                      {
                        "marker": {
                          "colorbar": {
                            "outlinewidth": 0,
                            "ticks": ""
                          }
                        },
                        "type": "scattergeo"
                      }
                    ],
                    "scattergl": [
                      {
                        "marker": {
                          "colorbar": {
                            "outlinewidth": 0,
                            "ticks": ""
                          }
                        },
                        "type": "scattergl"
                      }
                    ],
                    "scattermapbox": [
                      {
                        "marker": {
                          "colorbar": {
                            "outlinewidth": 0,
                            "ticks": ""
                          }
                        },
                        "type": "scattermapbox"
                      }
                    ],
                    "scatterpolar": [
                      {
                        "marker": {
                          "colorbar": {
                            "outlinewidth": 0,
                            "ticks": ""
                          }
                        },
                        "type": "scatterpolar"
                      }
                    ],
                    "scatterpolargl": [
                      {
                        "marker": {
                          "colorbar": {
                            "outlinewidth": 0,
                            "ticks": ""
                          }
                        },
                        "type": "scatterpolargl"
                      }
                    ],
                    "scatterternary": [
                      {
                        "marker": {
                          "colorbar": {
                            "outlinewidth": 0,
                            "ticks": ""
                          }
                        },
                        "type": "scatterternary"
                      }
                    ],
                    "surface": [
                      {
                        "colorbar": {
                          "outlinewidth": 0,
                          "ticks": ""
                        },
                        "colorscale": [
                          [
                            0,
                            "#0d0887"
                          ],
                          [
                            0.1111111111111111,
                            "#46039f"
                          ],
                          [
                            0.2222222222222222,
                            "#7201a8"
                          ],
                          [
                            0.3333333333333333,
                            "#9c179e"
                          ],
                          [
                            0.4444444444444444,
                            "#bd3786"
                          ],
                          [
                            0.5555555555555556,
                            "#d8576b"
                          ],
                          [
                            0.6666666666666666,
                            "#ed7953"
                          ],
                          [
                            0.7777777777777778,
                            "#fb9f3a"
                          ],
                          [
                            0.8888888888888888,
                            "#fdca26"
                          ],
                          [
                            1,
                            "#f0f921"
                          ]
                        ],
                        "type": "surface"
                      }
                    ],
                    "table": [
                      {
                        "cells": {
                          "fill": {
                            "color": "#EBF0F8"
                          },
                          "line": {
                            "color": "white"
                          }
                        },
                        "header": {
                          "fill": {
                            "color": "#C8D4E3"
                          },
                          "line": {
                            "color": "white"
                          }
                        },
                        "type": "table"
                      }
                    ]
                  },
                  "layout": {
                    "annotationdefaults": {
                      "arrowcolor": "#2a3f5f",
                      "arrowhead": 0,
                      "arrowwidth": 1
                    },
                    "autotypenumbers": "strict",
                    "coloraxis": {
                      "colorbar": {
                        "outlinewidth": 0,
                        "ticks": ""
                      }
                    },
                    "colorscale": {
                      "diverging": [
                        [
                          0,
                          "#8e0152"
                        ],
                        [
                          0.1,
                          "#c51b7d"
                        ],
                        [
                          0.2,
                          "#de77ae"
                        ],
                        [
                          0.3,
                          "#f1b6da"
                        ],
                        [
                          0.4,
                          "#fde0ef"
                        ],
                        [
                          0.5,
                          "#f7f7f7"
                        ],
                        [
                          0.6,
                          "#e6f5d0"
                        ],
                        [
                          0.7,
                          "#b8e186"
                        ],
                        [
                          0.8,
                          "#7fbc41"
                        ],
                        [
                          0.9,
                          "#4d9221"
                        ],
                        [
                          1,
                          "#276419"
                        ]
                      ],
                      "sequential": [
                        [
                          0,
                          "#0d0887"
                        ],
                        [
                          0.1111111111111111,
                          "#46039f"
                        ],
                        [
                          0.2222222222222222,
                          "#7201a8"
                        ],
                        [
                          0.3333333333333333,
                          "#9c179e"
                        ],
                        [
                          0.4444444444444444,
                          "#bd3786"
                        ],
                        [
                          0.5555555555555556,
                          "#d8576b"
                        ],
                        [
                          0.6666666666666666,
                          "#ed7953"
                        ],
                        [
                          0.7777777777777778,
                          "#fb9f3a"
                        ],
                        [
                          0.8888888888888888,
                          "#fdca26"
                        ],
                        [
                          1,
                          "#f0f921"
                        ]
                      ],
                      "sequentialminus": [
                        [
                          0,
                          "#0d0887"
                        ],
                        [
                          0.1111111111111111,
                          "#46039f"
                        ],
                        [
                          0.2222222222222222,
                          "#7201a8"
                        ],
                        [
                          0.3333333333333333,
                          "#9c179e"
                        ],
                        [
                          0.4444444444444444,
                          "#bd3786"
                        ],
                        [
                          0.5555555555555556,
                          "#d8576b"
                        ],
                        [
                          0.6666666666666666,
                          "#ed7953"
                        ],
                        [
                          0.7777777777777778,
                          "#fb9f3a"
                        ],
                        [
                          0.8888888888888888,
                          "#fdca26"
                        ],
                        [
                          1,
                          "#f0f921"
                        ]
                      ]
                    },
                    "colorway": [
                      "#636efa",
                      "#EF553B",
                      "#00cc96",
                      "#ab63fa",
                      "#FFA15A",
                      "#19d3f3",
                      "#FF6692",
                      "#B6E880",
                      "#FF97FF",
                      "#FECB52"
                    ],
                    "font": {
                      "color": "#2a3f5f"
                    },
                    "geo": {
                      "bgcolor": "white",
                      "lakecolor": "white",
                      "landcolor": "#E5ECF6",
                      "showlakes": true,
                      "showland": true,
                      "subunitcolor": "white"
                    },
                    "hoverlabel": {
                      "align": "left"
                    },
                    "hovermode": "closest",
                    "mapbox": {
                      "style": "light"
                    },
                    "paper_bgcolor": "white",
                    "plot_bgcolor": "#E5ECF6",
                    "polar": {
                      "angularaxis": {
                        "gridcolor": "white",
                        "linecolor": "white",
                        "ticks": ""
                      },
                      "bgcolor": "#E5ECF6",
                      "radialaxis": {
                        "gridcolor": "white",
                        "linecolor": "white",
                        "ticks": ""
                      }
                    },
                    "scene": {
                      "xaxis": {
                        "backgroundcolor": "#E5ECF6",
                        "gridcolor": "white",
                        "gridwidth": 2,
                        "linecolor": "white",
                        "showbackground": true,
                        "ticks": "",
                        "zerolinecolor": "white"
                      },
                      "yaxis": {
                        "backgroundcolor": "#E5ECF6",
                        "gridcolor": "white",
                        "gridwidth": 2,
                        "linecolor": "white",
                        "showbackground": true,
                        "ticks": "",
                        "zerolinecolor": "white"
                      },
                      "zaxis": {
                        "backgroundcolor": "#E5ECF6",
                        "gridcolor": "white",
                        "gridwidth": 2,
                        "linecolor": "white",
                        "showbackground": true,
                        "ticks": "",
                        "zerolinecolor": "white"
                      }
                    },
                    "shapedefaults": {
                      "line": {
                        "color": "#2a3f5f"
                      }
                    },
                    "ternary": {
                      "aaxis": {
                        "gridcolor": "white",
                        "linecolor": "white",
                        "ticks": ""
                      },
                      "baxis": {
                        "gridcolor": "white",
                        "linecolor": "white",
                        "ticks": ""
                      },
                      "bgcolor": "#E5ECF6",
                      "caxis": {
                        "gridcolor": "white",
                        "linecolor": "white",
                        "ticks": ""
                      }
                    },
                    "title": {
                      "x": 0.05
                    },
                    "xaxis": {
                      "automargin": true,
                      "gridcolor": "white",
                      "linecolor": "white",
                      "ticks": "",
                      "title": {
                        "standoff": 15
                      },
                      "zerolinecolor": "white",
                      "zerolinewidth": 2
                    },
                    "yaxis": {
                      "automargin": true,
                      "gridcolor": "white",
                      "linecolor": "white",
                      "ticks": "",
                      "title": {
                        "standoff": 15
                      },
                      "zerolinecolor": "white",
                      "zerolinewidth": 2
                    }
                  }
                },
                "xaxis": {
                  "anchor": "y",
                  "domain": [
                    0,
                    1
                  ],
                  "title": {
                    "text": "endometrio-mm"
                  }
                },
                "yaxis": {
                  "anchor": "x",
                  "domain": [
                    0,
                    1
                  ],
                  "title": {
                    "text": "count"
                  }
                }
              }
            }
          },
          "metadata": {},
          "output_type": "display_data"
        }
      ],
      "source": [
        "#Histograma de variable determinada para remover outliers\n",
        "figura3 = px.histogram(df, x='endometrio-mm', nbins=30)\n",
        "figura3.show()"
      ]
    },
    {
      "cell_type": "code",
      "execution_count": 81,
      "metadata": {},
      "outputs": [
        {
          "data": {
            "application/vnd.plotly.v1+json": {
              "config": {
                "plotlyServerURL": "https://plot.ly"
              },
              "data": [
                {
                  "alignmentgroup": "True",
                  "bingroup": "x",
                  "hovertemplate": "prom-tam-foliculos-ovario-izq-mm=%{x}<br>count=%{y}<extra></extra>",
                  "legendgroup": "",
                  "marker": {
                    "color": "#636efa",
                    "pattern": {
                      "shape": ""
                    }
                  },
                  "name": "",
                  "nbinsx": 60,
                  "offsetgroup": "",
                  "orientation": "v",
                  "showlegend": false,
                  "type": "histogram",
                  "x": [
                    18,
                    15,
                    18,
                    15,
                    16,
                    16,
                    15,
                    15,
                    17,
                    14,
                    17,
                    18,
                    20,
                    18,
                    19,
                    14,
                    20,
                    20,
                    0,
                    18,
                    18,
                    17,
                    16,
                    14,
                    18,
                    15,
                    11,
                    10,
                    12,
                    13,
                    14,
                    14,
                    12,
                    14,
                    14,
                    11,
                    11,
                    6.5,
                    8,
                    13,
                    14,
                    11,
                    0,
                    8,
                    16,
                    14,
                    10,
                    15,
                    10,
                    14,
                    12,
                    15,
                    12,
                    13,
                    10,
                    9.5,
                    11,
                    12,
                    16,
                    14,
                    13,
                    14,
                    12,
                    11,
                    14.5,
                    12,
                    10,
                    8,
                    5,
                    9.5,
                    11.5,
                    12,
                    7.5,
                    10.5,
                    9.5,
                    0,
                    10.5,
                    15,
                    0,
                    8,
                    13,
                    16,
                    15,
                    14,
                    13,
                    16,
                    15,
                    17,
                    15,
                    15,
                    15,
                    20,
                    14,
                    14,
                    20,
                    19,
                    17,
                    19,
                    20,
                    18,
                    19,
                    17.5,
                    17,
                    14,
                    18,
                    18,
                    19,
                    16,
                    15,
                    17,
                    11,
                    17,
                    19,
                    18,
                    15,
                    15.5,
                    15,
                    15,
                    18,
                    18,
                    16,
                    15,
                    16,
                    18,
                    16,
                    18,
                    18,
                    17,
                    15,
                    19,
                    16,
                    15,
                    16,
                    19,
                    18,
                    15,
                    14,
                    17,
                    18,
                    15,
                    9,
                    16,
                    18.5,
                    0,
                    21,
                    17,
                    0,
                    17,
                    18,
                    19,
                    15,
                    14,
                    15,
                    16,
                    12,
                    14,
                    11,
                    12,
                    13,
                    11,
                    11,
                    11,
                    14,
                    10,
                    13,
                    14,
                    12,
                    14,
                    14,
                    16,
                    13,
                    15,
                    14,
                    13,
                    10,
                    15,
                    14,
                    15,
                    14,
                    10,
                    12,
                    13,
                    11,
                    13,
                    10,
                    13,
                    13,
                    11,
                    13,
                    16,
                    11,
                    16,
                    10,
                    10,
                    13,
                    15,
                    14,
                    12,
                    10,
                    14,
                    11,
                    12,
                    12,
                    17,
                    12,
                    15,
                    12,
                    14,
                    12,
                    13,
                    15,
                    17,
                    17,
                    17,
                    16,
                    14,
                    15,
                    15,
                    17,
                    14,
                    16,
                    14,
                    16,
                    14,
                    17,
                    16,
                    14,
                    11,
                    16,
                    14,
                    17,
                    13,
                    15,
                    17,
                    14,
                    17,
                    18,
                    15,
                    17,
                    15,
                    15,
                    16,
                    15,
                    10,
                    16,
                    17,
                    14,
                    18,
                    16,
                    18,
                    15,
                    17,
                    16,
                    18,
                    15,
                    16,
                    18.5,
                    17,
                    18,
                    17,
                    15,
                    19,
                    17,
                    19,
                    18,
                    18,
                    19,
                    19,
                    17,
                    20,
                    19,
                    18,
                    17,
                    18,
                    17,
                    16,
                    18,
                    12,
                    15,
                    15,
                    18,
                    16,
                    15,
                    17,
                    11,
                    20,
                    16,
                    18,
                    15,
                    16,
                    14,
                    16,
                    12,
                    13,
                    14,
                    18,
                    17,
                    13,
                    16,
                    15,
                    18,
                    16,
                    16,
                    15,
                    17,
                    17,
                    11,
                    12.5,
                    13,
                    15,
                    15,
                    17,
                    15,
                    11,
                    12,
                    14,
                    16,
                    14,
                    15,
                    16,
                    15,
                    8,
                    15,
                    18,
                    10,
                    10,
                    10,
                    18,
                    13,
                    16,
                    12,
                    13,
                    14,
                    11,
                    15,
                    14,
                    15,
                    11,
                    10,
                    10,
                    14,
                    10,
                    15,
                    15,
                    10,
                    10,
                    15,
                    10,
                    11,
                    12,
                    15,
                    13,
                    15,
                    13,
                    15,
                    15,
                    15,
                    14,
                    10,
                    13,
                    13,
                    10,
                    14,
                    13,
                    16,
                    15,
                    13,
                    15,
                    15,
                    12,
                    18,
                    12,
                    17,
                    15,
                    13,
                    14,
                    18,
                    19,
                    18,
                    18,
                    12,
                    13,
                    16,
                    18,
                    15,
                    14,
                    11,
                    12,
                    18,
                    15,
                    19,
                    15,
                    15,
                    13,
                    16,
                    15,
                    12,
                    12,
                    19,
                    18,
                    14,
                    14,
                    19,
                    18,
                    18,
                    14,
                    17,
                    17,
                    14,
                    10,
                    13,
                    2,
                    14,
                    13,
                    14,
                    12,
                    14,
                    14,
                    10,
                    13,
                    15,
                    10,
                    15,
                    14,
                    12,
                    17,
                    19,
                    19,
                    19,
                    16,
                    13,
                    14,
                    10,
                    13,
                    14,
                    11,
                    14,
                    18,
                    16,
                    15,
                    19,
                    11,
                    9,
                    19,
                    16,
                    20,
                    18,
                    20,
                    19,
                    19,
                    18,
                    11,
                    17,
                    19,
                    19,
                    18,
                    17,
                    17,
                    19,
                    22,
                    18,
                    0,
                    19,
                    19,
                    16,
                    20,
                    21,
                    19,
                    22,
                    24,
                    17,
                    15,
                    19,
                    19,
                    18,
                    18,
                    20,
                    20,
                    18,
                    18,
                    20,
                    16,
                    19,
                    20,
                    18,
                    15,
                    19,
                    18,
                    20,
                    16,
                    19,
                    18,
                    19,
                    19,
                    18,
                    18,
                    18,
                    20,
                    7,
                    18,
                    17,
                    19,
                    21,
                    17,
                    18,
                    18,
                    16,
                    19,
                    16,
                    18,
                    18,
                    19,
                    16,
                    7,
                    18,
                    20,
                    19,
                    20,
                    19,
                    19,
                    20,
                    19,
                    17.5,
                    17,
                    21,
                    16,
                    6.8,
                    21,
                    19,
                    18,
                    21,
                    21,
                    17,
                    18,
                    20,
                    13,
                    17.5,
                    19,
                    18,
                    18,
                    19
                  ],
                  "xaxis": "x",
                  "yaxis": "y"
                }
              ],
              "layout": {
                "barmode": "relative",
                "legend": {
                  "tracegroupgap": 0
                },
                "margin": {
                  "t": 60
                },
                "template": {
                  "data": {
                    "bar": [
                      {
                        "error_x": {
                          "color": "#2a3f5f"
                        },
                        "error_y": {
                          "color": "#2a3f5f"
                        },
                        "marker": {
                          "line": {
                            "color": "#E5ECF6",
                            "width": 0.5
                          },
                          "pattern": {
                            "fillmode": "overlay",
                            "size": 10,
                            "solidity": 0.2
                          }
                        },
                        "type": "bar"
                      }
                    ],
                    "barpolar": [
                      {
                        "marker": {
                          "line": {
                            "color": "#E5ECF6",
                            "width": 0.5
                          },
                          "pattern": {
                            "fillmode": "overlay",
                            "size": 10,
                            "solidity": 0.2
                          }
                        },
                        "type": "barpolar"
                      }
                    ],
                    "carpet": [
                      {
                        "aaxis": {
                          "endlinecolor": "#2a3f5f",
                          "gridcolor": "white",
                          "linecolor": "white",
                          "minorgridcolor": "white",
                          "startlinecolor": "#2a3f5f"
                        },
                        "baxis": {
                          "endlinecolor": "#2a3f5f",
                          "gridcolor": "white",
                          "linecolor": "white",
                          "minorgridcolor": "white",
                          "startlinecolor": "#2a3f5f"
                        },
                        "type": "carpet"
                      }
                    ],
                    "choropleth": [
                      {
                        "colorbar": {
                          "outlinewidth": 0,
                          "ticks": ""
                        },
                        "type": "choropleth"
                      }
                    ],
                    "contour": [
                      {
                        "colorbar": {
                          "outlinewidth": 0,
                          "ticks": ""
                        },
                        "colorscale": [
                          [
                            0,
                            "#0d0887"
                          ],
                          [
                            0.1111111111111111,
                            "#46039f"
                          ],
                          [
                            0.2222222222222222,
                            "#7201a8"
                          ],
                          [
                            0.3333333333333333,
                            "#9c179e"
                          ],
                          [
                            0.4444444444444444,
                            "#bd3786"
                          ],
                          [
                            0.5555555555555556,
                            "#d8576b"
                          ],
                          [
                            0.6666666666666666,
                            "#ed7953"
                          ],
                          [
                            0.7777777777777778,
                            "#fb9f3a"
                          ],
                          [
                            0.8888888888888888,
                            "#fdca26"
                          ],
                          [
                            1,
                            "#f0f921"
                          ]
                        ],
                        "type": "contour"
                      }
                    ],
                    "contourcarpet": [
                      {
                        "colorbar": {
                          "outlinewidth": 0,
                          "ticks": ""
                        },
                        "type": "contourcarpet"
                      }
                    ],
                    "heatmap": [
                      {
                        "colorbar": {
                          "outlinewidth": 0,
                          "ticks": ""
                        },
                        "colorscale": [
                          [
                            0,
                            "#0d0887"
                          ],
                          [
                            0.1111111111111111,
                            "#46039f"
                          ],
                          [
                            0.2222222222222222,
                            "#7201a8"
                          ],
                          [
                            0.3333333333333333,
                            "#9c179e"
                          ],
                          [
                            0.4444444444444444,
                            "#bd3786"
                          ],
                          [
                            0.5555555555555556,
                            "#d8576b"
                          ],
                          [
                            0.6666666666666666,
                            "#ed7953"
                          ],
                          [
                            0.7777777777777778,
                            "#fb9f3a"
                          ],
                          [
                            0.8888888888888888,
                            "#fdca26"
                          ],
                          [
                            1,
                            "#f0f921"
                          ]
                        ],
                        "type": "heatmap"
                      }
                    ],
                    "heatmapgl": [
                      {
                        "colorbar": {
                          "outlinewidth": 0,
                          "ticks": ""
                        },
                        "colorscale": [
                          [
                            0,
                            "#0d0887"
                          ],
                          [
                            0.1111111111111111,
                            "#46039f"
                          ],
                          [
                            0.2222222222222222,
                            "#7201a8"
                          ],
                          [
                            0.3333333333333333,
                            "#9c179e"
                          ],
                          [
                            0.4444444444444444,
                            "#bd3786"
                          ],
                          [
                            0.5555555555555556,
                            "#d8576b"
                          ],
                          [
                            0.6666666666666666,
                            "#ed7953"
                          ],
                          [
                            0.7777777777777778,
                            "#fb9f3a"
                          ],
                          [
                            0.8888888888888888,
                            "#fdca26"
                          ],
                          [
                            1,
                            "#f0f921"
                          ]
                        ],
                        "type": "heatmapgl"
                      }
                    ],
                    "histogram": [
                      {
                        "marker": {
                          "pattern": {
                            "fillmode": "overlay",
                            "size": 10,
                            "solidity": 0.2
                          }
                        },
                        "type": "histogram"
                      }
                    ],
                    "histogram2d": [
                      {
                        "colorbar": {
                          "outlinewidth": 0,
                          "ticks": ""
                        },
                        "colorscale": [
                          [
                            0,
                            "#0d0887"
                          ],
                          [
                            0.1111111111111111,
                            "#46039f"
                          ],
                          [
                            0.2222222222222222,
                            "#7201a8"
                          ],
                          [
                            0.3333333333333333,
                            "#9c179e"
                          ],
                          [
                            0.4444444444444444,
                            "#bd3786"
                          ],
                          [
                            0.5555555555555556,
                            "#d8576b"
                          ],
                          [
                            0.6666666666666666,
                            "#ed7953"
                          ],
                          [
                            0.7777777777777778,
                            "#fb9f3a"
                          ],
                          [
                            0.8888888888888888,
                            "#fdca26"
                          ],
                          [
                            1,
                            "#f0f921"
                          ]
                        ],
                        "type": "histogram2d"
                      }
                    ],
                    "histogram2dcontour": [
                      {
                        "colorbar": {
                          "outlinewidth": 0,
                          "ticks": ""
                        },
                        "colorscale": [
                          [
                            0,
                            "#0d0887"
                          ],
                          [
                            0.1111111111111111,
                            "#46039f"
                          ],
                          [
                            0.2222222222222222,
                            "#7201a8"
                          ],
                          [
                            0.3333333333333333,
                            "#9c179e"
                          ],
                          [
                            0.4444444444444444,
                            "#bd3786"
                          ],
                          [
                            0.5555555555555556,
                            "#d8576b"
                          ],
                          [
                            0.6666666666666666,
                            "#ed7953"
                          ],
                          [
                            0.7777777777777778,
                            "#fb9f3a"
                          ],
                          [
                            0.8888888888888888,
                            "#fdca26"
                          ],
                          [
                            1,
                            "#f0f921"
                          ]
                        ],
                        "type": "histogram2dcontour"
                      }
                    ],
                    "mesh3d": [
                      {
                        "colorbar": {
                          "outlinewidth": 0,
                          "ticks": ""
                        },
                        "type": "mesh3d"
                      }
                    ],
                    "parcoords": [
                      {
                        "line": {
                          "colorbar": {
                            "outlinewidth": 0,
                            "ticks": ""
                          }
                        },
                        "type": "parcoords"
                      }
                    ],
                    "pie": [
                      {
                        "automargin": true,
                        "type": "pie"
                      }
                    ],
                    "scatter": [
                      {
                        "fillpattern": {
                          "fillmode": "overlay",
                          "size": 10,
                          "solidity": 0.2
                        },
                        "type": "scatter"
                      }
                    ],
                    "scatter3d": [
                      {
                        "line": {
                          "colorbar": {
                            "outlinewidth": 0,
                            "ticks": ""
                          }
                        },
                        "marker": {
                          "colorbar": {
                            "outlinewidth": 0,
                            "ticks": ""
                          }
                        },
                        "type": "scatter3d"
                      }
                    ],
                    "scattercarpet": [
                      {
                        "marker": {
                          "colorbar": {
                            "outlinewidth": 0,
                            "ticks": ""
                          }
                        },
                        "type": "scattercarpet"
                      }
                    ],
                    "scattergeo": [
                      {
                        "marker": {
                          "colorbar": {
                            "outlinewidth": 0,
                            "ticks": ""
                          }
                        },
                        "type": "scattergeo"
                      }
                    ],
                    "scattergl": [
                      {
                        "marker": {
                          "colorbar": {
                            "outlinewidth": 0,
                            "ticks": ""
                          }
                        },
                        "type": "scattergl"
                      }
                    ],
                    "scattermapbox": [
                      {
                        "marker": {
                          "colorbar": {
                            "outlinewidth": 0,
                            "ticks": ""
                          }
                        },
                        "type": "scattermapbox"
                      }
                    ],
                    "scatterpolar": [
                      {
                        "marker": {
                          "colorbar": {
                            "outlinewidth": 0,
                            "ticks": ""
                          }
                        },
                        "type": "scatterpolar"
                      }
                    ],
                    "scatterpolargl": [
                      {
                        "marker": {
                          "colorbar": {
                            "outlinewidth": 0,
                            "ticks": ""
                          }
                        },
                        "type": "scatterpolargl"
                      }
                    ],
                    "scatterternary": [
                      {
                        "marker": {
                          "colorbar": {
                            "outlinewidth": 0,
                            "ticks": ""
                          }
                        },
                        "type": "scatterternary"
                      }
                    ],
                    "surface": [
                      {
                        "colorbar": {
                          "outlinewidth": 0,
                          "ticks": ""
                        },
                        "colorscale": [
                          [
                            0,
                            "#0d0887"
                          ],
                          [
                            0.1111111111111111,
                            "#46039f"
                          ],
                          [
                            0.2222222222222222,
                            "#7201a8"
                          ],
                          [
                            0.3333333333333333,
                            "#9c179e"
                          ],
                          [
                            0.4444444444444444,
                            "#bd3786"
                          ],
                          [
                            0.5555555555555556,
                            "#d8576b"
                          ],
                          [
                            0.6666666666666666,
                            "#ed7953"
                          ],
                          [
                            0.7777777777777778,
                            "#fb9f3a"
                          ],
                          [
                            0.8888888888888888,
                            "#fdca26"
                          ],
                          [
                            1,
                            "#f0f921"
                          ]
                        ],
                        "type": "surface"
                      }
                    ],
                    "table": [
                      {
                        "cells": {
                          "fill": {
                            "color": "#EBF0F8"
                          },
                          "line": {
                            "color": "white"
                          }
                        },
                        "header": {
                          "fill": {
                            "color": "#C8D4E3"
                          },
                          "line": {
                            "color": "white"
                          }
                        },
                        "type": "table"
                      }
                    ]
                  },
                  "layout": {
                    "annotationdefaults": {
                      "arrowcolor": "#2a3f5f",
                      "arrowhead": 0,
                      "arrowwidth": 1
                    },
                    "autotypenumbers": "strict",
                    "coloraxis": {
                      "colorbar": {
                        "outlinewidth": 0,
                        "ticks": ""
                      }
                    },
                    "colorscale": {
                      "diverging": [
                        [
                          0,
                          "#8e0152"
                        ],
                        [
                          0.1,
                          "#c51b7d"
                        ],
                        [
                          0.2,
                          "#de77ae"
                        ],
                        [
                          0.3,
                          "#f1b6da"
                        ],
                        [
                          0.4,
                          "#fde0ef"
                        ],
                        [
                          0.5,
                          "#f7f7f7"
                        ],
                        [
                          0.6,
                          "#e6f5d0"
                        ],
                        [
                          0.7,
                          "#b8e186"
                        ],
                        [
                          0.8,
                          "#7fbc41"
                        ],
                        [
                          0.9,
                          "#4d9221"
                        ],
                        [
                          1,
                          "#276419"
                        ]
                      ],
                      "sequential": [
                        [
                          0,
                          "#0d0887"
                        ],
                        [
                          0.1111111111111111,
                          "#46039f"
                        ],
                        [
                          0.2222222222222222,
                          "#7201a8"
                        ],
                        [
                          0.3333333333333333,
                          "#9c179e"
                        ],
                        [
                          0.4444444444444444,
                          "#bd3786"
                        ],
                        [
                          0.5555555555555556,
                          "#d8576b"
                        ],
                        [
                          0.6666666666666666,
                          "#ed7953"
                        ],
                        [
                          0.7777777777777778,
                          "#fb9f3a"
                        ],
                        [
                          0.8888888888888888,
                          "#fdca26"
                        ],
                        [
                          1,
                          "#f0f921"
                        ]
                      ],
                      "sequentialminus": [
                        [
                          0,
                          "#0d0887"
                        ],
                        [
                          0.1111111111111111,
                          "#46039f"
                        ],
                        [
                          0.2222222222222222,
                          "#7201a8"
                        ],
                        [
                          0.3333333333333333,
                          "#9c179e"
                        ],
                        [
                          0.4444444444444444,
                          "#bd3786"
                        ],
                        [
                          0.5555555555555556,
                          "#d8576b"
                        ],
                        [
                          0.6666666666666666,
                          "#ed7953"
                        ],
                        [
                          0.7777777777777778,
                          "#fb9f3a"
                        ],
                        [
                          0.8888888888888888,
                          "#fdca26"
                        ],
                        [
                          1,
                          "#f0f921"
                        ]
                      ]
                    },
                    "colorway": [
                      "#636efa",
                      "#EF553B",
                      "#00cc96",
                      "#ab63fa",
                      "#FFA15A",
                      "#19d3f3",
                      "#FF6692",
                      "#B6E880",
                      "#FF97FF",
                      "#FECB52"
                    ],
                    "font": {
                      "color": "#2a3f5f"
                    },
                    "geo": {
                      "bgcolor": "white",
                      "lakecolor": "white",
                      "landcolor": "#E5ECF6",
                      "showlakes": true,
                      "showland": true,
                      "subunitcolor": "white"
                    },
                    "hoverlabel": {
                      "align": "left"
                    },
                    "hovermode": "closest",
                    "mapbox": {
                      "style": "light"
                    },
                    "paper_bgcolor": "white",
                    "plot_bgcolor": "#E5ECF6",
                    "polar": {
                      "angularaxis": {
                        "gridcolor": "white",
                        "linecolor": "white",
                        "ticks": ""
                      },
                      "bgcolor": "#E5ECF6",
                      "radialaxis": {
                        "gridcolor": "white",
                        "linecolor": "white",
                        "ticks": ""
                      }
                    },
                    "scene": {
                      "xaxis": {
                        "backgroundcolor": "#E5ECF6",
                        "gridcolor": "white",
                        "gridwidth": 2,
                        "linecolor": "white",
                        "showbackground": true,
                        "ticks": "",
                        "zerolinecolor": "white"
                      },
                      "yaxis": {
                        "backgroundcolor": "#E5ECF6",
                        "gridcolor": "white",
                        "gridwidth": 2,
                        "linecolor": "white",
                        "showbackground": true,
                        "ticks": "",
                        "zerolinecolor": "white"
                      },
                      "zaxis": {
                        "backgroundcolor": "#E5ECF6",
                        "gridcolor": "white",
                        "gridwidth": 2,
                        "linecolor": "white",
                        "showbackground": true,
                        "ticks": "",
                        "zerolinecolor": "white"
                      }
                    },
                    "shapedefaults": {
                      "line": {
                        "color": "#2a3f5f"
                      }
                    },
                    "ternary": {
                      "aaxis": {
                        "gridcolor": "white",
                        "linecolor": "white",
                        "ticks": ""
                      },
                      "baxis": {
                        "gridcolor": "white",
                        "linecolor": "white",
                        "ticks": ""
                      },
                      "bgcolor": "#E5ECF6",
                      "caxis": {
                        "gridcolor": "white",
                        "linecolor": "white",
                        "ticks": ""
                      }
                    },
                    "title": {
                      "x": 0.05
                    },
                    "xaxis": {
                      "automargin": true,
                      "gridcolor": "white",
                      "linecolor": "white",
                      "ticks": "",
                      "title": {
                        "standoff": 15
                      },
                      "zerolinecolor": "white",
                      "zerolinewidth": 2
                    },
                    "yaxis": {
                      "automargin": true,
                      "gridcolor": "white",
                      "linecolor": "white",
                      "ticks": "",
                      "title": {
                        "standoff": 15
                      },
                      "zerolinecolor": "white",
                      "zerolinewidth": 2
                    }
                  }
                },
                "xaxis": {
                  "anchor": "y",
                  "domain": [
                    0,
                    1
                  ],
                  "title": {
                    "text": "prom-tam-foliculos-ovario-izq-mm"
                  }
                },
                "yaxis": {
                  "anchor": "x",
                  "domain": [
                    0,
                    1
                  ],
                  "title": {
                    "text": "count"
                  }
                }
              }
            }
          },
          "metadata": {},
          "output_type": "display_data"
        }
      ],
      "source": [
        "#Histograma de variable determinada para remover outliers\n",
        "figura4 = px.histogram(df, x='prom-tam-foliculos-ovario-izq-mm', nbins=60)\n",
        "figura4.show()"
      ]
    },
    {
      "cell_type": "code",
      "execution_count": 83,
      "metadata": {},
      "outputs": [
        {
          "data": {
            "application/vnd.plotly.v1+json": {
              "config": {
                "plotlyServerURL": "https://plot.ly"
              },
              "data": [
                {
                  "alignmentgroup": "True",
                  "bingroup": "x",
                  "hovertemplate": "prom-tam-foliculos-ovario-der-mm=%{x}<br>count=%{y}<extra></extra>",
                  "legendgroup": "",
                  "marker": {
                    "color": "#636efa",
                    "pattern": {
                      "shape": ""
                    }
                  },
                  "name": "",
                  "nbinsx": 60,
                  "offsetgroup": "",
                  "orientation": "v",
                  "showlegend": false,
                  "type": "histogram",
                  "x": [
                    18,
                    14,
                    20,
                    14,
                    14,
                    20,
                    16,
                    18,
                    17,
                    17,
                    20,
                    19,
                    21,
                    17,
                    21,
                    20,
                    20,
                    18,
                    17,
                    17,
                    19,
                    17,
                    17,
                    18,
                    17,
                    17,
                    12,
                    11,
                    17,
                    14,
                    14,
                    13,
                    13,
                    12,
                    19,
                    12,
                    13,
                    8.5,
                    7,
                    12,
                    14,
                    12,
                    12,
                    8,
                    15,
                    13,
                    12,
                    18,
                    15,
                    13,
                    13,
                    13,
                    11,
                    14,
                    11,
                    11,
                    13,
                    13,
                    17,
                    15,
                    14,
                    13,
                    13.5,
                    11,
                    14,
                    14,
                    12,
                    5,
                    8.5,
                    7,
                    4.7,
                    6,
                    4.5,
                    6,
                    6.2,
                    5.8,
                    10.5,
                    12,
                    9,
                    9,
                    15,
                    15,
                    17,
                    18,
                    15,
                    13,
                    13,
                    18,
                    16,
                    16,
                    7,
                    18,
                    15,
                    15,
                    19,
                    19,
                    18,
                    16,
                    18,
                    18,
                    20,
                    18,
                    9,
                    0,
                    20,
                    17.5,
                    16,
                    14,
                    16,
                    21,
                    10,
                    19,
                    20,
                    21,
                    14,
                    15,
                    14,
                    17,
                    20,
                    20,
                    14,
                    18,
                    15,
                    17,
                    18,
                    17,
                    18,
                    15,
                    9,
                    12,
                    18,
                    14,
                    17,
                    18,
                    17,
                    17,
                    13,
                    18,
                    15,
                    13,
                    18,
                    18,
                    16,
                    19,
                    18,
                    18,
                    18,
                    18,
                    16,
                    19,
                    18,
                    18,
                    16,
                    19,
                    14,
                    16,
                    13,
                    12,
                    16,
                    12,
                    13,
                    12,
                    16,
                    11,
                    14,
                    13,
                    12,
                    15,
                    16,
                    15,
                    15,
                    16,
                    12,
                    14,
                    11,
                    16,
                    12,
                    14,
                    16,
                    11,
                    11,
                    14,
                    12,
                    12,
                    13,
                    14,
                    12,
                    12,
                    13,
                    15,
                    12,
                    17,
                    13,
                    11,
                    12,
                    13,
                    14,
                    14,
                    14,
                    17,
                    14,
                    12,
                    14,
                    15,
                    15,
                    19,
                    14,
                    12,
                    13,
                    15,
                    18,
                    14,
                    16,
                    14,
                    14,
                    14,
                    13,
                    13,
                    16,
                    15,
                    12,
                    16,
                    15,
                    18,
                    16,
                    15,
                    17,
                    12,
                    12,
                    13,
                    10,
                    10,
                    18,
                    15,
                    16,
                    18,
                    20,
                    17,
                    19,
                    18,
                    18,
                    19,
                    18,
                    15,
                    13,
                    18,
                    16,
                    19,
                    19,
                    17,
                    17,
                    15,
                    19,
                    14,
                    18,
                    17,
                    19,
                    18,
                    19,
                    18,
                    17,
                    20,
                    13,
                    18,
                    18,
                    17,
                    18,
                    19,
                    19,
                    16,
                    18,
                    18,
                    18,
                    16,
                    17,
                    18,
                    16,
                    14,
                    18,
                    13,
                    15,
                    19,
                    17,
                    16,
                    16,
                    17,
                    14,
                    14,
                    18,
                    17,
                    15,
                    17,
                    16,
                    15,
                    16,
                    19,
                    15,
                    17,
                    12,
                    18,
                    15,
                    13,
                    14,
                    14,
                    15,
                    16,
                    11.5,
                    12,
                    13,
                    16,
                    11,
                    18,
                    18,
                    15,
                    10,
                    18,
                    17,
                    18,
                    18,
                    17,
                    17,
                    12,
                    18,
                    19,
                    16,
                    15,
                    15,
                    13,
                    17,
                    17,
                    18,
                    10,
                    12,
                    10,
                    11,
                    15,
                    12,
                    9,
                    10,
                    12,
                    11,
                    11,
                    12,
                    17,
                    11,
                    10,
                    17,
                    11,
                    15,
                    15,
                    12,
                    15,
                    18,
                    15,
                    18,
                    18,
                    15,
                    16,
                    15,
                    11,
                    14,
                    10,
                    13,
                    13,
                    15,
                    14,
                    15,
                    14,
                    14,
                    15,
                    20,
                    17,
                    19,
                    15,
                    14,
                    12,
                    11,
                    15,
                    18,
                    22,
                    15,
                    15,
                    12,
                    20,
                    17,
                    11,
                    12,
                    15,
                    12,
                    12,
                    15,
                    11,
                    13,
                    15,
                    15,
                    14,
                    15,
                    11,
                    17,
                    19,
                    16,
                    16,
                    17,
                    20,
                    20,
                    24,
                    20,
                    18,
                    12,
                    11,
                    15,
                    13,
                    14,
                    14,
                    14,
                    16,
                    13,
                    13,
                    15,
                    15,
                    15,
                    16,
                    15,
                    10,
                    11,
                    0.17,
                    17,
                    17,
                    15,
                    16,
                    14,
                    15,
                    13,
                    11,
                    15,
                    16,
                    13,
                    19,
                    19,
                    19,
                    14,
                    12,
                    11,
                    19,
                    17,
                    20,
                    19,
                    19,
                    18,
                    17,
                    14,
                    21,
                    18,
                    21,
                    18,
                    18,
                    17,
                    19,
                    19,
                    14,
                    19,
                    20,
                    18,
                    18,
                    18,
                    18,
                    16,
                    19,
                    17,
                    18,
                    20,
                    20,
                    18,
                    20,
                    19,
                    20,
                    17,
                    19,
                    17,
                    18,
                    21,
                    19,
                    19,
                    14,
                    17,
                    18,
                    19,
                    19,
                    19,
                    16,
                    16,
                    20,
                    18,
                    18,
                    18,
                    16,
                    16,
                    16,
                    17,
                    20,
                    18,
                    19,
                    19,
                    18,
                    16,
                    18,
                    21,
                    19,
                    19,
                    17,
                    19,
                    19,
                    18,
                    19,
                    18,
                    17,
                    16,
                    21,
                    20,
                    16,
                    19,
                    21,
                    16.5,
                    22,
                    23,
                    19,
                    12,
                    18,
                    14,
                    17,
                    12,
                    16,
                    18,
                    18,
                    19,
                    17.5,
                    10,
                    18,
                    9,
                    16,
                    18
                  ],
                  "xaxis": "x",
                  "yaxis": "y"
                }
              ],
              "layout": {
                "barmode": "relative",
                "legend": {
                  "tracegroupgap": 0
                },
                "margin": {
                  "t": 60
                },
                "template": {
                  "data": {
                    "bar": [
                      {
                        "error_x": {
                          "color": "#2a3f5f"
                        },
                        "error_y": {
                          "color": "#2a3f5f"
                        },
                        "marker": {
                          "line": {
                            "color": "#E5ECF6",
                            "width": 0.5
                          },
                          "pattern": {
                            "fillmode": "overlay",
                            "size": 10,
                            "solidity": 0.2
                          }
                        },
                        "type": "bar"
                      }
                    ],
                    "barpolar": [
                      {
                        "marker": {
                          "line": {
                            "color": "#E5ECF6",
                            "width": 0.5
                          },
                          "pattern": {
                            "fillmode": "overlay",
                            "size": 10,
                            "solidity": 0.2
                          }
                        },
                        "type": "barpolar"
                      }
                    ],
                    "carpet": [
                      {
                        "aaxis": {
                          "endlinecolor": "#2a3f5f",
                          "gridcolor": "white",
                          "linecolor": "white",
                          "minorgridcolor": "white",
                          "startlinecolor": "#2a3f5f"
                        },
                        "baxis": {
                          "endlinecolor": "#2a3f5f",
                          "gridcolor": "white",
                          "linecolor": "white",
                          "minorgridcolor": "white",
                          "startlinecolor": "#2a3f5f"
                        },
                        "type": "carpet"
                      }
                    ],
                    "choropleth": [
                      {
                        "colorbar": {
                          "outlinewidth": 0,
                          "ticks": ""
                        },
                        "type": "choropleth"
                      }
                    ],
                    "contour": [
                      {
                        "colorbar": {
                          "outlinewidth": 0,
                          "ticks": ""
                        },
                        "colorscale": [
                          [
                            0,
                            "#0d0887"
                          ],
                          [
                            0.1111111111111111,
                            "#46039f"
                          ],
                          [
                            0.2222222222222222,
                            "#7201a8"
                          ],
                          [
                            0.3333333333333333,
                            "#9c179e"
                          ],
                          [
                            0.4444444444444444,
                            "#bd3786"
                          ],
                          [
                            0.5555555555555556,
                            "#d8576b"
                          ],
                          [
                            0.6666666666666666,
                            "#ed7953"
                          ],
                          [
                            0.7777777777777778,
                            "#fb9f3a"
                          ],
                          [
                            0.8888888888888888,
                            "#fdca26"
                          ],
                          [
                            1,
                            "#f0f921"
                          ]
                        ],
                        "type": "contour"
                      }
                    ],
                    "contourcarpet": [
                      {
                        "colorbar": {
                          "outlinewidth": 0,
                          "ticks": ""
                        },
                        "type": "contourcarpet"
                      }
                    ],
                    "heatmap": [
                      {
                        "colorbar": {
                          "outlinewidth": 0,
                          "ticks": ""
                        },
                        "colorscale": [
                          [
                            0,
                            "#0d0887"
                          ],
                          [
                            0.1111111111111111,
                            "#46039f"
                          ],
                          [
                            0.2222222222222222,
                            "#7201a8"
                          ],
                          [
                            0.3333333333333333,
                            "#9c179e"
                          ],
                          [
                            0.4444444444444444,
                            "#bd3786"
                          ],
                          [
                            0.5555555555555556,
                            "#d8576b"
                          ],
                          [
                            0.6666666666666666,
                            "#ed7953"
                          ],
                          [
                            0.7777777777777778,
                            "#fb9f3a"
                          ],
                          [
                            0.8888888888888888,
                            "#fdca26"
                          ],
                          [
                            1,
                            "#f0f921"
                          ]
                        ],
                        "type": "heatmap"
                      }
                    ],
                    "heatmapgl": [
                      {
                        "colorbar": {
                          "outlinewidth": 0,
                          "ticks": ""
                        },
                        "colorscale": [
                          [
                            0,
                            "#0d0887"
                          ],
                          [
                            0.1111111111111111,
                            "#46039f"
                          ],
                          [
                            0.2222222222222222,
                            "#7201a8"
                          ],
                          [
                            0.3333333333333333,
                            "#9c179e"
                          ],
                          [
                            0.4444444444444444,
                            "#bd3786"
                          ],
                          [
                            0.5555555555555556,
                            "#d8576b"
                          ],
                          [
                            0.6666666666666666,
                            "#ed7953"
                          ],
                          [
                            0.7777777777777778,
                            "#fb9f3a"
                          ],
                          [
                            0.8888888888888888,
                            "#fdca26"
                          ],
                          [
                            1,
                            "#f0f921"
                          ]
                        ],
                        "type": "heatmapgl"
                      }
                    ],
                    "histogram": [
                      {
                        "marker": {
                          "pattern": {
                            "fillmode": "overlay",
                            "size": 10,
                            "solidity": 0.2
                          }
                        },
                        "type": "histogram"
                      }
                    ],
                    "histogram2d": [
                      {
                        "colorbar": {
                          "outlinewidth": 0,
                          "ticks": ""
                        },
                        "colorscale": [
                          [
                            0,
                            "#0d0887"
                          ],
                          [
                            0.1111111111111111,
                            "#46039f"
                          ],
                          [
                            0.2222222222222222,
                            "#7201a8"
                          ],
                          [
                            0.3333333333333333,
                            "#9c179e"
                          ],
                          [
                            0.4444444444444444,
                            "#bd3786"
                          ],
                          [
                            0.5555555555555556,
                            "#d8576b"
                          ],
                          [
                            0.6666666666666666,
                            "#ed7953"
                          ],
                          [
                            0.7777777777777778,
                            "#fb9f3a"
                          ],
                          [
                            0.8888888888888888,
                            "#fdca26"
                          ],
                          [
                            1,
                            "#f0f921"
                          ]
                        ],
                        "type": "histogram2d"
                      }
                    ],
                    "histogram2dcontour": [
                      {
                        "colorbar": {
                          "outlinewidth": 0,
                          "ticks": ""
                        },
                        "colorscale": [
                          [
                            0,
                            "#0d0887"
                          ],
                          [
                            0.1111111111111111,
                            "#46039f"
                          ],
                          [
                            0.2222222222222222,
                            "#7201a8"
                          ],
                          [
                            0.3333333333333333,
                            "#9c179e"
                          ],
                          [
                            0.4444444444444444,
                            "#bd3786"
                          ],
                          [
                            0.5555555555555556,
                            "#d8576b"
                          ],
                          [
                            0.6666666666666666,
                            "#ed7953"
                          ],
                          [
                            0.7777777777777778,
                            "#fb9f3a"
                          ],
                          [
                            0.8888888888888888,
                            "#fdca26"
                          ],
                          [
                            1,
                            "#f0f921"
                          ]
                        ],
                        "type": "histogram2dcontour"
                      }
                    ],
                    "mesh3d": [
                      {
                        "colorbar": {
                          "outlinewidth": 0,
                          "ticks": ""
                        },
                        "type": "mesh3d"
                      }
                    ],
                    "parcoords": [
                      {
                        "line": {
                          "colorbar": {
                            "outlinewidth": 0,
                            "ticks": ""
                          }
                        },
                        "type": "parcoords"
                      }
                    ],
                    "pie": [
                      {
                        "automargin": true,
                        "type": "pie"
                      }
                    ],
                    "scatter": [
                      {
                        "fillpattern": {
                          "fillmode": "overlay",
                          "size": 10,
                          "solidity": 0.2
                        },
                        "type": "scatter"
                      }
                    ],
                    "scatter3d": [
                      {
                        "line": {
                          "colorbar": {
                            "outlinewidth": 0,
                            "ticks": ""
                          }
                        },
                        "marker": {
                          "colorbar": {
                            "outlinewidth": 0,
                            "ticks": ""
                          }
                        },
                        "type": "scatter3d"
                      }
                    ],
                    "scattercarpet": [
                      {
                        "marker": {
                          "colorbar": {
                            "outlinewidth": 0,
                            "ticks": ""
                          }
                        },
                        "type": "scattercarpet"
                      }
                    ],
                    "scattergeo": [
                      {
                        "marker": {
                          "colorbar": {
                            "outlinewidth": 0,
                            "ticks": ""
                          }
                        },
                        "type": "scattergeo"
                      }
                    ],
                    "scattergl": [
                      {
                        "marker": {
                          "colorbar": {
                            "outlinewidth": 0,
                            "ticks": ""
                          }
                        },
                        "type": "scattergl"
                      }
                    ],
                    "scattermapbox": [
                      {
                        "marker": {
                          "colorbar": {
                            "outlinewidth": 0,
                            "ticks": ""
                          }
                        },
                        "type": "scattermapbox"
                      }
                    ],
                    "scatterpolar": [
                      {
                        "marker": {
                          "colorbar": {
                            "outlinewidth": 0,
                            "ticks": ""
                          }
                        },
                        "type": "scatterpolar"
                      }
                    ],
                    "scatterpolargl": [
                      {
                        "marker": {
                          "colorbar": {
                            "outlinewidth": 0,
                            "ticks": ""
                          }
                        },
                        "type": "scatterpolargl"
                      }
                    ],
                    "scatterternary": [
                      {
                        "marker": {
                          "colorbar": {
                            "outlinewidth": 0,
                            "ticks": ""
                          }
                        },
                        "type": "scatterternary"
                      }
                    ],
                    "surface": [
                      {
                        "colorbar": {
                          "outlinewidth": 0,
                          "ticks": ""
                        },
                        "colorscale": [
                          [
                            0,
                            "#0d0887"
                          ],
                          [
                            0.1111111111111111,
                            "#46039f"
                          ],
                          [
                            0.2222222222222222,
                            "#7201a8"
                          ],
                          [
                            0.3333333333333333,
                            "#9c179e"
                          ],
                          [
                            0.4444444444444444,
                            "#bd3786"
                          ],
                          [
                            0.5555555555555556,
                            "#d8576b"
                          ],
                          [
                            0.6666666666666666,
                            "#ed7953"
                          ],
                          [
                            0.7777777777777778,
                            "#fb9f3a"
                          ],
                          [
                            0.8888888888888888,
                            "#fdca26"
                          ],
                          [
                            1,
                            "#f0f921"
                          ]
                        ],
                        "type": "surface"
                      }
                    ],
                    "table": [
                      {
                        "cells": {
                          "fill": {
                            "color": "#EBF0F8"
                          },
                          "line": {
                            "color": "white"
                          }
                        },
                        "header": {
                          "fill": {
                            "color": "#C8D4E3"
                          },
                          "line": {
                            "color": "white"
                          }
                        },
                        "type": "table"
                      }
                    ]
                  },
                  "layout": {
                    "annotationdefaults": {
                      "arrowcolor": "#2a3f5f",
                      "arrowhead": 0,
                      "arrowwidth": 1
                    },
                    "autotypenumbers": "strict",
                    "coloraxis": {
                      "colorbar": {
                        "outlinewidth": 0,
                        "ticks": ""
                      }
                    },
                    "colorscale": {
                      "diverging": [
                        [
                          0,
                          "#8e0152"
                        ],
                        [
                          0.1,
                          "#c51b7d"
                        ],
                        [
                          0.2,
                          "#de77ae"
                        ],
                        [
                          0.3,
                          "#f1b6da"
                        ],
                        [
                          0.4,
                          "#fde0ef"
                        ],
                        [
                          0.5,
                          "#f7f7f7"
                        ],
                        [
                          0.6,
                          "#e6f5d0"
                        ],
                        [
                          0.7,
                          "#b8e186"
                        ],
                        [
                          0.8,
                          "#7fbc41"
                        ],
                        [
                          0.9,
                          "#4d9221"
                        ],
                        [
                          1,
                          "#276419"
                        ]
                      ],
                      "sequential": [
                        [
                          0,
                          "#0d0887"
                        ],
                        [
                          0.1111111111111111,
                          "#46039f"
                        ],
                        [
                          0.2222222222222222,
                          "#7201a8"
                        ],
                        [
                          0.3333333333333333,
                          "#9c179e"
                        ],
                        [
                          0.4444444444444444,
                          "#bd3786"
                        ],
                        [
                          0.5555555555555556,
                          "#d8576b"
                        ],
                        [
                          0.6666666666666666,
                          "#ed7953"
                        ],
                        [
                          0.7777777777777778,
                          "#fb9f3a"
                        ],
                        [
                          0.8888888888888888,
                          "#fdca26"
                        ],
                        [
                          1,
                          "#f0f921"
                        ]
                      ],
                      "sequentialminus": [
                        [
                          0,
                          "#0d0887"
                        ],
                        [
                          0.1111111111111111,
                          "#46039f"
                        ],
                        [
                          0.2222222222222222,
                          "#7201a8"
                        ],
                        [
                          0.3333333333333333,
                          "#9c179e"
                        ],
                        [
                          0.4444444444444444,
                          "#bd3786"
                        ],
                        [
                          0.5555555555555556,
                          "#d8576b"
                        ],
                        [
                          0.6666666666666666,
                          "#ed7953"
                        ],
                        [
                          0.7777777777777778,
                          "#fb9f3a"
                        ],
                        [
                          0.8888888888888888,
                          "#fdca26"
                        ],
                        [
                          1,
                          "#f0f921"
                        ]
                      ]
                    },
                    "colorway": [
                      "#636efa",
                      "#EF553B",
                      "#00cc96",
                      "#ab63fa",
                      "#FFA15A",
                      "#19d3f3",
                      "#FF6692",
                      "#B6E880",
                      "#FF97FF",
                      "#FECB52"
                    ],
                    "font": {
                      "color": "#2a3f5f"
                    },
                    "geo": {
                      "bgcolor": "white",
                      "lakecolor": "white",
                      "landcolor": "#E5ECF6",
                      "showlakes": true,
                      "showland": true,
                      "subunitcolor": "white"
                    },
                    "hoverlabel": {
                      "align": "left"
                    },
                    "hovermode": "closest",
                    "mapbox": {
                      "style": "light"
                    },
                    "paper_bgcolor": "white",
                    "plot_bgcolor": "#E5ECF6",
                    "polar": {
                      "angularaxis": {
                        "gridcolor": "white",
                        "linecolor": "white",
                        "ticks": ""
                      },
                      "bgcolor": "#E5ECF6",
                      "radialaxis": {
                        "gridcolor": "white",
                        "linecolor": "white",
                        "ticks": ""
                      }
                    },
                    "scene": {
                      "xaxis": {
                        "backgroundcolor": "#E5ECF6",
                        "gridcolor": "white",
                        "gridwidth": 2,
                        "linecolor": "white",
                        "showbackground": true,
                        "ticks": "",
                        "zerolinecolor": "white"
                      },
                      "yaxis": {
                        "backgroundcolor": "#E5ECF6",
                        "gridcolor": "white",
                        "gridwidth": 2,
                        "linecolor": "white",
                        "showbackground": true,
                        "ticks": "",
                        "zerolinecolor": "white"
                      },
                      "zaxis": {
                        "backgroundcolor": "#E5ECF6",
                        "gridcolor": "white",
                        "gridwidth": 2,
                        "linecolor": "white",
                        "showbackground": true,
                        "ticks": "",
                        "zerolinecolor": "white"
                      }
                    },
                    "shapedefaults": {
                      "line": {
                        "color": "#2a3f5f"
                      }
                    },
                    "ternary": {
                      "aaxis": {
                        "gridcolor": "white",
                        "linecolor": "white",
                        "ticks": ""
                      },
                      "baxis": {
                        "gridcolor": "white",
                        "linecolor": "white",
                        "ticks": ""
                      },
                      "bgcolor": "#E5ECF6",
                      "caxis": {
                        "gridcolor": "white",
                        "linecolor": "white",
                        "ticks": ""
                      }
                    },
                    "title": {
                      "x": 0.05
                    },
                    "xaxis": {
                      "automargin": true,
                      "gridcolor": "white",
                      "linecolor": "white",
                      "ticks": "",
                      "title": {
                        "standoff": 15
                      },
                      "zerolinecolor": "white",
                      "zerolinewidth": 2
                    },
                    "yaxis": {
                      "automargin": true,
                      "gridcolor": "white",
                      "linecolor": "white",
                      "ticks": "",
                      "title": {
                        "standoff": 15
                      },
                      "zerolinecolor": "white",
                      "zerolinewidth": 2
                    }
                  }
                },
                "xaxis": {
                  "anchor": "y",
                  "domain": [
                    0,
                    1
                  ],
                  "title": {
                    "text": "prom-tam-foliculos-ovario-der-mm"
                  }
                },
                "yaxis": {
                  "anchor": "x",
                  "domain": [
                    0,
                    1
                  ],
                  "title": {
                    "text": "count"
                  }
                }
              }
            }
          },
          "metadata": {},
          "output_type": "display_data"
        }
      ],
      "source": [
        "#Histograma de variable determinada para remover outliers\n",
        "figura5 = px.histogram(df, x='prom-tam-foliculos-ovario-der-mm', nbins=60)\n",
        "figura5.show()"
      ]
    },
    {
      "cell_type": "code",
      "execution_count": 85,
      "metadata": {},
      "outputs": [
        {
          "data": {
            "application/vnd.plotly.v1+json": {
              "config": {
                "plotlyServerURL": "https://plot.ly"
              },
              "data": [
                {
                  "alignmentgroup": "True",
                  "bingroup": "x",
                  "hovertemplate": "frecuencia-cardiaca-bpm=%{x}<br>count=%{y}<extra></extra>",
                  "legendgroup": "",
                  "marker": {
                    "color": "#636efa",
                    "pattern": {
                      "shape": ""
                    }
                  },
                  "name": "",
                  "nbinsx": 30,
                  "offsetgroup": "",
                  "orientation": "v",
                  "showlegend": false,
                  "type": "histogram",
                  "x": [
                    78,
                    74,
                    72,
                    72,
                    72,
                    78,
                    72,
                    72,
                    72,
                    80,
                    80,
                    72,
                    72,
                    74,
                    74,
                    78,
                    80,
                    72,
                    72,
                    72,
                    70,
                    72,
                    74,
                    74,
                    72,
                    80,
                    75,
                    72,
                    78,
                    78,
                    78,
                    72,
                    72,
                    72,
                    76,
                    72,
                    74,
                    70,
                    78,
                    74,
                    78,
                    72,
                    78,
                    72,
                    78,
                    70,
                    72,
                    74,
                    78,
                    72,
                    72,
                    72,
                    72,
                    70,
                    70,
                    72,
                    72,
                    72,
                    72,
                    74,
                    78,
                    78,
                    70,
                    80,
                    72,
                    70,
                    78,
                    78,
                    80,
                    80,
                    72,
                    74,
                    70,
                    72,
                    72,
                    72,
                    80,
                    72,
                    75,
                    80,
                    72,
                    72,
                    78,
                    72,
                    74,
                    70,
                    74,
                    80,
                    74,
                    72,
                    78,
                    74,
                    78,
                    72,
                    70,
                    80,
                    78,
                    78,
                    72,
                    78,
                    72,
                    78,
                    78,
                    72,
                    72,
                    74,
                    72,
                    72,
                    72,
                    74,
                    72,
                    72,
                    72,
                    72,
                    72,
                    72,
                    80,
                    74,
                    78,
                    72,
                    76,
                    70,
                    72,
                    74,
                    78,
                    72,
                    72,
                    72,
                    70,
                    72,
                    72,
                    72,
                    70,
                    70,
                    72,
                    72,
                    78,
                    72,
                    70,
                    72,
                    72,
                    74,
                    72,
                    70,
                    80,
                    74,
                    72,
                    70,
                    72,
                    80,
                    78,
                    76,
                    72,
                    74,
                    72,
                    76,
                    72,
                    73,
                    74,
                    73,
                    72,
                    75,
                    73,
                    72,
                    74,
                    73,
                    74,
                    73,
                    74,
                    72,
                    73,
                    74,
                    75,
                    72,
                    72,
                    74,
                    73,
                    74,
                    74,
                    72,
                    74,
                    73,
                    73,
                    72,
                    73,
                    72,
                    74,
                    75,
                    72,
                    74,
                    73,
                    74,
                    72,
                    72,
                    74,
                    72,
                    73,
                    72,
                    72,
                    74,
                    73,
                    72,
                    74,
                    73,
                    72,
                    73,
                    75,
                    73,
                    72,
                    74,
                    72,
                    78,
                    82,
                    72,
                    72,
                    74,
                    72,
                    72,
                    72,
                    78,
                    72,
                    80,
                    78,
                    18,
                    70,
                    70,
                    72,
                    72,
                    74,
                    72,
                    72,
                    72,
                    72,
                    72,
                    72,
                    72,
                    72,
                    72,
                    72,
                    72,
                    72,
                    72,
                    72,
                    72,
                    72,
                    73,
                    74,
                    72,
                    72,
                    72,
                    72,
                    72,
                    72,
                    72,
                    72,
                    72,
                    74,
                    72,
                    72,
                    74,
                    72,
                    70,
                    72,
                    74,
                    74,
                    72,
                    72,
                    72,
                    72,
                    70,
                    72,
                    72,
                    72,
                    78,
                    72,
                    74,
                    72,
                    72,
                    72,
                    72,
                    72,
                    70,
                    74,
                    72,
                    72,
                    72,
                    72,
                    78,
                    78,
                    72,
                    70,
                    74,
                    72,
                    70,
                    72,
                    72,
                    13,
                    72,
                    74,
                    72,
                    72,
                    72,
                    72,
                    72,
                    70,
                    74,
                    72,
                    72,
                    72,
                    72,
                    72,
                    72,
                    74,
                    72,
                    78,
                    72,
                    72,
                    74,
                    72,
                    72,
                    72,
                    72,
                    72,
                    78,
                    74,
                    80,
                    72,
                    74,
                    70,
                    72,
                    72,
                    70,
                    72,
                    80,
                    74,
                    78,
                    78,
                    78,
                    78,
                    78,
                    78,
                    75,
                    78,
                    78,
                    78,
                    78,
                    74,
                    72,
                    72,
                    72,
                    72,
                    78,
                    72,
                    74,
                    80,
                    72,
                    72,
                    74,
                    78,
                    70,
                    72,
                    78,
                    74,
                    72,
                    72,
                    72,
                    72,
                    72,
                    74,
                    74,
                    72,
                    72,
                    72,
                    70,
                    74,
                    72,
                    72,
                    74,
                    72,
                    74,
                    72,
                    82,
                    72,
                    72,
                    72,
                    72,
                    72,
                    74,
                    74,
                    72,
                    74,
                    72,
                    72,
                    74,
                    70,
                    72,
                    72,
                    74,
                    72,
                    80,
                    74,
                    72,
                    74,
                    78,
                    72,
                    74,
                    72,
                    74,
                    72,
                    74,
                    72,
                    78,
                    78,
                    74,
                    74,
                    80,
                    74,
                    72,
                    74,
                    72,
                    74,
                    78,
                    74,
                    74,
                    72,
                    74,
                    74,
                    72,
                    74,
                    72,
                    72,
                    72,
                    72,
                    72,
                    72,
                    72,
                    70,
                    74,
                    72,
                    72,
                    70,
                    74,
                    72,
                    78,
                    82,
                    72,
                    72,
                    72,
                    74,
                    72,
                    80,
                    72,
                    74,
                    72,
                    72,
                    70,
                    78,
                    80,
                    72,
                    74,
                    72,
                    72,
                    78,
                    78,
                    72,
                    70,
                    70,
                    72,
                    72,
                    74,
                    80,
                    80,
                    72,
                    78,
                    70,
                    72,
                    78,
                    74,
                    72,
                    72,
                    70,
                    70,
                    72,
                    72,
                    72,
                    80,
                    74,
                    74,
                    72,
                    72,
                    80,
                    72,
                    72,
                    72,
                    80,
                    72,
                    70,
                    72,
                    72,
                    74,
                    72,
                    72,
                    80,
                    70,
                    72,
                    74,
                    78,
                    74,
                    78,
                    74,
                    70,
                    72,
                    72,
                    72,
                    72,
                    72,
                    72,
                    72,
                    72,
                    72,
                    72,
                    74,
                    72,
                    72,
                    72,
                    72,
                    74,
                    74,
                    72,
                    70,
                    72,
                    72,
                    72,
                    70,
                    70,
                    70,
                    72,
                    72,
                    74,
                    74,
                    80
                  ],
                  "xaxis": "x",
                  "yaxis": "y"
                }
              ],
              "layout": {
                "barmode": "relative",
                "legend": {
                  "tracegroupgap": 0
                },
                "margin": {
                  "t": 60
                },
                "template": {
                  "data": {
                    "bar": [
                      {
                        "error_x": {
                          "color": "#2a3f5f"
                        },
                        "error_y": {
                          "color": "#2a3f5f"
                        },
                        "marker": {
                          "line": {
                            "color": "#E5ECF6",
                            "width": 0.5
                          },
                          "pattern": {
                            "fillmode": "overlay",
                            "size": 10,
                            "solidity": 0.2
                          }
                        },
                        "type": "bar"
                      }
                    ],
                    "barpolar": [
                      {
                        "marker": {
                          "line": {
                            "color": "#E5ECF6",
                            "width": 0.5
                          },
                          "pattern": {
                            "fillmode": "overlay",
                            "size": 10,
                            "solidity": 0.2
                          }
                        },
                        "type": "barpolar"
                      }
                    ],
                    "carpet": [
                      {
                        "aaxis": {
                          "endlinecolor": "#2a3f5f",
                          "gridcolor": "white",
                          "linecolor": "white",
                          "minorgridcolor": "white",
                          "startlinecolor": "#2a3f5f"
                        },
                        "baxis": {
                          "endlinecolor": "#2a3f5f",
                          "gridcolor": "white",
                          "linecolor": "white",
                          "minorgridcolor": "white",
                          "startlinecolor": "#2a3f5f"
                        },
                        "type": "carpet"
                      }
                    ],
                    "choropleth": [
                      {
                        "colorbar": {
                          "outlinewidth": 0,
                          "ticks": ""
                        },
                        "type": "choropleth"
                      }
                    ],
                    "contour": [
                      {
                        "colorbar": {
                          "outlinewidth": 0,
                          "ticks": ""
                        },
                        "colorscale": [
                          [
                            0,
                            "#0d0887"
                          ],
                          [
                            0.1111111111111111,
                            "#46039f"
                          ],
                          [
                            0.2222222222222222,
                            "#7201a8"
                          ],
                          [
                            0.3333333333333333,
                            "#9c179e"
                          ],
                          [
                            0.4444444444444444,
                            "#bd3786"
                          ],
                          [
                            0.5555555555555556,
                            "#d8576b"
                          ],
                          [
                            0.6666666666666666,
                            "#ed7953"
                          ],
                          [
                            0.7777777777777778,
                            "#fb9f3a"
                          ],
                          [
                            0.8888888888888888,
                            "#fdca26"
                          ],
                          [
                            1,
                            "#f0f921"
                          ]
                        ],
                        "type": "contour"
                      }
                    ],
                    "contourcarpet": [
                      {
                        "colorbar": {
                          "outlinewidth": 0,
                          "ticks": ""
                        },
                        "type": "contourcarpet"
                      }
                    ],
                    "heatmap": [
                      {
                        "colorbar": {
                          "outlinewidth": 0,
                          "ticks": ""
                        },
                        "colorscale": [
                          [
                            0,
                            "#0d0887"
                          ],
                          [
                            0.1111111111111111,
                            "#46039f"
                          ],
                          [
                            0.2222222222222222,
                            "#7201a8"
                          ],
                          [
                            0.3333333333333333,
                            "#9c179e"
                          ],
                          [
                            0.4444444444444444,
                            "#bd3786"
                          ],
                          [
                            0.5555555555555556,
                            "#d8576b"
                          ],
                          [
                            0.6666666666666666,
                            "#ed7953"
                          ],
                          [
                            0.7777777777777778,
                            "#fb9f3a"
                          ],
                          [
                            0.8888888888888888,
                            "#fdca26"
                          ],
                          [
                            1,
                            "#f0f921"
                          ]
                        ],
                        "type": "heatmap"
                      }
                    ],
                    "heatmapgl": [
                      {
                        "colorbar": {
                          "outlinewidth": 0,
                          "ticks": ""
                        },
                        "colorscale": [
                          [
                            0,
                            "#0d0887"
                          ],
                          [
                            0.1111111111111111,
                            "#46039f"
                          ],
                          [
                            0.2222222222222222,
                            "#7201a8"
                          ],
                          [
                            0.3333333333333333,
                            "#9c179e"
                          ],
                          [
                            0.4444444444444444,
                            "#bd3786"
                          ],
                          [
                            0.5555555555555556,
                            "#d8576b"
                          ],
                          [
                            0.6666666666666666,
                            "#ed7953"
                          ],
                          [
                            0.7777777777777778,
                            "#fb9f3a"
                          ],
                          [
                            0.8888888888888888,
                            "#fdca26"
                          ],
                          [
                            1,
                            "#f0f921"
                          ]
                        ],
                        "type": "heatmapgl"
                      }
                    ],
                    "histogram": [
                      {
                        "marker": {
                          "pattern": {
                            "fillmode": "overlay",
                            "size": 10,
                            "solidity": 0.2
                          }
                        },
                        "type": "histogram"
                      }
                    ],
                    "histogram2d": [
                      {
                        "colorbar": {
                          "outlinewidth": 0,
                          "ticks": ""
                        },
                        "colorscale": [
                          [
                            0,
                            "#0d0887"
                          ],
                          [
                            0.1111111111111111,
                            "#46039f"
                          ],
                          [
                            0.2222222222222222,
                            "#7201a8"
                          ],
                          [
                            0.3333333333333333,
                            "#9c179e"
                          ],
                          [
                            0.4444444444444444,
                            "#bd3786"
                          ],
                          [
                            0.5555555555555556,
                            "#d8576b"
                          ],
                          [
                            0.6666666666666666,
                            "#ed7953"
                          ],
                          [
                            0.7777777777777778,
                            "#fb9f3a"
                          ],
                          [
                            0.8888888888888888,
                            "#fdca26"
                          ],
                          [
                            1,
                            "#f0f921"
                          ]
                        ],
                        "type": "histogram2d"
                      }
                    ],
                    "histogram2dcontour": [
                      {
                        "colorbar": {
                          "outlinewidth": 0,
                          "ticks": ""
                        },
                        "colorscale": [
                          [
                            0,
                            "#0d0887"
                          ],
                          [
                            0.1111111111111111,
                            "#46039f"
                          ],
                          [
                            0.2222222222222222,
                            "#7201a8"
                          ],
                          [
                            0.3333333333333333,
                            "#9c179e"
                          ],
                          [
                            0.4444444444444444,
                            "#bd3786"
                          ],
                          [
                            0.5555555555555556,
                            "#d8576b"
                          ],
                          [
                            0.6666666666666666,
                            "#ed7953"
                          ],
                          [
                            0.7777777777777778,
                            "#fb9f3a"
                          ],
                          [
                            0.8888888888888888,
                            "#fdca26"
                          ],
                          [
                            1,
                            "#f0f921"
                          ]
                        ],
                        "type": "histogram2dcontour"
                      }
                    ],
                    "mesh3d": [
                      {
                        "colorbar": {
                          "outlinewidth": 0,
                          "ticks": ""
                        },
                        "type": "mesh3d"
                      }
                    ],
                    "parcoords": [
                      {
                        "line": {
                          "colorbar": {
                            "outlinewidth": 0,
                            "ticks": ""
                          }
                        },
                        "type": "parcoords"
                      }
                    ],
                    "pie": [
                      {
                        "automargin": true,
                        "type": "pie"
                      }
                    ],
                    "scatter": [
                      {
                        "fillpattern": {
                          "fillmode": "overlay",
                          "size": 10,
                          "solidity": 0.2
                        },
                        "type": "scatter"
                      }
                    ],
                    "scatter3d": [
                      {
                        "line": {
                          "colorbar": {
                            "outlinewidth": 0,
                            "ticks": ""
                          }
                        },
                        "marker": {
                          "colorbar": {
                            "outlinewidth": 0,
                            "ticks": ""
                          }
                        },
                        "type": "scatter3d"
                      }
                    ],
                    "scattercarpet": [
                      {
                        "marker": {
                          "colorbar": {
                            "outlinewidth": 0,
                            "ticks": ""
                          }
                        },
                        "type": "scattercarpet"
                      }
                    ],
                    "scattergeo": [
                      {
                        "marker": {
                          "colorbar": {
                            "outlinewidth": 0,
                            "ticks": ""
                          }
                        },
                        "type": "scattergeo"
                      }
                    ],
                    "scattergl": [
                      {
                        "marker": {
                          "colorbar": {
                            "outlinewidth": 0,
                            "ticks": ""
                          }
                        },
                        "type": "scattergl"
                      }
                    ],
                    "scattermapbox": [
                      {
                        "marker": {
                          "colorbar": {
                            "outlinewidth": 0,
                            "ticks": ""
                          }
                        },
                        "type": "scattermapbox"
                      }
                    ],
                    "scatterpolar": [
                      {
                        "marker": {
                          "colorbar": {
                            "outlinewidth": 0,
                            "ticks": ""
                          }
                        },
                        "type": "scatterpolar"
                      }
                    ],
                    "scatterpolargl": [
                      {
                        "marker": {
                          "colorbar": {
                            "outlinewidth": 0,
                            "ticks": ""
                          }
                        },
                        "type": "scatterpolargl"
                      }
                    ],
                    "scatterternary": [
                      {
                        "marker": {
                          "colorbar": {
                            "outlinewidth": 0,
                            "ticks": ""
                          }
                        },
                        "type": "scatterternary"
                      }
                    ],
                    "surface": [
                      {
                        "colorbar": {
                          "outlinewidth": 0,
                          "ticks": ""
                        },
                        "colorscale": [
                          [
                            0,
                            "#0d0887"
                          ],
                          [
                            0.1111111111111111,
                            "#46039f"
                          ],
                          [
                            0.2222222222222222,
                            "#7201a8"
                          ],
                          [
                            0.3333333333333333,
                            "#9c179e"
                          ],
                          [
                            0.4444444444444444,
                            "#bd3786"
                          ],
                          [
                            0.5555555555555556,
                            "#d8576b"
                          ],
                          [
                            0.6666666666666666,
                            "#ed7953"
                          ],
                          [
                            0.7777777777777778,
                            "#fb9f3a"
                          ],
                          [
                            0.8888888888888888,
                            "#fdca26"
                          ],
                          [
                            1,
                            "#f0f921"
                          ]
                        ],
                        "type": "surface"
                      }
                    ],
                    "table": [
                      {
                        "cells": {
                          "fill": {
                            "color": "#EBF0F8"
                          },
                          "line": {
                            "color": "white"
                          }
                        },
                        "header": {
                          "fill": {
                            "color": "#C8D4E3"
                          },
                          "line": {
                            "color": "white"
                          }
                        },
                        "type": "table"
                      }
                    ]
                  },
                  "layout": {
                    "annotationdefaults": {
                      "arrowcolor": "#2a3f5f",
                      "arrowhead": 0,
                      "arrowwidth": 1
                    },
                    "autotypenumbers": "strict",
                    "coloraxis": {
                      "colorbar": {
                        "outlinewidth": 0,
                        "ticks": ""
                      }
                    },
                    "colorscale": {
                      "diverging": [
                        [
                          0,
                          "#8e0152"
                        ],
                        [
                          0.1,
                          "#c51b7d"
                        ],
                        [
                          0.2,
                          "#de77ae"
                        ],
                        [
                          0.3,
                          "#f1b6da"
                        ],
                        [
                          0.4,
                          "#fde0ef"
                        ],
                        [
                          0.5,
                          "#f7f7f7"
                        ],
                        [
                          0.6,
                          "#e6f5d0"
                        ],
                        [
                          0.7,
                          "#b8e186"
                        ],
                        [
                          0.8,
                          "#7fbc41"
                        ],
                        [
                          0.9,
                          "#4d9221"
                        ],
                        [
                          1,
                          "#276419"
                        ]
                      ],
                      "sequential": [
                        [
                          0,
                          "#0d0887"
                        ],
                        [
                          0.1111111111111111,
                          "#46039f"
                        ],
                        [
                          0.2222222222222222,
                          "#7201a8"
                        ],
                        [
                          0.3333333333333333,
                          "#9c179e"
                        ],
                        [
                          0.4444444444444444,
                          "#bd3786"
                        ],
                        [
                          0.5555555555555556,
                          "#d8576b"
                        ],
                        [
                          0.6666666666666666,
                          "#ed7953"
                        ],
                        [
                          0.7777777777777778,
                          "#fb9f3a"
                        ],
                        [
                          0.8888888888888888,
                          "#fdca26"
                        ],
                        [
                          1,
                          "#f0f921"
                        ]
                      ],
                      "sequentialminus": [
                        [
                          0,
                          "#0d0887"
                        ],
                        [
                          0.1111111111111111,
                          "#46039f"
                        ],
                        [
                          0.2222222222222222,
                          "#7201a8"
                        ],
                        [
                          0.3333333333333333,
                          "#9c179e"
                        ],
                        [
                          0.4444444444444444,
                          "#bd3786"
                        ],
                        [
                          0.5555555555555556,
                          "#d8576b"
                        ],
                        [
                          0.6666666666666666,
                          "#ed7953"
                        ],
                        [
                          0.7777777777777778,
                          "#fb9f3a"
                        ],
                        [
                          0.8888888888888888,
                          "#fdca26"
                        ],
                        [
                          1,
                          "#f0f921"
                        ]
                      ]
                    },
                    "colorway": [
                      "#636efa",
                      "#EF553B",
                      "#00cc96",
                      "#ab63fa",
                      "#FFA15A",
                      "#19d3f3",
                      "#FF6692",
                      "#B6E880",
                      "#FF97FF",
                      "#FECB52"
                    ],
                    "font": {
                      "color": "#2a3f5f"
                    },
                    "geo": {
                      "bgcolor": "white",
                      "lakecolor": "white",
                      "landcolor": "#E5ECF6",
                      "showlakes": true,
                      "showland": true,
                      "subunitcolor": "white"
                    },
                    "hoverlabel": {
                      "align": "left"
                    },
                    "hovermode": "closest",
                    "mapbox": {
                      "style": "light"
                    },
                    "paper_bgcolor": "white",
                    "plot_bgcolor": "#E5ECF6",
                    "polar": {
                      "angularaxis": {
                        "gridcolor": "white",
                        "linecolor": "white",
                        "ticks": ""
                      },
                      "bgcolor": "#E5ECF6",
                      "radialaxis": {
                        "gridcolor": "white",
                        "linecolor": "white",
                        "ticks": ""
                      }
                    },
                    "scene": {
                      "xaxis": {
                        "backgroundcolor": "#E5ECF6",
                        "gridcolor": "white",
                        "gridwidth": 2,
                        "linecolor": "white",
                        "showbackground": true,
                        "ticks": "",
                        "zerolinecolor": "white"
                      },
                      "yaxis": {
                        "backgroundcolor": "#E5ECF6",
                        "gridcolor": "white",
                        "gridwidth": 2,
                        "linecolor": "white",
                        "showbackground": true,
                        "ticks": "",
                        "zerolinecolor": "white"
                      },
                      "zaxis": {
                        "backgroundcolor": "#E5ECF6",
                        "gridcolor": "white",
                        "gridwidth": 2,
                        "linecolor": "white",
                        "showbackground": true,
                        "ticks": "",
                        "zerolinecolor": "white"
                      }
                    },
                    "shapedefaults": {
                      "line": {
                        "color": "#2a3f5f"
                      }
                    },
                    "ternary": {
                      "aaxis": {
                        "gridcolor": "white",
                        "linecolor": "white",
                        "ticks": ""
                      },
                      "baxis": {
                        "gridcolor": "white",
                        "linecolor": "white",
                        "ticks": ""
                      },
                      "bgcolor": "#E5ECF6",
                      "caxis": {
                        "gridcolor": "white",
                        "linecolor": "white",
                        "ticks": ""
                      }
                    },
                    "title": {
                      "x": 0.05
                    },
                    "xaxis": {
                      "automargin": true,
                      "gridcolor": "white",
                      "linecolor": "white",
                      "ticks": "",
                      "title": {
                        "standoff": 15
                      },
                      "zerolinecolor": "white",
                      "zerolinewidth": 2
                    },
                    "yaxis": {
                      "automargin": true,
                      "gridcolor": "white",
                      "linecolor": "white",
                      "ticks": "",
                      "title": {
                        "standoff": 15
                      },
                      "zerolinecolor": "white",
                      "zerolinewidth": 2
                    }
                  }
                },
                "xaxis": {
                  "anchor": "y",
                  "domain": [
                    0,
                    1
                  ],
                  "title": {
                    "text": "frecuencia-cardiaca-bpm"
                  }
                },
                "yaxis": {
                  "anchor": "x",
                  "domain": [
                    0,
                    1
                  ],
                  "title": {
                    "text": "count"
                  }
                }
              }
            }
          },
          "metadata": {},
          "output_type": "display_data"
        }
      ],
      "source": [
        "#Histograma de variable determinada para remover outliers\n",
        "figura6 = px.histogram(df, x='frecuencia-cardiaca-bpm', nbins=30)\n",
        "figura6.show()"
      ]
    },
    {
      "cell_type": "code",
      "execution_count": 86,
      "metadata": {
        "id": "43Sd-6Pec8DB",
        "outputId": "2873137d-d9df-481e-f134-c80a9172728a"
      },
      "outputs": [
        {
          "data": {
            "text/plain": [
              "(527, 44)"
            ]
          },
          "execution_count": 86,
          "metadata": {},
          "output_type": "execute_result"
        }
      ],
      "source": [
        "# Teniendo en cuenta el concepto medico procedemos a identificar y sacar datos outliers\n",
        "# Aquí discrepamos y preferimos mantener ciertos valores que resultan mas reales y significativos\n",
        "# a largo plazo en algunos outliers propuestos por la autora original del estudio.\n",
        "\n",
        "df = df[(df['ps-diastolica-mmHg']>20)]\n",
        "df = df[(df['ps-sistolica-mmHg']>20)]\n",
        "df = df[(df['endometrio-mm']>0)]\n",
        "df = df[(df['prom-tam-foliculos-ovario-izq-mm']>0)]\n",
        "df = df[(df['prom-tam-foliculos-ovario-der-mm']>0)]\n",
        "df = df[(df['frecuencia-cardiaca-bpm']>20)]\n",
        "\n",
        "df.shape"
      ]
    },
    {
      "cell_type": "markdown",
      "metadata": {
        "id": "na2X886Ec8DB"
      },
      "source": [
        "Como se muestra a continuación ya el valor mínimo es superior a cero en todos los parámetros excepto los que originalmente eran categóricos con respuesta (s-n), para los cuales no aplica el criterio."
      ]
    },
    {
      "cell_type": "code",
      "execution_count": 87,
      "metadata": {
        "id": "g7nHbBYjc8DB",
        "outputId": "8d6e87cb-5562-4b09-9fdb-d4e9b48ba1ca"
      },
      "outputs": [
        {
          "data": {
            "text/html": [
              "<div>\n",
              "<style scoped>\n",
              "    .dataframe tbody tr th:only-of-type {\n",
              "        vertical-align: middle;\n",
              "    }\n",
              "\n",
              "    .dataframe tbody tr th {\n",
              "        vertical-align: top;\n",
              "    }\n",
              "\n",
              "    .dataframe thead th {\n",
              "        text-align: right;\n",
              "    }\n",
              "</style>\n",
              "<table border=\"1\" class=\"dataframe\">\n",
              "  <thead>\n",
              "    <tr style=\"text-align: right;\">\n",
              "      <th></th>\n",
              "      <th>(s-n)</th>\n",
              "      <th>paciente-id</th>\n",
              "      <th>pcos(s-n)</th>\n",
              "      <th>edad-a</th>\n",
              "      <th>peso-kg</th>\n",
              "      <th>estatura-cm</th>\n",
              "      <th>imc</th>\n",
              "      <th>grupo-sanguineo</th>\n",
              "      <th>frecuencia-cardiaca-bpm</th>\n",
              "      <th>frecuencia-respiratoria-respiraciones/min</th>\n",
              "      <th>...</th>\n",
              "      <th>barro-espinilla(s-n)</th>\n",
              "      <th>comida-rapida(s-n)</th>\n",
              "      <th>ejercicio-regular(s-n)</th>\n",
              "      <th>ps-sistolica-mmHg</th>\n",
              "      <th>ps-diastolica-mmHg</th>\n",
              "      <th>nro-foliculos-ovario-izq</th>\n",
              "      <th>nro-foliculos-ovario-der</th>\n",
              "      <th>prom-tam-foliculos-ovario-izq-mm</th>\n",
              "      <th>prom-tam-foliculos-ovario-der-mm</th>\n",
              "      <th>endometrio-mm</th>\n",
              "    </tr>\n",
              "  </thead>\n",
              "  <tbody>\n",
              "    <tr>\n",
              "      <th>count</th>\n",
              "      <td>527.000000</td>\n",
              "      <td>527.000000</td>\n",
              "      <td>527.000000</td>\n",
              "      <td>527.000000</td>\n",
              "      <td>527.000000</td>\n",
              "      <td>527.000000</td>\n",
              "      <td>527.000000</td>\n",
              "      <td>527.000000</td>\n",
              "      <td>527.000000</td>\n",
              "      <td>527.000000</td>\n",
              "      <td>...</td>\n",
              "      <td>527.000000</td>\n",
              "      <td>527.000000</td>\n",
              "      <td>527.000000</td>\n",
              "      <td>527.000000</td>\n",
              "      <td>527.000000</td>\n",
              "      <td>527.000000</td>\n",
              "      <td>527.000000</td>\n",
              "      <td>527.000000</td>\n",
              "      <td>527.000000</td>\n",
              "      <td>527.000000</td>\n",
              "    </tr>\n",
              "    <tr>\n",
              "      <th>mean</th>\n",
              "      <td>274.250474</td>\n",
              "      <td>274.250474</td>\n",
              "      <td>0.335863</td>\n",
              "      <td>31.402277</td>\n",
              "      <td>59.698861</td>\n",
              "      <td>156.398102</td>\n",
              "      <td>24.360342</td>\n",
              "      <td>13.808349</td>\n",
              "      <td>73.459203</td>\n",
              "      <td>19.254269</td>\n",
              "      <td>...</td>\n",
              "      <td>0.499051</td>\n",
              "      <td>0.520765</td>\n",
              "      <td>0.248577</td>\n",
              "      <td>114.895636</td>\n",
              "      <td>77.096774</td>\n",
              "      <td>6.246679</td>\n",
              "      <td>6.734345</td>\n",
              "      <td>15.236812</td>\n",
              "      <td>15.503928</td>\n",
              "      <td>8.528406</td>\n",
              "    </tr>\n",
              "    <tr>\n",
              "      <th>std</th>\n",
              "      <td>155.963819</td>\n",
              "      <td>155.963819</td>\n",
              "      <td>0.472740</td>\n",
              "      <td>5.425037</td>\n",
              "      <td>10.953424</td>\n",
              "      <td>5.995783</td>\n",
              "      <td>4.031832</td>\n",
              "      <td>1.842487</td>\n",
              "      <td>2.695889</td>\n",
              "      <td>1.693158</td>\n",
              "      <td>...</td>\n",
              "      <td>0.500474</td>\n",
              "      <td>0.499574</td>\n",
              "      <td>0.432599</td>\n",
              "      <td>5.909530</td>\n",
              "      <td>4.707825</td>\n",
              "      <td>4.203459</td>\n",
              "      <td>4.433456</td>\n",
              "      <td>3.151343</td>\n",
              "      <td>3.228874</td>\n",
              "      <td>2.112304</td>\n",
              "    </tr>\n",
              "    <tr>\n",
              "      <th>min</th>\n",
              "      <td>1.000000</td>\n",
              "      <td>1.000000</td>\n",
              "      <td>0.000000</td>\n",
              "      <td>20.000000</td>\n",
              "      <td>31.000000</td>\n",
              "      <td>137.000000</td>\n",
              "      <td>12.400000</td>\n",
              "      <td>11.000000</td>\n",
              "      <td>70.000000</td>\n",
              "      <td>16.000000</td>\n",
              "      <td>...</td>\n",
              "      <td>0.000000</td>\n",
              "      <td>0.000000</td>\n",
              "      <td>0.000000</td>\n",
              "      <td>100.000000</td>\n",
              "      <td>60.000000</td>\n",
              "      <td>0.000000</td>\n",
              "      <td>0.000000</td>\n",
              "      <td>2.000000</td>\n",
              "      <td>0.170000</td>\n",
              "      <td>2.500000</td>\n",
              "    </tr>\n",
              "    <tr>\n",
              "      <th>25%</th>\n",
              "      <td>139.500000</td>\n",
              "      <td>139.500000</td>\n",
              "      <td>0.000000</td>\n",
              "      <td>27.000000</td>\n",
              "      <td>52.000000</td>\n",
              "      <td>152.000000</td>\n",
              "      <td>21.900000</td>\n",
              "      <td>13.000000</td>\n",
              "      <td>72.000000</td>\n",
              "      <td>18.000000</td>\n",
              "      <td>...</td>\n",
              "      <td>0.000000</td>\n",
              "      <td>0.000000</td>\n",
              "      <td>0.000000</td>\n",
              "      <td>110.000000</td>\n",
              "      <td>70.000000</td>\n",
              "      <td>3.000000</td>\n",
              "      <td>3.000000</td>\n",
              "      <td>13.000000</td>\n",
              "      <td>13.000000</td>\n",
              "      <td>7.000000</td>\n",
              "    </tr>\n",
              "    <tr>\n",
              "      <th>50%</th>\n",
              "      <td>276.000000</td>\n",
              "      <td>276.000000</td>\n",
              "      <td>0.000000</td>\n",
              "      <td>31.000000</td>\n",
              "      <td>60.000000</td>\n",
              "      <td>156.000000</td>\n",
              "      <td>24.300000</td>\n",
              "      <td>14.000000</td>\n",
              "      <td>72.000000</td>\n",
              "      <td>18.000000</td>\n",
              "      <td>...</td>\n",
              "      <td>0.000000</td>\n",
              "      <td>1.000000</td>\n",
              "      <td>0.000000</td>\n",
              "      <td>110.000000</td>\n",
              "      <td>80.000000</td>\n",
              "      <td>5.000000</td>\n",
              "      <td>6.000000</td>\n",
              "      <td>15.000000</td>\n",
              "      <td>16.000000</td>\n",
              "      <td>8.500000</td>\n",
              "    </tr>\n",
              "    <tr>\n",
              "      <th>75%</th>\n",
              "      <td>408.500000</td>\n",
              "      <td>408.500000</td>\n",
              "      <td>1.000000</td>\n",
              "      <td>35.000000</td>\n",
              "      <td>65.000000</td>\n",
              "      <td>160.000000</td>\n",
              "      <td>26.700000</td>\n",
              "      <td>15.000000</td>\n",
              "      <td>74.000000</td>\n",
              "      <td>20.000000</td>\n",
              "      <td>...</td>\n",
              "      <td>1.000000</td>\n",
              "      <td>1.000000</td>\n",
              "      <td>0.000000</td>\n",
              "      <td>120.000000</td>\n",
              "      <td>80.000000</td>\n",
              "      <td>9.000000</td>\n",
              "      <td>10.000000</td>\n",
              "      <td>18.000000</td>\n",
              "      <td>18.000000</td>\n",
              "      <td>9.800000</td>\n",
              "    </tr>\n",
              "    <tr>\n",
              "      <th>max</th>\n",
              "      <td>541.000000</td>\n",
              "      <td>541.000000</td>\n",
              "      <td>1.000000</td>\n",
              "      <td>48.000000</td>\n",
              "      <td>108.000000</td>\n",
              "      <td>180.000000</td>\n",
              "      <td>38.900000</td>\n",
              "      <td>18.000000</td>\n",
              "      <td>82.000000</td>\n",
              "      <td>28.000000</td>\n",
              "      <td>...</td>\n",
              "      <td>1.000000</td>\n",
              "      <td>1.000000</td>\n",
              "      <td>1.000000</td>\n",
              "      <td>140.000000</td>\n",
              "      <td>100.000000</td>\n",
              "      <td>22.000000</td>\n",
              "      <td>20.000000</td>\n",
              "      <td>24.000000</td>\n",
              "      <td>24.000000</td>\n",
              "      <td>18.000000</td>\n",
              "    </tr>\n",
              "  </tbody>\n",
              "</table>\n",
              "<p>8 rows × 44 columns</p>\n",
              "</div>"
            ],
            "text/plain": [
              "            (s-n)  paciente-id   pcos(s-n)      edad-a     peso-kg  \\\n",
              "count  527.000000   527.000000  527.000000  527.000000  527.000000   \n",
              "mean   274.250474   274.250474    0.335863   31.402277   59.698861   \n",
              "std    155.963819   155.963819    0.472740    5.425037   10.953424   \n",
              "min      1.000000     1.000000    0.000000   20.000000   31.000000   \n",
              "25%    139.500000   139.500000    0.000000   27.000000   52.000000   \n",
              "50%    276.000000   276.000000    0.000000   31.000000   60.000000   \n",
              "75%    408.500000   408.500000    1.000000   35.000000   65.000000   \n",
              "max    541.000000   541.000000    1.000000   48.000000  108.000000   \n",
              "\n",
              "       estatura-cm         imc  grupo-sanguineo  frecuencia-cardiaca-bpm  \\\n",
              "count   527.000000  527.000000       527.000000               527.000000   \n",
              "mean    156.398102   24.360342        13.808349                73.459203   \n",
              "std       5.995783    4.031832         1.842487                 2.695889   \n",
              "min     137.000000   12.400000        11.000000                70.000000   \n",
              "25%     152.000000   21.900000        13.000000                72.000000   \n",
              "50%     156.000000   24.300000        14.000000                72.000000   \n",
              "75%     160.000000   26.700000        15.000000                74.000000   \n",
              "max     180.000000   38.900000        18.000000                82.000000   \n",
              "\n",
              "       frecuencia-respiratoria-respiraciones/min  ...  barro-espinilla(s-n)  \\\n",
              "count                                 527.000000  ...            527.000000   \n",
              "mean                                   19.254269  ...              0.499051   \n",
              "std                                     1.693158  ...              0.500474   \n",
              "min                                    16.000000  ...              0.000000   \n",
              "25%                                    18.000000  ...              0.000000   \n",
              "50%                                    18.000000  ...              0.000000   \n",
              "75%                                    20.000000  ...              1.000000   \n",
              "max                                    28.000000  ...              1.000000   \n",
              "\n",
              "       comida-rapida(s-n)  ejercicio-regular(s-n)  ps-sistolica-mmHg  \\\n",
              "count          527.000000              527.000000         527.000000   \n",
              "mean             0.520765                0.248577         114.895636   \n",
              "std              0.499574                0.432599           5.909530   \n",
              "min              0.000000                0.000000         100.000000   \n",
              "25%              0.000000                0.000000         110.000000   \n",
              "50%              1.000000                0.000000         110.000000   \n",
              "75%              1.000000                0.000000         120.000000   \n",
              "max              1.000000                1.000000         140.000000   \n",
              "\n",
              "       ps-diastolica-mmHg  nro-foliculos-ovario-izq  nro-foliculos-ovario-der  \\\n",
              "count          527.000000                527.000000                527.000000   \n",
              "mean            77.096774                  6.246679                  6.734345   \n",
              "std              4.707825                  4.203459                  4.433456   \n",
              "min             60.000000                  0.000000                  0.000000   \n",
              "25%             70.000000                  3.000000                  3.000000   \n",
              "50%             80.000000                  5.000000                  6.000000   \n",
              "75%             80.000000                  9.000000                 10.000000   \n",
              "max            100.000000                 22.000000                 20.000000   \n",
              "\n",
              "       prom-tam-foliculos-ovario-izq-mm  prom-tam-foliculos-ovario-der-mm  \\\n",
              "count                        527.000000                        527.000000   \n",
              "mean                          15.236812                         15.503928   \n",
              "std                            3.151343                          3.228874   \n",
              "min                            2.000000                          0.170000   \n",
              "25%                           13.000000                         13.000000   \n",
              "50%                           15.000000                         16.000000   \n",
              "75%                           18.000000                         18.000000   \n",
              "max                           24.000000                         24.000000   \n",
              "\n",
              "       endometrio-mm  \n",
              "count     527.000000  \n",
              "mean        8.528406  \n",
              "std         2.112304  \n",
              "min         2.500000  \n",
              "25%         7.000000  \n",
              "50%         8.500000  \n",
              "75%         9.800000  \n",
              "max        18.000000  \n",
              "\n",
              "[8 rows x 44 columns]"
            ]
          },
          "execution_count": 87,
          "metadata": {},
          "output_type": "execute_result"
        }
      ],
      "source": [
        "df.describe()"
      ]
    },
    {
      "cell_type": "code",
      "execution_count": 90,
      "metadata": {},
      "outputs": [
        {
          "data": {
            "application/vnd.plotly.v1+json": {
              "config": {
                "plotlyServerURL": "https://plot.ly"
              },
              "data": [
                {
                  "alignmentgroup": "True",
                  "bingroup": "x",
                  "hovertemplate": "ps-diastolica-mmHg=%{x}<br>count=%{y}<extra></extra>",
                  "legendgroup": "",
                  "marker": {
                    "color": "#636efa",
                    "pattern": {
                      "shape": ""
                    }
                  },
                  "name": "",
                  "nbinsx": 30,
                  "offsetgroup": "",
                  "orientation": "v",
                  "showlegend": false,
                  "type": "histogram",
                  "x": [
                    80,
                    70,
                    80,
                    70,
                    80,
                    70,
                    80,
                    80,
                    80,
                    80,
                    80,
                    80,
                    80,
                    70,
                    80,
                    80,
                    70,
                    80,
                    80,
                    80,
                    80,
                    70,
                    80,
                    70,
                    70,
                    80,
                    80,
                    80,
                    80,
                    80,
                    80,
                    80,
                    80,
                    70,
                    80,
                    80,
                    80,
                    80,
                    80,
                    80,
                    70,
                    80,
                    80,
                    70,
                    70,
                    80,
                    70,
                    70,
                    70,
                    80,
                    80,
                    80,
                    80,
                    80,
                    80,
                    80,
                    70,
                    80,
                    80,
                    80,
                    70,
                    80,
                    70,
                    80,
                    80,
                    70,
                    70,
                    70,
                    70,
                    80,
                    80,
                    80,
                    70,
                    70,
                    70,
                    70,
                    80,
                    80,
                    70,
                    80,
                    80,
                    70,
                    80,
                    70,
                    80,
                    80,
                    80,
                    80,
                    80,
                    70,
                    70,
                    70,
                    70,
                    80,
                    80,
                    80,
                    70,
                    80,
                    70,
                    80,
                    80,
                    70,
                    70,
                    70,
                    80,
                    80,
                    80,
                    80,
                    70,
                    70,
                    80,
                    80,
                    80,
                    70,
                    80,
                    80,
                    70,
                    80,
                    80,
                    80,
                    70,
                    80,
                    80,
                    80,
                    70,
                    80,
                    80,
                    80,
                    80,
                    80,
                    70,
                    70,
                    70,
                    80,
                    70,
                    70,
                    80,
                    70,
                    80,
                    80,
                    70,
                    80,
                    80,
                    80,
                    80,
                    80,
                    80,
                    70,
                    80,
                    70,
                    80,
                    80,
                    70,
                    80,
                    80,
                    60,
                    80,
                    80,
                    80,
                    80,
                    80,
                    80,
                    80,
                    80,
                    80,
                    80,
                    70,
                    80,
                    80,
                    70,
                    80,
                    80,
                    80,
                    80,
                    80,
                    80,
                    80,
                    80,
                    80,
                    80,
                    80,
                    70,
                    80,
                    80,
                    80,
                    80,
                    80,
                    80,
                    70,
                    80,
                    80,
                    80,
                    80,
                    70,
                    80,
                    80,
                    80,
                    80,
                    80,
                    80,
                    80,
                    80,
                    80,
                    80,
                    80,
                    80,
                    80,
                    80,
                    80,
                    80,
                    70,
                    70,
                    80,
                    80,
                    80,
                    80,
                    80,
                    80,
                    80,
                    80,
                    80,
                    80,
                    80,
                    70,
                    80,
                    80,
                    80,
                    80,
                    80,
                    80,
                    80,
                    80,
                    80,
                    80,
                    70,
                    80,
                    70,
                    70,
                    80,
                    70,
                    80,
                    80,
                    70,
                    80,
                    70,
                    80,
                    80,
                    80,
                    80,
                    80,
                    70,
                    80,
                    70,
                    80,
                    80,
                    80,
                    80,
                    80,
                    80,
                    70,
                    70,
                    80,
                    80,
                    70,
                    80,
                    70,
                    80,
                    70,
                    70,
                    80,
                    80,
                    80,
                    80,
                    80,
                    70,
                    80,
                    80,
                    80,
                    80,
                    80,
                    70,
                    80,
                    80,
                    70,
                    70,
                    70,
                    80,
                    80,
                    80,
                    80,
                    80,
                    80,
                    70,
                    70,
                    80,
                    70,
                    80,
                    70,
                    80,
                    70,
                    80,
                    80,
                    80,
                    80,
                    70,
                    80,
                    80,
                    80,
                    80,
                    80,
                    80,
                    80,
                    70,
                    80,
                    70,
                    80,
                    80,
                    80,
                    80,
                    70,
                    80,
                    80,
                    80,
                    80,
                    80,
                    80,
                    80,
                    80,
                    80,
                    80,
                    80,
                    80,
                    80,
                    80,
                    70,
                    70,
                    80,
                    80,
                    80,
                    80,
                    80,
                    80,
                    80,
                    80,
                    80,
                    70,
                    80,
                    70,
                    70,
                    80,
                    80,
                    80,
                    100,
                    80,
                    80,
                    80,
                    80,
                    80,
                    80,
                    80,
                    70,
                    70,
                    80,
                    80,
                    80,
                    70,
                    80,
                    80,
                    80,
                    80,
                    80,
                    80,
                    80,
                    70,
                    70,
                    80,
                    70,
                    80,
                    80,
                    80,
                    70,
                    70,
                    80,
                    80,
                    80,
                    80,
                    70,
                    70,
                    80,
                    70,
                    80,
                    70,
                    80,
                    80,
                    80,
                    70,
                    70,
                    80,
                    70,
                    70,
                    70,
                    70,
                    80,
                    80,
                    80,
                    80,
                    80,
                    80,
                    80,
                    80,
                    80,
                    80,
                    80,
                    80,
                    70,
                    70,
                    80,
                    80,
                    70,
                    70,
                    70,
                    70,
                    80,
                    80,
                    80,
                    80,
                    80,
                    70,
                    80,
                    70,
                    80,
                    80,
                    80,
                    80,
                    80,
                    80,
                    80,
                    80,
                    70,
                    80,
                    70,
                    80,
                    80,
                    70,
                    70,
                    80,
                    80,
                    70,
                    80,
                    80,
                    80,
                    80,
                    80,
                    70,
                    80,
                    70,
                    80,
                    70,
                    70,
                    80,
                    80,
                    80,
                    80,
                    80,
                    80,
                    80,
                    80,
                    80,
                    80,
                    80,
                    80,
                    80,
                    80,
                    70,
                    80,
                    80,
                    70,
                    80,
                    80,
                    80,
                    70,
                    70,
                    80,
                    70,
                    80,
                    80,
                    70,
                    70,
                    80,
                    80,
                    80,
                    70,
                    80,
                    80,
                    70,
                    70,
                    70,
                    80,
                    70,
                    80,
                    70,
                    80,
                    70,
                    70,
                    70,
                    80,
                    70,
                    80,
                    80,
                    80,
                    80,
                    70,
                    80,
                    80,
                    80,
                    80,
                    80,
                    70,
                    80,
                    80,
                    80,
                    80,
                    70,
                    70,
                    80,
                    70,
                    70
                  ],
                  "xaxis": "x",
                  "yaxis": "y"
                }
              ],
              "layout": {
                "barmode": "relative",
                "legend": {
                  "tracegroupgap": 0
                },
                "margin": {
                  "t": 60
                },
                "template": {
                  "data": {
                    "bar": [
                      {
                        "error_x": {
                          "color": "#2a3f5f"
                        },
                        "error_y": {
                          "color": "#2a3f5f"
                        },
                        "marker": {
                          "line": {
                            "color": "#E5ECF6",
                            "width": 0.5
                          },
                          "pattern": {
                            "fillmode": "overlay",
                            "size": 10,
                            "solidity": 0.2
                          }
                        },
                        "type": "bar"
                      }
                    ],
                    "barpolar": [
                      {
                        "marker": {
                          "line": {
                            "color": "#E5ECF6",
                            "width": 0.5
                          },
                          "pattern": {
                            "fillmode": "overlay",
                            "size": 10,
                            "solidity": 0.2
                          }
                        },
                        "type": "barpolar"
                      }
                    ],
                    "carpet": [
                      {
                        "aaxis": {
                          "endlinecolor": "#2a3f5f",
                          "gridcolor": "white",
                          "linecolor": "white",
                          "minorgridcolor": "white",
                          "startlinecolor": "#2a3f5f"
                        },
                        "baxis": {
                          "endlinecolor": "#2a3f5f",
                          "gridcolor": "white",
                          "linecolor": "white",
                          "minorgridcolor": "white",
                          "startlinecolor": "#2a3f5f"
                        },
                        "type": "carpet"
                      }
                    ],
                    "choropleth": [
                      {
                        "colorbar": {
                          "outlinewidth": 0,
                          "ticks": ""
                        },
                        "type": "choropleth"
                      }
                    ],
                    "contour": [
                      {
                        "colorbar": {
                          "outlinewidth": 0,
                          "ticks": ""
                        },
                        "colorscale": [
                          [
                            0,
                            "#0d0887"
                          ],
                          [
                            0.1111111111111111,
                            "#46039f"
                          ],
                          [
                            0.2222222222222222,
                            "#7201a8"
                          ],
                          [
                            0.3333333333333333,
                            "#9c179e"
                          ],
                          [
                            0.4444444444444444,
                            "#bd3786"
                          ],
                          [
                            0.5555555555555556,
                            "#d8576b"
                          ],
                          [
                            0.6666666666666666,
                            "#ed7953"
                          ],
                          [
                            0.7777777777777778,
                            "#fb9f3a"
                          ],
                          [
                            0.8888888888888888,
                            "#fdca26"
                          ],
                          [
                            1,
                            "#f0f921"
                          ]
                        ],
                        "type": "contour"
                      }
                    ],
                    "contourcarpet": [
                      {
                        "colorbar": {
                          "outlinewidth": 0,
                          "ticks": ""
                        },
                        "type": "contourcarpet"
                      }
                    ],
                    "heatmap": [
                      {
                        "colorbar": {
                          "outlinewidth": 0,
                          "ticks": ""
                        },
                        "colorscale": [
                          [
                            0,
                            "#0d0887"
                          ],
                          [
                            0.1111111111111111,
                            "#46039f"
                          ],
                          [
                            0.2222222222222222,
                            "#7201a8"
                          ],
                          [
                            0.3333333333333333,
                            "#9c179e"
                          ],
                          [
                            0.4444444444444444,
                            "#bd3786"
                          ],
                          [
                            0.5555555555555556,
                            "#d8576b"
                          ],
                          [
                            0.6666666666666666,
                            "#ed7953"
                          ],
                          [
                            0.7777777777777778,
                            "#fb9f3a"
                          ],
                          [
                            0.8888888888888888,
                            "#fdca26"
                          ],
                          [
                            1,
                            "#f0f921"
                          ]
                        ],
                        "type": "heatmap"
                      }
                    ],
                    "heatmapgl": [
                      {
                        "colorbar": {
                          "outlinewidth": 0,
                          "ticks": ""
                        },
                        "colorscale": [
                          [
                            0,
                            "#0d0887"
                          ],
                          [
                            0.1111111111111111,
                            "#46039f"
                          ],
                          [
                            0.2222222222222222,
                            "#7201a8"
                          ],
                          [
                            0.3333333333333333,
                            "#9c179e"
                          ],
                          [
                            0.4444444444444444,
                            "#bd3786"
                          ],
                          [
                            0.5555555555555556,
                            "#d8576b"
                          ],
                          [
                            0.6666666666666666,
                            "#ed7953"
                          ],
                          [
                            0.7777777777777778,
                            "#fb9f3a"
                          ],
                          [
                            0.8888888888888888,
                            "#fdca26"
                          ],
                          [
                            1,
                            "#f0f921"
                          ]
                        ],
                        "type": "heatmapgl"
                      }
                    ],
                    "histogram": [
                      {
                        "marker": {
                          "pattern": {
                            "fillmode": "overlay",
                            "size": 10,
                            "solidity": 0.2
                          }
                        },
                        "type": "histogram"
                      }
                    ],
                    "histogram2d": [
                      {
                        "colorbar": {
                          "outlinewidth": 0,
                          "ticks": ""
                        },
                        "colorscale": [
                          [
                            0,
                            "#0d0887"
                          ],
                          [
                            0.1111111111111111,
                            "#46039f"
                          ],
                          [
                            0.2222222222222222,
                            "#7201a8"
                          ],
                          [
                            0.3333333333333333,
                            "#9c179e"
                          ],
                          [
                            0.4444444444444444,
                            "#bd3786"
                          ],
                          [
                            0.5555555555555556,
                            "#d8576b"
                          ],
                          [
                            0.6666666666666666,
                            "#ed7953"
                          ],
                          [
                            0.7777777777777778,
                            "#fb9f3a"
                          ],
                          [
                            0.8888888888888888,
                            "#fdca26"
                          ],
                          [
                            1,
                            "#f0f921"
                          ]
                        ],
                        "type": "histogram2d"
                      }
                    ],
                    "histogram2dcontour": [
                      {
                        "colorbar": {
                          "outlinewidth": 0,
                          "ticks": ""
                        },
                        "colorscale": [
                          [
                            0,
                            "#0d0887"
                          ],
                          [
                            0.1111111111111111,
                            "#46039f"
                          ],
                          [
                            0.2222222222222222,
                            "#7201a8"
                          ],
                          [
                            0.3333333333333333,
                            "#9c179e"
                          ],
                          [
                            0.4444444444444444,
                            "#bd3786"
                          ],
                          [
                            0.5555555555555556,
                            "#d8576b"
                          ],
                          [
                            0.6666666666666666,
                            "#ed7953"
                          ],
                          [
                            0.7777777777777778,
                            "#fb9f3a"
                          ],
                          [
                            0.8888888888888888,
                            "#fdca26"
                          ],
                          [
                            1,
                            "#f0f921"
                          ]
                        ],
                        "type": "histogram2dcontour"
                      }
                    ],
                    "mesh3d": [
                      {
                        "colorbar": {
                          "outlinewidth": 0,
                          "ticks": ""
                        },
                        "type": "mesh3d"
                      }
                    ],
                    "parcoords": [
                      {
                        "line": {
                          "colorbar": {
                            "outlinewidth": 0,
                            "ticks": ""
                          }
                        },
                        "type": "parcoords"
                      }
                    ],
                    "pie": [
                      {
                        "automargin": true,
                        "type": "pie"
                      }
                    ],
                    "scatter": [
                      {
                        "fillpattern": {
                          "fillmode": "overlay",
                          "size": 10,
                          "solidity": 0.2
                        },
                        "type": "scatter"
                      }
                    ],
                    "scatter3d": [
                      {
                        "line": {
                          "colorbar": {
                            "outlinewidth": 0,
                            "ticks": ""
                          }
                        },
                        "marker": {
                          "colorbar": {
                            "outlinewidth": 0,
                            "ticks": ""
                          }
                        },
                        "type": "scatter3d"
                      }
                    ],
                    "scattercarpet": [
                      {
                        "marker": {
                          "colorbar": {
                            "outlinewidth": 0,
                            "ticks": ""
                          }
                        },
                        "type": "scattercarpet"
                      }
                    ],
                    "scattergeo": [
                      {
                        "marker": {
                          "colorbar": {
                            "outlinewidth": 0,
                            "ticks": ""
                          }
                        },
                        "type": "scattergeo"
                      }
                    ],
                    "scattergl": [
                      {
                        "marker": {
                          "colorbar": {
                            "outlinewidth": 0,
                            "ticks": ""
                          }
                        },
                        "type": "scattergl"
                      }
                    ],
                    "scattermapbox": [
                      {
                        "marker": {
                          "colorbar": {
                            "outlinewidth": 0,
                            "ticks": ""
                          }
                        },
                        "type": "scattermapbox"
                      }
                    ],
                    "scatterpolar": [
                      {
                        "marker": {
                          "colorbar": {
                            "outlinewidth": 0,
                            "ticks": ""
                          }
                        },
                        "type": "scatterpolar"
                      }
                    ],
                    "scatterpolargl": [
                      {
                        "marker": {
                          "colorbar": {
                            "outlinewidth": 0,
                            "ticks": ""
                          }
                        },
                        "type": "scatterpolargl"
                      }
                    ],
                    "scatterternary": [
                      {
                        "marker": {
                          "colorbar": {
                            "outlinewidth": 0,
                            "ticks": ""
                          }
                        },
                        "type": "scatterternary"
                      }
                    ],
                    "surface": [
                      {
                        "colorbar": {
                          "outlinewidth": 0,
                          "ticks": ""
                        },
                        "colorscale": [
                          [
                            0,
                            "#0d0887"
                          ],
                          [
                            0.1111111111111111,
                            "#46039f"
                          ],
                          [
                            0.2222222222222222,
                            "#7201a8"
                          ],
                          [
                            0.3333333333333333,
                            "#9c179e"
                          ],
                          [
                            0.4444444444444444,
                            "#bd3786"
                          ],
                          [
                            0.5555555555555556,
                            "#d8576b"
                          ],
                          [
                            0.6666666666666666,
                            "#ed7953"
                          ],
                          [
                            0.7777777777777778,
                            "#fb9f3a"
                          ],
                          [
                            0.8888888888888888,
                            "#fdca26"
                          ],
                          [
                            1,
                            "#f0f921"
                          ]
                        ],
                        "type": "surface"
                      }
                    ],
                    "table": [
                      {
                        "cells": {
                          "fill": {
                            "color": "#EBF0F8"
                          },
                          "line": {
                            "color": "white"
                          }
                        },
                        "header": {
                          "fill": {
                            "color": "#C8D4E3"
                          },
                          "line": {
                            "color": "white"
                          }
                        },
                        "type": "table"
                      }
                    ]
                  },
                  "layout": {
                    "annotationdefaults": {
                      "arrowcolor": "#2a3f5f",
                      "arrowhead": 0,
                      "arrowwidth": 1
                    },
                    "autotypenumbers": "strict",
                    "coloraxis": {
                      "colorbar": {
                        "outlinewidth": 0,
                        "ticks": ""
                      }
                    },
                    "colorscale": {
                      "diverging": [
                        [
                          0,
                          "#8e0152"
                        ],
                        [
                          0.1,
                          "#c51b7d"
                        ],
                        [
                          0.2,
                          "#de77ae"
                        ],
                        [
                          0.3,
                          "#f1b6da"
                        ],
                        [
                          0.4,
                          "#fde0ef"
                        ],
                        [
                          0.5,
                          "#f7f7f7"
                        ],
                        [
                          0.6,
                          "#e6f5d0"
                        ],
                        [
                          0.7,
                          "#b8e186"
                        ],
                        [
                          0.8,
                          "#7fbc41"
                        ],
                        [
                          0.9,
                          "#4d9221"
                        ],
                        [
                          1,
                          "#276419"
                        ]
                      ],
                      "sequential": [
                        [
                          0,
                          "#0d0887"
                        ],
                        [
                          0.1111111111111111,
                          "#46039f"
                        ],
                        [
                          0.2222222222222222,
                          "#7201a8"
                        ],
                        [
                          0.3333333333333333,
                          "#9c179e"
                        ],
                        [
                          0.4444444444444444,
                          "#bd3786"
                        ],
                        [
                          0.5555555555555556,
                          "#d8576b"
                        ],
                        [
                          0.6666666666666666,
                          "#ed7953"
                        ],
                        [
                          0.7777777777777778,
                          "#fb9f3a"
                        ],
                        [
                          0.8888888888888888,
                          "#fdca26"
                        ],
                        [
                          1,
                          "#f0f921"
                        ]
                      ],
                      "sequentialminus": [
                        [
                          0,
                          "#0d0887"
                        ],
                        [
                          0.1111111111111111,
                          "#46039f"
                        ],
                        [
                          0.2222222222222222,
                          "#7201a8"
                        ],
                        [
                          0.3333333333333333,
                          "#9c179e"
                        ],
                        [
                          0.4444444444444444,
                          "#bd3786"
                        ],
                        [
                          0.5555555555555556,
                          "#d8576b"
                        ],
                        [
                          0.6666666666666666,
                          "#ed7953"
                        ],
                        [
                          0.7777777777777778,
                          "#fb9f3a"
                        ],
                        [
                          0.8888888888888888,
                          "#fdca26"
                        ],
                        [
                          1,
                          "#f0f921"
                        ]
                      ]
                    },
                    "colorway": [
                      "#636efa",
                      "#EF553B",
                      "#00cc96",
                      "#ab63fa",
                      "#FFA15A",
                      "#19d3f3",
                      "#FF6692",
                      "#B6E880",
                      "#FF97FF",
                      "#FECB52"
                    ],
                    "font": {
                      "color": "#2a3f5f"
                    },
                    "geo": {
                      "bgcolor": "white",
                      "lakecolor": "white",
                      "landcolor": "#E5ECF6",
                      "showlakes": true,
                      "showland": true,
                      "subunitcolor": "white"
                    },
                    "hoverlabel": {
                      "align": "left"
                    },
                    "hovermode": "closest",
                    "mapbox": {
                      "style": "light"
                    },
                    "paper_bgcolor": "white",
                    "plot_bgcolor": "#E5ECF6",
                    "polar": {
                      "angularaxis": {
                        "gridcolor": "white",
                        "linecolor": "white",
                        "ticks": ""
                      },
                      "bgcolor": "#E5ECF6",
                      "radialaxis": {
                        "gridcolor": "white",
                        "linecolor": "white",
                        "ticks": ""
                      }
                    },
                    "scene": {
                      "xaxis": {
                        "backgroundcolor": "#E5ECF6",
                        "gridcolor": "white",
                        "gridwidth": 2,
                        "linecolor": "white",
                        "showbackground": true,
                        "ticks": "",
                        "zerolinecolor": "white"
                      },
                      "yaxis": {
                        "backgroundcolor": "#E5ECF6",
                        "gridcolor": "white",
                        "gridwidth": 2,
                        "linecolor": "white",
                        "showbackground": true,
                        "ticks": "",
                        "zerolinecolor": "white"
                      },
                      "zaxis": {
                        "backgroundcolor": "#E5ECF6",
                        "gridcolor": "white",
                        "gridwidth": 2,
                        "linecolor": "white",
                        "showbackground": true,
                        "ticks": "",
                        "zerolinecolor": "white"
                      }
                    },
                    "shapedefaults": {
                      "line": {
                        "color": "#2a3f5f"
                      }
                    },
                    "ternary": {
                      "aaxis": {
                        "gridcolor": "white",
                        "linecolor": "white",
                        "ticks": ""
                      },
                      "baxis": {
                        "gridcolor": "white",
                        "linecolor": "white",
                        "ticks": ""
                      },
                      "bgcolor": "#E5ECF6",
                      "caxis": {
                        "gridcolor": "white",
                        "linecolor": "white",
                        "ticks": ""
                      }
                    },
                    "title": {
                      "x": 0.05
                    },
                    "xaxis": {
                      "automargin": true,
                      "gridcolor": "white",
                      "linecolor": "white",
                      "ticks": "",
                      "title": {
                        "standoff": 15
                      },
                      "zerolinecolor": "white",
                      "zerolinewidth": 2
                    },
                    "yaxis": {
                      "automargin": true,
                      "gridcolor": "white",
                      "linecolor": "white",
                      "ticks": "",
                      "title": {
                        "standoff": 15
                      },
                      "zerolinecolor": "white",
                      "zerolinewidth": 2
                    }
                  }
                },
                "xaxis": {
                  "anchor": "y",
                  "domain": [
                    0,
                    1
                  ],
                  "title": {
                    "text": "ps-diastolica-mmHg"
                  }
                },
                "yaxis": {
                  "anchor": "x",
                  "domain": [
                    0,
                    1
                  ],
                  "title": {
                    "text": "count"
                  }
                }
              }
            }
          },
          "metadata": {},
          "output_type": "display_data"
        }
      ],
      "source": [
        "#Histograma de variable sin el outlier\n",
        "figura7 = px.histogram(df, x='ps-diastolica-mmHg', nbins=30)\n",
        "figura7.show()"
      ]
    },
    {
      "cell_type": "code",
      "execution_count": 91,
      "metadata": {},
      "outputs": [
        {
          "data": {
            "application/vnd.plotly.v1+json": {
              "config": {
                "plotlyServerURL": "https://plot.ly"
              },
              "data": [
                {
                  "alignmentgroup": "True",
                  "bingroup": "x",
                  "hovertemplate": "ps-sistolica-mmHg=%{x}<br>count=%{y}<extra></extra>",
                  "legendgroup": "",
                  "marker": {
                    "color": "#636efa",
                    "pattern": {
                      "shape": ""
                    }
                  },
                  "name": "",
                  "nbinsx": 30,
                  "offsetgroup": "",
                  "orientation": "v",
                  "showlegend": false,
                  "type": "histogram",
                  "x": [
                    110,
                    120,
                    120,
                    120,
                    120,
                    110,
                    120,
                    120,
                    120,
                    110,
                    110,
                    120,
                    120,
                    110,
                    120,
                    120,
                    110,
                    110,
                    120,
                    110,
                    120,
                    110,
                    110,
                    120,
                    110,
                    120,
                    110,
                    120,
                    110,
                    110,
                    110,
                    120,
                    120,
                    120,
                    110,
                    110,
                    120,
                    110,
                    110,
                    110,
                    110,
                    120,
                    120,
                    110,
                    110,
                    110,
                    110,
                    110,
                    100,
                    120,
                    120,
                    120,
                    110,
                    120,
                    110,
                    110,
                    120,
                    110,
                    120,
                    120,
                    120,
                    110,
                    100,
                    120,
                    110,
                    120,
                    120,
                    100,
                    120,
                    110,
                    110,
                    120,
                    120,
                    110,
                    110,
                    120,
                    120,
                    120,
                    120,
                    120,
                    120,
                    120,
                    110,
                    120,
                    110,
                    120,
                    110,
                    120,
                    120,
                    120,
                    110,
                    110,
                    120,
                    110,
                    120,
                    110,
                    110,
                    120,
                    110,
                    120,
                    110,
                    110,
                    120,
                    100,
                    120,
                    120,
                    110,
                    110,
                    110,
                    110,
                    110,
                    110,
                    110,
                    110,
                    110,
                    110,
                    100,
                    120,
                    120,
                    110,
                    110,
                    110,
                    110,
                    120,
                    110,
                    110,
                    110,
                    120,
                    120,
                    110,
                    100,
                    110,
                    120,
                    110,
                    110,
                    110,
                    120,
                    120,
                    110,
                    110,
                    110,
                    110,
                    110,
                    110,
                    110,
                    120,
                    120,
                    120,
                    120,
                    110,
                    110,
                    120,
                    120,
                    120,
                    120,
                    110,
                    120,
                    120,
                    120,
                    120,
                    120,
                    120,
                    120,
                    120,
                    120,
                    120,
                    110,
                    120,
                    110,
                    140,
                    120,
                    130,
                    110,
                    120,
                    120,
                    110,
                    120,
                    110,
                    120,
                    110,
                    120,
                    120,
                    110,
                    120,
                    120,
                    120,
                    120,
                    110,
                    110,
                    110,
                    120,
                    120,
                    110,
                    120,
                    110,
                    120,
                    120,
                    110,
                    120,
                    120,
                    120,
                    120,
                    110,
                    110,
                    120,
                    120,
                    110,
                    120,
                    120,
                    120,
                    120,
                    120,
                    110,
                    110,
                    120,
                    110,
                    120,
                    110,
                    120,
                    120,
                    120,
                    120,
                    120,
                    110,
                    120,
                    120,
                    120,
                    120,
                    110,
                    110,
                    120,
                    120,
                    120,
                    120,
                    120,
                    110,
                    110,
                    120,
                    120,
                    120,
                    110,
                    110,
                    120,
                    120,
                    120,
                    110,
                    120,
                    120,
                    130,
                    110,
                    110,
                    120,
                    110,
                    120,
                    110,
                    120,
                    110,
                    110,
                    110,
                    110,
                    120,
                    120,
                    120,
                    120,
                    120,
                    110,
                    120,
                    120,
                    120,
                    110,
                    120,
                    110,
                    120,
                    120,
                    120,
                    110,
                    110,
                    110,
                    110,
                    120,
                    120,
                    110,
                    120,
                    110,
                    110,
                    120,
                    120,
                    110,
                    110,
                    120,
                    110,
                    110,
                    120,
                    110,
                    120,
                    110,
                    110,
                    110,
                    110,
                    120,
                    110,
                    120,
                    110,
                    110,
                    100,
                    110,
                    120,
                    110,
                    110,
                    110,
                    110,
                    110,
                    110,
                    120,
                    110,
                    110,
                    110,
                    120,
                    110,
                    110,
                    110,
                    120,
                    110,
                    110,
                    110,
                    110,
                    110,
                    100,
                    110,
                    110,
                    110,
                    110,
                    110,
                    110,
                    110,
                    110,
                    110,
                    110,
                    100,
                    120,
                    110,
                    110,
                    110,
                    120,
                    110,
                    120,
                    120,
                    120,
                    120,
                    120,
                    110,
                    120,
                    140,
                    120,
                    120,
                    120,
                    110,
                    110,
                    110,
                    120,
                    120,
                    110,
                    120,
                    120,
                    120,
                    110,
                    110,
                    120,
                    120,
                    120,
                    120,
                    110,
                    130,
                    110,
                    110,
                    110,
                    110,
                    120,
                    120,
                    120,
                    110,
                    120,
                    120,
                    110,
                    110,
                    110,
                    120,
                    120,
                    120,
                    110,
                    120,
                    120,
                    120,
                    120,
                    120,
                    110,
                    110,
                    120,
                    120,
                    110,
                    110,
                    110,
                    120,
                    120,
                    120,
                    110,
                    110,
                    120,
                    120,
                    120,
                    120,
                    110,
                    120,
                    110,
                    110,
                    110,
                    130,
                    120,
                    110,
                    120,
                    110,
                    110,
                    110,
                    110,
                    120,
                    110,
                    110,
                    110,
                    110,
                    110,
                    120,
                    120,
                    110,
                    110,
                    110,
                    120,
                    120,
                    110,
                    100,
                    110,
                    110,
                    120,
                    110,
                    120,
                    120,
                    120,
                    110,
                    110,
                    120,
                    110,
                    110,
                    110,
                    120,
                    110,
                    110,
                    110,
                    110,
                    110,
                    110,
                    120,
                    130,
                    120,
                    110,
                    130,
                    120,
                    110,
                    110,
                    130,
                    110,
                    120,
                    120,
                    110,
                    110,
                    120,
                    110,
                    120,
                    120,
                    110,
                    120,
                    120,
                    110,
                    120,
                    110,
                    110,
                    120,
                    120,
                    100,
                    110,
                    120,
                    120,
                    110,
                    110,
                    120,
                    110,
                    110,
                    120,
                    120,
                    110,
                    120,
                    120,
                    110,
                    110,
                    100,
                    110,
                    110,
                    110,
                    120,
                    120,
                    110,
                    110,
                    120,
                    110,
                    120,
                    120,
                    120,
                    120,
                    120,
                    120,
                    130,
                    110,
                    110,
                    110,
                    110,
                    110,
                    110,
                    110,
                    120
                  ],
                  "xaxis": "x",
                  "yaxis": "y"
                }
              ],
              "layout": {
                "barmode": "relative",
                "legend": {
                  "tracegroupgap": 0
                },
                "margin": {
                  "t": 60
                },
                "template": {
                  "data": {
                    "bar": [
                      {
                        "error_x": {
                          "color": "#2a3f5f"
                        },
                        "error_y": {
                          "color": "#2a3f5f"
                        },
                        "marker": {
                          "line": {
                            "color": "#E5ECF6",
                            "width": 0.5
                          },
                          "pattern": {
                            "fillmode": "overlay",
                            "size": 10,
                            "solidity": 0.2
                          }
                        },
                        "type": "bar"
                      }
                    ],
                    "barpolar": [
                      {
                        "marker": {
                          "line": {
                            "color": "#E5ECF6",
                            "width": 0.5
                          },
                          "pattern": {
                            "fillmode": "overlay",
                            "size": 10,
                            "solidity": 0.2
                          }
                        },
                        "type": "barpolar"
                      }
                    ],
                    "carpet": [
                      {
                        "aaxis": {
                          "endlinecolor": "#2a3f5f",
                          "gridcolor": "white",
                          "linecolor": "white",
                          "minorgridcolor": "white",
                          "startlinecolor": "#2a3f5f"
                        },
                        "baxis": {
                          "endlinecolor": "#2a3f5f",
                          "gridcolor": "white",
                          "linecolor": "white",
                          "minorgridcolor": "white",
                          "startlinecolor": "#2a3f5f"
                        },
                        "type": "carpet"
                      }
                    ],
                    "choropleth": [
                      {
                        "colorbar": {
                          "outlinewidth": 0,
                          "ticks": ""
                        },
                        "type": "choropleth"
                      }
                    ],
                    "contour": [
                      {
                        "colorbar": {
                          "outlinewidth": 0,
                          "ticks": ""
                        },
                        "colorscale": [
                          [
                            0,
                            "#0d0887"
                          ],
                          [
                            0.1111111111111111,
                            "#46039f"
                          ],
                          [
                            0.2222222222222222,
                            "#7201a8"
                          ],
                          [
                            0.3333333333333333,
                            "#9c179e"
                          ],
                          [
                            0.4444444444444444,
                            "#bd3786"
                          ],
                          [
                            0.5555555555555556,
                            "#d8576b"
                          ],
                          [
                            0.6666666666666666,
                            "#ed7953"
                          ],
                          [
                            0.7777777777777778,
                            "#fb9f3a"
                          ],
                          [
                            0.8888888888888888,
                            "#fdca26"
                          ],
                          [
                            1,
                            "#f0f921"
                          ]
                        ],
                        "type": "contour"
                      }
                    ],
                    "contourcarpet": [
                      {
                        "colorbar": {
                          "outlinewidth": 0,
                          "ticks": ""
                        },
                        "type": "contourcarpet"
                      }
                    ],
                    "heatmap": [
                      {
                        "colorbar": {
                          "outlinewidth": 0,
                          "ticks": ""
                        },
                        "colorscale": [
                          [
                            0,
                            "#0d0887"
                          ],
                          [
                            0.1111111111111111,
                            "#46039f"
                          ],
                          [
                            0.2222222222222222,
                            "#7201a8"
                          ],
                          [
                            0.3333333333333333,
                            "#9c179e"
                          ],
                          [
                            0.4444444444444444,
                            "#bd3786"
                          ],
                          [
                            0.5555555555555556,
                            "#d8576b"
                          ],
                          [
                            0.6666666666666666,
                            "#ed7953"
                          ],
                          [
                            0.7777777777777778,
                            "#fb9f3a"
                          ],
                          [
                            0.8888888888888888,
                            "#fdca26"
                          ],
                          [
                            1,
                            "#f0f921"
                          ]
                        ],
                        "type": "heatmap"
                      }
                    ],
                    "heatmapgl": [
                      {
                        "colorbar": {
                          "outlinewidth": 0,
                          "ticks": ""
                        },
                        "colorscale": [
                          [
                            0,
                            "#0d0887"
                          ],
                          [
                            0.1111111111111111,
                            "#46039f"
                          ],
                          [
                            0.2222222222222222,
                            "#7201a8"
                          ],
                          [
                            0.3333333333333333,
                            "#9c179e"
                          ],
                          [
                            0.4444444444444444,
                            "#bd3786"
                          ],
                          [
                            0.5555555555555556,
                            "#d8576b"
                          ],
                          [
                            0.6666666666666666,
                            "#ed7953"
                          ],
                          [
                            0.7777777777777778,
                            "#fb9f3a"
                          ],
                          [
                            0.8888888888888888,
                            "#fdca26"
                          ],
                          [
                            1,
                            "#f0f921"
                          ]
                        ],
                        "type": "heatmapgl"
                      }
                    ],
                    "histogram": [
                      {
                        "marker": {
                          "pattern": {
                            "fillmode": "overlay",
                            "size": 10,
                            "solidity": 0.2
                          }
                        },
                        "type": "histogram"
                      }
                    ],
                    "histogram2d": [
                      {
                        "colorbar": {
                          "outlinewidth": 0,
                          "ticks": ""
                        },
                        "colorscale": [
                          [
                            0,
                            "#0d0887"
                          ],
                          [
                            0.1111111111111111,
                            "#46039f"
                          ],
                          [
                            0.2222222222222222,
                            "#7201a8"
                          ],
                          [
                            0.3333333333333333,
                            "#9c179e"
                          ],
                          [
                            0.4444444444444444,
                            "#bd3786"
                          ],
                          [
                            0.5555555555555556,
                            "#d8576b"
                          ],
                          [
                            0.6666666666666666,
                            "#ed7953"
                          ],
                          [
                            0.7777777777777778,
                            "#fb9f3a"
                          ],
                          [
                            0.8888888888888888,
                            "#fdca26"
                          ],
                          [
                            1,
                            "#f0f921"
                          ]
                        ],
                        "type": "histogram2d"
                      }
                    ],
                    "histogram2dcontour": [
                      {
                        "colorbar": {
                          "outlinewidth": 0,
                          "ticks": ""
                        },
                        "colorscale": [
                          [
                            0,
                            "#0d0887"
                          ],
                          [
                            0.1111111111111111,
                            "#46039f"
                          ],
                          [
                            0.2222222222222222,
                            "#7201a8"
                          ],
                          [
                            0.3333333333333333,
                            "#9c179e"
                          ],
                          [
                            0.4444444444444444,
                            "#bd3786"
                          ],
                          [
                            0.5555555555555556,
                            "#d8576b"
                          ],
                          [
                            0.6666666666666666,
                            "#ed7953"
                          ],
                          [
                            0.7777777777777778,
                            "#fb9f3a"
                          ],
                          [
                            0.8888888888888888,
                            "#fdca26"
                          ],
                          [
                            1,
                            "#f0f921"
                          ]
                        ],
                        "type": "histogram2dcontour"
                      }
                    ],
                    "mesh3d": [
                      {
                        "colorbar": {
                          "outlinewidth": 0,
                          "ticks": ""
                        },
                        "type": "mesh3d"
                      }
                    ],
                    "parcoords": [
                      {
                        "line": {
                          "colorbar": {
                            "outlinewidth": 0,
                            "ticks": ""
                          }
                        },
                        "type": "parcoords"
                      }
                    ],
                    "pie": [
                      {
                        "automargin": true,
                        "type": "pie"
                      }
                    ],
                    "scatter": [
                      {
                        "fillpattern": {
                          "fillmode": "overlay",
                          "size": 10,
                          "solidity": 0.2
                        },
                        "type": "scatter"
                      }
                    ],
                    "scatter3d": [
                      {
                        "line": {
                          "colorbar": {
                            "outlinewidth": 0,
                            "ticks": ""
                          }
                        },
                        "marker": {
                          "colorbar": {
                            "outlinewidth": 0,
                            "ticks": ""
                          }
                        },
                        "type": "scatter3d"
                      }
                    ],
                    "scattercarpet": [
                      {
                        "marker": {
                          "colorbar": {
                            "outlinewidth": 0,
                            "ticks": ""
                          }
                        },
                        "type": "scattercarpet"
                      }
                    ],
                    "scattergeo": [
                      {
                        "marker": {
                          "colorbar": {
                            "outlinewidth": 0,
                            "ticks": ""
                          }
                        },
                        "type": "scattergeo"
                      }
                    ],
                    "scattergl": [
                      {
                        "marker": {
                          "colorbar": {
                            "outlinewidth": 0,
                            "ticks": ""
                          }
                        },
                        "type": "scattergl"
                      }
                    ],
                    "scattermapbox": [
                      {
                        "marker": {
                          "colorbar": {
                            "outlinewidth": 0,
                            "ticks": ""
                          }
                        },
                        "type": "scattermapbox"
                      }
                    ],
                    "scatterpolar": [
                      {
                        "marker": {
                          "colorbar": {
                            "outlinewidth": 0,
                            "ticks": ""
                          }
                        },
                        "type": "scatterpolar"
                      }
                    ],
                    "scatterpolargl": [
                      {
                        "marker": {
                          "colorbar": {
                            "outlinewidth": 0,
                            "ticks": ""
                          }
                        },
                        "type": "scatterpolargl"
                      }
                    ],
                    "scatterternary": [
                      {
                        "marker": {
                          "colorbar": {
                            "outlinewidth": 0,
                            "ticks": ""
                          }
                        },
                        "type": "scatterternary"
                      }
                    ],
                    "surface": [
                      {
                        "colorbar": {
                          "outlinewidth": 0,
                          "ticks": ""
                        },
                        "colorscale": [
                          [
                            0,
                            "#0d0887"
                          ],
                          [
                            0.1111111111111111,
                            "#46039f"
                          ],
                          [
                            0.2222222222222222,
                            "#7201a8"
                          ],
                          [
                            0.3333333333333333,
                            "#9c179e"
                          ],
                          [
                            0.4444444444444444,
                            "#bd3786"
                          ],
                          [
                            0.5555555555555556,
                            "#d8576b"
                          ],
                          [
                            0.6666666666666666,
                            "#ed7953"
                          ],
                          [
                            0.7777777777777778,
                            "#fb9f3a"
                          ],
                          [
                            0.8888888888888888,
                            "#fdca26"
                          ],
                          [
                            1,
                            "#f0f921"
                          ]
                        ],
                        "type": "surface"
                      }
                    ],
                    "table": [
                      {
                        "cells": {
                          "fill": {
                            "color": "#EBF0F8"
                          },
                          "line": {
                            "color": "white"
                          }
                        },
                        "header": {
                          "fill": {
                            "color": "#C8D4E3"
                          },
                          "line": {
                            "color": "white"
                          }
                        },
                        "type": "table"
                      }
                    ]
                  },
                  "layout": {
                    "annotationdefaults": {
                      "arrowcolor": "#2a3f5f",
                      "arrowhead": 0,
                      "arrowwidth": 1
                    },
                    "autotypenumbers": "strict",
                    "coloraxis": {
                      "colorbar": {
                        "outlinewidth": 0,
                        "ticks": ""
                      }
                    },
                    "colorscale": {
                      "diverging": [
                        [
                          0,
                          "#8e0152"
                        ],
                        [
                          0.1,
                          "#c51b7d"
                        ],
                        [
                          0.2,
                          "#de77ae"
                        ],
                        [
                          0.3,
                          "#f1b6da"
                        ],
                        [
                          0.4,
                          "#fde0ef"
                        ],
                        [
                          0.5,
                          "#f7f7f7"
                        ],
                        [
                          0.6,
                          "#e6f5d0"
                        ],
                        [
                          0.7,
                          "#b8e186"
                        ],
                        [
                          0.8,
                          "#7fbc41"
                        ],
                        [
                          0.9,
                          "#4d9221"
                        ],
                        [
                          1,
                          "#276419"
                        ]
                      ],
                      "sequential": [
                        [
                          0,
                          "#0d0887"
                        ],
                        [
                          0.1111111111111111,
                          "#46039f"
                        ],
                        [
                          0.2222222222222222,
                          "#7201a8"
                        ],
                        [
                          0.3333333333333333,
                          "#9c179e"
                        ],
                        [
                          0.4444444444444444,
                          "#bd3786"
                        ],
                        [
                          0.5555555555555556,
                          "#d8576b"
                        ],
                        [
                          0.6666666666666666,
                          "#ed7953"
                        ],
                        [
                          0.7777777777777778,
                          "#fb9f3a"
                        ],
                        [
                          0.8888888888888888,
                          "#fdca26"
                        ],
                        [
                          1,
                          "#f0f921"
                        ]
                      ],
                      "sequentialminus": [
                        [
                          0,
                          "#0d0887"
                        ],
                        [
                          0.1111111111111111,
                          "#46039f"
                        ],
                        [
                          0.2222222222222222,
                          "#7201a8"
                        ],
                        [
                          0.3333333333333333,
                          "#9c179e"
                        ],
                        [
                          0.4444444444444444,
                          "#bd3786"
                        ],
                        [
                          0.5555555555555556,
                          "#d8576b"
                        ],
                        [
                          0.6666666666666666,
                          "#ed7953"
                        ],
                        [
                          0.7777777777777778,
                          "#fb9f3a"
                        ],
                        [
                          0.8888888888888888,
                          "#fdca26"
                        ],
                        [
                          1,
                          "#f0f921"
                        ]
                      ]
                    },
                    "colorway": [
                      "#636efa",
                      "#EF553B",
                      "#00cc96",
                      "#ab63fa",
                      "#FFA15A",
                      "#19d3f3",
                      "#FF6692",
                      "#B6E880",
                      "#FF97FF",
                      "#FECB52"
                    ],
                    "font": {
                      "color": "#2a3f5f"
                    },
                    "geo": {
                      "bgcolor": "white",
                      "lakecolor": "white",
                      "landcolor": "#E5ECF6",
                      "showlakes": true,
                      "showland": true,
                      "subunitcolor": "white"
                    },
                    "hoverlabel": {
                      "align": "left"
                    },
                    "hovermode": "closest",
                    "mapbox": {
                      "style": "light"
                    },
                    "paper_bgcolor": "white",
                    "plot_bgcolor": "#E5ECF6",
                    "polar": {
                      "angularaxis": {
                        "gridcolor": "white",
                        "linecolor": "white",
                        "ticks": ""
                      },
                      "bgcolor": "#E5ECF6",
                      "radialaxis": {
                        "gridcolor": "white",
                        "linecolor": "white",
                        "ticks": ""
                      }
                    },
                    "scene": {
                      "xaxis": {
                        "backgroundcolor": "#E5ECF6",
                        "gridcolor": "white",
                        "gridwidth": 2,
                        "linecolor": "white",
                        "showbackground": true,
                        "ticks": "",
                        "zerolinecolor": "white"
                      },
                      "yaxis": {
                        "backgroundcolor": "#E5ECF6",
                        "gridcolor": "white",
                        "gridwidth": 2,
                        "linecolor": "white",
                        "showbackground": true,
                        "ticks": "",
                        "zerolinecolor": "white"
                      },
                      "zaxis": {
                        "backgroundcolor": "#E5ECF6",
                        "gridcolor": "white",
                        "gridwidth": 2,
                        "linecolor": "white",
                        "showbackground": true,
                        "ticks": "",
                        "zerolinecolor": "white"
                      }
                    },
                    "shapedefaults": {
                      "line": {
                        "color": "#2a3f5f"
                      }
                    },
                    "ternary": {
                      "aaxis": {
                        "gridcolor": "white",
                        "linecolor": "white",
                        "ticks": ""
                      },
                      "baxis": {
                        "gridcolor": "white",
                        "linecolor": "white",
                        "ticks": ""
                      },
                      "bgcolor": "#E5ECF6",
                      "caxis": {
                        "gridcolor": "white",
                        "linecolor": "white",
                        "ticks": ""
                      }
                    },
                    "title": {
                      "x": 0.05
                    },
                    "xaxis": {
                      "automargin": true,
                      "gridcolor": "white",
                      "linecolor": "white",
                      "ticks": "",
                      "title": {
                        "standoff": 15
                      },
                      "zerolinecolor": "white",
                      "zerolinewidth": 2
                    },
                    "yaxis": {
                      "automargin": true,
                      "gridcolor": "white",
                      "linecolor": "white",
                      "ticks": "",
                      "title": {
                        "standoff": 15
                      },
                      "zerolinecolor": "white",
                      "zerolinewidth": 2
                    }
                  }
                },
                "xaxis": {
                  "anchor": "y",
                  "domain": [
                    0,
                    1
                  ],
                  "title": {
                    "text": "ps-sistolica-mmHg"
                  }
                },
                "yaxis": {
                  "anchor": "x",
                  "domain": [
                    0,
                    1
                  ],
                  "title": {
                    "text": "count"
                  }
                }
              }
            }
          },
          "metadata": {},
          "output_type": "display_data"
        }
      ],
      "source": [
        "#Histograma de variable sin outliers\n",
        "figura8 = px.histogram(df, x='ps-sistolica-mmHg', nbins=30)\n",
        "figura8.show()"
      ]
    },
    {
      "cell_type": "code",
      "execution_count": 92,
      "metadata": {},
      "outputs": [
        {
          "data": {
            "application/vnd.plotly.v1+json": {
              "config": {
                "plotlyServerURL": "https://plot.ly"
              },
              "data": [
                {
                  "alignmentgroup": "True",
                  "bingroup": "x",
                  "hovertemplate": "endometrio-mm=%{x}<br>count=%{y}<extra></extra>",
                  "legendgroup": "",
                  "marker": {
                    "color": "#636efa",
                    "pattern": {
                      "shape": ""
                    }
                  },
                  "name": "",
                  "nbinsx": 30,
                  "offsetgroup": "",
                  "orientation": "v",
                  "showlegend": false,
                  "type": "histogram",
                  "x": [
                    8.5,
                    3.7,
                    10,
                    7.5,
                    7,
                    8,
                    6.8,
                    7.1,
                    4.2,
                    2.5,
                    6,
                    7.8,
                    8,
                    5.6,
                    5.5,
                    3.9,
                    5.6,
                    4,
                    11,
                    5.7,
                    7.6,
                    7.6,
                    8.5,
                    7.3,
                    8.8,
                    6.8,
                    10,
                    6.2,
                    5,
                    7,
                    6,
                    7.5,
                    8.5,
                    8,
                    7,
                    10,
                    10,
                    15,
                    7.3,
                    6.5,
                    7.12,
                    7,
                    9.4,
                    9,
                    16,
                    9,
                    10.4,
                    11,
                    10,
                    6,
                    6.8,
                    6.3,
                    8.9,
                    8.6,
                    9.3,
                    14,
                    11,
                    7.2,
                    7.8,
                    9.6,
                    8.6,
                    12.5,
                    9.4,
                    9.7,
                    5.5,
                    6.2,
                    8.9,
                    6.5,
                    6,
                    5.4,
                    9.8,
                    8.7,
                    12.8,
                    18,
                    10,
                    8.5,
                    8.3,
                    6,
                    10,
                    12,
                    10,
                    4.6,
                    10,
                    8,
                    6,
                    5.7,
                    8.3,
                    9,
                    6.8,
                    6,
                    5.9,
                    5,
                    5,
                    7.5,
                    6.8,
                    6.4,
                    11.3,
                    7,
                    9,
                    4.4,
                    7,
                    9,
                    9.3,
                    8.5,
                    10,
                    7,
                    9,
                    8.7,
                    8.3,
                    9.8,
                    11,
                    8,
                    11.7,
                    8.6,
                    6.2,
                    13.4,
                    12.5,
                    8.5,
                    12,
                    8.5,
                    9,
                    14,
                    9.7,
                    8,
                    11.5,
                    9.7,
                    12,
                    9,
                    11,
                    11,
                    10.7,
                    9,
                    8.5,
                    9,
                    11,
                    8,
                    9.3,
                    7.5,
                    8,
                    10,
                    7.1,
                    10,
                    8,
                    8.5,
                    8,
                    14,
                    7.5,
                    11,
                    10,
                    9,
                    9.5,
                    6,
                    9.4,
                    8.5,
                    4.6,
                    6.5,
                    4,
                    10,
                    9,
                    10.7,
                    9.6,
                    8.5,
                    5.5,
                    9.5,
                    5,
                    9,
                    8,
                    8,
                    11,
                    5,
                    4.5,
                    9.3,
                    5.5,
                    9,
                    9,
                    6.5,
                    5.9,
                    9.7,
                    6.3,
                    13,
                    6,
                    9,
                    6,
                    7,
                    7,
                    5.5,
                    5.6,
                    9,
                    6,
                    10.5,
                    9.8,
                    9.9,
                    10.6,
                    8.5,
                    8,
                    5.5,
                    7.5,
                    6.5,
                    5.5,
                    6.1,
                    15,
                    9.4,
                    6,
                    5,
                    10,
                    9.7,
                    10,
                    10.2,
                    14,
                    10,
                    10,
                    8,
                    7.7,
                    12,
                    13,
                    6,
                    10.8,
                    8.5,
                    12,
                    8.8,
                    11.5,
                    9,
                    8.5,
                    4.8,
                    7,
                    9,
                    9,
                    8,
                    8,
                    14,
                    9,
                    9.2,
                    9.6,
                    9,
                    8,
                    10.3,
                    12,
                    11,
                    8.3,
                    13,
                    9.3,
                    6,
                    8,
                    8.2,
                    8.5,
                    9,
                    10,
                    8,
                    8.4,
                    10,
                    6.5,
                    8.7,
                    9,
                    8,
                    5.6,
                    10,
                    7,
                    13,
                    8,
                    8.7,
                    8.3,
                    7,
                    10.3,
                    8.7,
                    8.8,
                    9.5,
                    7.2,
                    9,
                    8.9,
                    7,
                    9.8,
                    9.8,
                    11,
                    7.2,
                    7.8,
                    9,
                    7.7,
                    8,
                    8.5,
                    9,
                    10.5,
                    5.5,
                    9.6,
                    8,
                    9.6,
                    7.7,
                    11,
                    7,
                    9,
                    9.5,
                    9,
                    12,
                    5.6,
                    5.5,
                    8,
                    6,
                    7,
                    7.3,
                    12,
                    11,
                    7.8,
                    11,
                    8.5,
                    10,
                    7.7,
                    8.4,
                    6.4,
                    12,
                    10.5,
                    8,
                    12,
                    9,
                    11,
                    13,
                    9,
                    8,
                    6,
                    9,
                    6,
                    10.5,
                    12,
                    11,
                    9,
                    10,
                    9,
                    9.3,
                    8.2,
                    10,
                    8.7,
                    11,
                    8,
                    9.2,
                    13,
                    10,
                    11,
                    10.8,
                    14,
                    9,
                    9,
                    8,
                    5.6,
                    10.6,
                    7,
                    11,
                    6.4,
                    12,
                    6.8,
                    13.5,
                    7,
                    9.2,
                    7,
                    9,
                    8.5,
                    9.8,
                    11,
                    10,
                    8,
                    12,
                    9,
                    8,
                    11,
                    7.5,
                    10.3,
                    9,
                    5.5,
                    11.2,
                    9,
                    10,
                    6.5,
                    7,
                    8,
                    7.5,
                    7,
                    8.3,
                    7.5,
                    9,
                    11.2,
                    10,
                    9,
                    10.3,
                    7.5,
                    11,
                    8,
                    7,
                    8,
                    5.8,
                    9.6,
                    7,
                    8,
                    11,
                    7,
                    9.5,
                    6.8,
                    9,
                    11,
                    9,
                    4,
                    8,
                    11,
                    10.3,
                    13,
                    9.5,
                    6.5,
                    8,
                    9,
                    6.7,
                    7.8,
                    10,
                    7.2,
                    8.2,
                    11,
                    8.5,
                    11.2,
                    9,
                    8.9,
                    11.5,
                    10.2,
                    7.6,
                    7,
                    7,
                    10,
                    11,
                    9,
                    10,
                    8,
                    10,
                    10.3,
                    8,
                    3,
                    7,
                    8.1,
                    8.55,
                    6,
                    5.9,
                    6,
                    8,
                    8.2,
                    7,
                    9.65,
                    8.5,
                    7.85,
                    8.2,
                    9,
                    7,
                    8,
                    8,
                    10.5,
                    7.35,
                    7.9,
                    7.2,
                    7.6,
                    8,
                    8,
                    7,
                    8.15,
                    8.9,
                    7,
                    7.5,
                    8.95,
                    5,
                    9,
                    8.5,
                    6.4,
                    9.2,
                    6,
                    9,
                    8,
                    4.5,
                    8.6,
                    8,
                    7.25,
                    8.5,
                    10.5,
                    6.75,
                    6.8,
                    10,
                    6,
                    7.2,
                    10.35,
                    6,
                    7,
                    6.4,
                    5.4,
                    6.6,
                    6,
                    8.8,
                    14.2,
                    9,
                    9.3,
                    6.8,
                    10,
                    7,
                    7,
                    7.5,
                    9.1,
                    7.8,
                    8.4,
                    6,
                    9.3,
                    8.5,
                    9,
                    7,
                    9.2,
                    9.8,
                    5.9,
                    6.5,
                    7.8,
                    8,
                    10,
                    7.6,
                    6.5,
                    7.8,
                    6.8,
                    6.2,
                    9.7,
                    7.3,
                    4.8,
                    8.5,
                    7,
                    10.3,
                    8.2,
                    9.6,
                    6.7,
                    8.2,
                    7.3,
                    11.5,
                    6.9
                  ],
                  "xaxis": "x",
                  "yaxis": "y"
                }
              ],
              "layout": {
                "barmode": "relative",
                "legend": {
                  "tracegroupgap": 0
                },
                "margin": {
                  "t": 60
                },
                "template": {
                  "data": {
                    "bar": [
                      {
                        "error_x": {
                          "color": "#2a3f5f"
                        },
                        "error_y": {
                          "color": "#2a3f5f"
                        },
                        "marker": {
                          "line": {
                            "color": "#E5ECF6",
                            "width": 0.5
                          },
                          "pattern": {
                            "fillmode": "overlay",
                            "size": 10,
                            "solidity": 0.2
                          }
                        },
                        "type": "bar"
                      }
                    ],
                    "barpolar": [
                      {
                        "marker": {
                          "line": {
                            "color": "#E5ECF6",
                            "width": 0.5
                          },
                          "pattern": {
                            "fillmode": "overlay",
                            "size": 10,
                            "solidity": 0.2
                          }
                        },
                        "type": "barpolar"
                      }
                    ],
                    "carpet": [
                      {
                        "aaxis": {
                          "endlinecolor": "#2a3f5f",
                          "gridcolor": "white",
                          "linecolor": "white",
                          "minorgridcolor": "white",
                          "startlinecolor": "#2a3f5f"
                        },
                        "baxis": {
                          "endlinecolor": "#2a3f5f",
                          "gridcolor": "white",
                          "linecolor": "white",
                          "minorgridcolor": "white",
                          "startlinecolor": "#2a3f5f"
                        },
                        "type": "carpet"
                      }
                    ],
                    "choropleth": [
                      {
                        "colorbar": {
                          "outlinewidth": 0,
                          "ticks": ""
                        },
                        "type": "choropleth"
                      }
                    ],
                    "contour": [
                      {
                        "colorbar": {
                          "outlinewidth": 0,
                          "ticks": ""
                        },
                        "colorscale": [
                          [
                            0,
                            "#0d0887"
                          ],
                          [
                            0.1111111111111111,
                            "#46039f"
                          ],
                          [
                            0.2222222222222222,
                            "#7201a8"
                          ],
                          [
                            0.3333333333333333,
                            "#9c179e"
                          ],
                          [
                            0.4444444444444444,
                            "#bd3786"
                          ],
                          [
                            0.5555555555555556,
                            "#d8576b"
                          ],
                          [
                            0.6666666666666666,
                            "#ed7953"
                          ],
                          [
                            0.7777777777777778,
                            "#fb9f3a"
                          ],
                          [
                            0.8888888888888888,
                            "#fdca26"
                          ],
                          [
                            1,
                            "#f0f921"
                          ]
                        ],
                        "type": "contour"
                      }
                    ],
                    "contourcarpet": [
                      {
                        "colorbar": {
                          "outlinewidth": 0,
                          "ticks": ""
                        },
                        "type": "contourcarpet"
                      }
                    ],
                    "heatmap": [
                      {
                        "colorbar": {
                          "outlinewidth": 0,
                          "ticks": ""
                        },
                        "colorscale": [
                          [
                            0,
                            "#0d0887"
                          ],
                          [
                            0.1111111111111111,
                            "#46039f"
                          ],
                          [
                            0.2222222222222222,
                            "#7201a8"
                          ],
                          [
                            0.3333333333333333,
                            "#9c179e"
                          ],
                          [
                            0.4444444444444444,
                            "#bd3786"
                          ],
                          [
                            0.5555555555555556,
                            "#d8576b"
                          ],
                          [
                            0.6666666666666666,
                            "#ed7953"
                          ],
                          [
                            0.7777777777777778,
                            "#fb9f3a"
                          ],
                          [
                            0.8888888888888888,
                            "#fdca26"
                          ],
                          [
                            1,
                            "#f0f921"
                          ]
                        ],
                        "type": "heatmap"
                      }
                    ],
                    "heatmapgl": [
                      {
                        "colorbar": {
                          "outlinewidth": 0,
                          "ticks": ""
                        },
                        "colorscale": [
                          [
                            0,
                            "#0d0887"
                          ],
                          [
                            0.1111111111111111,
                            "#46039f"
                          ],
                          [
                            0.2222222222222222,
                            "#7201a8"
                          ],
                          [
                            0.3333333333333333,
                            "#9c179e"
                          ],
                          [
                            0.4444444444444444,
                            "#bd3786"
                          ],
                          [
                            0.5555555555555556,
                            "#d8576b"
                          ],
                          [
                            0.6666666666666666,
                            "#ed7953"
                          ],
                          [
                            0.7777777777777778,
                            "#fb9f3a"
                          ],
                          [
                            0.8888888888888888,
                            "#fdca26"
                          ],
                          [
                            1,
                            "#f0f921"
                          ]
                        ],
                        "type": "heatmapgl"
                      }
                    ],
                    "histogram": [
                      {
                        "marker": {
                          "pattern": {
                            "fillmode": "overlay",
                            "size": 10,
                            "solidity": 0.2
                          }
                        },
                        "type": "histogram"
                      }
                    ],
                    "histogram2d": [
                      {
                        "colorbar": {
                          "outlinewidth": 0,
                          "ticks": ""
                        },
                        "colorscale": [
                          [
                            0,
                            "#0d0887"
                          ],
                          [
                            0.1111111111111111,
                            "#46039f"
                          ],
                          [
                            0.2222222222222222,
                            "#7201a8"
                          ],
                          [
                            0.3333333333333333,
                            "#9c179e"
                          ],
                          [
                            0.4444444444444444,
                            "#bd3786"
                          ],
                          [
                            0.5555555555555556,
                            "#d8576b"
                          ],
                          [
                            0.6666666666666666,
                            "#ed7953"
                          ],
                          [
                            0.7777777777777778,
                            "#fb9f3a"
                          ],
                          [
                            0.8888888888888888,
                            "#fdca26"
                          ],
                          [
                            1,
                            "#f0f921"
                          ]
                        ],
                        "type": "histogram2d"
                      }
                    ],
                    "histogram2dcontour": [
                      {
                        "colorbar": {
                          "outlinewidth": 0,
                          "ticks": ""
                        },
                        "colorscale": [
                          [
                            0,
                            "#0d0887"
                          ],
                          [
                            0.1111111111111111,
                            "#46039f"
                          ],
                          [
                            0.2222222222222222,
                            "#7201a8"
                          ],
                          [
                            0.3333333333333333,
                            "#9c179e"
                          ],
                          [
                            0.4444444444444444,
                            "#bd3786"
                          ],
                          [
                            0.5555555555555556,
                            "#d8576b"
                          ],
                          [
                            0.6666666666666666,
                            "#ed7953"
                          ],
                          [
                            0.7777777777777778,
                            "#fb9f3a"
                          ],
                          [
                            0.8888888888888888,
                            "#fdca26"
                          ],
                          [
                            1,
                            "#f0f921"
                          ]
                        ],
                        "type": "histogram2dcontour"
                      }
                    ],
                    "mesh3d": [
                      {
                        "colorbar": {
                          "outlinewidth": 0,
                          "ticks": ""
                        },
                        "type": "mesh3d"
                      }
                    ],
                    "parcoords": [
                      {
                        "line": {
                          "colorbar": {
                            "outlinewidth": 0,
                            "ticks": ""
                          }
                        },
                        "type": "parcoords"
                      }
                    ],
                    "pie": [
                      {
                        "automargin": true,
                        "type": "pie"
                      }
                    ],
                    "scatter": [
                      {
                        "fillpattern": {
                          "fillmode": "overlay",
                          "size": 10,
                          "solidity": 0.2
                        },
                        "type": "scatter"
                      }
                    ],
                    "scatter3d": [
                      {
                        "line": {
                          "colorbar": {
                            "outlinewidth": 0,
                            "ticks": ""
                          }
                        },
                        "marker": {
                          "colorbar": {
                            "outlinewidth": 0,
                            "ticks": ""
                          }
                        },
                        "type": "scatter3d"
                      }
                    ],
                    "scattercarpet": [
                      {
                        "marker": {
                          "colorbar": {
                            "outlinewidth": 0,
                            "ticks": ""
                          }
                        },
                        "type": "scattercarpet"
                      }
                    ],
                    "scattergeo": [
                      {
                        "marker": {
                          "colorbar": {
                            "outlinewidth": 0,
                            "ticks": ""
                          }
                        },
                        "type": "scattergeo"
                      }
                    ],
                    "scattergl": [
                      {
                        "marker": {
                          "colorbar": {
                            "outlinewidth": 0,
                            "ticks": ""
                          }
                        },
                        "type": "scattergl"
                      }
                    ],
                    "scattermapbox": [
                      {
                        "marker": {
                          "colorbar": {
                            "outlinewidth": 0,
                            "ticks": ""
                          }
                        },
                        "type": "scattermapbox"
                      }
                    ],
                    "scatterpolar": [
                      {
                        "marker": {
                          "colorbar": {
                            "outlinewidth": 0,
                            "ticks": ""
                          }
                        },
                        "type": "scatterpolar"
                      }
                    ],
                    "scatterpolargl": [
                      {
                        "marker": {
                          "colorbar": {
                            "outlinewidth": 0,
                            "ticks": ""
                          }
                        },
                        "type": "scatterpolargl"
                      }
                    ],
                    "scatterternary": [
                      {
                        "marker": {
                          "colorbar": {
                            "outlinewidth": 0,
                            "ticks": ""
                          }
                        },
                        "type": "scatterternary"
                      }
                    ],
                    "surface": [
                      {
                        "colorbar": {
                          "outlinewidth": 0,
                          "ticks": ""
                        },
                        "colorscale": [
                          [
                            0,
                            "#0d0887"
                          ],
                          [
                            0.1111111111111111,
                            "#46039f"
                          ],
                          [
                            0.2222222222222222,
                            "#7201a8"
                          ],
                          [
                            0.3333333333333333,
                            "#9c179e"
                          ],
                          [
                            0.4444444444444444,
                            "#bd3786"
                          ],
                          [
                            0.5555555555555556,
                            "#d8576b"
                          ],
                          [
                            0.6666666666666666,
                            "#ed7953"
                          ],
                          [
                            0.7777777777777778,
                            "#fb9f3a"
                          ],
                          [
                            0.8888888888888888,
                            "#fdca26"
                          ],
                          [
                            1,
                            "#f0f921"
                          ]
                        ],
                        "type": "surface"
                      }
                    ],
                    "table": [
                      {
                        "cells": {
                          "fill": {
                            "color": "#EBF0F8"
                          },
                          "line": {
                            "color": "white"
                          }
                        },
                        "header": {
                          "fill": {
                            "color": "#C8D4E3"
                          },
                          "line": {
                            "color": "white"
                          }
                        },
                        "type": "table"
                      }
                    ]
                  },
                  "layout": {
                    "annotationdefaults": {
                      "arrowcolor": "#2a3f5f",
                      "arrowhead": 0,
                      "arrowwidth": 1
                    },
                    "autotypenumbers": "strict",
                    "coloraxis": {
                      "colorbar": {
                        "outlinewidth": 0,
                        "ticks": ""
                      }
                    },
                    "colorscale": {
                      "diverging": [
                        [
                          0,
                          "#8e0152"
                        ],
                        [
                          0.1,
                          "#c51b7d"
                        ],
                        [
                          0.2,
                          "#de77ae"
                        ],
                        [
                          0.3,
                          "#f1b6da"
                        ],
                        [
                          0.4,
                          "#fde0ef"
                        ],
                        [
                          0.5,
                          "#f7f7f7"
                        ],
                        [
                          0.6,
                          "#e6f5d0"
                        ],
                        [
                          0.7,
                          "#b8e186"
                        ],
                        [
                          0.8,
                          "#7fbc41"
                        ],
                        [
                          0.9,
                          "#4d9221"
                        ],
                        [
                          1,
                          "#276419"
                        ]
                      ],
                      "sequential": [
                        [
                          0,
                          "#0d0887"
                        ],
                        [
                          0.1111111111111111,
                          "#46039f"
                        ],
                        [
                          0.2222222222222222,
                          "#7201a8"
                        ],
                        [
                          0.3333333333333333,
                          "#9c179e"
                        ],
                        [
                          0.4444444444444444,
                          "#bd3786"
                        ],
                        [
                          0.5555555555555556,
                          "#d8576b"
                        ],
                        [
                          0.6666666666666666,
                          "#ed7953"
                        ],
                        [
                          0.7777777777777778,
                          "#fb9f3a"
                        ],
                        [
                          0.8888888888888888,
                          "#fdca26"
                        ],
                        [
                          1,
                          "#f0f921"
                        ]
                      ],
                      "sequentialminus": [
                        [
                          0,
                          "#0d0887"
                        ],
                        [
                          0.1111111111111111,
                          "#46039f"
                        ],
                        [
                          0.2222222222222222,
                          "#7201a8"
                        ],
                        [
                          0.3333333333333333,
                          "#9c179e"
                        ],
                        [
                          0.4444444444444444,
                          "#bd3786"
                        ],
                        [
                          0.5555555555555556,
                          "#d8576b"
                        ],
                        [
                          0.6666666666666666,
                          "#ed7953"
                        ],
                        [
                          0.7777777777777778,
                          "#fb9f3a"
                        ],
                        [
                          0.8888888888888888,
                          "#fdca26"
                        ],
                        [
                          1,
                          "#f0f921"
                        ]
                      ]
                    },
                    "colorway": [
                      "#636efa",
                      "#EF553B",
                      "#00cc96",
                      "#ab63fa",
                      "#FFA15A",
                      "#19d3f3",
                      "#FF6692",
                      "#B6E880",
                      "#FF97FF",
                      "#FECB52"
                    ],
                    "font": {
                      "color": "#2a3f5f"
                    },
                    "geo": {
                      "bgcolor": "white",
                      "lakecolor": "white",
                      "landcolor": "#E5ECF6",
                      "showlakes": true,
                      "showland": true,
                      "subunitcolor": "white"
                    },
                    "hoverlabel": {
                      "align": "left"
                    },
                    "hovermode": "closest",
                    "mapbox": {
                      "style": "light"
                    },
                    "paper_bgcolor": "white",
                    "plot_bgcolor": "#E5ECF6",
                    "polar": {
                      "angularaxis": {
                        "gridcolor": "white",
                        "linecolor": "white",
                        "ticks": ""
                      },
                      "bgcolor": "#E5ECF6",
                      "radialaxis": {
                        "gridcolor": "white",
                        "linecolor": "white",
                        "ticks": ""
                      }
                    },
                    "scene": {
                      "xaxis": {
                        "backgroundcolor": "#E5ECF6",
                        "gridcolor": "white",
                        "gridwidth": 2,
                        "linecolor": "white",
                        "showbackground": true,
                        "ticks": "",
                        "zerolinecolor": "white"
                      },
                      "yaxis": {
                        "backgroundcolor": "#E5ECF6",
                        "gridcolor": "white",
                        "gridwidth": 2,
                        "linecolor": "white",
                        "showbackground": true,
                        "ticks": "",
                        "zerolinecolor": "white"
                      },
                      "zaxis": {
                        "backgroundcolor": "#E5ECF6",
                        "gridcolor": "white",
                        "gridwidth": 2,
                        "linecolor": "white",
                        "showbackground": true,
                        "ticks": "",
                        "zerolinecolor": "white"
                      }
                    },
                    "shapedefaults": {
                      "line": {
                        "color": "#2a3f5f"
                      }
                    },
                    "ternary": {
                      "aaxis": {
                        "gridcolor": "white",
                        "linecolor": "white",
                        "ticks": ""
                      },
                      "baxis": {
                        "gridcolor": "white",
                        "linecolor": "white",
                        "ticks": ""
                      },
                      "bgcolor": "#E5ECF6",
                      "caxis": {
                        "gridcolor": "white",
                        "linecolor": "white",
                        "ticks": ""
                      }
                    },
                    "title": {
                      "x": 0.05
                    },
                    "xaxis": {
                      "automargin": true,
                      "gridcolor": "white",
                      "linecolor": "white",
                      "ticks": "",
                      "title": {
                        "standoff": 15
                      },
                      "zerolinecolor": "white",
                      "zerolinewidth": 2
                    },
                    "yaxis": {
                      "automargin": true,
                      "gridcolor": "white",
                      "linecolor": "white",
                      "ticks": "",
                      "title": {
                        "standoff": 15
                      },
                      "zerolinecolor": "white",
                      "zerolinewidth": 2
                    }
                  }
                },
                "xaxis": {
                  "anchor": "y",
                  "domain": [
                    0,
                    1
                  ],
                  "title": {
                    "text": "endometrio-mm"
                  }
                },
                "yaxis": {
                  "anchor": "x",
                  "domain": [
                    0,
                    1
                  ],
                  "title": {
                    "text": "count"
                  }
                }
              }
            }
          },
          "metadata": {},
          "output_type": "display_data"
        }
      ],
      "source": [
        "#Histograma de variable sin outliers\n",
        "figura9 = px.histogram(df, x='endometrio-mm', nbins=30)\n",
        "figura9.show()"
      ]
    },
    {
      "cell_type": "code",
      "execution_count": 93,
      "metadata": {},
      "outputs": [
        {
          "data": {
            "application/vnd.plotly.v1+json": {
              "config": {
                "plotlyServerURL": "https://plot.ly"
              },
              "data": [
                {
                  "alignmentgroup": "True",
                  "bingroup": "x",
                  "hovertemplate": "prom-tam-foliculos-ovario-izq-mm=%{x}<br>count=%{y}<extra></extra>",
                  "legendgroup": "",
                  "marker": {
                    "color": "#636efa",
                    "pattern": {
                      "shape": ""
                    }
                  },
                  "name": "",
                  "nbinsx": 60,
                  "offsetgroup": "",
                  "orientation": "v",
                  "showlegend": false,
                  "type": "histogram",
                  "x": [
                    18,
                    15,
                    18,
                    15,
                    16,
                    16,
                    15,
                    15,
                    17,
                    14,
                    17,
                    18,
                    20,
                    18,
                    19,
                    14,
                    20,
                    20,
                    18,
                    18,
                    17,
                    16,
                    14,
                    18,
                    15,
                    11,
                    10,
                    12,
                    13,
                    14,
                    14,
                    12,
                    14,
                    14,
                    11,
                    11,
                    6.5,
                    8,
                    14,
                    11,
                    8,
                    16,
                    14,
                    10,
                    15,
                    10,
                    14,
                    12,
                    15,
                    12,
                    13,
                    10,
                    9.5,
                    11,
                    12,
                    16,
                    14,
                    13,
                    14,
                    12,
                    11,
                    14.5,
                    12,
                    10,
                    8,
                    5,
                    9.5,
                    11.5,
                    12,
                    7.5,
                    10.5,
                    9.5,
                    10.5,
                    15,
                    8,
                    13,
                    16,
                    14,
                    13,
                    16,
                    15,
                    17,
                    15,
                    15,
                    15,
                    20,
                    14,
                    14,
                    20,
                    19,
                    17,
                    19,
                    20,
                    18,
                    19,
                    17.5,
                    17,
                    18,
                    18,
                    19,
                    16,
                    15,
                    17,
                    11,
                    17,
                    19,
                    18,
                    15,
                    15.5,
                    15,
                    15,
                    18,
                    18,
                    16,
                    15,
                    16,
                    18,
                    16,
                    18,
                    18,
                    17,
                    15,
                    19,
                    16,
                    15,
                    16,
                    19,
                    18,
                    15,
                    14,
                    17,
                    18,
                    15,
                    9,
                    16,
                    18.5,
                    21,
                    17,
                    17,
                    18,
                    19,
                    15,
                    14,
                    15,
                    16,
                    12,
                    14,
                    11,
                    12,
                    13,
                    11,
                    11,
                    14,
                    10,
                    13,
                    14,
                    12,
                    14,
                    14,
                    16,
                    13,
                    15,
                    14,
                    13,
                    10,
                    15,
                    14,
                    15,
                    14,
                    10,
                    12,
                    13,
                    11,
                    13,
                    10,
                    13,
                    13,
                    11,
                    13,
                    16,
                    11,
                    16,
                    10,
                    10,
                    13,
                    15,
                    14,
                    12,
                    10,
                    14,
                    12,
                    12,
                    17,
                    12,
                    15,
                    12,
                    14,
                    12,
                    13,
                    15,
                    17,
                    17,
                    17,
                    16,
                    14,
                    15,
                    15,
                    17,
                    14,
                    16,
                    14,
                    16,
                    17,
                    16,
                    14,
                    11,
                    16,
                    14,
                    17,
                    13,
                    15,
                    17,
                    14,
                    17,
                    18,
                    15,
                    17,
                    15,
                    15,
                    16,
                    15,
                    10,
                    16,
                    17,
                    14,
                    18,
                    16,
                    18,
                    15,
                    17,
                    16,
                    18,
                    15,
                    16,
                    18.5,
                    17,
                    18,
                    17,
                    15,
                    19,
                    17,
                    19,
                    18,
                    18,
                    19,
                    19,
                    17,
                    20,
                    19,
                    18,
                    17,
                    18,
                    17,
                    16,
                    18,
                    12,
                    15,
                    15,
                    18,
                    16,
                    15,
                    17,
                    11,
                    20,
                    16,
                    18,
                    15,
                    16,
                    14,
                    16,
                    12,
                    13,
                    14,
                    18,
                    13,
                    16,
                    15,
                    18,
                    16,
                    16,
                    15,
                    17,
                    17,
                    11,
                    12.5,
                    13,
                    15,
                    15,
                    17,
                    15,
                    11,
                    12,
                    14,
                    16,
                    14,
                    15,
                    16,
                    15,
                    8,
                    15,
                    18,
                    10,
                    10,
                    10,
                    18,
                    13,
                    16,
                    12,
                    13,
                    14,
                    11,
                    15,
                    14,
                    15,
                    11,
                    10,
                    10,
                    14,
                    10,
                    15,
                    15,
                    10,
                    10,
                    15,
                    10,
                    11,
                    12,
                    15,
                    13,
                    15,
                    13,
                    15,
                    15,
                    15,
                    14,
                    10,
                    13,
                    13,
                    10,
                    14,
                    13,
                    16,
                    15,
                    13,
                    15,
                    15,
                    12,
                    18,
                    12,
                    17,
                    15,
                    13,
                    14,
                    18,
                    19,
                    18,
                    18,
                    12,
                    13,
                    16,
                    18,
                    15,
                    14,
                    11,
                    12,
                    18,
                    15,
                    19,
                    15,
                    15,
                    13,
                    16,
                    15,
                    12,
                    12,
                    19,
                    18,
                    14,
                    14,
                    19,
                    18,
                    18,
                    14,
                    17,
                    17,
                    14,
                    10,
                    13,
                    2,
                    14,
                    13,
                    14,
                    12,
                    14,
                    14,
                    10,
                    13,
                    15,
                    10,
                    15,
                    14,
                    12,
                    17,
                    19,
                    19,
                    19,
                    16,
                    13,
                    14,
                    10,
                    13,
                    14,
                    11,
                    14,
                    18,
                    16,
                    15,
                    19,
                    11,
                    9,
                    19,
                    16,
                    20,
                    18,
                    20,
                    19,
                    19,
                    18,
                    11,
                    17,
                    19,
                    19,
                    18,
                    17,
                    17,
                    19,
                    22,
                    18,
                    19,
                    19,
                    16,
                    20,
                    21,
                    19,
                    22,
                    24,
                    17,
                    15,
                    19,
                    19,
                    18,
                    18,
                    20,
                    20,
                    18,
                    18,
                    20,
                    16,
                    19,
                    20,
                    18,
                    15,
                    19,
                    18,
                    20,
                    16,
                    19,
                    18,
                    19,
                    19,
                    18,
                    18,
                    18,
                    20,
                    7,
                    18,
                    17,
                    19,
                    21,
                    17,
                    18,
                    18,
                    16,
                    19,
                    16,
                    18,
                    18,
                    19,
                    16,
                    7,
                    18,
                    20,
                    19,
                    20,
                    19,
                    19,
                    20,
                    19,
                    17.5,
                    17,
                    21,
                    16,
                    6.8,
                    21,
                    19,
                    18,
                    21,
                    21,
                    17,
                    18,
                    20,
                    13,
                    17.5,
                    19,
                    18,
                    18,
                    19
                  ],
                  "xaxis": "x",
                  "yaxis": "y"
                }
              ],
              "layout": {
                "barmode": "relative",
                "legend": {
                  "tracegroupgap": 0
                },
                "margin": {
                  "t": 60
                },
                "template": {
                  "data": {
                    "bar": [
                      {
                        "error_x": {
                          "color": "#2a3f5f"
                        },
                        "error_y": {
                          "color": "#2a3f5f"
                        },
                        "marker": {
                          "line": {
                            "color": "#E5ECF6",
                            "width": 0.5
                          },
                          "pattern": {
                            "fillmode": "overlay",
                            "size": 10,
                            "solidity": 0.2
                          }
                        },
                        "type": "bar"
                      }
                    ],
                    "barpolar": [
                      {
                        "marker": {
                          "line": {
                            "color": "#E5ECF6",
                            "width": 0.5
                          },
                          "pattern": {
                            "fillmode": "overlay",
                            "size": 10,
                            "solidity": 0.2
                          }
                        },
                        "type": "barpolar"
                      }
                    ],
                    "carpet": [
                      {
                        "aaxis": {
                          "endlinecolor": "#2a3f5f",
                          "gridcolor": "white",
                          "linecolor": "white",
                          "minorgridcolor": "white",
                          "startlinecolor": "#2a3f5f"
                        },
                        "baxis": {
                          "endlinecolor": "#2a3f5f",
                          "gridcolor": "white",
                          "linecolor": "white",
                          "minorgridcolor": "white",
                          "startlinecolor": "#2a3f5f"
                        },
                        "type": "carpet"
                      }
                    ],
                    "choropleth": [
                      {
                        "colorbar": {
                          "outlinewidth": 0,
                          "ticks": ""
                        },
                        "type": "choropleth"
                      }
                    ],
                    "contour": [
                      {
                        "colorbar": {
                          "outlinewidth": 0,
                          "ticks": ""
                        },
                        "colorscale": [
                          [
                            0,
                            "#0d0887"
                          ],
                          [
                            0.1111111111111111,
                            "#46039f"
                          ],
                          [
                            0.2222222222222222,
                            "#7201a8"
                          ],
                          [
                            0.3333333333333333,
                            "#9c179e"
                          ],
                          [
                            0.4444444444444444,
                            "#bd3786"
                          ],
                          [
                            0.5555555555555556,
                            "#d8576b"
                          ],
                          [
                            0.6666666666666666,
                            "#ed7953"
                          ],
                          [
                            0.7777777777777778,
                            "#fb9f3a"
                          ],
                          [
                            0.8888888888888888,
                            "#fdca26"
                          ],
                          [
                            1,
                            "#f0f921"
                          ]
                        ],
                        "type": "contour"
                      }
                    ],
                    "contourcarpet": [
                      {
                        "colorbar": {
                          "outlinewidth": 0,
                          "ticks": ""
                        },
                        "type": "contourcarpet"
                      }
                    ],
                    "heatmap": [
                      {
                        "colorbar": {
                          "outlinewidth": 0,
                          "ticks": ""
                        },
                        "colorscale": [
                          [
                            0,
                            "#0d0887"
                          ],
                          [
                            0.1111111111111111,
                            "#46039f"
                          ],
                          [
                            0.2222222222222222,
                            "#7201a8"
                          ],
                          [
                            0.3333333333333333,
                            "#9c179e"
                          ],
                          [
                            0.4444444444444444,
                            "#bd3786"
                          ],
                          [
                            0.5555555555555556,
                            "#d8576b"
                          ],
                          [
                            0.6666666666666666,
                            "#ed7953"
                          ],
                          [
                            0.7777777777777778,
                            "#fb9f3a"
                          ],
                          [
                            0.8888888888888888,
                            "#fdca26"
                          ],
                          [
                            1,
                            "#f0f921"
                          ]
                        ],
                        "type": "heatmap"
                      }
                    ],
                    "heatmapgl": [
                      {
                        "colorbar": {
                          "outlinewidth": 0,
                          "ticks": ""
                        },
                        "colorscale": [
                          [
                            0,
                            "#0d0887"
                          ],
                          [
                            0.1111111111111111,
                            "#46039f"
                          ],
                          [
                            0.2222222222222222,
                            "#7201a8"
                          ],
                          [
                            0.3333333333333333,
                            "#9c179e"
                          ],
                          [
                            0.4444444444444444,
                            "#bd3786"
                          ],
                          [
                            0.5555555555555556,
                            "#d8576b"
                          ],
                          [
                            0.6666666666666666,
                            "#ed7953"
                          ],
                          [
                            0.7777777777777778,
                            "#fb9f3a"
                          ],
                          [
                            0.8888888888888888,
                            "#fdca26"
                          ],
                          [
                            1,
                            "#f0f921"
                          ]
                        ],
                        "type": "heatmapgl"
                      }
                    ],
                    "histogram": [
                      {
                        "marker": {
                          "pattern": {
                            "fillmode": "overlay",
                            "size": 10,
                            "solidity": 0.2
                          }
                        },
                        "type": "histogram"
                      }
                    ],
                    "histogram2d": [
                      {
                        "colorbar": {
                          "outlinewidth": 0,
                          "ticks": ""
                        },
                        "colorscale": [
                          [
                            0,
                            "#0d0887"
                          ],
                          [
                            0.1111111111111111,
                            "#46039f"
                          ],
                          [
                            0.2222222222222222,
                            "#7201a8"
                          ],
                          [
                            0.3333333333333333,
                            "#9c179e"
                          ],
                          [
                            0.4444444444444444,
                            "#bd3786"
                          ],
                          [
                            0.5555555555555556,
                            "#d8576b"
                          ],
                          [
                            0.6666666666666666,
                            "#ed7953"
                          ],
                          [
                            0.7777777777777778,
                            "#fb9f3a"
                          ],
                          [
                            0.8888888888888888,
                            "#fdca26"
                          ],
                          [
                            1,
                            "#f0f921"
                          ]
                        ],
                        "type": "histogram2d"
                      }
                    ],
                    "histogram2dcontour": [
                      {
                        "colorbar": {
                          "outlinewidth": 0,
                          "ticks": ""
                        },
                        "colorscale": [
                          [
                            0,
                            "#0d0887"
                          ],
                          [
                            0.1111111111111111,
                            "#46039f"
                          ],
                          [
                            0.2222222222222222,
                            "#7201a8"
                          ],
                          [
                            0.3333333333333333,
                            "#9c179e"
                          ],
                          [
                            0.4444444444444444,
                            "#bd3786"
                          ],
                          [
                            0.5555555555555556,
                            "#d8576b"
                          ],
                          [
                            0.6666666666666666,
                            "#ed7953"
                          ],
                          [
                            0.7777777777777778,
                            "#fb9f3a"
                          ],
                          [
                            0.8888888888888888,
                            "#fdca26"
                          ],
                          [
                            1,
                            "#f0f921"
                          ]
                        ],
                        "type": "histogram2dcontour"
                      }
                    ],
                    "mesh3d": [
                      {
                        "colorbar": {
                          "outlinewidth": 0,
                          "ticks": ""
                        },
                        "type": "mesh3d"
                      }
                    ],
                    "parcoords": [
                      {
                        "line": {
                          "colorbar": {
                            "outlinewidth": 0,
                            "ticks": ""
                          }
                        },
                        "type": "parcoords"
                      }
                    ],
                    "pie": [
                      {
                        "automargin": true,
                        "type": "pie"
                      }
                    ],
                    "scatter": [
                      {
                        "fillpattern": {
                          "fillmode": "overlay",
                          "size": 10,
                          "solidity": 0.2
                        },
                        "type": "scatter"
                      }
                    ],
                    "scatter3d": [
                      {
                        "line": {
                          "colorbar": {
                            "outlinewidth": 0,
                            "ticks": ""
                          }
                        },
                        "marker": {
                          "colorbar": {
                            "outlinewidth": 0,
                            "ticks": ""
                          }
                        },
                        "type": "scatter3d"
                      }
                    ],
                    "scattercarpet": [
                      {
                        "marker": {
                          "colorbar": {
                            "outlinewidth": 0,
                            "ticks": ""
                          }
                        },
                        "type": "scattercarpet"
                      }
                    ],
                    "scattergeo": [
                      {
                        "marker": {
                          "colorbar": {
                            "outlinewidth": 0,
                            "ticks": ""
                          }
                        },
                        "type": "scattergeo"
                      }
                    ],
                    "scattergl": [
                      {
                        "marker": {
                          "colorbar": {
                            "outlinewidth": 0,
                            "ticks": ""
                          }
                        },
                        "type": "scattergl"
                      }
                    ],
                    "scattermapbox": [
                      {
                        "marker": {
                          "colorbar": {
                            "outlinewidth": 0,
                            "ticks": ""
                          }
                        },
                        "type": "scattermapbox"
                      }
                    ],
                    "scatterpolar": [
                      {
                        "marker": {
                          "colorbar": {
                            "outlinewidth": 0,
                            "ticks": ""
                          }
                        },
                        "type": "scatterpolar"
                      }
                    ],
                    "scatterpolargl": [
                      {
                        "marker": {
                          "colorbar": {
                            "outlinewidth": 0,
                            "ticks": ""
                          }
                        },
                        "type": "scatterpolargl"
                      }
                    ],
                    "scatterternary": [
                      {
                        "marker": {
                          "colorbar": {
                            "outlinewidth": 0,
                            "ticks": ""
                          }
                        },
                        "type": "scatterternary"
                      }
                    ],
                    "surface": [
                      {
                        "colorbar": {
                          "outlinewidth": 0,
                          "ticks": ""
                        },
                        "colorscale": [
                          [
                            0,
                            "#0d0887"
                          ],
                          [
                            0.1111111111111111,
                            "#46039f"
                          ],
                          [
                            0.2222222222222222,
                            "#7201a8"
                          ],
                          [
                            0.3333333333333333,
                            "#9c179e"
                          ],
                          [
                            0.4444444444444444,
                            "#bd3786"
                          ],
                          [
                            0.5555555555555556,
                            "#d8576b"
                          ],
                          [
                            0.6666666666666666,
                            "#ed7953"
                          ],
                          [
                            0.7777777777777778,
                            "#fb9f3a"
                          ],
                          [
                            0.8888888888888888,
                            "#fdca26"
                          ],
                          [
                            1,
                            "#f0f921"
                          ]
                        ],
                        "type": "surface"
                      }
                    ],
                    "table": [
                      {
                        "cells": {
                          "fill": {
                            "color": "#EBF0F8"
                          },
                          "line": {
                            "color": "white"
                          }
                        },
                        "header": {
                          "fill": {
                            "color": "#C8D4E3"
                          },
                          "line": {
                            "color": "white"
                          }
                        },
                        "type": "table"
                      }
                    ]
                  },
                  "layout": {
                    "annotationdefaults": {
                      "arrowcolor": "#2a3f5f",
                      "arrowhead": 0,
                      "arrowwidth": 1
                    },
                    "autotypenumbers": "strict",
                    "coloraxis": {
                      "colorbar": {
                        "outlinewidth": 0,
                        "ticks": ""
                      }
                    },
                    "colorscale": {
                      "diverging": [
                        [
                          0,
                          "#8e0152"
                        ],
                        [
                          0.1,
                          "#c51b7d"
                        ],
                        [
                          0.2,
                          "#de77ae"
                        ],
                        [
                          0.3,
                          "#f1b6da"
                        ],
                        [
                          0.4,
                          "#fde0ef"
                        ],
                        [
                          0.5,
                          "#f7f7f7"
                        ],
                        [
                          0.6,
                          "#e6f5d0"
                        ],
                        [
                          0.7,
                          "#b8e186"
                        ],
                        [
                          0.8,
                          "#7fbc41"
                        ],
                        [
                          0.9,
                          "#4d9221"
                        ],
                        [
                          1,
                          "#276419"
                        ]
                      ],
                      "sequential": [
                        [
                          0,
                          "#0d0887"
                        ],
                        [
                          0.1111111111111111,
                          "#46039f"
                        ],
                        [
                          0.2222222222222222,
                          "#7201a8"
                        ],
                        [
                          0.3333333333333333,
                          "#9c179e"
                        ],
                        [
                          0.4444444444444444,
                          "#bd3786"
                        ],
                        [
                          0.5555555555555556,
                          "#d8576b"
                        ],
                        [
                          0.6666666666666666,
                          "#ed7953"
                        ],
                        [
                          0.7777777777777778,
                          "#fb9f3a"
                        ],
                        [
                          0.8888888888888888,
                          "#fdca26"
                        ],
                        [
                          1,
                          "#f0f921"
                        ]
                      ],
                      "sequentialminus": [
                        [
                          0,
                          "#0d0887"
                        ],
                        [
                          0.1111111111111111,
                          "#46039f"
                        ],
                        [
                          0.2222222222222222,
                          "#7201a8"
                        ],
                        [
                          0.3333333333333333,
                          "#9c179e"
                        ],
                        [
                          0.4444444444444444,
                          "#bd3786"
                        ],
                        [
                          0.5555555555555556,
                          "#d8576b"
                        ],
                        [
                          0.6666666666666666,
                          "#ed7953"
                        ],
                        [
                          0.7777777777777778,
                          "#fb9f3a"
                        ],
                        [
                          0.8888888888888888,
                          "#fdca26"
                        ],
                        [
                          1,
                          "#f0f921"
                        ]
                      ]
                    },
                    "colorway": [
                      "#636efa",
                      "#EF553B",
                      "#00cc96",
                      "#ab63fa",
                      "#FFA15A",
                      "#19d3f3",
                      "#FF6692",
                      "#B6E880",
                      "#FF97FF",
                      "#FECB52"
                    ],
                    "font": {
                      "color": "#2a3f5f"
                    },
                    "geo": {
                      "bgcolor": "white",
                      "lakecolor": "white",
                      "landcolor": "#E5ECF6",
                      "showlakes": true,
                      "showland": true,
                      "subunitcolor": "white"
                    },
                    "hoverlabel": {
                      "align": "left"
                    },
                    "hovermode": "closest",
                    "mapbox": {
                      "style": "light"
                    },
                    "paper_bgcolor": "white",
                    "plot_bgcolor": "#E5ECF6",
                    "polar": {
                      "angularaxis": {
                        "gridcolor": "white",
                        "linecolor": "white",
                        "ticks": ""
                      },
                      "bgcolor": "#E5ECF6",
                      "radialaxis": {
                        "gridcolor": "white",
                        "linecolor": "white",
                        "ticks": ""
                      }
                    },
                    "scene": {
                      "xaxis": {
                        "backgroundcolor": "#E5ECF6",
                        "gridcolor": "white",
                        "gridwidth": 2,
                        "linecolor": "white",
                        "showbackground": true,
                        "ticks": "",
                        "zerolinecolor": "white"
                      },
                      "yaxis": {
                        "backgroundcolor": "#E5ECF6",
                        "gridcolor": "white",
                        "gridwidth": 2,
                        "linecolor": "white",
                        "showbackground": true,
                        "ticks": "",
                        "zerolinecolor": "white"
                      },
                      "zaxis": {
                        "backgroundcolor": "#E5ECF6",
                        "gridcolor": "white",
                        "gridwidth": 2,
                        "linecolor": "white",
                        "showbackground": true,
                        "ticks": "",
                        "zerolinecolor": "white"
                      }
                    },
                    "shapedefaults": {
                      "line": {
                        "color": "#2a3f5f"
                      }
                    },
                    "ternary": {
                      "aaxis": {
                        "gridcolor": "white",
                        "linecolor": "white",
                        "ticks": ""
                      },
                      "baxis": {
                        "gridcolor": "white",
                        "linecolor": "white",
                        "ticks": ""
                      },
                      "bgcolor": "#E5ECF6",
                      "caxis": {
                        "gridcolor": "white",
                        "linecolor": "white",
                        "ticks": ""
                      }
                    },
                    "title": {
                      "x": 0.05
                    },
                    "xaxis": {
                      "automargin": true,
                      "gridcolor": "white",
                      "linecolor": "white",
                      "ticks": "",
                      "title": {
                        "standoff": 15
                      },
                      "zerolinecolor": "white",
                      "zerolinewidth": 2
                    },
                    "yaxis": {
                      "automargin": true,
                      "gridcolor": "white",
                      "linecolor": "white",
                      "ticks": "",
                      "title": {
                        "standoff": 15
                      },
                      "zerolinecolor": "white",
                      "zerolinewidth": 2
                    }
                  }
                },
                "xaxis": {
                  "anchor": "y",
                  "domain": [
                    0,
                    1
                  ],
                  "title": {
                    "text": "prom-tam-foliculos-ovario-izq-mm"
                  }
                },
                "yaxis": {
                  "anchor": "x",
                  "domain": [
                    0,
                    1
                  ],
                  "title": {
                    "text": "count"
                  }
                }
              }
            }
          },
          "metadata": {},
          "output_type": "display_data"
        }
      ],
      "source": [
        "#Histograma de variable sin outliers\n",
        "figura10 = px.histogram(df, x='prom-tam-foliculos-ovario-izq-mm', nbins=60)\n",
        "figura10.show()"
      ]
    },
    {
      "cell_type": "code",
      "execution_count": 94,
      "metadata": {},
      "outputs": [
        {
          "data": {
            "application/vnd.plotly.v1+json": {
              "config": {
                "plotlyServerURL": "https://plot.ly"
              },
              "data": [
                {
                  "alignmentgroup": "True",
                  "bingroup": "x",
                  "hovertemplate": "prom-tam-foliculos-ovario-der-mm=%{x}<br>count=%{y}<extra></extra>",
                  "legendgroup": "",
                  "marker": {
                    "color": "#636efa",
                    "pattern": {
                      "shape": ""
                    }
                  },
                  "name": "",
                  "nbinsx": 60,
                  "offsetgroup": "",
                  "orientation": "v",
                  "showlegend": false,
                  "type": "histogram",
                  "x": [
                    18,
                    14,
                    20,
                    14,
                    14,
                    20,
                    16,
                    18,
                    17,
                    17,
                    20,
                    19,
                    21,
                    17,
                    21,
                    20,
                    20,
                    18,
                    17,
                    19,
                    17,
                    17,
                    18,
                    17,
                    17,
                    12,
                    11,
                    17,
                    14,
                    14,
                    13,
                    13,
                    12,
                    19,
                    12,
                    13,
                    8.5,
                    7,
                    14,
                    12,
                    8,
                    15,
                    13,
                    12,
                    18,
                    15,
                    13,
                    13,
                    13,
                    11,
                    14,
                    11,
                    11,
                    13,
                    13,
                    17,
                    15,
                    14,
                    13,
                    13.5,
                    11,
                    14,
                    14,
                    12,
                    5,
                    8.5,
                    7,
                    4.7,
                    6,
                    4.5,
                    6,
                    6.2,
                    10.5,
                    12,
                    9,
                    15,
                    15,
                    18,
                    15,
                    13,
                    13,
                    18,
                    16,
                    16,
                    7,
                    18,
                    15,
                    15,
                    19,
                    19,
                    18,
                    16,
                    18,
                    18,
                    20,
                    18,
                    9,
                    20,
                    17.5,
                    16,
                    14,
                    16,
                    21,
                    10,
                    19,
                    20,
                    21,
                    14,
                    15,
                    14,
                    17,
                    20,
                    20,
                    14,
                    18,
                    15,
                    17,
                    18,
                    17,
                    18,
                    15,
                    9,
                    12,
                    18,
                    14,
                    17,
                    18,
                    17,
                    17,
                    13,
                    18,
                    15,
                    13,
                    18,
                    18,
                    16,
                    18,
                    18,
                    18,
                    16,
                    19,
                    18,
                    18,
                    16,
                    19,
                    14,
                    16,
                    13,
                    12,
                    16,
                    12,
                    13,
                    16,
                    11,
                    14,
                    13,
                    12,
                    15,
                    16,
                    15,
                    15,
                    16,
                    12,
                    14,
                    11,
                    16,
                    12,
                    14,
                    16,
                    11,
                    11,
                    14,
                    12,
                    12,
                    13,
                    14,
                    12,
                    12,
                    13,
                    15,
                    12,
                    17,
                    13,
                    11,
                    12,
                    13,
                    14,
                    14,
                    14,
                    17,
                    12,
                    14,
                    15,
                    15,
                    19,
                    14,
                    12,
                    13,
                    15,
                    18,
                    14,
                    16,
                    14,
                    14,
                    14,
                    13,
                    13,
                    16,
                    15,
                    12,
                    16,
                    15,
                    16,
                    15,
                    17,
                    12,
                    12,
                    13,
                    10,
                    10,
                    18,
                    15,
                    16,
                    18,
                    20,
                    17,
                    19,
                    18,
                    18,
                    19,
                    18,
                    15,
                    13,
                    18,
                    16,
                    19,
                    19,
                    17,
                    17,
                    15,
                    19,
                    14,
                    18,
                    17,
                    19,
                    18,
                    19,
                    18,
                    17,
                    20,
                    13,
                    18,
                    18,
                    17,
                    18,
                    19,
                    19,
                    16,
                    18,
                    18,
                    18,
                    16,
                    17,
                    18,
                    16,
                    14,
                    18,
                    13,
                    15,
                    19,
                    17,
                    16,
                    16,
                    17,
                    14,
                    14,
                    18,
                    17,
                    15,
                    17,
                    16,
                    15,
                    16,
                    19,
                    17,
                    12,
                    18,
                    15,
                    13,
                    14,
                    14,
                    15,
                    16,
                    11.5,
                    12,
                    13,
                    16,
                    11,
                    18,
                    18,
                    15,
                    10,
                    18,
                    17,
                    18,
                    18,
                    17,
                    17,
                    12,
                    18,
                    19,
                    16,
                    15,
                    15,
                    13,
                    17,
                    17,
                    18,
                    10,
                    12,
                    10,
                    11,
                    15,
                    12,
                    9,
                    10,
                    12,
                    11,
                    11,
                    12,
                    17,
                    11,
                    10,
                    17,
                    11,
                    15,
                    15,
                    12,
                    15,
                    18,
                    15,
                    18,
                    18,
                    15,
                    16,
                    15,
                    11,
                    14,
                    10,
                    13,
                    13,
                    15,
                    14,
                    15,
                    14,
                    14,
                    15,
                    20,
                    17,
                    19,
                    15,
                    14,
                    12,
                    11,
                    15,
                    18,
                    22,
                    15,
                    15,
                    12,
                    20,
                    17,
                    11,
                    12,
                    15,
                    12,
                    12,
                    15,
                    11,
                    13,
                    15,
                    15,
                    14,
                    15,
                    11,
                    17,
                    19,
                    16,
                    16,
                    17,
                    20,
                    20,
                    24,
                    20,
                    18,
                    12,
                    11,
                    15,
                    13,
                    14,
                    14,
                    14,
                    16,
                    13,
                    13,
                    15,
                    15,
                    15,
                    16,
                    15,
                    10,
                    11,
                    0.17,
                    17,
                    17,
                    15,
                    16,
                    14,
                    15,
                    13,
                    11,
                    15,
                    16,
                    13,
                    19,
                    19,
                    19,
                    14,
                    12,
                    11,
                    19,
                    17,
                    20,
                    19,
                    19,
                    18,
                    17,
                    14,
                    21,
                    18,
                    21,
                    18,
                    18,
                    17,
                    19,
                    19,
                    14,
                    19,
                    18,
                    18,
                    18,
                    18,
                    16,
                    19,
                    17,
                    18,
                    20,
                    20,
                    18,
                    20,
                    19,
                    20,
                    17,
                    19,
                    17,
                    18,
                    21,
                    19,
                    19,
                    14,
                    17,
                    18,
                    19,
                    19,
                    19,
                    16,
                    16,
                    20,
                    18,
                    18,
                    18,
                    16,
                    16,
                    16,
                    17,
                    20,
                    18,
                    19,
                    19,
                    18,
                    16,
                    18,
                    21,
                    19,
                    19,
                    17,
                    19,
                    19,
                    18,
                    19,
                    18,
                    17,
                    16,
                    21,
                    20,
                    16,
                    19,
                    21,
                    16.5,
                    22,
                    23,
                    19,
                    12,
                    18,
                    14,
                    17,
                    12,
                    16,
                    18,
                    18,
                    19,
                    17.5,
                    10,
                    18,
                    9,
                    16,
                    18
                  ],
                  "xaxis": "x",
                  "yaxis": "y"
                }
              ],
              "layout": {
                "barmode": "relative",
                "legend": {
                  "tracegroupgap": 0
                },
                "margin": {
                  "t": 60
                },
                "template": {
                  "data": {
                    "bar": [
                      {
                        "error_x": {
                          "color": "#2a3f5f"
                        },
                        "error_y": {
                          "color": "#2a3f5f"
                        },
                        "marker": {
                          "line": {
                            "color": "#E5ECF6",
                            "width": 0.5
                          },
                          "pattern": {
                            "fillmode": "overlay",
                            "size": 10,
                            "solidity": 0.2
                          }
                        },
                        "type": "bar"
                      }
                    ],
                    "barpolar": [
                      {
                        "marker": {
                          "line": {
                            "color": "#E5ECF6",
                            "width": 0.5
                          },
                          "pattern": {
                            "fillmode": "overlay",
                            "size": 10,
                            "solidity": 0.2
                          }
                        },
                        "type": "barpolar"
                      }
                    ],
                    "carpet": [
                      {
                        "aaxis": {
                          "endlinecolor": "#2a3f5f",
                          "gridcolor": "white",
                          "linecolor": "white",
                          "minorgridcolor": "white",
                          "startlinecolor": "#2a3f5f"
                        },
                        "baxis": {
                          "endlinecolor": "#2a3f5f",
                          "gridcolor": "white",
                          "linecolor": "white",
                          "minorgridcolor": "white",
                          "startlinecolor": "#2a3f5f"
                        },
                        "type": "carpet"
                      }
                    ],
                    "choropleth": [
                      {
                        "colorbar": {
                          "outlinewidth": 0,
                          "ticks": ""
                        },
                        "type": "choropleth"
                      }
                    ],
                    "contour": [
                      {
                        "colorbar": {
                          "outlinewidth": 0,
                          "ticks": ""
                        },
                        "colorscale": [
                          [
                            0,
                            "#0d0887"
                          ],
                          [
                            0.1111111111111111,
                            "#46039f"
                          ],
                          [
                            0.2222222222222222,
                            "#7201a8"
                          ],
                          [
                            0.3333333333333333,
                            "#9c179e"
                          ],
                          [
                            0.4444444444444444,
                            "#bd3786"
                          ],
                          [
                            0.5555555555555556,
                            "#d8576b"
                          ],
                          [
                            0.6666666666666666,
                            "#ed7953"
                          ],
                          [
                            0.7777777777777778,
                            "#fb9f3a"
                          ],
                          [
                            0.8888888888888888,
                            "#fdca26"
                          ],
                          [
                            1,
                            "#f0f921"
                          ]
                        ],
                        "type": "contour"
                      }
                    ],
                    "contourcarpet": [
                      {
                        "colorbar": {
                          "outlinewidth": 0,
                          "ticks": ""
                        },
                        "type": "contourcarpet"
                      }
                    ],
                    "heatmap": [
                      {
                        "colorbar": {
                          "outlinewidth": 0,
                          "ticks": ""
                        },
                        "colorscale": [
                          [
                            0,
                            "#0d0887"
                          ],
                          [
                            0.1111111111111111,
                            "#46039f"
                          ],
                          [
                            0.2222222222222222,
                            "#7201a8"
                          ],
                          [
                            0.3333333333333333,
                            "#9c179e"
                          ],
                          [
                            0.4444444444444444,
                            "#bd3786"
                          ],
                          [
                            0.5555555555555556,
                            "#d8576b"
                          ],
                          [
                            0.6666666666666666,
                            "#ed7953"
                          ],
                          [
                            0.7777777777777778,
                            "#fb9f3a"
                          ],
                          [
                            0.8888888888888888,
                            "#fdca26"
                          ],
                          [
                            1,
                            "#f0f921"
                          ]
                        ],
                        "type": "heatmap"
                      }
                    ],
                    "heatmapgl": [
                      {
                        "colorbar": {
                          "outlinewidth": 0,
                          "ticks": ""
                        },
                        "colorscale": [
                          [
                            0,
                            "#0d0887"
                          ],
                          [
                            0.1111111111111111,
                            "#46039f"
                          ],
                          [
                            0.2222222222222222,
                            "#7201a8"
                          ],
                          [
                            0.3333333333333333,
                            "#9c179e"
                          ],
                          [
                            0.4444444444444444,
                            "#bd3786"
                          ],
                          [
                            0.5555555555555556,
                            "#d8576b"
                          ],
                          [
                            0.6666666666666666,
                            "#ed7953"
                          ],
                          [
                            0.7777777777777778,
                            "#fb9f3a"
                          ],
                          [
                            0.8888888888888888,
                            "#fdca26"
                          ],
                          [
                            1,
                            "#f0f921"
                          ]
                        ],
                        "type": "heatmapgl"
                      }
                    ],
                    "histogram": [
                      {
                        "marker": {
                          "pattern": {
                            "fillmode": "overlay",
                            "size": 10,
                            "solidity": 0.2
                          }
                        },
                        "type": "histogram"
                      }
                    ],
                    "histogram2d": [
                      {
                        "colorbar": {
                          "outlinewidth": 0,
                          "ticks": ""
                        },
                        "colorscale": [
                          [
                            0,
                            "#0d0887"
                          ],
                          [
                            0.1111111111111111,
                            "#46039f"
                          ],
                          [
                            0.2222222222222222,
                            "#7201a8"
                          ],
                          [
                            0.3333333333333333,
                            "#9c179e"
                          ],
                          [
                            0.4444444444444444,
                            "#bd3786"
                          ],
                          [
                            0.5555555555555556,
                            "#d8576b"
                          ],
                          [
                            0.6666666666666666,
                            "#ed7953"
                          ],
                          [
                            0.7777777777777778,
                            "#fb9f3a"
                          ],
                          [
                            0.8888888888888888,
                            "#fdca26"
                          ],
                          [
                            1,
                            "#f0f921"
                          ]
                        ],
                        "type": "histogram2d"
                      }
                    ],
                    "histogram2dcontour": [
                      {
                        "colorbar": {
                          "outlinewidth": 0,
                          "ticks": ""
                        },
                        "colorscale": [
                          [
                            0,
                            "#0d0887"
                          ],
                          [
                            0.1111111111111111,
                            "#46039f"
                          ],
                          [
                            0.2222222222222222,
                            "#7201a8"
                          ],
                          [
                            0.3333333333333333,
                            "#9c179e"
                          ],
                          [
                            0.4444444444444444,
                            "#bd3786"
                          ],
                          [
                            0.5555555555555556,
                            "#d8576b"
                          ],
                          [
                            0.6666666666666666,
                            "#ed7953"
                          ],
                          [
                            0.7777777777777778,
                            "#fb9f3a"
                          ],
                          [
                            0.8888888888888888,
                            "#fdca26"
                          ],
                          [
                            1,
                            "#f0f921"
                          ]
                        ],
                        "type": "histogram2dcontour"
                      }
                    ],
                    "mesh3d": [
                      {
                        "colorbar": {
                          "outlinewidth": 0,
                          "ticks": ""
                        },
                        "type": "mesh3d"
                      }
                    ],
                    "parcoords": [
                      {
                        "line": {
                          "colorbar": {
                            "outlinewidth": 0,
                            "ticks": ""
                          }
                        },
                        "type": "parcoords"
                      }
                    ],
                    "pie": [
                      {
                        "automargin": true,
                        "type": "pie"
                      }
                    ],
                    "scatter": [
                      {
                        "fillpattern": {
                          "fillmode": "overlay",
                          "size": 10,
                          "solidity": 0.2
                        },
                        "type": "scatter"
                      }
                    ],
                    "scatter3d": [
                      {
                        "line": {
                          "colorbar": {
                            "outlinewidth": 0,
                            "ticks": ""
                          }
                        },
                        "marker": {
                          "colorbar": {
                            "outlinewidth": 0,
                            "ticks": ""
                          }
                        },
                        "type": "scatter3d"
                      }
                    ],
                    "scattercarpet": [
                      {
                        "marker": {
                          "colorbar": {
                            "outlinewidth": 0,
                            "ticks": ""
                          }
                        },
                        "type": "scattercarpet"
                      }
                    ],
                    "scattergeo": [
                      {
                        "marker": {
                          "colorbar": {
                            "outlinewidth": 0,
                            "ticks": ""
                          }
                        },
                        "type": "scattergeo"
                      }
                    ],
                    "scattergl": [
                      {
                        "marker": {
                          "colorbar": {
                            "outlinewidth": 0,
                            "ticks": ""
                          }
                        },
                        "type": "scattergl"
                      }
                    ],
                    "scattermapbox": [
                      {
                        "marker": {
                          "colorbar": {
                            "outlinewidth": 0,
                            "ticks": ""
                          }
                        },
                        "type": "scattermapbox"
                      }
                    ],
                    "scatterpolar": [
                      {
                        "marker": {
                          "colorbar": {
                            "outlinewidth": 0,
                            "ticks": ""
                          }
                        },
                        "type": "scatterpolar"
                      }
                    ],
                    "scatterpolargl": [
                      {
                        "marker": {
                          "colorbar": {
                            "outlinewidth": 0,
                            "ticks": ""
                          }
                        },
                        "type": "scatterpolargl"
                      }
                    ],
                    "scatterternary": [
                      {
                        "marker": {
                          "colorbar": {
                            "outlinewidth": 0,
                            "ticks": ""
                          }
                        },
                        "type": "scatterternary"
                      }
                    ],
                    "surface": [
                      {
                        "colorbar": {
                          "outlinewidth": 0,
                          "ticks": ""
                        },
                        "colorscale": [
                          [
                            0,
                            "#0d0887"
                          ],
                          [
                            0.1111111111111111,
                            "#46039f"
                          ],
                          [
                            0.2222222222222222,
                            "#7201a8"
                          ],
                          [
                            0.3333333333333333,
                            "#9c179e"
                          ],
                          [
                            0.4444444444444444,
                            "#bd3786"
                          ],
                          [
                            0.5555555555555556,
                            "#d8576b"
                          ],
                          [
                            0.6666666666666666,
                            "#ed7953"
                          ],
                          [
                            0.7777777777777778,
                            "#fb9f3a"
                          ],
                          [
                            0.8888888888888888,
                            "#fdca26"
                          ],
                          [
                            1,
                            "#f0f921"
                          ]
                        ],
                        "type": "surface"
                      }
                    ],
                    "table": [
                      {
                        "cells": {
                          "fill": {
                            "color": "#EBF0F8"
                          },
                          "line": {
                            "color": "white"
                          }
                        },
                        "header": {
                          "fill": {
                            "color": "#C8D4E3"
                          },
                          "line": {
                            "color": "white"
                          }
                        },
                        "type": "table"
                      }
                    ]
                  },
                  "layout": {
                    "annotationdefaults": {
                      "arrowcolor": "#2a3f5f",
                      "arrowhead": 0,
                      "arrowwidth": 1
                    },
                    "autotypenumbers": "strict",
                    "coloraxis": {
                      "colorbar": {
                        "outlinewidth": 0,
                        "ticks": ""
                      }
                    },
                    "colorscale": {
                      "diverging": [
                        [
                          0,
                          "#8e0152"
                        ],
                        [
                          0.1,
                          "#c51b7d"
                        ],
                        [
                          0.2,
                          "#de77ae"
                        ],
                        [
                          0.3,
                          "#f1b6da"
                        ],
                        [
                          0.4,
                          "#fde0ef"
                        ],
                        [
                          0.5,
                          "#f7f7f7"
                        ],
                        [
                          0.6,
                          "#e6f5d0"
                        ],
                        [
                          0.7,
                          "#b8e186"
                        ],
                        [
                          0.8,
                          "#7fbc41"
                        ],
                        [
                          0.9,
                          "#4d9221"
                        ],
                        [
                          1,
                          "#276419"
                        ]
                      ],
                      "sequential": [
                        [
                          0,
                          "#0d0887"
                        ],
                        [
                          0.1111111111111111,
                          "#46039f"
                        ],
                        [
                          0.2222222222222222,
                          "#7201a8"
                        ],
                        [
                          0.3333333333333333,
                          "#9c179e"
                        ],
                        [
                          0.4444444444444444,
                          "#bd3786"
                        ],
                        [
                          0.5555555555555556,
                          "#d8576b"
                        ],
                        [
                          0.6666666666666666,
                          "#ed7953"
                        ],
                        [
                          0.7777777777777778,
                          "#fb9f3a"
                        ],
                        [
                          0.8888888888888888,
                          "#fdca26"
                        ],
                        [
                          1,
                          "#f0f921"
                        ]
                      ],
                      "sequentialminus": [
                        [
                          0,
                          "#0d0887"
                        ],
                        [
                          0.1111111111111111,
                          "#46039f"
                        ],
                        [
                          0.2222222222222222,
                          "#7201a8"
                        ],
                        [
                          0.3333333333333333,
                          "#9c179e"
                        ],
                        [
                          0.4444444444444444,
                          "#bd3786"
                        ],
                        [
                          0.5555555555555556,
                          "#d8576b"
                        ],
                        [
                          0.6666666666666666,
                          "#ed7953"
                        ],
                        [
                          0.7777777777777778,
                          "#fb9f3a"
                        ],
                        [
                          0.8888888888888888,
                          "#fdca26"
                        ],
                        [
                          1,
                          "#f0f921"
                        ]
                      ]
                    },
                    "colorway": [
                      "#636efa",
                      "#EF553B",
                      "#00cc96",
                      "#ab63fa",
                      "#FFA15A",
                      "#19d3f3",
                      "#FF6692",
                      "#B6E880",
                      "#FF97FF",
                      "#FECB52"
                    ],
                    "font": {
                      "color": "#2a3f5f"
                    },
                    "geo": {
                      "bgcolor": "white",
                      "lakecolor": "white",
                      "landcolor": "#E5ECF6",
                      "showlakes": true,
                      "showland": true,
                      "subunitcolor": "white"
                    },
                    "hoverlabel": {
                      "align": "left"
                    },
                    "hovermode": "closest",
                    "mapbox": {
                      "style": "light"
                    },
                    "paper_bgcolor": "white",
                    "plot_bgcolor": "#E5ECF6",
                    "polar": {
                      "angularaxis": {
                        "gridcolor": "white",
                        "linecolor": "white",
                        "ticks": ""
                      },
                      "bgcolor": "#E5ECF6",
                      "radialaxis": {
                        "gridcolor": "white",
                        "linecolor": "white",
                        "ticks": ""
                      }
                    },
                    "scene": {
                      "xaxis": {
                        "backgroundcolor": "#E5ECF6",
                        "gridcolor": "white",
                        "gridwidth": 2,
                        "linecolor": "white",
                        "showbackground": true,
                        "ticks": "",
                        "zerolinecolor": "white"
                      },
                      "yaxis": {
                        "backgroundcolor": "#E5ECF6",
                        "gridcolor": "white",
                        "gridwidth": 2,
                        "linecolor": "white",
                        "showbackground": true,
                        "ticks": "",
                        "zerolinecolor": "white"
                      },
                      "zaxis": {
                        "backgroundcolor": "#E5ECF6",
                        "gridcolor": "white",
                        "gridwidth": 2,
                        "linecolor": "white",
                        "showbackground": true,
                        "ticks": "",
                        "zerolinecolor": "white"
                      }
                    },
                    "shapedefaults": {
                      "line": {
                        "color": "#2a3f5f"
                      }
                    },
                    "ternary": {
                      "aaxis": {
                        "gridcolor": "white",
                        "linecolor": "white",
                        "ticks": ""
                      },
                      "baxis": {
                        "gridcolor": "white",
                        "linecolor": "white",
                        "ticks": ""
                      },
                      "bgcolor": "#E5ECF6",
                      "caxis": {
                        "gridcolor": "white",
                        "linecolor": "white",
                        "ticks": ""
                      }
                    },
                    "title": {
                      "x": 0.05
                    },
                    "xaxis": {
                      "automargin": true,
                      "gridcolor": "white",
                      "linecolor": "white",
                      "ticks": "",
                      "title": {
                        "standoff": 15
                      },
                      "zerolinecolor": "white",
                      "zerolinewidth": 2
                    },
                    "yaxis": {
                      "automargin": true,
                      "gridcolor": "white",
                      "linecolor": "white",
                      "ticks": "",
                      "title": {
                        "standoff": 15
                      },
                      "zerolinecolor": "white",
                      "zerolinewidth": 2
                    }
                  }
                },
                "xaxis": {
                  "anchor": "y",
                  "domain": [
                    0,
                    1
                  ],
                  "title": {
                    "text": "prom-tam-foliculos-ovario-der-mm"
                  }
                },
                "yaxis": {
                  "anchor": "x",
                  "domain": [
                    0,
                    1
                  ],
                  "title": {
                    "text": "count"
                  }
                }
              }
            }
          },
          "metadata": {},
          "output_type": "display_data"
        }
      ],
      "source": [
        "#Histograma de variable sin outliers\n",
        "figura11 = px.histogram(df, x='prom-tam-foliculos-ovario-der-mm', nbins=60)\n",
        "figura11.show()"
      ]
    },
    {
      "cell_type": "code",
      "execution_count": 95,
      "metadata": {},
      "outputs": [
        {
          "data": {
            "application/vnd.plotly.v1+json": {
              "config": {
                "plotlyServerURL": "https://plot.ly"
              },
              "data": [
                {
                  "alignmentgroup": "True",
                  "bingroup": "x",
                  "hovertemplate": "frecuencia-cardiaca-bpm=%{x}<br>count=%{y}<extra></extra>",
                  "legendgroup": "",
                  "marker": {
                    "color": "#636efa",
                    "pattern": {
                      "shape": ""
                    }
                  },
                  "name": "",
                  "nbinsx": 30,
                  "offsetgroup": "",
                  "orientation": "v",
                  "showlegend": false,
                  "type": "histogram",
                  "x": [
                    78,
                    74,
                    72,
                    72,
                    72,
                    78,
                    72,
                    72,
                    72,
                    80,
                    80,
                    72,
                    72,
                    74,
                    74,
                    78,
                    80,
                    72,
                    72,
                    70,
                    72,
                    74,
                    74,
                    72,
                    80,
                    75,
                    72,
                    78,
                    78,
                    78,
                    72,
                    72,
                    72,
                    76,
                    72,
                    74,
                    70,
                    78,
                    78,
                    72,
                    72,
                    78,
                    70,
                    72,
                    74,
                    78,
                    72,
                    72,
                    72,
                    72,
                    70,
                    70,
                    72,
                    72,
                    72,
                    72,
                    74,
                    78,
                    78,
                    70,
                    80,
                    72,
                    70,
                    78,
                    78,
                    80,
                    80,
                    72,
                    74,
                    70,
                    72,
                    72,
                    80,
                    72,
                    80,
                    72,
                    72,
                    72,
                    74,
                    70,
                    74,
                    80,
                    74,
                    72,
                    78,
                    74,
                    78,
                    72,
                    70,
                    80,
                    78,
                    78,
                    72,
                    78,
                    72,
                    78,
                    78,
                    72,
                    74,
                    72,
                    72,
                    72,
                    74,
                    72,
                    72,
                    72,
                    72,
                    72,
                    72,
                    80,
                    74,
                    78,
                    72,
                    76,
                    70,
                    72,
                    74,
                    78,
                    72,
                    72,
                    72,
                    70,
                    72,
                    72,
                    72,
                    70,
                    70,
                    72,
                    72,
                    78,
                    72,
                    70,
                    72,
                    72,
                    74,
                    72,
                    80,
                    74,
                    70,
                    72,
                    80,
                    78,
                    76,
                    72,
                    74,
                    72,
                    76,
                    72,
                    73,
                    74,
                    73,
                    72,
                    73,
                    72,
                    74,
                    73,
                    74,
                    73,
                    74,
                    72,
                    73,
                    74,
                    75,
                    72,
                    72,
                    74,
                    73,
                    74,
                    74,
                    72,
                    74,
                    73,
                    73,
                    72,
                    73,
                    72,
                    74,
                    75,
                    72,
                    74,
                    73,
                    74,
                    72,
                    72,
                    74,
                    72,
                    73,
                    72,
                    72,
                    74,
                    72,
                    74,
                    73,
                    72,
                    73,
                    75,
                    73,
                    72,
                    74,
                    72,
                    78,
                    82,
                    72,
                    72,
                    74,
                    72,
                    72,
                    72,
                    78,
                    72,
                    80,
                    78,
                    70,
                    70,
                    72,
                    72,
                    74,
                    72,
                    72,
                    72,
                    72,
                    72,
                    72,
                    72,
                    72,
                    72,
                    72,
                    72,
                    72,
                    72,
                    72,
                    72,
                    72,
                    73,
                    74,
                    72,
                    72,
                    72,
                    72,
                    72,
                    72,
                    72,
                    72,
                    72,
                    74,
                    72,
                    72,
                    74,
                    72,
                    70,
                    72,
                    74,
                    74,
                    72,
                    72,
                    72,
                    72,
                    70,
                    72,
                    72,
                    72,
                    78,
                    72,
                    74,
                    72,
                    72,
                    72,
                    72,
                    72,
                    70,
                    74,
                    72,
                    72,
                    72,
                    72,
                    78,
                    78,
                    72,
                    70,
                    74,
                    72,
                    70,
                    72,
                    72,
                    72,
                    74,
                    72,
                    72,
                    72,
                    72,
                    72,
                    70,
                    74,
                    72,
                    72,
                    72,
                    72,
                    72,
                    72,
                    74,
                    72,
                    78,
                    72,
                    72,
                    74,
                    72,
                    72,
                    72,
                    72,
                    72,
                    78,
                    74,
                    80,
                    72,
                    74,
                    70,
                    72,
                    72,
                    70,
                    72,
                    80,
                    74,
                    78,
                    78,
                    78,
                    78,
                    78,
                    78,
                    75,
                    78,
                    78,
                    78,
                    78,
                    74,
                    72,
                    72,
                    72,
                    72,
                    78,
                    72,
                    74,
                    80,
                    72,
                    72,
                    74,
                    78,
                    70,
                    72,
                    78,
                    74,
                    72,
                    72,
                    72,
                    72,
                    72,
                    74,
                    74,
                    72,
                    72,
                    72,
                    70,
                    74,
                    72,
                    72,
                    74,
                    72,
                    74,
                    72,
                    82,
                    72,
                    72,
                    72,
                    72,
                    72,
                    74,
                    74,
                    72,
                    74,
                    72,
                    72,
                    74,
                    70,
                    72,
                    72,
                    74,
                    72,
                    80,
                    74,
                    72,
                    74,
                    78,
                    72,
                    74,
                    72,
                    74,
                    72,
                    74,
                    72,
                    78,
                    78,
                    74,
                    74,
                    80,
                    74,
                    72,
                    74,
                    72,
                    74,
                    78,
                    74,
                    74,
                    72,
                    74,
                    74,
                    72,
                    74,
                    72,
                    72,
                    72,
                    72,
                    72,
                    72,
                    72,
                    70,
                    74,
                    72,
                    72,
                    70,
                    74,
                    72,
                    78,
                    82,
                    72,
                    72,
                    72,
                    74,
                    72,
                    80,
                    72,
                    74,
                    72,
                    72,
                    70,
                    78,
                    80,
                    72,
                    74,
                    72,
                    78,
                    78,
                    72,
                    70,
                    70,
                    72,
                    72,
                    74,
                    80,
                    80,
                    72,
                    78,
                    70,
                    72,
                    78,
                    74,
                    72,
                    72,
                    70,
                    70,
                    72,
                    72,
                    72,
                    80,
                    74,
                    74,
                    72,
                    72,
                    80,
                    72,
                    72,
                    72,
                    80,
                    72,
                    70,
                    72,
                    72,
                    74,
                    72,
                    72,
                    80,
                    70,
                    72,
                    74,
                    78,
                    74,
                    78,
                    74,
                    70,
                    72,
                    72,
                    72,
                    72,
                    72,
                    72,
                    72,
                    72,
                    72,
                    72,
                    74,
                    72,
                    72,
                    72,
                    72,
                    74,
                    74,
                    72,
                    70,
                    72,
                    72,
                    72,
                    70,
                    70,
                    70,
                    72,
                    72,
                    74,
                    74,
                    80
                  ],
                  "xaxis": "x",
                  "yaxis": "y"
                }
              ],
              "layout": {
                "barmode": "relative",
                "legend": {
                  "tracegroupgap": 0
                },
                "margin": {
                  "t": 60
                },
                "template": {
                  "data": {
                    "bar": [
                      {
                        "error_x": {
                          "color": "#2a3f5f"
                        },
                        "error_y": {
                          "color": "#2a3f5f"
                        },
                        "marker": {
                          "line": {
                            "color": "#E5ECF6",
                            "width": 0.5
                          },
                          "pattern": {
                            "fillmode": "overlay",
                            "size": 10,
                            "solidity": 0.2
                          }
                        },
                        "type": "bar"
                      }
                    ],
                    "barpolar": [
                      {
                        "marker": {
                          "line": {
                            "color": "#E5ECF6",
                            "width": 0.5
                          },
                          "pattern": {
                            "fillmode": "overlay",
                            "size": 10,
                            "solidity": 0.2
                          }
                        },
                        "type": "barpolar"
                      }
                    ],
                    "carpet": [
                      {
                        "aaxis": {
                          "endlinecolor": "#2a3f5f",
                          "gridcolor": "white",
                          "linecolor": "white",
                          "minorgridcolor": "white",
                          "startlinecolor": "#2a3f5f"
                        },
                        "baxis": {
                          "endlinecolor": "#2a3f5f",
                          "gridcolor": "white",
                          "linecolor": "white",
                          "minorgridcolor": "white",
                          "startlinecolor": "#2a3f5f"
                        },
                        "type": "carpet"
                      }
                    ],
                    "choropleth": [
                      {
                        "colorbar": {
                          "outlinewidth": 0,
                          "ticks": ""
                        },
                        "type": "choropleth"
                      }
                    ],
                    "contour": [
                      {
                        "colorbar": {
                          "outlinewidth": 0,
                          "ticks": ""
                        },
                        "colorscale": [
                          [
                            0,
                            "#0d0887"
                          ],
                          [
                            0.1111111111111111,
                            "#46039f"
                          ],
                          [
                            0.2222222222222222,
                            "#7201a8"
                          ],
                          [
                            0.3333333333333333,
                            "#9c179e"
                          ],
                          [
                            0.4444444444444444,
                            "#bd3786"
                          ],
                          [
                            0.5555555555555556,
                            "#d8576b"
                          ],
                          [
                            0.6666666666666666,
                            "#ed7953"
                          ],
                          [
                            0.7777777777777778,
                            "#fb9f3a"
                          ],
                          [
                            0.8888888888888888,
                            "#fdca26"
                          ],
                          [
                            1,
                            "#f0f921"
                          ]
                        ],
                        "type": "contour"
                      }
                    ],
                    "contourcarpet": [
                      {
                        "colorbar": {
                          "outlinewidth": 0,
                          "ticks": ""
                        },
                        "type": "contourcarpet"
                      }
                    ],
                    "heatmap": [
                      {
                        "colorbar": {
                          "outlinewidth": 0,
                          "ticks": ""
                        },
                        "colorscale": [
                          [
                            0,
                            "#0d0887"
                          ],
                          [
                            0.1111111111111111,
                            "#46039f"
                          ],
                          [
                            0.2222222222222222,
                            "#7201a8"
                          ],
                          [
                            0.3333333333333333,
                            "#9c179e"
                          ],
                          [
                            0.4444444444444444,
                            "#bd3786"
                          ],
                          [
                            0.5555555555555556,
                            "#d8576b"
                          ],
                          [
                            0.6666666666666666,
                            "#ed7953"
                          ],
                          [
                            0.7777777777777778,
                            "#fb9f3a"
                          ],
                          [
                            0.8888888888888888,
                            "#fdca26"
                          ],
                          [
                            1,
                            "#f0f921"
                          ]
                        ],
                        "type": "heatmap"
                      }
                    ],
                    "heatmapgl": [
                      {
                        "colorbar": {
                          "outlinewidth": 0,
                          "ticks": ""
                        },
                        "colorscale": [
                          [
                            0,
                            "#0d0887"
                          ],
                          [
                            0.1111111111111111,
                            "#46039f"
                          ],
                          [
                            0.2222222222222222,
                            "#7201a8"
                          ],
                          [
                            0.3333333333333333,
                            "#9c179e"
                          ],
                          [
                            0.4444444444444444,
                            "#bd3786"
                          ],
                          [
                            0.5555555555555556,
                            "#d8576b"
                          ],
                          [
                            0.6666666666666666,
                            "#ed7953"
                          ],
                          [
                            0.7777777777777778,
                            "#fb9f3a"
                          ],
                          [
                            0.8888888888888888,
                            "#fdca26"
                          ],
                          [
                            1,
                            "#f0f921"
                          ]
                        ],
                        "type": "heatmapgl"
                      }
                    ],
                    "histogram": [
                      {
                        "marker": {
                          "pattern": {
                            "fillmode": "overlay",
                            "size": 10,
                            "solidity": 0.2
                          }
                        },
                        "type": "histogram"
                      }
                    ],
                    "histogram2d": [
                      {
                        "colorbar": {
                          "outlinewidth": 0,
                          "ticks": ""
                        },
                        "colorscale": [
                          [
                            0,
                            "#0d0887"
                          ],
                          [
                            0.1111111111111111,
                            "#46039f"
                          ],
                          [
                            0.2222222222222222,
                            "#7201a8"
                          ],
                          [
                            0.3333333333333333,
                            "#9c179e"
                          ],
                          [
                            0.4444444444444444,
                            "#bd3786"
                          ],
                          [
                            0.5555555555555556,
                            "#d8576b"
                          ],
                          [
                            0.6666666666666666,
                            "#ed7953"
                          ],
                          [
                            0.7777777777777778,
                            "#fb9f3a"
                          ],
                          [
                            0.8888888888888888,
                            "#fdca26"
                          ],
                          [
                            1,
                            "#f0f921"
                          ]
                        ],
                        "type": "histogram2d"
                      }
                    ],
                    "histogram2dcontour": [
                      {
                        "colorbar": {
                          "outlinewidth": 0,
                          "ticks": ""
                        },
                        "colorscale": [
                          [
                            0,
                            "#0d0887"
                          ],
                          [
                            0.1111111111111111,
                            "#46039f"
                          ],
                          [
                            0.2222222222222222,
                            "#7201a8"
                          ],
                          [
                            0.3333333333333333,
                            "#9c179e"
                          ],
                          [
                            0.4444444444444444,
                            "#bd3786"
                          ],
                          [
                            0.5555555555555556,
                            "#d8576b"
                          ],
                          [
                            0.6666666666666666,
                            "#ed7953"
                          ],
                          [
                            0.7777777777777778,
                            "#fb9f3a"
                          ],
                          [
                            0.8888888888888888,
                            "#fdca26"
                          ],
                          [
                            1,
                            "#f0f921"
                          ]
                        ],
                        "type": "histogram2dcontour"
                      }
                    ],
                    "mesh3d": [
                      {
                        "colorbar": {
                          "outlinewidth": 0,
                          "ticks": ""
                        },
                        "type": "mesh3d"
                      }
                    ],
                    "parcoords": [
                      {
                        "line": {
                          "colorbar": {
                            "outlinewidth": 0,
                            "ticks": ""
                          }
                        },
                        "type": "parcoords"
                      }
                    ],
                    "pie": [
                      {
                        "automargin": true,
                        "type": "pie"
                      }
                    ],
                    "scatter": [
                      {
                        "fillpattern": {
                          "fillmode": "overlay",
                          "size": 10,
                          "solidity": 0.2
                        },
                        "type": "scatter"
                      }
                    ],
                    "scatter3d": [
                      {
                        "line": {
                          "colorbar": {
                            "outlinewidth": 0,
                            "ticks": ""
                          }
                        },
                        "marker": {
                          "colorbar": {
                            "outlinewidth": 0,
                            "ticks": ""
                          }
                        },
                        "type": "scatter3d"
                      }
                    ],
                    "scattercarpet": [
                      {
                        "marker": {
                          "colorbar": {
                            "outlinewidth": 0,
                            "ticks": ""
                          }
                        },
                        "type": "scattercarpet"
                      }
                    ],
                    "scattergeo": [
                      {
                        "marker": {
                          "colorbar": {
                            "outlinewidth": 0,
                            "ticks": ""
                          }
                        },
                        "type": "scattergeo"
                      }
                    ],
                    "scattergl": [
                      {
                        "marker": {
                          "colorbar": {
                            "outlinewidth": 0,
                            "ticks": ""
                          }
                        },
                        "type": "scattergl"
                      }
                    ],
                    "scattermapbox": [
                      {
                        "marker": {
                          "colorbar": {
                            "outlinewidth": 0,
                            "ticks": ""
                          }
                        },
                        "type": "scattermapbox"
                      }
                    ],
                    "scatterpolar": [
                      {
                        "marker": {
                          "colorbar": {
                            "outlinewidth": 0,
                            "ticks": ""
                          }
                        },
                        "type": "scatterpolar"
                      }
                    ],
                    "scatterpolargl": [
                      {
                        "marker": {
                          "colorbar": {
                            "outlinewidth": 0,
                            "ticks": ""
                          }
                        },
                        "type": "scatterpolargl"
                      }
                    ],
                    "scatterternary": [
                      {
                        "marker": {
                          "colorbar": {
                            "outlinewidth": 0,
                            "ticks": ""
                          }
                        },
                        "type": "scatterternary"
                      }
                    ],
                    "surface": [
                      {
                        "colorbar": {
                          "outlinewidth": 0,
                          "ticks": ""
                        },
                        "colorscale": [
                          [
                            0,
                            "#0d0887"
                          ],
                          [
                            0.1111111111111111,
                            "#46039f"
                          ],
                          [
                            0.2222222222222222,
                            "#7201a8"
                          ],
                          [
                            0.3333333333333333,
                            "#9c179e"
                          ],
                          [
                            0.4444444444444444,
                            "#bd3786"
                          ],
                          [
                            0.5555555555555556,
                            "#d8576b"
                          ],
                          [
                            0.6666666666666666,
                            "#ed7953"
                          ],
                          [
                            0.7777777777777778,
                            "#fb9f3a"
                          ],
                          [
                            0.8888888888888888,
                            "#fdca26"
                          ],
                          [
                            1,
                            "#f0f921"
                          ]
                        ],
                        "type": "surface"
                      }
                    ],
                    "table": [
                      {
                        "cells": {
                          "fill": {
                            "color": "#EBF0F8"
                          },
                          "line": {
                            "color": "white"
                          }
                        },
                        "header": {
                          "fill": {
                            "color": "#C8D4E3"
                          },
                          "line": {
                            "color": "white"
                          }
                        },
                        "type": "table"
                      }
                    ]
                  },
                  "layout": {
                    "annotationdefaults": {
                      "arrowcolor": "#2a3f5f",
                      "arrowhead": 0,
                      "arrowwidth": 1
                    },
                    "autotypenumbers": "strict",
                    "coloraxis": {
                      "colorbar": {
                        "outlinewidth": 0,
                        "ticks": ""
                      }
                    },
                    "colorscale": {
                      "diverging": [
                        [
                          0,
                          "#8e0152"
                        ],
                        [
                          0.1,
                          "#c51b7d"
                        ],
                        [
                          0.2,
                          "#de77ae"
                        ],
                        [
                          0.3,
                          "#f1b6da"
                        ],
                        [
                          0.4,
                          "#fde0ef"
                        ],
                        [
                          0.5,
                          "#f7f7f7"
                        ],
                        [
                          0.6,
                          "#e6f5d0"
                        ],
                        [
                          0.7,
                          "#b8e186"
                        ],
                        [
                          0.8,
                          "#7fbc41"
                        ],
                        [
                          0.9,
                          "#4d9221"
                        ],
                        [
                          1,
                          "#276419"
                        ]
                      ],
                      "sequential": [
                        [
                          0,
                          "#0d0887"
                        ],
                        [
                          0.1111111111111111,
                          "#46039f"
                        ],
                        [
                          0.2222222222222222,
                          "#7201a8"
                        ],
                        [
                          0.3333333333333333,
                          "#9c179e"
                        ],
                        [
                          0.4444444444444444,
                          "#bd3786"
                        ],
                        [
                          0.5555555555555556,
                          "#d8576b"
                        ],
                        [
                          0.6666666666666666,
                          "#ed7953"
                        ],
                        [
                          0.7777777777777778,
                          "#fb9f3a"
                        ],
                        [
                          0.8888888888888888,
                          "#fdca26"
                        ],
                        [
                          1,
                          "#f0f921"
                        ]
                      ],
                      "sequentialminus": [
                        [
                          0,
                          "#0d0887"
                        ],
                        [
                          0.1111111111111111,
                          "#46039f"
                        ],
                        [
                          0.2222222222222222,
                          "#7201a8"
                        ],
                        [
                          0.3333333333333333,
                          "#9c179e"
                        ],
                        [
                          0.4444444444444444,
                          "#bd3786"
                        ],
                        [
                          0.5555555555555556,
                          "#d8576b"
                        ],
                        [
                          0.6666666666666666,
                          "#ed7953"
                        ],
                        [
                          0.7777777777777778,
                          "#fb9f3a"
                        ],
                        [
                          0.8888888888888888,
                          "#fdca26"
                        ],
                        [
                          1,
                          "#f0f921"
                        ]
                      ]
                    },
                    "colorway": [
                      "#636efa",
                      "#EF553B",
                      "#00cc96",
                      "#ab63fa",
                      "#FFA15A",
                      "#19d3f3",
                      "#FF6692",
                      "#B6E880",
                      "#FF97FF",
                      "#FECB52"
                    ],
                    "font": {
                      "color": "#2a3f5f"
                    },
                    "geo": {
                      "bgcolor": "white",
                      "lakecolor": "white",
                      "landcolor": "#E5ECF6",
                      "showlakes": true,
                      "showland": true,
                      "subunitcolor": "white"
                    },
                    "hoverlabel": {
                      "align": "left"
                    },
                    "hovermode": "closest",
                    "mapbox": {
                      "style": "light"
                    },
                    "paper_bgcolor": "white",
                    "plot_bgcolor": "#E5ECF6",
                    "polar": {
                      "angularaxis": {
                        "gridcolor": "white",
                        "linecolor": "white",
                        "ticks": ""
                      },
                      "bgcolor": "#E5ECF6",
                      "radialaxis": {
                        "gridcolor": "white",
                        "linecolor": "white",
                        "ticks": ""
                      }
                    },
                    "scene": {
                      "xaxis": {
                        "backgroundcolor": "#E5ECF6",
                        "gridcolor": "white",
                        "gridwidth": 2,
                        "linecolor": "white",
                        "showbackground": true,
                        "ticks": "",
                        "zerolinecolor": "white"
                      },
                      "yaxis": {
                        "backgroundcolor": "#E5ECF6",
                        "gridcolor": "white",
                        "gridwidth": 2,
                        "linecolor": "white",
                        "showbackground": true,
                        "ticks": "",
                        "zerolinecolor": "white"
                      },
                      "zaxis": {
                        "backgroundcolor": "#E5ECF6",
                        "gridcolor": "white",
                        "gridwidth": 2,
                        "linecolor": "white",
                        "showbackground": true,
                        "ticks": "",
                        "zerolinecolor": "white"
                      }
                    },
                    "shapedefaults": {
                      "line": {
                        "color": "#2a3f5f"
                      }
                    },
                    "ternary": {
                      "aaxis": {
                        "gridcolor": "white",
                        "linecolor": "white",
                        "ticks": ""
                      },
                      "baxis": {
                        "gridcolor": "white",
                        "linecolor": "white",
                        "ticks": ""
                      },
                      "bgcolor": "#E5ECF6",
                      "caxis": {
                        "gridcolor": "white",
                        "linecolor": "white",
                        "ticks": ""
                      }
                    },
                    "title": {
                      "x": 0.05
                    },
                    "xaxis": {
                      "automargin": true,
                      "gridcolor": "white",
                      "linecolor": "white",
                      "ticks": "",
                      "title": {
                        "standoff": 15
                      },
                      "zerolinecolor": "white",
                      "zerolinewidth": 2
                    },
                    "yaxis": {
                      "automargin": true,
                      "gridcolor": "white",
                      "linecolor": "white",
                      "ticks": "",
                      "title": {
                        "standoff": 15
                      },
                      "zerolinecolor": "white",
                      "zerolinewidth": 2
                    }
                  }
                },
                "xaxis": {
                  "anchor": "y",
                  "domain": [
                    0,
                    1
                  ],
                  "title": {
                    "text": "frecuencia-cardiaca-bpm"
                  }
                },
                "yaxis": {
                  "anchor": "x",
                  "domain": [
                    0,
                    1
                  ],
                  "title": {
                    "text": "count"
                  }
                }
              }
            }
          },
          "metadata": {},
          "output_type": "display_data"
        }
      ],
      "source": [
        "#Histograma de variable sin outliers\n",
        "figura12 = px.histogram(df, x='frecuencia-cardiaca-bpm', nbins=30)\n",
        "figura12.show()"
      ]
    },
    {
      "cell_type": "markdown",
      "metadata": {
        "id": "F_csWehjc8DB"
      },
      "source": [
        "Iniciamos dividiendo los parametros o daos en caracteristicas y etiquetas para hacer el ejercicio, tomamos en relación las que tiene el grado más alto de correlación"
      ]
    },
    {
      "cell_type": "code",
      "execution_count": 22,
      "metadata": {
        "id": "q_fTILATc8DB",
        "outputId": "b10f6f10-e59f-4c87-b8ff-7e864ea760e5"
      },
      "outputs": [
        {
          "data": {
            "text/plain": [
              "pcos(s-n)                                    1.000000\n",
              "nro-foliculos-ovario-der                     0.646773\n",
              "nro-foliculos-ovario-izq                     0.599230\n",
              "oscurecimiento-piel(s-n)                     0.476577\n",
              "crecimiento-cabello(s-n)                     0.462515\n",
              "ganancia-peso(s-n)                           0.436079\n",
              "ciclo-r/i                                    0.402238\n",
              "comida-rapida(s-n)                           0.376935\n",
              "barro-espinilla(s-n)                         0.278572\n",
              "h-amh-ng/mL                                  0.261103\n",
              "peso-kg                                      0.213608\n",
              "imc                                          0.195519\n",
              "perdida-cabello(s-n)                         0.167060\n",
              "cadera-pulg                                  0.164963\n",
              "cintura-pulg                                 0.163007\n",
              "prom-tam-foliculos-ovario-izq-mm             0.104112\n",
              "frecuencia-cardiaca-bpm                      0.098038\n",
              "endometrio-mm                                0.093807\n",
              "hemoglobina-g/dl                             0.091483\n",
              "prom-tam-foliculos-ovario-der-mm             0.090889\n",
              "ex-vit-d3-ng/mL                              0.084717\n",
              "estatura-cm                                  0.080342\n",
              "ejercicio-regular(s-n)                       0.065091\n",
              "h-lh-mIU/mL                                  0.063684\n",
              "ex-rbs-mg/dl                                 0.051025\n",
              "paciente-id                                  0.047513\n",
              "(s-n)                                        0.047513\n",
              "grupo-sanguineo                              0.034753\n",
              "frecuencia-respiratoria-respiraciones/min    0.033239\n",
              "ps-diastolica-mmHg                           0.020391\n",
              "h-beta-hcg-II-mIU/mL                         0.010377\n",
              "ind-cintura/cadera                           0.003226\n",
              "h-prl-ng/mL                                 -0.005776\n",
              "h-tsh-mIU/L                                 -0.012730\n",
              "ps-sistolica-mmHg                           -0.018052\n",
              "h-fsh/h-lh                                  -0.019572\n",
              "h-beta-hcg-I-mIU/mL                         -0.031039\n",
              "h-fsh-mIU/mL                                -0.031185\n",
              "embarazada(s-n)                             -0.034512\n",
              "h-prg-ng/mL                                 -0.045556\n",
              "nro-abortos                                 -0.054790\n",
              "tiempo-casada-a                             -0.111842\n",
              "edad-a                                      -0.167682\n",
              "duracion-ciclo-d                            -0.184077\n",
              "Name: pcos(s-n), dtype: float64"
            ]
          },
          "execution_count": 22,
          "metadata": {},
          "output_type": "execute_result"
        }
      ],
      "source": [
        "# Determinamos el valor de correlacion de todos los parametros para el parametro pcos(s-n)\n",
        "# desde el más significativo al menos\n",
        "corrmat = df.corr()\n",
        "corrmat['pcos(s-n)'].sort_values(ascending=False)\n"
      ]
    },
    {
      "cell_type": "code",
      "execution_count": 23,
      "metadata": {
        "id": "ArIgbP7Oc8DB",
        "outputId": "d8e3b3f1-3e1e-447e-ddc0-00b32a64a200"
      },
      "outputs": [
        {
          "data": {
            "image/png": "[encoded data removed]",
            "text/plain": [
              "<Figure size 1800x1800 with 2 Axes>"
            ]
          },
          "metadata": {},
          "output_type": "display_data"
        }
      ],
      "source": [
        "#Determinamos una matriz de correlación de todos los valores de cada parametro\n",
        "corrmat = df.corr()\n",
        "plt.subplots(figsize=(18,18))\n",
        "sns.heatmap(corrmat,cmap=\"Pastel1\", square=True);\n"
      ]
    },
    {
      "cell_type": "code",
      "execution_count": 24,
      "metadata": {
        "id": "3b595Atxc8DC",
        "outputId": "482e1463-0576-4904-ff75-14844b640eae"
      },
      "outputs": [
        {
          "name": "stdout",
          "output_type": "stream",
          "text": [
            "Precisión del modelo: 1.00\n"
          ]
        }
      ],
      "source": [
        "# 1. Escalado de características\n",
        "# 2. Reducción de dimensionalidad (PCA)\n",
        "# 3. Modelo de clasificación (Regresión Logística)\n",
        "pipeline = Pipeline([\n",
        "    ('scaler', StandardScaler()),  # Paso 1: Escalado\n",
        "    ('pca', PCA(n_components=2)),  # Paso 2: PCA (reducción de dimensionalidad)\n",
        "    ('classifier', LogisticRegression())  # Paso 3: Modelo de clasificación\n",
        "])\n",
        "\n",
        "# Dividir el conjunto de datos en características (X) y etiquetas (y)\n",
        "X = df[[\"edad-a\", \"imc\", 'ciclo-r/i', 'duracion-ciclo-d', 'nro-abortos',\n",
        "        'h-beta-hcg-II-mIU/mL', 'h-fsh-mIU/mL', 'h-lh-mIU/mL',\n",
        "        'h-fsh/h-lh', 'h-amh-ng/mL', 'h-prg-ng/mL', 'barro-espinilla(s-n)',\n",
        "        'ejercicio-regular(s-n)', 'nro-foliculos-ovario-izq',\n",
        "        'nro-foliculos-ovario-der', 'prom-tam-foliculos-ovario-izq-mm',\n",
        "        'prom-tam-foliculos-ovario-der-mm', 'endometrio-mm']]\n",
        "y = df['pcos(s-n)']\n",
        "\n",
        "# Entrenar el pipeline con datos de ejemplo\n",
        "X_train = df[[\"edad-a\", \"imc\", 'ciclo-r/i', 'duracion-ciclo-d', 'nro-abortos',\n",
        "        'h-beta-hcg-II-mIU/mL', 'h-fsh-mIU/mL', 'h-lh-mIU/mL',\n",
        "        'h-fsh/h-lh', 'h-amh-ng/mL', 'h-prg-ng/mL', 'barro-espinilla(s-n)',\n",
        "        'ejercicio-regular(s-n)', 'nro-foliculos-ovario-izq',\n",
        "        'nro-foliculos-ovario-der', 'prom-tam-foliculos-ovario-izq-mm',\n",
        "        'prom-tam-foliculos-ovario-der-mm', 'endometrio-mm']]  # Datos de entrenamiento\n",
        "y_train = df['pcos(s-n)']# Etiquetas de clase\n",
        "pipeline.fit(X_train, y_train)\n",
        "\n",
        "# Predecir con el pipeline\n",
        "X_test = df[[\"edad-a\", \"imc\", 'ciclo-r/i', 'duracion-ciclo-d', 'nro-abortos',\n",
        "        'h-beta-hcg-II-mIU/mL', 'h-fsh-mIU/mL', 'h-lh-mIU/mL',\n",
        "        'h-fsh/h-lh', 'h-amh-ng/mL', 'h-prg-ng/mL', 'barro-espinilla(s-n)',\n",
        "        'ejercicio-regular(s-n)', 'nro-foliculos-ovario-izq',\n",
        "        'nro-foliculos-ovario-der', 'prom-tam-foliculos-ovario-izq-mm',\n",
        "        'prom-tam-foliculos-ovario-der-mm', 'endometrio-mm']] # Datos de prueba\n",
        "y_test = pipeline.predict(X_test)\n",
        "\n",
        "# Evaluar el rendimiento del modelo\n",
        "accuracy = pipeline.score(X_test, y_test)\n",
        "print(f\"Precisión del modelo: {accuracy:.2f}\")"
      ]
    }
  ],
  "metadata": {
    "colab": {
      "include_colab_link": true,
      "provenance": []
    },
    "kernelspec": {
      "display_name": "Python 3",
      "language": "python",
      "name": "python3"
    },
    "language_info": {
      "codemirror_mode": {
        "name": "ipython",
        "version": 3
      },
      "file_extension": ".py",
      "mimetype": "text/x-python",
      "name": "python",
      "nbconvert_exporter": "python",
      "pygments_lexer": "ipython3",
      "version": "3.12.2"
    }
  },
  "nbformat": 4,
  "nbformat_minor": 0
}
