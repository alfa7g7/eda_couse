{
 "cells": [
  {
   "cell_type": "markdown",
   "metadata": {},
   "source": [
    "# **Síndrome del ovario poliquístico (SOPQ)**\n",
    "\n"
   ]
  },
  {
   "cell_type": "markdown",
   "metadata": {},
   "source": [
    "## Dataset tomado de:\n",
    "author = {Prasoon Kottarathil},\n",
    "title = {Polycystic ovary syndrome (PCOS)},\n",
    "year = {2020},\n",
    "publisher = {kaggle},\n",
    "journal = {Kaggle Dataset},\n",
    "how published = {\\url{https://www.kaggle.com/prasoonkottarathil/polycystic-ovary-syndrome-pcos}}\n",
    "\n",
    "El **Dataset** contiene todos los **parámetros físicos y clínicos** para determinar problemas relacionados con el **síndrome de ovario poliquístico (PCOS)** y la **infertilidad**. Los datos se recopilaron en **10 hospitales diferentes en Kerala, India**."
   ]
  },
  {
   "cell_type": "markdown",
   "metadata": {},
   "source": [
    "## Convenciones de encabezados y unidades de medida\n",
    "\n",
    "1. **pcos** significa síndrome de ovario poliquistico \n",
    "2. Por cada pregunta de respuesta tipo si-no (si = 1, no = 0), se identifica en el encabezado de cada parametro al final del nombre del mismo así: (s-n)\n",
    "3. Grupo sanguíneo (A+ = 11, A- = 12, B+ = 13, B-= 14, O+ = 15, O- = 16, AB+ = 17, AB- = 18)\n",
    "4. Presión sanguínea ingresada como sistólica y diastólica de forma separada\n",
    "5. Casos de la hormona Beta-HCG son mensionados como **h-beta-hcg-I-mIU/mL** y **h-beta-hcg-II-mIU/mL**\n",
    "6. El prefijo **h** anterior al primer **\"-\"** en el nombre de cada parámetro significa hormona. Ejemplo: **h**-beta-hcg-I-mIU/mL, donde ese prefijo **h** significa hormona.\n",
    "7. El prefijo **ex** anterior al primer **\"-\"** en el nombre de cada parámetro significa examen\n",
    "8. Las unidades de medida estarán posteriores al último **\"-\"** en el nombre de cada parámetro y respetarán la nomenclatura médica. Ejemplo: h-beta-hcg-I-**mIU/mL**, donde su unidad de medida es: **mIU/mL**"
   ]
  },
  {
   "cell_type": "code",
   "execution_count": 9,
   "metadata": {},
   "outputs": [
    {
     "name": "stdout",
     "output_type": "stream",
     "text": [
      "<class 'pandas.core.frame.DataFrame'>\n",
      "RangeIndex: 541 entries, 0 to 540\n",
      "Data columns (total 44 columns):\n",
      " #   Column                  Non-Null Count  Dtype  \n",
      "---  ------                  --------------  -----  \n",
      " 0   Sl. No                  541 non-null    int64  \n",
      " 1   Patient File No.        541 non-null    int64  \n",
      " 2   PCOS (Y/N)              541 non-null    int64  \n",
      " 3    Age (yrs)              541 non-null    int64  \n",
      " 4   Weight (Kg)             541 non-null    float64\n",
      " 5   Height(Cm)              541 non-null    float64\n",
      " 6   BMI                     541 non-null    float64\n",
      " 7   Blood Group             541 non-null    int64  \n",
      " 8   Pulse rate(bpm)         541 non-null    int64  \n",
      " 9   RR (breaths/min)        541 non-null    int64  \n",
      " 10  Hb(g/dl)                541 non-null    float64\n",
      " 11  Cycle(R/I)              541 non-null    int64  \n",
      " 12  Cycle length(days)      541 non-null    int64  \n",
      " 13  Marraige Status (Yrs)   540 non-null    float64\n",
      " 14  Pregnant(Y/N)           541 non-null    int64  \n",
      " 15  No. of abortions        541 non-null    int64  \n",
      " 16    I   beta-HCG(mIU/mL)  541 non-null    float64\n",
      " 17  II    beta-HCG(mIU/mL)  541 non-null    object \n",
      " 18  FSH(mIU/mL)             541 non-null    float64\n",
      " 19  LH(mIU/mL)              541 non-null    float64\n",
      " 20  FSH/LH                  541 non-null    float64\n",
      " 21  Hip(inch)               541 non-null    int64  \n",
      " 22  Waist(inch)             541 non-null    int64  \n",
      " 23  Waist:Hip Ratio         541 non-null    float64\n",
      " 24  TSH (mIU/L)             541 non-null    float64\n",
      " 25  AMH(ng/mL)              541 non-null    object \n",
      " 26  PRL(ng/mL)              541 non-null    float64\n",
      " 27  Vit D3 (ng/mL)          541 non-null    float64\n",
      " 28  PRG(ng/mL)              541 non-null    float64\n",
      " 29  RBS(mg/dl)              541 non-null    float64\n",
      " 30  Weight gain(Y/N)        541 non-null    int64  \n",
      " 31  hair growth(Y/N)        541 non-null    int64  \n",
      " 32  Skin darkening (Y/N)    541 non-null    int64  \n",
      " 33  Hair loss(Y/N)          541 non-null    int64  \n",
      " 34  Pimples(Y/N)            541 non-null    int64  \n",
      " 35  Fast food (Y/N)         540 non-null    float64\n",
      " 36  Reg.Exercise(Y/N)       541 non-null    int64  \n",
      " 37  BP _Systolic (mmHg)     541 non-null    int64  \n",
      " 38  BP _Diastolic (mmHg)    541 non-null    int64  \n",
      " 39  Follicle No. (L)        541 non-null    int64  \n",
      " 40  Follicle No. (R)        541 non-null    int64  \n",
      " 41  Avg. F size (L) (mm)    541 non-null    float64\n",
      " 42  Avg. F size (R) (mm)    541 non-null    float64\n",
      " 43  Endometrium (mm)        541 non-null    float64\n",
      "dtypes: float64(19), int64(23), object(2)\n",
      "memory usage: 186.1+ KB\n",
      "None\n"
     ]
    }
   ],
   "source": [
    "import pandas as pd\n",
    "\n",
    "# Ruta al archivo CSV (local)\n",
    "ruta_archivo = r\"C:\\Users\\alfa7\\OneDrive\\Documentos\\PCOS_data.csv\"\n",
    "\n",
    "# Carga los datos desde el archivo CSV\n",
    "df = pd.read_csv(ruta_archivo)\n",
    "\n",
    "# Muestra la información del DataFrame df\n",
    "print(df.info())\n"
   ]
  },
  {
   "cell_type": "code",
   "execution_count": 10,
   "metadata": {},
   "outputs": [
    {
     "name": "stdout",
     "output_type": "stream",
     "text": [
      "Index(['Sl. No', 'Patient File No.', 'PCOS (Y/N)', ' Age (yrs)', 'Weight (Kg)',\n",
      "       'Height(Cm) ', 'BMI', 'Blood Group', 'Pulse rate(bpm) ',\n",
      "       'RR (breaths/min)', 'Hb(g/dl)', 'Cycle(R/I)', 'Cycle length(days)',\n",
      "       'Marraige Status (Yrs)', 'Pregnant(Y/N)', 'No. of abortions',\n",
      "       '  I   beta-HCG(mIU/mL)', 'II    beta-HCG(mIU/mL)', 'FSH(mIU/mL)',\n",
      "       'LH(mIU/mL)', 'FSH/LH', 'Hip(inch)', 'Waist(inch)', 'Waist:Hip Ratio',\n",
      "       'TSH (mIU/L)', 'AMH(ng/mL)', 'PRL(ng/mL)', 'Vit D3 (ng/mL)',\n",
      "       'PRG(ng/mL)', 'RBS(mg/dl)', 'Weight gain(Y/N)', 'hair growth(Y/N)',\n",
      "       'Skin darkening (Y/N)', 'Hair loss(Y/N)', 'Pimples(Y/N)',\n",
      "       'Fast food (Y/N)', 'Reg.Exercise(Y/N)', 'BP _Systolic (mmHg)',\n",
      "       'BP _Diastolic (mmHg)', 'Follicle No. (L)', 'Follicle No. (R)',\n",
      "       'Avg. F size (L) (mm)', 'Avg. F size (R) (mm)', 'Endometrium (mm)'],\n",
      "      dtype='object')\n"
     ]
    }
   ],
   "source": [
    "print(df.columns)"
   ]
  },
  {
   "cell_type": "code",
   "execution_count": 17,
   "metadata": {},
   "outputs": [
    {
     "name": "stdout",
     "output_type": "stream",
     "text": [
      "<class 'pandas.core.frame.DataFrame'>\n",
      "RangeIndex: 541 entries, 0 to 540\n",
      "Data columns (total 44 columns):\n",
      " #   Column                                     Non-Null Count  Dtype  \n",
      "---  ------                                     --------------  -----  \n",
      " 0   (s-n)                                      541 non-null    int64  \n",
      " 1   paciente-id                                541 non-null    int64  \n",
      " 2   pcos(s-n)                                  541 non-null    int64  \n",
      " 3   edad-a                                     541 non-null    int64  \n",
      " 4   peso-kg                                    541 non-null    float64\n",
      " 5   estatura-cm                                541 non-null    float64\n",
      " 6   imc                                        541 non-null    float64\n",
      " 7   grupo-sanguineo                            541 non-null    int64  \n",
      " 8   frecuencia-cardiaca-bpm                    541 non-null    int64  \n",
      " 9   frecuencia-respiratoria-respiraciones/min  541 non-null    int64  \n",
      " 10  hemoglobina-g/dl                           541 non-null    float64\n",
      " 11  ciclo-r/i                                  541 non-null    int64  \n",
      " 12  duracion-ciclo-d                           541 non-null    int64  \n",
      " 13  tiempo-casada-a                            540 non-null    float64\n",
      " 14  embarazada(s-n)                            541 non-null    int64  \n",
      " 15  nro-abortos                                541 non-null    int64  \n",
      " 16  h-beta-hcg-I-mIU/mL                        541 non-null    float64\n",
      " 17  h-beta-hcg-II-mIU/mL                       541 non-null    object \n",
      " 18  h-fsh-mIU/mL                               541 non-null    float64\n",
      " 19  h-lh-mIU/mL                                541 non-null    float64\n",
      " 20  h-fsh/h-lh                                 541 non-null    float64\n",
      " 21  cadera-pulg                                541 non-null    int64  \n",
      " 22  cintura-pulg                               541 non-null    int64  \n",
      " 23  ind-cintura/cadera                         541 non-null    float64\n",
      " 24  h-tsh-mIU/L                                541 non-null    float64\n",
      " 25  h-amh-ng/mL                                541 non-null    object \n",
      " 26  h-prl-ng/mL                                541 non-null    float64\n",
      " 27  ex-vit-d3-ng/mL                            541 non-null    float64\n",
      " 28  h-prg-ng/mL                                541 non-null    float64\n",
      " 29  ex-rbs-mg/dl                               541 non-null    float64\n",
      " 30  ganancia-peso(s-n)                         541 non-null    int64  \n",
      " 31  crecimiento-cabello(s-n)                   541 non-null    int64  \n",
      " 32  oscurecimiento-piel(s-n)                   541 non-null    int64  \n",
      " 33  perdida-cabello(s-n)                       541 non-null    int64  \n",
      " 34  barro-espinilla(s-n)                       541 non-null    int64  \n",
      " 35  comida-rapida(s-n)                         540 non-null    float64\n",
      " 36  ejercicio-regular(s-n)                     541 non-null    int64  \n",
      " 37  ps-sistolica-mmHg                          541 non-null    int64  \n",
      " 38  ps-diastolica-mmHg                         541 non-null    int64  \n",
      " 39  nro-foliculos-ovario-izq                   541 non-null    int64  \n",
      " 40  nro-foliculos-ovario-der                   541 non-null    int64  \n",
      " 41  prom-tam-foliculos-ovario-izq-mm           541 non-null    float64\n",
      " 42  prom-tam-foliculos-ovario-der-mm           541 non-null    float64\n",
      " 43  endometrio-mm                              541 non-null    float64\n",
      "dtypes: float64(19), int64(23), object(2)\n",
      "memory usage: 186.1+ KB\n",
      "None\n"
     ]
    }
   ],
   "source": [
    "# Cambio de nombres de columnas o encabezados\n",
    "headers = ['(s-n)','paciente-id','pcos(s-n)','edad-a','peso-kg','estatura-cm','imc','grupo-sanguineo','frecuencia-cardiaca-bpm','frecuencia-respiratoria-respiraciones/min','hemoglobina-g/dl','ciclo-r/i','duracion-ciclo-d','tiempo-casada-a','embarazada(s-n)','nro-abortos','h-beta-hcg-I-mIU/mL','h-beta-hcg-II-mIU/mL','h-fsh-mIU/mL','h-lh-mIU/mL','h-fsh/h-lh','cadera-pulg','cintura-pulg','ind-cintura/cadera','h-tsh-mIU/L','h-amh-ng/mL','h-prl-ng/mL','ex-vit-d3-ng/mL','h-prg-ng/mL','ex-rbs-mg/dl','ganancia-peso(s-n)','crecimiento-cabello(s-n)','oscurecimiento-piel(s-n)','perdida-cabello(s-n)','barro-espinilla(s-n)','comida-rapida(s-n)','ejercicio-regular(s-n)','ps-sistolica-mmHg','ps-diastolica-mmHg','nro-foliculos-ovario-izq','nro-foliculos-ovario-der','prom-tam-foliculos-ovario-izq-mm','prom-tam-foliculos-ovario-der-mm','endometrio-mm']\n",
    "\n",
    "# Asigno los nuevos nombres de encabezados o columnas a mi dataframa df\n",
    "df.columns = headers\n",
    "\n",
    "# Revisión impresa\n",
    "print(df.info())\n"
   ]
  },
  {
   "cell_type": "markdown",
   "metadata": {},
   "source": [
    "### Revisando los parametros tipo objeto\n",
    "Se revisan dos columnas: h-beta-hcg-II-mIU/mL y h-amh-ng/mL"
   ]
  },
  {
   "cell_type": "code",
   "execution_count": 34,
   "metadata": {},
   "outputs": [
    {
     "data": {
      "text/plain": [
       "0      1.99\n",
       "1      1.99\n",
       "2    494.08\n",
       "3      1.99\n",
       "4    801.45\n",
       "Name: h-beta-hcg-II-mIU/mL, dtype: object"
      ]
     },
     "execution_count": 34,
     "metadata": {},
     "output_type": "execute_result"
    }
   ],
   "source": [
    "#Primera Columna tipo objeto \n",
    "df[\"h-beta-hcg-II-mIU/mL\"].head()"
   ]
  },
  {
   "cell_type": "code",
   "execution_count": 32,
   "metadata": {},
   "outputs": [
    {
     "data": {
      "text/plain": [
       "0    2.07\n",
       "1    1.53\n",
       "2    6.63\n",
       "3    1.22\n",
       "4    2.26\n",
       "Name: h-amh-ng/mL, dtype: object"
      ]
     },
     "execution_count": 32,
     "metadata": {},
     "output_type": "execute_result"
    }
   ],
   "source": [
    "#Segunda columna tipo objeto \n",
    "df[\"h-amh-ng/mL\"].head()"
   ]
  },
  {
   "cell_type": "code",
   "execution_count": 35,
   "metadata": {},
   "outputs": [],
   "source": [
    "#Convertiremos los valores categoricos en numericos, ya que han sido numeros guardados como cadenas\n",
    "df[\"h-beta-hcg-II-mIU/mL\"] = pd.to_numeric(df[\"h-beta-hcg-II-mIU/mL\"], errors='coerce')\n",
    "df[\"h-amh-ng/mL\"] = pd.to_numeric(df[\"h-amh-ng/mL\"], errors='coerce')\n"
   ]
  },
  {
   "cell_type": "code",
   "execution_count": 37,
   "metadata": {},
   "outputs": [
    {
     "data": {
      "text/plain": [
       "(0      1.99\n",
       " 1      1.99\n",
       " 2    494.08\n",
       " 3      1.99\n",
       " 4    801.45\n",
       " Name: h-beta-hcg-II-mIU/mL, dtype: float64,\n",
       " 0    2.07\n",
       " 1    1.53\n",
       " 2    6.63\n",
       " 3    1.22\n",
       " 4    2.26\n",
       " Name: h-amh-ng/mL, dtype: float64)"
      ]
     },
     "execution_count": 37,
     "metadata": {},
     "output_type": "execute_result"
    }
   ],
   "source": [
    "# verificacion de la conversion\n",
    "df[\"h-beta-hcg-II-mIU/mL\"].head(), df[\"h-amh-ng/mL\"].head()"
   ]
  },
  {
   "cell_type": "code",
   "execution_count": 18,
   "metadata": {},
   "outputs": [
    {
     "name": "stdout",
     "output_type": "stream",
     "text": [
      "\n",
      "Primeras 5 filas del conjunto de datos:\n"
     ]
    },
    {
     "data": {
      "text/html": [
       "<div>\n",
       "<style scoped>\n",
       "    .dataframe tbody tr th:only-of-type {\n",
       "        vertical-align: middle;\n",
       "    }\n",
       "\n",
       "    .dataframe tbody tr th {\n",
       "        vertical-align: top;\n",
       "    }\n",
       "\n",
       "    .dataframe thead th {\n",
       "        text-align: right;\n",
       "    }\n",
       "</style>\n",
       "<table border=\"1\" class=\"dataframe\">\n",
       "  <thead>\n",
       "    <tr style=\"text-align: right;\">\n",
       "      <th></th>\n",
       "      <th>(s-n)</th>\n",
       "      <th>paciente-id</th>\n",
       "      <th>pcos(s-n)</th>\n",
       "      <th>edad-a</th>\n",
       "      <th>peso-kg</th>\n",
       "      <th>estatura-cm</th>\n",
       "      <th>imc</th>\n",
       "      <th>grupo-sanguineo</th>\n",
       "      <th>frecuencia-cardiaca-bpm</th>\n",
       "      <th>frecuencia-respiratoria-respiraciones/min</th>\n",
       "      <th>...</th>\n",
       "      <th>barro-espinilla(s-n)</th>\n",
       "      <th>comida-rapida(s-n)</th>\n",
       "      <th>ejercicio-regular(s-n)</th>\n",
       "      <th>ps-sistolica-mmHg</th>\n",
       "      <th>ps-diastolica-mmHg</th>\n",
       "      <th>nro-foliculos-ovario-izq</th>\n",
       "      <th>nro-foliculos-ovario-der</th>\n",
       "      <th>prom-tam-foliculos-ovario-izq-mm</th>\n",
       "      <th>prom-tam-foliculos-ovario-der-mm</th>\n",
       "      <th>endometrio-mm</th>\n",
       "    </tr>\n",
       "  </thead>\n",
       "  <tbody>\n",
       "    <tr>\n",
       "      <th>0</th>\n",
       "      <td>1</td>\n",
       "      <td>1</td>\n",
       "      <td>0</td>\n",
       "      <td>28</td>\n",
       "      <td>44.6</td>\n",
       "      <td>152.0</td>\n",
       "      <td>19.3</td>\n",
       "      <td>15</td>\n",
       "      <td>78</td>\n",
       "      <td>22</td>\n",
       "      <td>...</td>\n",
       "      <td>0</td>\n",
       "      <td>1.0</td>\n",
       "      <td>0</td>\n",
       "      <td>110</td>\n",
       "      <td>80</td>\n",
       "      <td>3</td>\n",
       "      <td>3</td>\n",
       "      <td>18.0</td>\n",
       "      <td>18.0</td>\n",
       "      <td>8.5</td>\n",
       "    </tr>\n",
       "    <tr>\n",
       "      <th>1</th>\n",
       "      <td>2</td>\n",
       "      <td>2</td>\n",
       "      <td>0</td>\n",
       "      <td>36</td>\n",
       "      <td>65.0</td>\n",
       "      <td>161.5</td>\n",
       "      <td>24.9</td>\n",
       "      <td>15</td>\n",
       "      <td>74</td>\n",
       "      <td>20</td>\n",
       "      <td>...</td>\n",
       "      <td>0</td>\n",
       "      <td>0.0</td>\n",
       "      <td>0</td>\n",
       "      <td>120</td>\n",
       "      <td>70</td>\n",
       "      <td>3</td>\n",
       "      <td>5</td>\n",
       "      <td>15.0</td>\n",
       "      <td>14.0</td>\n",
       "      <td>3.7</td>\n",
       "    </tr>\n",
       "    <tr>\n",
       "      <th>2</th>\n",
       "      <td>3</td>\n",
       "      <td>3</td>\n",
       "      <td>1</td>\n",
       "      <td>33</td>\n",
       "      <td>68.8</td>\n",
       "      <td>165.0</td>\n",
       "      <td>25.3</td>\n",
       "      <td>11</td>\n",
       "      <td>72</td>\n",
       "      <td>18</td>\n",
       "      <td>...</td>\n",
       "      <td>1</td>\n",
       "      <td>1.0</td>\n",
       "      <td>0</td>\n",
       "      <td>120</td>\n",
       "      <td>80</td>\n",
       "      <td>13</td>\n",
       "      <td>15</td>\n",
       "      <td>18.0</td>\n",
       "      <td>20.0</td>\n",
       "      <td>10.0</td>\n",
       "    </tr>\n",
       "    <tr>\n",
       "      <th>3</th>\n",
       "      <td>4</td>\n",
       "      <td>4</td>\n",
       "      <td>0</td>\n",
       "      <td>37</td>\n",
       "      <td>65.0</td>\n",
       "      <td>148.0</td>\n",
       "      <td>29.7</td>\n",
       "      <td>13</td>\n",
       "      <td>72</td>\n",
       "      <td>20</td>\n",
       "      <td>...</td>\n",
       "      <td>0</td>\n",
       "      <td>0.0</td>\n",
       "      <td>0</td>\n",
       "      <td>120</td>\n",
       "      <td>70</td>\n",
       "      <td>2</td>\n",
       "      <td>2</td>\n",
       "      <td>15.0</td>\n",
       "      <td>14.0</td>\n",
       "      <td>7.5</td>\n",
       "    </tr>\n",
       "    <tr>\n",
       "      <th>4</th>\n",
       "      <td>5</td>\n",
       "      <td>5</td>\n",
       "      <td>0</td>\n",
       "      <td>25</td>\n",
       "      <td>52.0</td>\n",
       "      <td>161.0</td>\n",
       "      <td>20.1</td>\n",
       "      <td>11</td>\n",
       "      <td>72</td>\n",
       "      <td>18</td>\n",
       "      <td>...</td>\n",
       "      <td>0</td>\n",
       "      <td>0.0</td>\n",
       "      <td>0</td>\n",
       "      <td>120</td>\n",
       "      <td>80</td>\n",
       "      <td>3</td>\n",
       "      <td>4</td>\n",
       "      <td>16.0</td>\n",
       "      <td>14.0</td>\n",
       "      <td>7.0</td>\n",
       "    </tr>\n",
       "  </tbody>\n",
       "</table>\n",
       "<p>5 rows × 44 columns</p>\n",
       "</div>"
      ],
      "text/plain": [
       "   (s-n)  paciente-id  pcos(s-n)  edad-a  peso-kg  estatura-cm   imc  \\\n",
       "0      1            1          0      28     44.6        152.0  19.3   \n",
       "1      2            2          0      36     65.0        161.5  24.9   \n",
       "2      3            3          1      33     68.8        165.0  25.3   \n",
       "3      4            4          0      37     65.0        148.0  29.7   \n",
       "4      5            5          0      25     52.0        161.0  20.1   \n",
       "\n",
       "   grupo-sanguineo  frecuencia-cardiaca-bpm  \\\n",
       "0               15                       78   \n",
       "1               15                       74   \n",
       "2               11                       72   \n",
       "3               13                       72   \n",
       "4               11                       72   \n",
       "\n",
       "   frecuencia-respiratoria-respiraciones/min  ...  barro-espinilla(s-n)  \\\n",
       "0                                         22  ...                     0   \n",
       "1                                         20  ...                     0   \n",
       "2                                         18  ...                     1   \n",
       "3                                         20  ...                     0   \n",
       "4                                         18  ...                     0   \n",
       "\n",
       "   comida-rapida(s-n)  ejercicio-regular(s-n)  ps-sistolica-mmHg  \\\n",
       "0                 1.0                       0                110   \n",
       "1                 0.0                       0                120   \n",
       "2                 1.0                       0                120   \n",
       "3                 0.0                       0                120   \n",
       "4                 0.0                       0                120   \n",
       "\n",
       "   ps-diastolica-mmHg  nro-foliculos-ovario-izq  nro-foliculos-ovario-der  \\\n",
       "0                  80                         3                         3   \n",
       "1                  70                         3                         5   \n",
       "2                  80                        13                        15   \n",
       "3                  70                         2                         2   \n",
       "4                  80                         3                         4   \n",
       "\n",
       "  prom-tam-foliculos-ovario-izq-mm  prom-tam-foliculos-ovario-der-mm  \\\n",
       "0                             18.0                              18.0   \n",
       "1                             15.0                              14.0   \n",
       "2                             18.0                              20.0   \n",
       "3                             15.0                              14.0   \n",
       "4                             16.0                              14.0   \n",
       "\n",
       "   endometrio-mm  \n",
       "0            8.5  \n",
       "1            3.7  \n",
       "2           10.0  \n",
       "3            7.5  \n",
       "4            7.0  \n",
       "\n",
       "[5 rows x 44 columns]"
      ]
     },
     "execution_count": 18,
     "metadata": {},
     "output_type": "execute_result"
    }
   ],
   "source": [
    "# Visualizar las primeras 5 filas del conjunto de datos\n",
    "print(\"\\nPrimeras 5 filas del conjunto de datos:\")\n",
    "df.head(5)"
   ]
  },
  {
   "cell_type": "code",
   "execution_count": 19,
   "metadata": {},
   "outputs": [],
   "source": [
    "# Dividir el conjunto de datos en características (X) y etiquetas (y)\n",
    "X = df[[\"edad-a\", \"peso-kg\", \"estatura-cm\", \"imc\"]]\n",
    "y = df['pcos(s-n)']"
   ]
  },
  {
   "cell_type": "code",
   "execution_count": 14,
   "metadata": {},
   "outputs": [],
   "source": [
    "# Pipeline\n",
    "from sklearn.pipeline import Pipeline\n",
    "\n",
    "# Scaler estandar preprocesado\n",
    "from sklearn.preprocessing import StandardScaler\n",
    "\n",
    "# Splitter\n",
    "from sklearn.model_selection import train_test_split\n",
    "\n",
    "# Importamos un clasificador: Support Vector Classifier para ML\n",
    "from sklearn.svm import SVC"
   ]
  },
  {
   "cell_type": "code",
   "execution_count": 15,
   "metadata": {},
   "outputs": [],
   "source": [
    "# Genera un problema de clasificación randmom de n-classes.\n",
    "\n",
    "from sklearn.datasets import make_classification\n",
    "\n",
    "X, y = make_classification(random_state=0)"
   ]
  },
  {
   "cell_type": "code",
   "execution_count": 16,
   "metadata": {},
   "outputs": [
    {
     "data": {
      "text/plain": [
       "0.88"
      ]
     },
     "execution_count": 16,
     "metadata": {},
     "output_type": "execute_result"
    }
   ],
   "source": [
    "# Dividimos en test y train\n",
    "X_train, X_test, y_train, y_test = train_test_split(X, y, random_state=0)\n",
    "\n",
    "# Crea el pipeline\n",
    "# El pipeline puede usarse como un estimador\n",
    "# y evita data leaking del test set en el train set\n",
    "\n",
    "pipe = Pipeline([\n",
    "    ('scaler', StandardScaler()),\n",
    "    ('svc', SVC())\n",
    "    ])\n",
    "\n",
    "\n",
    "# Se aplican los pasos en el dataset de entrenamiento\n",
    "pipe.fit(X_train, y_train)\n",
    "\n",
    "# se aplican los pasos en el dataset de prueba\n",
    "pipe.score(X_test, y_test)"
   ]
  }
 ],
 "metadata": {
  "kernelspec": {
   "display_name": "Python 3",
   "language": "python",
   "name": "python3"
  },
  "language_info": {
   "codemirror_mode": {
    "name": "ipython",
    "version": 3
   },
   "file_extension": ".py",
   "mimetype": "text/x-python",
   "name": "python",
   "nbconvert_exporter": "python",
   "pygments_lexer": "ipython3",
   "version": "3.12.2"
  }
 },
 "nbformat": 4,
 "nbformat_minor": 2
}
